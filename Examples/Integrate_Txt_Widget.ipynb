{
 "cells": [
  {
   "cell_type": "code",
   "execution_count": null,
   "metadata": {},
   "outputs": [],
   "source": [
    "import qarbo"
   ]
  },
  {
   "cell_type": "code",
   "execution_count": null,
   "metadata": {},
   "outputs": [],
   "source": [
    "job_interface = qarbo.Demo( {\n",
    "                        \"job\": # Define how to launch the job and interpret results\n",
    "                                {\n",
    "                                    \"command\": \"COMMAND\",\n",
    "                                    \"output_type\": \".txt\",         # The type of input (text/video)\n",
    "                                    \"results_path\": \"results/\", # Path to job result files\n",
    "                                    \"progress_indicators\":          # List of job progress indicators\n",
    "                                    [\n",
    "                                        { \n",
    "                                            \"file_name\": \"i_progress.txt\", # File with progress info\n",
    "                                            \"title\": \"Progress\"            # Display name in the notebook\n",
    "                                        }\n",
    "                                    ],\n",
    "                                    \"plots\":[\n",
    "                                        {\n",
    "                                            \"title\" : \"\",\n",
    "                                            \"type\" : \"time\",\n",
    "                                            \"xlabel\" : \"Job ID\",\n",
    "                                            \"ylabel\" : \"Time in seconds\"\n",
    "                                        }\n",
    "                                    ]\n",
    "                                },\n",
    "                        \"inputs\": # Define the inputs shows in the Jupyter notebook for job configuration\n",
    "                                [\n",
    "                                    {\n",
    "                                        \"Command\": # Unique ID of the input\n",
    "                                            { \n",
    "                                                \"display_name\": \"Command\",   # Displayed input name\n",
    "                                                \"type\": \"text\",                  # Input type (text/select)\n",
    "                                                \"default\" : \"qsub ocr_job.sh -l nodes=1:idc001skl:i5-6500te -F 'results/ CPU FP32'\", # Default input value\n",
    "                                                \"defines\" : [\"COMMAND\"]          # \"resources\" or \"arguments\"\n",
    "                                            }                                    # (controls what the input defines)\n",
    "                                    }\n",
    "                                ]\n",
    "    \n",
    "                        } )"
   ]
  },
  {
   "cell_type": "code",
   "execution_count": null,
   "metadata": {},
   "outputs": [],
   "source": [
    "job_interface.displayUI()"
   ]
  }
 ],
 "metadata": {
  "kernelspec": {
   "display_name": "Python 3 (Ubuntu)",
   "language": "python",
   "name": "c003-python_3"
  },
  "language_info": {
   "codemirror_mode": {
    "name": "ipython",
    "version": 3
   },
   "file_extension": ".py",
   "mimetype": "text/x-python",
   "name": "python",
   "nbconvert_exporter": "python",
   "pygments_lexer": "ipython3",
   "version": "3.5.2"
  }
 },
 "nbformat": 4,
 "nbformat_minor": 2
}
