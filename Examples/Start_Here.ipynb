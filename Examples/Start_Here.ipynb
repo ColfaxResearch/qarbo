{
 "cells": [
  {
   "cell_type": "markdown",
   "metadata": {},
   "source": [
    "### Qarpo\n",
    "\n",
    "Qarpo library provides a jupyter notebook user interface to provide the following:\n",
    "1. Submit jobs to node in a cluster\n",
    "2. Track progress of jobs running\n",
    "3. Display job's output results\n",
    "4. Plot results completed jobs \n",
    "\n",
    "\n",
    "\n",
    "### Examples:\n",
    "This list of examples provides a series of notebooks for step by step recipe to build a jupyter notebook UI using qarpo library\n",
    "\n",
    "#### 0. [No Qarpo](No_qarpo.ipynb)\n",
    "This notebook demonstrates how to submit jobs to cluster without using the qarpo library.\n",
    "#### 1. [Basic](Basic.ipynb)\n",
    "This notebook is the basic usage of the qarpo library, it provides the recipe to submit jobs to job scheduler and display the output interface to display jobs' outputs.\n",
    "#### 2. [Integrate progress bar](Integrate_Progress_Bar.ipynb)\n",
    "This notebook builds on the previous basic step. It provides a recipe to submit jobs to job scheduler, display progress bars, which is an indicator of job progression and its status (waiting to run, running, done), and finally display output interface for jobs' outputs.\n",
    "#### 3. [Integrate plot](Integrate_Plot.ipynb)\n",
    "In addition to the interface built in the previous step, this notebook provides a recipe to plot the results of the accomplished jobs.\n",
    "#### 4. [Integrate text widget](Integrate_Txt_Widget.ipynb)\n",
    "This notebook provides a recipe to integrate text widget to input interface, this text input is used as a part of the command used to run the job.  \n",
    "#### 5. [Integrate select widget](Integrate_Select_Widget.ipynb)\n",
    "This notebook provides a recipe to integrate select widget to input interface, this select input is used as a part of the command used to run the job.  \n",
    "#### 6. [Integrate interactive widget](Integrate_Interactive_widgets.ipynb)\n",
    "This notebook provides a recipe to integrate multiple interactive widgets to the input interface, any change in value of one of the widgets will reflect on the other interacting widgets. The values of these widgets are used as a part of the command used to run this job. \n",
    "#### 7. [Integrate control buttons](Integrate_control_buttons.ipynb)\n",
    "This notebook provides a recipe to integrate control buttons to cancel job or redirect to dashboard. \n",
    "#### 8. [Full interface](Full_Interface.ipynb)\n",
    "This notebook is the full recipe to use qarpo library to build input interface, including interactive widgets, and output interface, including progress bars, display output job results and plot the results of accomplished jobs."
   ]
  }
 ],
 "metadata": {
  "kernelspec": {
   "display_name": "Python 3 (OpenVINO 2021.2)",
   "language": "python",
   "name": "c003-python_3"
  },
  "language_info": {
   "codemirror_mode": {
    "name": "ipython",
    "version": 3
   },
   "file_extension": ".py",
   "mimetype": "text/x-python",
   "name": "python",
   "nbconvert_exporter": "python",
   "pygments_lexer": "ipython3",
   "version": "3.6.9"
  },
  "toc": {
   "base_numbering": 1,
   "nav_menu": {},
   "number_sections": true,
   "sideBar": true,
   "skip_h1_title": true,
   "title_cell": "Table of Contents",
   "title_sidebar": "Contents",
   "toc_cell": false,
   "toc_position": {},
   "toc_section_display": true,
   "toc_window_display": true
  }
 },
 "nbformat": 4,
 "nbformat_minor": 2
}
