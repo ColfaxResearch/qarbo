{
 "cells": [
  {
   "cell_type": "code",
   "execution_count": null,
   "metadata": {},
   "outputs": [],
   "source": [
    "import qarbo"
   ]
  },
  {
   "cell_type": "markdown",
   "metadata": {},
   "source": [
    "```python\n",
    "from pathlib import Path\n",
    "sys.path.insert(0, str(Path().resolve().parent))\n",
    "from demoTools.demoutils_tabs import progressUpdate\n",
    "import time\n",
    "\n",
    "progress_file_path = os.path.join(args.output_dir,job_id, 'i_progress.txt')\n",
    "t0 = time.time()\n",
    "for frame_id in range(1, number_iter):\n",
    "    res = exec_net.infer(inputs={input_blob: images})\n",
    "    progressUpdate(progress_file_path, time.time()-t0, frame_id , number_iter)\n",
    "```"
   ]
  },
  {
   "cell_type": "code",
   "execution_count": null,
   "metadata": {},
   "outputs": [],
   "source": [
    "job_interface = qarbo.Demo( {\n",
    "                        \"job\": # Define how to launch the job and interpret results\n",
    "                                {\n",
    "                                    \"output_type\": \".txt\",         # The type of input (text/video)\n",
    "                                    \"results_path\": \"results/\", # Path to job result files\n",
    "                                     \"progress_indicators\":          # List of job progress indicators\n",
    "                                    [\n",
    "                                        { \n",
    "                                            \"file_name\": \"i_progress.txt\", # File with progress info\n",
    "                                            \"title\": \"Progress\"            # Display name in the notebook\n",
    "                                        }\n",
    "                                    ]\n",
    "                                   \n",
    "                                }\n",
    "                        } )"
   ]
  },
  {
   "cell_type": "code",
   "execution_count": null,
   "metadata": {},
   "outputs": [],
   "source": [
    "job_interface.displayUI()"
   ]
  },
  {
   "cell_type": "code",
   "execution_count": null,
   "metadata": {},
   "outputs": [],
   "source": [
    "job_interface.submitJob(\"qsub ocr_job.sh -l nodes=1:idc001skl:i5-6500te -F 'results/ GPU FP32'\")"
   ]
  },
  {
   "cell_type": "code",
   "execution_count": null,
   "metadata": {},
   "outputs": [],
   "source": [
    "job_interface.submitJob(\"qsub ocr_job.sh -l nodes=1:idc001skl:i5-6500te -F 'results/ CPU FP32'\")"
   ]
  }
 ],
 "metadata": {
  "kernelspec": {
   "display_name": "Python 3 (Ubuntu)",
   "language": "python",
   "name": "c003-python_3"
  },
  "language_info": {
   "codemirror_mode": {
    "name": "ipython",
    "version": 3
   },
   "file_extension": ".py",
   "mimetype": "text/x-python",
   "name": "python",
   "nbconvert_exporter": "python",
   "pygments_lexer": "ipython3",
   "version": "3.5.2"
  }
 },
 "nbformat": 4,
 "nbformat_minor": 2
}
