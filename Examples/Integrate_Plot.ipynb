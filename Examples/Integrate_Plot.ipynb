{
 "cells": [
  {
   "cell_type": "markdown",
   "metadata": {},
   "source": [
    "### Integrate plot\n",
    "Qarpo is a library to build a jupyter notebook user interface to submit jobs to job scheduler, display output interface to display accomplished jobs' outputs and plot its results.\n",
    "\n",
    "This notebook provides a recipe to integrate plot displaying the results of accomplished jobs in the jupyter notebook\n",
    "\n",
    "To start using the qarpo, run the following import line"
   ]
  },
  {
   "cell_type": "code",
   "execution_count": null,
   "metadata": {},
   "outputs": [],
   "source": [
    "import qarpo"
   ]
  },
  {
   "cell_type": "markdown",
   "metadata": {},
   "source": [
    "The plot in qarpo UI interface consists of 2 main parts. The first part is the backend, which writes the resulted output to a file, in our example here, we are writing the time, fps and total number of frames into stats.json file. These code lines are integarted into the python script running.\n",
    "\n",
    "```python\n",
    "import json\n",
    "import time\n",
    "t1 = time.time()\n",
    "//Inference execution\n",
    "infer_time = time.time()-t1\n",
    "\n",
    "stats = {}\n",
    "stats['time'] = str(infer_time)\n",
    "stats['frame'] = str(num_frames)\n",
    "stats['fps'] = str(num_frames / infer_time)\n",
    "stats_file = \"results/{}/stats.json\".format(job_id)\n",
    "with open(stats_file, 'w') as f:\n",
    "    json.dump(stats, f)\n",
    "\n",
    "```\n",
    "\n",
    "The second part is defined in the UI configuration, this UI configuration is an input to the class constructor Interface.\n",
    "\n",
    "To add the plot configuratoion to the UI configuration, use the following format:\n",
    "\n",
    "    {\n",
    "        \"job\": # Define how to launch the job and interpret results\n",
    "            {\n",
    "                \"output_type\": \".txt\",         # The type of input (text/video)\n",
    "                \"results_path\": \"app/results/\", # Path to job result files\n",
    "                \"plots\": #list of dictionaries, each dictionary represents a plot configuration\n",
    "                    [\n",
    "                        {\n",
    "                            \"title\" : < plot title >,\n",
    "                            \"type\" : <plot type, \"time\" or \"fps\" or any different value specified in the json file in the backend part>,\n",
    "                            \"xlabel\" : <x-axis label>,\n",
    "                            \"ylabel\" : <y-axis label>\n",
    "                         }\n",
    "                    ]\n",
    "                                   \n",
    "            }\n",
    "    }\n"
   ]
  },
  {
   "cell_type": "code",
   "execution_count": null,
   "metadata": {},
   "outputs": [],
   "source": [
    "job_interface = qarpo.Interface( {\n",
    "                        \"job\": # Define how to launch the job and interpret results\n",
    "                                {\n",
    "                                    \"output_type\": \".txt\",         # The type of input (text/video)\n",
    "                                    \"results_path\": \"app/results/\", # Path to job result files\n",
    "                                    \"plots\":[\n",
    "                                        {\n",
    "                                            \"title\" : \"\",\n",
    "                                            \"type\" : \"time\",\n",
    "                                            \"xlabel\" : \"Job ID\",\n",
    "                                            \"ylabel\" : \"Time in seconds\"\n",
    "                                        }\n",
    "                                    ]\n",
    "                                   \n",
    "                                }\n",
    "                        } )"
   ]
  },
  {
   "cell_type": "code",
   "execution_count": null,
   "metadata": {},
   "outputs": [],
   "source": [
    "job_interface.displayUI()"
   ]
  },
  {
   "cell_type": "code",
   "execution_count": null,
   "metadata": {},
   "outputs": [],
   "source": [
    "job_interface.submitJob(\"qsub app/ocr_job.sh -l nodes=1:idc001skl:i5-6500te -F 'app/results/ GPU FP32'\")"
   ]
  },
  {
   "cell_type": "code",
   "execution_count": null,
   "metadata": {},
   "outputs": [],
   "source": [
    "job_interface.submitJob(\"qsub app/ocr_job.sh -l nodes=1:idc001skl:i5-6500te -F 'app/results/ CPU FP32'\")"
   ]
  }
 ],
 "metadata": {
  "kernelspec": {
   "display_name": "Python 3 (Ubuntu)",
   "language": "python",
   "name": "c003-python_3"
  },
  "language_info": {
   "codemirror_mode": {
    "name": "ipython",
    "version": 3
   },
   "file_extension": ".py",
   "mimetype": "text/x-python",
   "name": "python",
   "nbconvert_exporter": "python",
   "pygments_lexer": "ipython3",
   "version": "3.6.8"
  }
 },
 "nbformat": 4,
 "nbformat_minor": 2
}
