{
 "cells": [
  {
   "cell_type": "markdown",
   "metadata": {},
   "source": [
    "### Integrate progress bar\n",
    "Qarpo is a library to build a jupyter notebook user interface to submit jobs to job scheduler, display output interface to display accomplished jobs' outputs and plot its results.\n",
    "\n",
    "This notebook provides a recipe to integrate progress bar into the output interface, this progress bar track and dispaly the job progression while running\n",
    "\n",
    "To start using the qarpo, run the following import line"
   ]
  },
  {
   "cell_type": "code",
   "execution_count": null,
   "metadata": {},
   "outputs": [],
   "source": [
    "import qarpo"
   ]
  },
  {
   "cell_type": "markdown",
   "metadata": {},
   "source": [
    "The progress indicator main function is track the process progress, in our case it's tracking the processing of frames in a video. \n",
    "\n",
    "Progress indicator in qarpo has two main parts. The first part is the backend, it should be integrated to the python script where the progress is required to be tracked.\n",
    "\n",
    "```python\n",
    "import qarpo\n",
    "\n",
    "progress_file_path = os.path.join(args.output_dir,job_id, 'i_progress.txt')\n",
    "t0 = time.time()\n",
    "for frame_id in range(1, number_iter):\n",
    "    res = exec_net.infer(inputs={input_blob: images})\n",
    "    qarpo.progressUpdate(progress_file_path, time.time()-t0, frame_id , number_iter)\n",
    "```\n",
    "\n",
    "The second part is defined in the UI configuration, this UI configuration is an input to the class constructor Interface.\n",
    "\n",
    "To add the progress indicator configuratoion to the UI configuration, use the following format:\n",
    "\n",
    "        {\n",
    "            \"job\": # Define how to launch the job and interpret results\n",
    "                {\n",
    "                    \"output_type\": \".txt\",          # The type of input (text/video)\n",
    "                    \"results_path\": \"app/results/\", # Path to job result files\n",
    "                    \"progress_indicators\":          #List of dictionaries, each entry in th list states the required information for one of the progress indicators \n",
    "                        [\n",
    "                            { \n",
    "                                \"file_name\": < path to file with info for progress indicator 1 >,\n",
    "                                \"title\": < String, name displayed in the notebook >\n",
    "                            },\n",
    "                            { \n",
    "                                \"file_name\": < path to file with info for progress indicator 2 >,\n",
    "                                \"title\": < String, name displayed in the notebook >\n",
    "                            }\n",
    "                        ]\n",
    "                                   \n",
    "                 }\n",
    "        }\n",
    "\n",
    "\n",
    "\n"
   ]
  },
  {
   "cell_type": "code",
   "execution_count": null,
   "metadata": {},
   "outputs": [],
   "source": [
    "job_interface = qarpo.Interface( {\n",
    "                        \"job\": # Define how to launch the job and interpret results\n",
    "                                {\n",
    "                                    \"output_type\": \".png\",         # The type of input (text/video)\n",
    "                                    \"results_path\": \"app/results/\", # Path to job result files\n",
    "                                     \"progress_indicators\":          # List of job progress indicators\n",
    "                                    [\n",
    "                                        { \n",
    "                                            \"file_name\": \"i_progress.txt\", # File with progress info\n",
    "                                            \"title\": \"Progress\"            # Display name in the notebook\n",
    "                                        }\n",
    "                                    ]\n",
    "                                   \n",
    "                                }\n",
    "                        } )"
   ]
  },
  {
   "cell_type": "code",
   "execution_count": null,
   "metadata": {},
   "outputs": [],
   "source": [
    "job_interface.displayUI()"
   ]
  },
  {
   "cell_type": "code",
   "execution_count": null,
   "metadata": {},
   "outputs": [],
   "source": [
    "job_interface.submitJob(\"qsub app/example_job.sh -l nodes=1:idc001skl:i5-6500te -F 'app/results/'\")"
   ]
  }
 ],
 "metadata": {
  "kernelspec": {
   "display_name": "Python 3 (OpenVINO 2021.2)",
   "language": "python",
   "name": "c003-python_3"
  },
  "language_info": {
   "codemirror_mode": {
    "name": "ipython",
    "version": 3
   },
   "file_extension": ".py",
   "mimetype": "text/x-python",
   "name": "python",
   "nbconvert_exporter": "python",
   "pygments_lexer": "ipython3",
   "version": "3.6.9"
  },
  "toc": {
   "base_numbering": 1,
   "nav_menu": {},
   "number_sections": true,
   "sideBar": true,
   "skip_h1_title": true,
   "title_cell": "Table of Contents",
   "title_sidebar": "Contents",
   "toc_cell": false,
   "toc_position": {},
   "toc_section_display": true,
   "toc_window_display": true
  }
 },
 "nbformat": 4,
 "nbformat_minor": 2
}
