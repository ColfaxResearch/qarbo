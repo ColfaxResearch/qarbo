{
 "cells": [
  {
   "cell_type": "code",
   "execution_count": null,
   "metadata": {},
   "outputs": [],
   "source": [
    "import qarbo\n",
    "import json"
   ]
  },
  {
   "cell_type": "markdown",
   "metadata": {},
   "source": [
    "### Getting Started"
   ]
  },
  {
   "cell_type": "code",
   "execution_count": null,
   "metadata": {},
   "outputs": [],
   "source": [
    "with open('job_config.json') as json_file:  \n",
    "    data = json.load(json_file)\n",
    "job_interface = qarbo.Demo(data)"
   ]
  },
  {
   "cell_type": "code",
   "execution_count": null,
   "metadata": {},
   "outputs": [],
   "source": [
    "job_interface.displayUI()"
   ]
  }
 ],
 "metadata": {
  "kernelspec": {
   "display_name": "Python 3 (Ubuntu)",
   "language": "python",
   "name": "c003-python_3"
  },
  "language_info": {
   "codemirror_mode": {
    "name": "ipython",
    "version": 3
   },
   "file_extension": ".py",
   "mimetype": "text/x-python",
   "name": "python",
   "nbconvert_exporter": "python",
   "pygments_lexer": "ipython3",
   "version": "3.5.2"
  },
  "widgets": {
   "application/vnd.jupyter.widget-state+json": {
    "state": {
     "0012085fd39045548ce1cbc0148570d9": {
      "model_module": "@jupyter-widgets/controls",
      "model_module_version": "1.4.0",
      "model_name": "VBoxModel",
      "state": {
       "children": [
        "IPY_MODEL_052ee1b03c7e4570a202eeb96f107ac1",
        "IPY_MODEL_f03075efc0084cc9b4f044533fdf4bdc"
       ],
       "layout": "IPY_MODEL_2a6f9f0cb32747e091eb0aa7ee637fcf"
      }
     },
     "001b98e36f054ae5920c44f72a7bfce1": {
      "model_module": "@jupyter-widgets/controls",
      "model_module_version": "1.4.0",
      "model_name": "HTMLModel",
      "state": {
       "layout": "IPY_MODEL_1c04f9a3bc8046459098db697b5f99b8",
       "style": "IPY_MODEL_320737ddf35a4c32b101a840f881373d"
      }
     },
     "0026bd7ca7594ade9a2baab4b3e24983": {
      "model_module": "@jupyter-widgets/base",
      "model_module_version": "1.1.0",
      "model_name": "LayoutModel",
      "state": {
       "align_items": "stretch",
       "border": "",
       "display": "flex",
       "flex_flow": "column",
       "height": "",
       "width": "100%"
      }
     },
     "0033684d63ad49fa9fd6a0a59fd13dd6": {
      "model_module": "@jupyter-widgets/controls",
      "model_module_version": "1.4.0",
      "model_name": "HTMLModel",
      "state": {
       "layout": "IPY_MODEL_7a1d22f7bb554c3bbc6285b8d21b2bce",
       "style": "IPY_MODEL_bc877ea90f954a1480a3274506ad6dd2"
      }
     },
     "005ad274e0bf48ff80c189b17066548d": {
      "model_module": "@jupyter-widgets/output",
      "model_module_version": "1.0.0",
      "model_name": "OutputModel",
      "state": {
       "layout": "IPY_MODEL_6043aacb9e1c4076b6c4071e70d15f45"
      }
     },
     "008b593a3b51419594e2dd7ee1c279d9": {
      "model_module": "@jupyter-widgets/base",
      "model_module_version": "1.1.0",
      "model_name": "LayoutModel",
      "state": {}
     },
     "00f136c2377c4f83843d7a45cd73fa62": {
      "model_module": "@jupyter-widgets/base",
      "model_module_version": "1.1.0",
      "model_name": "LayoutModel",
      "state": {}
     },
     "0112a8caaab5493693b81827eaee3918": {
      "model_module": "@jupyter-widgets/base",
      "model_module_version": "1.1.0",
      "model_name": "LayoutModel",
      "state": {}
     },
     "015ac2255b664748be5b8584d861bc18": {
      "model_module": "@jupyter-widgets/base",
      "model_module_version": "1.1.0",
      "model_name": "LayoutModel",
      "state": {}
     },
     "01c0b9c2a00e4e7bab045e2555587b47": {
      "model_module": "@jupyter-widgets/controls",
      "model_module_version": "1.4.0",
      "model_name": "DescriptionStyleModel",
      "state": {
       "description_width": ""
      }
     },
     "01ebbb73f35c4da883306915de5117bf": {
      "model_module": "@jupyter-widgets/controls",
      "model_module_version": "1.4.0",
      "model_name": "LabelModel",
      "state": {
       "layout": "IPY_MODEL_3ae6e9a1c2b54cb6bc824444eb9b9eb8",
       "style": "IPY_MODEL_b0b113c3b5b84951924f5d764c11604b",
       "value": "Target node"
      }
     },
     "028f686e32ac4ec595134685744896dc": {
      "model_module": "@jupyter-widgets/controls",
      "model_module_version": "1.4.0",
      "model_name": "HTMLModel",
      "state": {
       "layout": "IPY_MODEL_9c554ef257154e3a8aaa7b756f39af88",
       "style": "IPY_MODEL_fe839e06710b451fbfb18902deb5c4ff"
      }
     },
     "029c6d3daa3e49eabec19b3e91165602": {
      "model_module": "@jupyter-widgets/base",
      "model_module_version": "1.1.0",
      "model_name": "LayoutModel",
      "state": {
       "align_items": "stretch",
       "border": "ridge",
       "display": "flex",
       "flex_flow": "column",
       "height": "",
       "width": "100%"
      }
     },
     "02b9a267f26c4191ac9aac945e0b9760": {
      "model_module": "@jupyter-widgets/controls",
      "model_module_version": "1.4.0",
      "model_name": "TabModel",
      "state": {
       "layout": "IPY_MODEL_a38e469c0434438b8cd7aa12aaad9af8"
      }
     },
     "02cb0b5399e9447e92dd964b5e3b4053": {
      "model_module": "@jupyter-widgets/base",
      "model_module_version": "1.1.0",
      "model_name": "LayoutModel",
      "state": {
       "align_items": "stretch",
       "border": "ridge",
       "display": "flex",
       "flex_flow": "column",
       "height": "",
       "width": "100%"
      }
     },
     "02d9538266c841f1abef186ff3577582": {
      "model_module": "@jupyter-widgets/controls",
      "model_module_version": "1.4.0",
      "model_name": "TabModel",
      "state": {
       "layout": "IPY_MODEL_a2ef6fadb98745cf8df6cadc0e696e08"
      }
     },
     "0303de8a5f93438ca3cc548160aaafba": {
      "model_module": "@jupyter-widgets/controls",
      "model_module_version": "1.4.0",
      "model_name": "ButtonModel",
      "state": {
       "button_style": "info",
       "description": "Plot results",
       "disabled": true,
       "layout": "IPY_MODEL_8d42cc664b834bb2966b8de9c2562f78",
       "style": "IPY_MODEL_de2245ed4c6643c9bf971c99d284db94"
      }
     },
     "034a2ca6637b4b17907fc1e146ee2397": {
      "model_module": "@jupyter-widgets/base",
      "model_module_version": "1.1.0",
      "model_name": "LayoutModel",
      "state": {
       "width": "100%"
      }
     },
     "034a98b2c205482f9a44861db05351a8": {
      "model_module": "@jupyter-widgets/controls",
      "model_module_version": "1.4.0",
      "model_name": "ButtonModel",
      "state": {
       "button_style": "info",
       "description": "Submit",
       "layout": "IPY_MODEL_95eac0a530cc48d587ea8d1f837a9106",
       "style": "IPY_MODEL_f2e5cd19fd3a440fb755bc9c4ca32593"
      }
     },
     "03679b81011c476b8f673f4d708335e4": {
      "model_module": "@jupyter-widgets/controls",
      "model_module_version": "1.4.0",
      "model_name": "HTMLModel",
      "state": {
       "layout": "IPY_MODEL_98e6cad7a03d47fa82b787697bf086b8",
       "placeholder": "",
       "style": "IPY_MODEL_f8be6444fda94cd78b3b266b2b8b3540"
      }
     },
     "036ebe86a24048c3909ae97ced025acd": {
      "model_module": "@jupyter-widgets/base",
      "model_module_version": "1.1.0",
      "model_name": "LayoutModel",
      "state": {}
     },
     "040cbb59a71a4d928573e0ae84efead0": {
      "model_module": "@jupyter-widgets/controls",
      "model_module_version": "1.4.0",
      "model_name": "ButtonStyleModel",
      "state": {}
     },
     "04122fe598b34df7938ecaa5b093f5fd": {
      "model_module": "@jupyter-widgets/controls",
      "model_module_version": "1.4.0",
      "model_name": "HTMLModel",
      "state": {
       "layout": "IPY_MODEL_18085b27672845b3a76a847a1edc7464",
       "style": "IPY_MODEL_3f94df86b7554c768a00dac3fd484f40"
      }
     },
     "044bc77a7e9a4ebe8db3d0f932698649": {
      "model_module": "@jupyter-widgets/controls",
      "model_module_version": "1.4.0",
      "model_name": "ButtonStyleModel",
      "state": {}
     },
     "046977e3efe34525848c2dedb652ea11": {
      "model_module": "@jupyter-widgets/controls",
      "model_module_version": "1.4.0",
      "model_name": "HTMLModel",
      "state": {
       "layout": "IPY_MODEL_cb2fca43579f4fadb2a32bbcb77b9843",
       "placeholder": "",
       "style": "IPY_MODEL_96e276c80cf2468a90bc68d4c0cba3c6",
       "value": "...waiting to start"
      }
     },
     "0482e8ff2bbc4a5da177d5cae6237aae": {
      "model_module": "@jupyter-widgets/controls",
      "model_module_version": "1.4.0",
      "model_name": "HBoxModel",
      "state": {
       "children": [
        "IPY_MODEL_19fbcbd7ef574341b98831c783f89a07",
        "IPY_MODEL_b25b089ce2fa400eb71cf2f253746939",
        "IPY_MODEL_a8ff5e775b394fe7b5b4d72aa47fa928",
        "IPY_MODEL_c2701b01a2bd4495a60eece3ec6b9a3d"
       ],
       "layout": "IPY_MODEL_71841f177e52406eac97ccb78fa93929"
      }
     },
     "048a616f54c348f48cae22723fd716ed": {
      "model_module": "@jupyter-widgets/base",
      "model_module_version": "1.1.0",
      "model_name": "LayoutModel",
      "state": {}
     },
     "04ac152a0da7429aa394a0cf69bfe4b0": {
      "model_module": "@jupyter-widgets/base",
      "model_module_version": "1.1.0",
      "model_name": "LayoutModel",
      "state": {}
     },
     "0518c77ec1cf40fea442556c22d19eb9": {
      "model_module": "@jupyter-widgets/controls",
      "model_module_version": "1.4.0",
      "model_name": "DescriptionStyleModel",
      "state": {
       "description_width": "initial"
      }
     },
     "052ee1b03c7e4570a202eeb96f107ac1": {
      "model_module": "@jupyter-widgets/controls",
      "model_module_version": "1.4.0",
      "model_name": "LabelModel",
      "state": {
       "layout": "IPY_MODEL_10e02139cf994538b245878659bef27c",
       "style": "IPY_MODEL_7fce203357bb473faa3d60b988344b4a",
       "value": "Command"
      }
     },
     "0538a6c07f4342169774927d5a52cee5": {
      "model_module": "@jupyter-widgets/controls",
      "model_module_version": "1.4.0",
      "model_name": "VBoxModel",
      "state": {
       "children": [
        "IPY_MODEL_37a8867f12c242ad8d806b085ae53cc8",
        "IPY_MODEL_9a448c1f351d44f09cb6b54caac12d37"
       ],
       "layout": "IPY_MODEL_9477945295cd4893a3f1952974e7cec7"
      }
     },
     "05495953b857450899d209704f2ca588": {
      "model_module": "@jupyter-widgets/base",
      "model_module_version": "1.1.0",
      "model_name": "LayoutModel",
      "state": {
       "width": "100%"
      }
     },
     "057c6886026d4cb3b5b8d2b9e019d48e": {
      "model_module": "@jupyter-widgets/controls",
      "model_module_version": "1.4.0",
      "model_name": "LabelModel",
      "state": {
       "layout": "IPY_MODEL_aafc38009fdd453f867512cb5fd08cc9",
       "style": "IPY_MODEL_c14e26a646064175a50a7e0c0be5a697",
       "value": "Target node"
      }
     },
     "057fb7c44c3d4fd0a7a59d7dc2af594c": {
      "model_module": "@jupyter-widgets/base",
      "model_module_version": "1.1.0",
      "model_name": "LayoutModel",
      "state": {}
     },
     "0585414c5f9a4548940dce5ed835da8b": {
      "model_module": "@jupyter-widgets/base",
      "model_module_version": "1.1.0",
      "model_name": "LayoutModel",
      "state": {}
     },
     "05b6d7b41994423e99d8b69693ed7697": {
      "model_module": "@jupyter-widgets/base",
      "model_module_version": "1.1.0",
      "model_name": "LayoutModel",
      "state": {
       "align_items": "stretch",
       "border": "ridge",
       "display": "flex",
       "flex_flow": "column",
       "height": "",
       "width": "100%"
      }
     },
     "05baa2d592a9481395b36f9d960fd55b": {
      "model_module": "@jupyter-widgets/controls",
      "model_module_version": "1.4.0",
      "model_name": "DescriptionStyleModel",
      "state": {
       "description_width": "initial"
      }
     },
     "05dcd24815014ff19848b8a90cb5ec7c": {
      "model_module": "@jupyter-widgets/controls",
      "model_module_version": "1.4.0",
      "model_name": "HBoxModel",
      "state": {
       "children": [
        "IPY_MODEL_9e932d372ba44469800eb0bed7345701",
        "IPY_MODEL_3bfa5acb73484c25b098bb9c9bce97a0",
        "IPY_MODEL_f0f0011e162c4bac85385b07e57b3cfe",
        "IPY_MODEL_a6e9cd9f59e0454abeb1f897a8e7db28"
       ],
       "layout": "IPY_MODEL_ac56a8c805794a55af9aefa8b6b95ed7"
      }
     },
     "05f96bfa593547b3ac9ee26caf01591a": {
      "model_module": "@jupyter-widgets/base",
      "model_module_version": "1.1.0",
      "model_name": "LayoutModel",
      "state": {
       "width": "100%"
      }
     },
     "060ca521c37849c7bf13d798d9cfab39": {
      "model_module": "@jupyter-widgets/base",
      "model_module_version": "1.1.0",
      "model_name": "LayoutModel",
      "state": {}
     },
     "061cf02551334312b5cd4f8499916a1f": {
      "model_module": "@jupyter-widgets/controls",
      "model_module_version": "1.4.0",
      "model_name": "HTMLModel",
      "state": {
       "layout": "IPY_MODEL_5e44b4696957409dbf3c4056e6a75849",
       "style": "IPY_MODEL_bd45044a32784ff5be908c8f65ed6994",
       "value": "<table><style type=\"text/css\" scoped>td{ padding:5px; border: 1px solid #9e9e9e; line-height:1.2em;}td:first-child{font-weight:bold;}</style><tbody><tr><td>Target node</td><td>nodes=1:i5-6500te</td></tr><tr><td>Submission command</td><td>qsub test_script.sh  -l nodes=1:i5-6500te -F \"  -r results/\"</td></tr></tbody></table>"
      }
     },
     "061f2ff755da4334b75a24c249663334": {
      "model_module": "@jupyter-widgets/base",
      "model_module_version": "1.1.0",
      "model_name": "LayoutModel",
      "state": {}
     },
     "06487f0fdb2045eaa71fd310e451c5bb": {
      "model_module": "@jupyter-widgets/controls",
      "model_module_version": "1.4.0",
      "model_name": "DescriptionStyleModel",
      "state": {
       "description_width": "initial"
      }
     },
     "0663a3f2e93745e0a2c0c5e2dfd967e6": {
      "model_module": "@jupyter-widgets/controls",
      "model_module_version": "1.4.0",
      "model_name": "ButtonModel",
      "state": {
       "button_style": "info",
       "description": "Submit",
       "layout": "IPY_MODEL_4ffec934584f45fa8314ba00381d5a26",
       "style": "IPY_MODEL_d9f9133aef2148eeb8723860ede8b4a2"
      }
     },
     "067de1d21b2a472988616d8c02cc24aa": {
      "model_module": "@jupyter-widgets/controls",
      "model_module_version": "1.4.0",
      "model_name": "FloatProgressModel",
      "state": {
       "bar_style": "info",
       "layout": "IPY_MODEL_39eca4524eb14e76b4e2b8473ab9ad92",
       "style": "IPY_MODEL_5150bdd0ef164545962603db3becd242"
      }
     },
     "06b17d85c4994edea6c390cca31dbc6c": {
      "model_module": "@jupyter-widgets/controls",
      "model_module_version": "1.4.0",
      "model_name": "ButtonStyleModel",
      "state": {}
     },
     "06c9b4c649504204b4fcaa1f014b7333": {
      "model_module": "@jupyter-widgets/controls",
      "model_module_version": "1.4.0",
      "model_name": "DescriptionStyleModel",
      "state": {
       "description_width": "initial"
      }
     },
     "06d94b9a617f4e759557a003e18517ab": {
      "model_module": "@jupyter-widgets/base",
      "model_module_version": "1.1.0",
      "model_name": "LayoutModel",
      "state": {}
     },
     "06d993543b9e4f6684deb928b59c4b31": {
      "model_module": "@jupyter-widgets/base",
      "model_module_version": "1.1.0",
      "model_name": "LayoutModel",
      "state": {}
     },
     "06fe1a08589c47168e310107dee91cd8": {
      "model_module": "@jupyter-widgets/base",
      "model_module_version": "1.1.0",
      "model_name": "LayoutModel",
      "state": {}
     },
     "07117a92c64748ba812b582a5bab1d38": {
      "model_module": "@jupyter-widgets/controls",
      "model_module_version": "1.4.0",
      "model_name": "HBoxModel",
      "state": {
       "children": [
        "IPY_MODEL_2a0802d785cc4e668e7fbeec8c12b215",
        "IPY_MODEL_8dd7bd066d6c48edb64bd42dd92ffdf7",
        "IPY_MODEL_35cbee555a9744c5a595c6d170b026cd",
        "IPY_MODEL_c9d3cd90787a4c8282dae3c1ffe8592a",
        "IPY_MODEL_2ed42f823f224ce79fbceab9d6e2a3db",
        "IPY_MODEL_3231a74cb1a44db38fead31e636c2e76"
       ],
       "layout": "IPY_MODEL_34f2e837fdf44b3bb357d4e8355d7c0f"
      }
     },
     "07172f89876642328665393954efe012": {
      "model_module": "@jupyter-widgets/controls",
      "model_module_version": "1.4.0",
      "model_name": "HTMLModel",
      "state": {
       "layout": "IPY_MODEL_acc411ee2abf42b783c4fb084b1c0638",
       "style": "IPY_MODEL_0b4a27df94a44b8f9f61ebf994293300",
       "value": "<span style='color:green'>&#10004;</span> Job submitted, job ID: 18830.c003"
      }
     },
     "072231232a3349f6acb25a6a28958322": {
      "model_module": "@jupyter-widgets/controls",
      "model_module_version": "1.4.0",
      "model_name": "ProgressStyleModel",
      "state": {
       "description_width": "initial"
      }
     },
     "0772d63ec17a4c0da8592840b5a65f97": {
      "model_module": "@jupyter-widgets/base",
      "model_module_version": "1.1.0",
      "model_name": "LayoutModel",
      "state": {}
     },
     "079a528a4c00424fb66296c9f42fb2e5": {
      "model_module": "@jupyter-widgets/base",
      "model_module_version": "1.1.0",
      "model_name": "LayoutModel",
      "state": {}
     },
     "07f1a8e451834733b89e57598ec25754": {
      "model_module": "@jupyter-widgets/controls",
      "model_module_version": "1.4.0",
      "model_name": "ButtonStyleModel",
      "state": {}
     },
     "080fea491488488f88af23156251e6ab": {
      "model_module": "@jupyter-widgets/base",
      "model_module_version": "1.1.0",
      "model_name": "LayoutModel",
      "state": {}
     },
     "081319fc89a343f98a96b97db5511f6a": {
      "model_module": "@jupyter-widgets/base",
      "model_module_version": "1.1.0",
      "model_name": "LayoutModel",
      "state": {
       "align_items": "stretch",
       "border": "",
       "display": "flex",
       "flex_flow": "column",
       "height": "",
       "width": "100%"
      }
     },
     "085fd7f56abb4a268a73824fff69e2ae": {
      "model_module": "@jupyter-widgets/base",
      "model_module_version": "1.1.0",
      "model_name": "LayoutModel",
      "state": {}
     },
     "086bd7e40e46495d9f7e5a0919cc72a3": {
      "model_module": "@jupyter-widgets/controls",
      "model_module_version": "1.4.0",
      "model_name": "ButtonStyleModel",
      "state": {}
     },
     "08a9bf5cf1ad49439a656dce73540288": {
      "model_module": "@jupyter-widgets/base",
      "model_module_version": "1.1.0",
      "model_name": "LayoutModel",
      "state": {}
     },
     "08f7d324a8e6486d934c4668feab77c2": {
      "model_module": "@jupyter-widgets/controls",
      "model_module_version": "1.4.0",
      "model_name": "DescriptionStyleModel",
      "state": {
       "description_width": ""
      }
     },
     "090c612133c242859c4e787f7d5690a7": {
      "model_module": "@jupyter-widgets/controls",
      "model_module_version": "1.4.0",
      "model_name": "DescriptionStyleModel",
      "state": {
       "description_width": ""
      }
     },
     "09224ed83b03490d97281b611399380c": {
      "model_module": "@jupyter-widgets/controls",
      "model_module_version": "1.4.0",
      "model_name": "TextModel",
      "state": {
       "layout": "IPY_MODEL_d54f8f24342f45108a28d375093020a3",
       "style": "IPY_MODEL_2f73914273214e64a53fa08aad51ef07",
       "value": "nodes=1:i5-6500te"
      }
     },
     "092d6c167dfb4226b3f2266b02a76328": {
      "model_module": "@jupyter-widgets/controls",
      "model_module_version": "1.4.0",
      "model_name": "TabModel",
      "state": {
       "layout": "IPY_MODEL_c2f9017976fd416e88b5830a8011b629"
      }
     },
     "094878c1de1742149fc3747cdc2c2c2c": {
      "model_module": "@jupyter-widgets/controls",
      "model_module_version": "1.4.0",
      "model_name": "DescriptionStyleModel",
      "state": {
       "description_width": ""
      }
     },
     "0958dc358da04da79da1d2dcf7ce139c": {
      "model_module": "@jupyter-widgets/base",
      "model_module_version": "1.1.0",
      "model_name": "LayoutModel",
      "state": {}
     },
     "09bc262805e4486cb1d4e63ff3f020b3": {
      "model_module": "@jupyter-widgets/base",
      "model_module_version": "1.1.0",
      "model_name": "LayoutModel",
      "state": {}
     },
     "09ddb461389a4bea9264d479ce216843": {
      "model_module": "@jupyter-widgets/base",
      "model_module_version": "1.1.0",
      "model_name": "LayoutModel",
      "state": {}
     },
     "09fedd76c5c84adea0afd31c1de8142b": {
      "model_module": "@jupyter-widgets/controls",
      "model_module_version": "1.4.0",
      "model_name": "VBoxModel",
      "state": {
       "children": [
        "IPY_MODEL_2be636952cca4f66a3cf8135d09cc38d",
        "IPY_MODEL_09224ed83b03490d97281b611399380c"
       ],
       "layout": "IPY_MODEL_917a467c92e44a6d8666e52c8bc81229"
      }
     },
     "0a433ae2944a4734976026964f7fecd6": {
      "model_module": "@jupyter-widgets/controls",
      "model_module_version": "1.4.0",
      "model_name": "DescriptionStyleModel",
      "state": {
       "description_width": ""
      }
     },
     "0a8a71802e614e3aae39b3ac40a83ef7": {
      "model_module": "@jupyter-widgets/base",
      "model_module_version": "1.1.0",
      "model_name": "LayoutModel",
      "state": {}
     },
     "0a96970b432c4296a18a8deef5c46f43": {
      "model_module": "@jupyter-widgets/base",
      "model_module_version": "1.1.0",
      "model_name": "LayoutModel",
      "state": {}
     },
     "0aca67abc37e49c492b3937ad40b36f8": {
      "model_module": "@jupyter-widgets/base",
      "model_module_version": "1.1.0",
      "model_name": "LayoutModel",
      "state": {}
     },
     "0aff56650b1f4af7bafaa7607c1ed2e0": {
      "model_module": "@jupyter-widgets/controls",
      "model_module_version": "1.4.0",
      "model_name": "ButtonModel",
      "state": {
       "button_style": "info",
       "description": "Plot results",
       "disabled": true,
       "layout": "IPY_MODEL_f0367cba49dc41138041ffdcefa544ff",
       "style": "IPY_MODEL_f5a6760b204e42789b68483e828a479d"
      }
     },
     "0b1796787d7a4a06915dccfbe6813569": {
      "model_module": "@jupyter-widgets/output",
      "model_module_version": "1.0.0",
      "model_name": "OutputModel",
      "state": {
       "layout": "IPY_MODEL_5524e9a7ec8d47f3a6ccc405f31b19a6"
      }
     },
     "0b4645cad27a4902b4722bd0112e6788": {
      "model_module": "@jupyter-widgets/controls",
      "model_module_version": "1.4.0",
      "model_name": "HTMLModel",
      "state": {
       "layout": "IPY_MODEL_28713e8e947c40289db6deccfb853c68",
       "placeholder": "0",
       "style": "IPY_MODEL_efa7b2b475f24aa0a50868f4e2e1b382",
       "value": "Done"
      }
     },
     "0b4a27df94a44b8f9f61ebf994293300": {
      "model_module": "@jupyter-widgets/controls",
      "model_module_version": "1.4.0",
      "model_name": "DescriptionStyleModel",
      "state": {
       "description_width": ""
      }
     },
     "0b7638d1f02945bcb69bccfe31077bf4": {
      "model_module": "@jupyter-widgets/base",
      "model_module_version": "1.1.0",
      "model_name": "LayoutModel",
      "state": {}
     },
     "0b882004f8c7489998fcf5a4334225fc": {
      "model_module": "@jupyter-widgets/controls",
      "model_module_version": "1.4.0",
      "model_name": "ButtonStyleModel",
      "state": {}
     },
     "0b91edcf48854d1e8541becbead1a366": {
      "model_module": "@jupyter-widgets/controls",
      "model_module_version": "1.4.0",
      "model_name": "LabelModel",
      "state": {
       "layout": "IPY_MODEL_337ff3da0964415a9268d22c5a12ffcc",
       "style": "IPY_MODEL_3016c2cb21ac418cac753157473ee70b",
       "value": "Target node"
      }
     },
     "0bb45e175fbc4d60b5133b802e2f8129": {
      "model_module": "@jupyter-widgets/controls",
      "model_module_version": "1.4.0",
      "model_name": "HTMLModel",
      "state": {
       "layout": "IPY_MODEL_9ff742319ef8430abbd81c63993fde88",
       "style": "IPY_MODEL_9de4997b31b04a1c9bb0bdb6ee54fcda"
      }
     },
     "0bc95c94e44d46f3bffaee81092dce33": {
      "model_module": "@jupyter-widgets/base",
      "model_module_version": "1.1.0",
      "model_name": "LayoutModel",
      "state": {}
     },
     "0bce4d97ebaf457e9420b1ccd4380974": {
      "model_module": "@jupyter-widgets/base",
      "model_module_version": "1.1.0",
      "model_name": "LayoutModel",
      "state": {}
     },
     "0c140d45d0ba4316a5015e0f8cd53595": {
      "model_module": "@jupyter-widgets/base",
      "model_module_version": "1.1.0",
      "model_name": "LayoutModel",
      "state": {}
     },
     "0c24efd5280643358f968c2e3207f214": {
      "model_module": "@jupyter-widgets/controls",
      "model_module_version": "1.4.0",
      "model_name": "ButtonModel",
      "state": {
       "button_style": "info",
       "description": "Plot results",
       "disabled": true,
       "layout": "IPY_MODEL_b764ed1cebfc40acb9c6a2b0b0345e40",
       "style": "IPY_MODEL_59b57614300a4dd18038f3f01d80f0cf"
      }
     },
     "0c7ce3cc2f4946568410a38aebf7814e": {
      "model_module": "@jupyter-widgets/base",
      "model_module_version": "1.1.0",
      "model_name": "LayoutModel",
      "state": {}
     },
     "0c85733a6cab459f962a4f72aa99b4a6": {
      "model_module": "@jupyter-widgets/controls",
      "model_module_version": "1.4.0",
      "model_name": "DescriptionStyleModel",
      "state": {
       "description_width": ""
      }
     },
     "0c8a9ecebdd74dcd95fcf15c4d6ebfc7": {
      "model_module": "@jupyter-widgets/controls",
      "model_module_version": "1.4.0",
      "model_name": "DescriptionStyleModel",
      "state": {
       "description_width": "initial"
      }
     },
     "0cad7289d4f94b1d8415e511ec88027e": {
      "model_module": "@jupyter-widgets/controls",
      "model_module_version": "1.4.0",
      "model_name": "HTMLModel",
      "state": {
       "layout": "IPY_MODEL_14ad6ea25a57424e98a843d9c8c1b2eb",
       "style": "IPY_MODEL_513f40d3871f421691269bb22c3a8c8b"
      }
     },
     "0ce668e5db014110a25e03d6bc9c3344": {
      "model_module": "@jupyter-widgets/controls",
      "model_module_version": "1.4.0",
      "model_name": "LabelModel",
      "state": {
       "layout": "IPY_MODEL_5599cedcfe244bdd8fc44b923b02072a",
       "style": "IPY_MODEL_47fce8f7ca4d40f2a43842e64f705f4e",
       "value": "Target node"
      }
     },
     "0d17b4e68f304f9faf19ca5c6cde0651": {
      "model_module": "@jupyter-widgets/controls",
      "model_module_version": "1.4.0",
      "model_name": "VBoxModel",
      "state": {
       "children": [
        "IPY_MODEL_42bb1ec7cc6c447fae93faf4dcc04352",
        "IPY_MODEL_a75641bbacfd434e811c7bed19651673"
       ],
       "layout": "IPY_MODEL_38c40a3da5224bef94e3d5bfc5e3147e"
      }
     },
     "0d2b3ad0a122436ea47111eb798f12a4": {
      "model_module": "@jupyter-widgets/output",
      "model_module_version": "1.0.0",
      "model_name": "OutputModel",
      "state": {
       "layout": "IPY_MODEL_d5d6a1a9c845467b90d28d721161f917"
      }
     },
     "0d8cd90224904e64832becceaefa04db": {
      "model_module": "@jupyter-widgets/controls",
      "model_module_version": "1.4.0",
      "model_name": "ButtonStyleModel",
      "state": {}
     },
     "0d93e57a676d4eecbf6ec4f74ec169ce": {
      "model_module": "@jupyter-widgets/base",
      "model_module_version": "1.1.0",
      "model_name": "LayoutModel",
      "state": {}
     },
     "0dc5c1b2aa7545b7819e5735a4ca16f4": {
      "model_module": "@jupyter-widgets/base",
      "model_module_version": "1.1.0",
      "model_name": "LayoutModel",
      "state": {}
     },
     "0dd97d9271774e388aa2ade57b39932b": {
      "model_module": "@jupyter-widgets/controls",
      "model_module_version": "1.4.0",
      "model_name": "ButtonStyleModel",
      "state": {}
     },
     "0ddcc6579c4d477cafb1e2f390bbfea2": {
      "model_module": "@jupyter-widgets/base",
      "model_module_version": "1.1.0",
      "model_name": "LayoutModel",
      "state": {}
     },
     "0e001b2e579c4182a03719180c1eec03": {
      "model_module": "@jupyter-widgets/controls",
      "model_module_version": "1.4.0",
      "model_name": "HTMLModel",
      "state": {
       "layout": "IPY_MODEL_9a6e4446ef6144519820f5047e388dae",
       "style": "IPY_MODEL_9f467fb94050438c9551b75916640270"
      }
     },
     "0e1b106343be45caa5fcf8ccb98f8d98": {
      "model_module": "@jupyter-widgets/output",
      "model_module_version": "1.0.0",
      "model_name": "OutputModel",
      "state": {
       "layout": "IPY_MODEL_3d2e004806cd4d2482dcbd7d9f1595aa"
      }
     },
     "0eafbf42a6b049f7b394ee00c36424df": {
      "model_module": "@jupyter-widgets/controls",
      "model_module_version": "1.4.0",
      "model_name": "TabModel",
      "state": {
       "_titles": {
        "0": "Done: 18572"
       },
       "children": [
        "IPY_MODEL_e9fac299a78442b1b7ad101b76f352cf"
       ],
       "layout": "IPY_MODEL_f2384bcbddeb41f6ba22115d8d3cccae"
      }
     },
     "0ec38c8f891e4a4797600f39de6edaa5": {
      "model_module": "@jupyter-widgets/base",
      "model_module_version": "1.1.0",
      "model_name": "LayoutModel",
      "state": {}
     },
     "0ee4fb456adb4fe59c2429ac11ca65b3": {
      "model_module": "@jupyter-widgets/controls",
      "model_module_version": "1.4.0",
      "model_name": "HTMLModel",
      "state": {
       "layout": "IPY_MODEL_87df3d03cb694a8e83e6ee0d3aa0b9a2",
       "placeholder": "0",
       "style": "IPY_MODEL_5d7da37801da40d983bac00e18fd59b6",
       "value": "Total estimated: 10.0\n seconds"
      }
     },
     "0f5df662dd5a49fe8a2c67407aa8f66d": {
      "model_module": "@jupyter-widgets/controls",
      "model_module_version": "1.4.0",
      "model_name": "ButtonModel",
      "state": {
       "button_style": "info",
       "description": "Submit",
       "layout": "IPY_MODEL_8beb13b19cda4fea81046158550e42ce",
       "style": "IPY_MODEL_35b7fd82a7474cd6be4e59b255b64038"
      }
     },
     "0f8507897d054a4a87f44b32b80dfc3f": {
      "model_module": "@jupyter-widgets/controls",
      "model_module_version": "1.4.0",
      "model_name": "VBoxModel",
      "state": {
       "children": [
        "IPY_MODEL_78fa22957d0047fb8b3d640d66025061",
        "IPY_MODEL_ca801f1d2d354e12855b784ddf111931"
       ],
       "layout": "IPY_MODEL_fdfec301874741eb98f51f5f7dfa3b5f"
      }
     },
     "0fef805d2fa1422b97a364d13a43cce8": {
      "model_module": "@jupyter-widgets/controls",
      "model_module_version": "1.4.0",
      "model_name": "ProgressStyleModel",
      "state": {
       "description_width": "initial"
      }
     },
     "0ff1b1ab80c9472a87a40e66d71d2054": {
      "model_module": "@jupyter-widgets/controls",
      "model_module_version": "1.4.0",
      "model_name": "HTMLModel",
      "state": {
       "layout": "IPY_MODEL_606694a40b8942b3af8223c8cd45737e",
       "style": "IPY_MODEL_3de6eb93b875479280e0972e8f6c7785",
       "value": "<span style='color:green'>&#10004;</span> Job submitted, job ID: 18574.c003"
      }
     },
     "101c93bf99624a60bbeb96efeaaad432": {
      "model_module": "@jupyter-widgets/controls",
      "model_module_version": "1.4.0",
      "model_name": "TabModel",
      "state": {
       "layout": "IPY_MODEL_a6dda742717a444bbf86b78ce2f242ca"
      }
     },
     "105142b21592459181c69287d59a214c": {
      "model_module": "@jupyter-widgets/controls",
      "model_module_version": "1.4.0",
      "model_name": "DescriptionStyleModel",
      "state": {
       "description_width": ""
      }
     },
     "106b4db1bea54fc6b16876fe7fef65ed": {
      "model_module": "@jupyter-widgets/controls",
      "model_module_version": "1.4.0",
      "model_name": "ButtonStyleModel",
      "state": {}
     },
     "10c0c6c9f8f84e33867c81c4188921bf": {
      "model_module": "@jupyter-widgets/controls",
      "model_module_version": "1.4.0",
      "model_name": "DescriptionStyleModel",
      "state": {
       "description_width": ""
      }
     },
     "10c27b5119eb49e0bd41f84f95814e4f": {
      "model_module": "@jupyter-widgets/controls",
      "model_module_version": "1.4.0",
      "model_name": "VBoxModel",
      "state": {
       "children": [
        "IPY_MODEL_1fd3f11f304e4b42a96b6a57ac5e0e3f",
        "IPY_MODEL_bf472f12967b4425b317f9145e8d9c60"
       ],
       "layout": "IPY_MODEL_335c686f01974a6eab6296d4dc01d682"
      }
     },
     "10e02139cf994538b245878659bef27c": {
      "model_module": "@jupyter-widgets/base",
      "model_module_version": "1.1.0",
      "model_name": "LayoutModel",
      "state": {}
     },
     "10e531bd95444bd882b6a87511ceafc3": {
      "model_module": "@jupyter-widgets/controls",
      "model_module_version": "1.4.0",
      "model_name": "LabelModel",
      "state": {
       "layout": "IPY_MODEL_50a169c7502d4af1abf38b99973baf7a",
       "style": "IPY_MODEL_b173c62e750740559cd7da6ac6585d93",
       "value": "Target node"
      }
     },
     "110177a8afbc42669aae361619b5f644": {
      "model_module": "@jupyter-widgets/base",
      "model_module_version": "1.1.0",
      "model_name": "LayoutModel",
      "state": {}
     },
     "1114f17c184a49f9ad68e1112a2a7cdd": {
      "model_module": "@jupyter-widgets/controls",
      "model_module_version": "1.4.0",
      "model_name": "HTMLModel",
      "state": {
       "layout": "IPY_MODEL_06fe1a08589c47168e310107dee91cd8",
       "placeholder": "",
       "style": "IPY_MODEL_4d154a916c06423b95c7da67b920e92c",
       "value": "Architecture:          x86_64\n\nCPU op-mode(s):        32-bit, 64-bit\n\nByte Order:            Little Endian\n\nCPU(s):                4\n\nOn-line CPU(s) list:   0-3\n\nThread(s) per core:    1\n\nCore(s) per socket:    4\n\nSocket(s):             1\n\nNUMA node(s):          1\n\nVendor ID:             GenuineIntel\n\nCPU family:            6\n\nModel:                 94\n\nModel name:            Intel(R) Core(TM) i5-6500TE CPU @ 2.30GHz\n\nStepping:              3\n\nCPU MHz:               1400.011\n\nCPU max MHz:           3300.0000\n\nCPU min MHz:           800.0000\n\nBogoMIPS:              4608.00\n\nVirtualization:        VT-x\n\nL1d cache:             32K\n\nL1i cache:             32K\n\nL2 cache:              256K\n\nL3 cache:              6144K\n\nNUMA node0 CPU(s):     0-3\n\nFlags:                 fpu vme de pse tsc msr pae mce cx8 apic sep mtrr pge mca cmov pat pse36 clflush dts acpi mmx fxsr sse sse2 ss ht tm pbe syscall nx pdpe1gb rdtscp lm constant_tsc art arch_perfmon pebs bts rep_good nopl xtopology nonstop_tsc cpuid aperfmperf tsc_known_freq pni pclmulqdq dtes64 monitor ds_cpl vmx smx est tm2 ssse3 sdbg fma cx16 xtpr pdcm pcid sse4_1 sse4_2 x2apic movbe popcnt tsc_deadline_timer aes xsave avx f16c rdrand lahf_lm abm 3dnowprefetch cpuid_fault epb invpcid_single pti ssbd ibrs ibpb stibp tpr_shadow vnmi flexpriority ept vpid fsgsbase tsc_adjust bmi1 hle avx2 smep bmi2 erms invpcid rtm mpx rdseed adx smap clflushopt intel_pt xsaveopt xsavec xgetbv1 xsaves dtherm ida arat pln pts hwp hwp_notify hwp_act_window hwp_epp flush_l1d\n"
      }
     },
     "111e66ee16e04d76a97776650d9b3d54": {
      "model_module": "@jupyter-widgets/controls",
      "model_module_version": "1.4.0",
      "model_name": "DescriptionStyleModel",
      "state": {
       "description_width": "initial"
      }
     },
     "1143c82d0ef445369f2515afe6704599": {
      "model_module": "@jupyter-widgets/base",
      "model_module_version": "1.1.0",
      "model_name": "LayoutModel",
      "state": {}
     },
     "1157e6e2c52b45d3918ef00088abbfba": {
      "model_module": "@jupyter-widgets/controls",
      "model_module_version": "1.4.0",
      "model_name": "ProgressStyleModel",
      "state": {
       "description_width": "initial"
      }
     },
     "1174898e264e480e901018bb7acc7ebf": {
      "model_module": "@jupyter-widgets/controls",
      "model_module_version": "1.4.0",
      "model_name": "ButtonModel",
      "state": {
       "button_style": "info",
       "description": "Submit",
       "layout": "IPY_MODEL_9a4ef1d2e7924ee38b14856f3d690ff3",
       "style": "IPY_MODEL_ff9ebf97d88048efa38a0543800e6663"
      }
     },
     "11b16fc018a241b4a441919d1de4174e": {
      "model_module": "@jupyter-widgets/base",
      "model_module_version": "1.1.0",
      "model_name": "LayoutModel",
      "state": {}
     },
     "11f5f7ae3aad4ed8a434230bc1c7cd90": {
      "model_module": "@jupyter-widgets/base",
      "model_module_version": "1.1.0",
      "model_name": "LayoutModel",
      "state": {}
     },
     "1224f2b404d5489084c44a6732fe7ec3": {
      "model_module": "@jupyter-widgets/base",
      "model_module_version": "1.1.0",
      "model_name": "LayoutModel",
      "state": {}
     },
     "123eed3c862d42eba9d10248749efb34": {
      "model_module": "@jupyter-widgets/base",
      "model_module_version": "1.1.0",
      "model_name": "LayoutModel",
      "state": {}
     },
     "124839d6581b499fac485876854fc07c": {
      "model_module": "@jupyter-widgets/controls",
      "model_module_version": "1.4.0",
      "model_name": "HTMLModel",
      "state": {
       "layout": "IPY_MODEL_5e7c3f4d62ba415598f6076d4b7006b0",
       "style": "IPY_MODEL_f9e469265c3d478280f2bc552c5b2c1a"
      }
     },
     "124a05ba16394d469ed18385cfeb9199": {
      "model_module": "@jupyter-widgets/base",
      "model_module_version": "1.1.0",
      "model_name": "LayoutModel",
      "state": {}
     },
     "12597f4ebf474928a73bd600d938aacb": {
      "model_module": "@jupyter-widgets/controls",
      "model_module_version": "1.4.0",
      "model_name": "HTMLModel",
      "state": {
       "layout": "IPY_MODEL_6764d4af3efe42bfbf84aba456f37b75",
       "placeholder": "0",
       "style": "IPY_MODEL_65b60938573b4ddda3e1c590f8e6fc2f",
       "value": "Total estimated: 10.0\n seconds"
      }
     },
     "12677fdb060f4d34a8ed13fb5f742d23": {
      "model_module": "@jupyter-widgets/controls",
      "model_module_version": "1.4.0",
      "model_name": "HTMLModel",
      "state": {
       "layout": "IPY_MODEL_a9734aa9a3db4e4c9bb6dfdc17e4388d",
       "style": "IPY_MODEL_66595af163cd403d92d4d73c5f4001c4"
      }
     },
     "126f83dc4c294392b052b86e58c18fed": {
      "model_module": "@jupyter-widgets/base",
      "model_module_version": "1.1.0",
      "model_name": "LayoutModel",
      "state": {}
     },
     "12831eabdf4244639754b63e2525b7e3": {
      "model_module": "@jupyter-widgets/base",
      "model_module_version": "1.1.0",
      "model_name": "LayoutModel",
      "state": {}
     },
     "13169608bc354655ab0f4078dcb05e03": {
      "model_module": "@jupyter-widgets/base",
      "model_module_version": "1.1.0",
      "model_name": "LayoutModel",
      "state": {}
     },
     "132e4705bf4744199187262875ff8c35": {
      "model_module": "@jupyter-widgets/controls",
      "model_module_version": "1.4.0",
      "model_name": "HTMLModel",
      "state": {
       "layout": "IPY_MODEL_c9658c2fe0ce4fa5ad7f616cd9d583f3",
       "placeholder": "0",
       "style": "IPY_MODEL_06c9b4c649504204b4fcaa1f014b7333"
      }
     },
     "137e58d60f0543daae776c14a1767f53": {
      "model_module": "@jupyter-widgets/base",
      "model_module_version": "1.1.0",
      "model_name": "LayoutModel",
      "state": {}
     },
     "139fac6061344ca6a3fbd97c0476e443": {
      "model_module": "@jupyter-widgets/controls",
      "model_module_version": "1.4.0",
      "model_name": "HTMLModel",
      "state": {
       "layout": "IPY_MODEL_c4eae29dadaa4e56b9b1c19b765fff4d",
       "placeholder": "",
       "style": "IPY_MODEL_cf1cc33887a9470cbe47cd48a2a49cab",
       "value": "...waiting to start"
      }
     },
     "13f63c478f5241fca79fbb4fb7344e46": {
      "model_module": "@jupyter-widgets/controls",
      "model_module_version": "1.4.0",
      "model_name": "HTMLModel",
      "state": {
       "layout": "IPY_MODEL_192b944de22f45a2a28b7700b4e9d3bf",
       "style": "IPY_MODEL_1a463aed7fe0444e82f1de8108684ed3"
      }
     },
     "13f73170bd7f4d6b8f99b914a9a78652": {
      "model_module": "@jupyter-widgets/output",
      "model_module_version": "1.0.0",
      "model_name": "OutputModel",
      "state": {
       "layout": "IPY_MODEL_34d7d03ec86945cb811d4bc60717d77b"
      }
     },
     "13fcb94bbe03463fa937839bc31e0529": {
      "model_module": "@jupyter-widgets/controls",
      "model_module_version": "1.4.0",
      "model_name": "ProgressStyleModel",
      "state": {
       "description_width": "initial"
      }
     },
     "13fde35595a445b1a5a16efdec49eb04": {
      "model_module": "@jupyter-widgets/controls",
      "model_module_version": "1.4.0",
      "model_name": "DescriptionStyleModel",
      "state": {
       "description_width": "initial"
      }
     },
     "140b25cddb8249afb4b3aed3f28d9fe5": {
      "model_module": "@jupyter-widgets/controls",
      "model_module_version": "1.4.0",
      "model_name": "ButtonModel",
      "state": {
       "button_style": "info",
       "description": "Plot results",
       "disabled": true,
       "layout": "IPY_MODEL_25e78274b4da411492ca041ab0099195",
       "style": "IPY_MODEL_106b4db1bea54fc6b16876fe7fef65ed"
      }
     },
     "1426f16551814b30ad984188a350cd41": {
      "model_module": "@jupyter-widgets/base",
      "model_module_version": "1.1.0",
      "model_name": "LayoutModel",
      "state": {}
     },
     "1438214bde684cb49acf03472b8920ec": {
      "model_module": "@jupyter-widgets/controls",
      "model_module_version": "1.4.0",
      "model_name": "ButtonModel",
      "state": {
       "button_style": "info",
       "description": "Display output",
       "layout": "IPY_MODEL_499cf52289544e41b66fae911e0d27dd",
       "style": "IPY_MODEL_74422e036be146f5a022b4fe21d8dd6b"
      }
     },
     "14a9034cae83434b92b8af67208b4c21": {
      "model_module": "@jupyter-widgets/base",
      "model_module_version": "1.1.0",
      "model_name": "LayoutModel",
      "state": {}
     },
     "14ad6ea25a57424e98a843d9c8c1b2eb": {
      "model_module": "@jupyter-widgets/base",
      "model_module_version": "1.1.0",
      "model_name": "LayoutModel",
      "state": {}
     },
     "14c381ece6c94d2eb17e185a269773f1": {
      "model_module": "@jupyter-widgets/controls",
      "model_module_version": "1.4.0",
      "model_name": "ButtonModel",
      "state": {
       "button_style": "info",
       "description": "Display output",
       "layout": "IPY_MODEL_92900a23691e463784b79426d96a3f3b",
       "style": "IPY_MODEL_ff0940eded00487389da89b41df909d7"
      }
     },
     "14ec13ea24b34d51a302f99d4125aa6e": {
      "model_module": "@jupyter-widgets/controls",
      "model_module_version": "1.4.0",
      "model_name": "HTMLModel",
      "state": {
       "layout": "IPY_MODEL_ff7382b717bc480cbf17107c44c1bda7",
       "placeholder": "",
       "style": "IPY_MODEL_8d66f6517db44cba865f9a7009aa7c6b",
       "value": "Model name:            Intel(R) Core(TM) i5-6500TE CPU @ 2.30GHz"
      }
     },
     "14fec258c4b64c639b5bfe27c1469761": {
      "model_module": "@jupyter-widgets/controls",
      "model_module_version": "1.4.0",
      "model_name": "TabModel",
      "state": {
       "_titles": {
        "0": "Done: 18829"
       },
       "children": [
        "IPY_MODEL_f111cc790504462e8973723d9ab9b3a5"
       ],
       "layout": "IPY_MODEL_48bed9d343364a1ab8eccdeb09fb0c2d"
      }
     },
     "14ff46d459794156895c9d04a29a5877": {
      "model_module": "@jupyter-widgets/controls",
      "model_module_version": "1.4.0",
      "model_name": "HTMLModel",
      "state": {
       "layout": "IPY_MODEL_31ca1feba1d04101ba32e1409679b5c5",
       "style": "IPY_MODEL_9f26ee58d67e40488d944264ffc9e33a"
      }
     },
     "1540a31675784cef8c1073c851a58edd": {
      "model_module": "@jupyter-widgets/controls",
      "model_module_version": "1.4.0",
      "model_name": "DescriptionStyleModel",
      "state": {
       "description_width": "initial"
      }
     },
     "15ae65f0584a43c38eba88d1492335fc": {
      "model_module": "@jupyter-widgets/controls",
      "model_module_version": "1.4.0",
      "model_name": "HTMLModel",
      "state": {
       "layout": "IPY_MODEL_98822601a7ef4c3ab481d231ff404f5b",
       "style": "IPY_MODEL_73153a69ba0b4661815ade23c707ff28",
       "value": "<span style='color:green'>&#10004;</span> Job submitted, job ID: 18575.c003"
      }
     },
     "15bc914d09e1433ca9351ae870029267": {
      "model_module": "@jupyter-widgets/controls",
      "model_module_version": "1.4.0",
      "model_name": "DescriptionStyleModel",
      "state": {
       "description_width": "initial"
      }
     },
     "1606b9291feb4d8ba9193d67172d273e": {
      "model_module": "@jupyter-widgets/controls",
      "model_module_version": "1.4.0",
      "model_name": "HTMLModel",
      "state": {
       "layout": "IPY_MODEL_51788554d59f41f1a3c04d190cbe912f",
       "placeholder": "0",
       "style": "IPY_MODEL_fa3d77257a41486192e1bec6051c75c4"
      }
     },
     "1619d3bd8fe54b97bcb83bf587dac950": {
      "model_module": "@jupyter-widgets/controls",
      "model_module_version": "1.4.0",
      "model_name": "TabModel",
      "state": {
       "layout": "IPY_MODEL_59f4ce5dc61d4e509cfcd783ecf81409"
      }
     },
     "16cc4b6c9aee4059a686b572fecb8c42": {
      "model_module": "@jupyter-widgets/base",
      "model_module_version": "1.1.0",
      "model_name": "LayoutModel",
      "state": {
       "align_items": "stretch",
       "border": "",
       "display": "flex",
       "flex_flow": "column",
       "height": "",
       "width": "100%"
      }
     },
     "16f71bc6e46548f0a832d04d237b3dfb": {
      "model_module": "@jupyter-widgets/controls",
      "model_module_version": "1.4.0",
      "model_name": "VBoxModel",
      "state": {
       "children": [
        "IPY_MODEL_f46ff0b9608245a195e869e68bc7d5eb",
        "IPY_MODEL_71c55cb9b90449a3a76a8fbd3b770aa4"
       ],
       "layout": "IPY_MODEL_ba6972310a324c7aa5576b75ec6aff94"
      }
     },
     "17231c86a504411a8f44e0c8eeb127a9": {
      "model_module": "@jupyter-widgets/controls",
      "model_module_version": "1.4.0",
      "model_name": "ButtonStyleModel",
      "state": {}
     },
     "173446ccdffb4eaf866f5dc8de62b553": {
      "model_module": "@jupyter-widgets/controls",
      "model_module_version": "1.4.0",
      "model_name": "HTMLModel",
      "state": {
       "layout": "IPY_MODEL_af8b81d7576243dcb1c8d6ebd065c101",
       "placeholder": "",
       "style": "IPY_MODEL_cf33acf4b8e14a3ebb147ca4c960461f"
      }
     },
     "17357db4fa0846439f02d8c8789d2f5d": {
      "model_module": "@jupyter-widgets/base",
      "model_module_version": "1.1.0",
      "model_name": "LayoutModel",
      "state": {}
     },
     "1744be746d3745c68c788472abac3e41": {
      "model_module": "@jupyter-widgets/controls",
      "model_module_version": "1.4.0",
      "model_name": "DescriptionStyleModel",
      "state": {
       "description_width": ""
      }
     },
     "1778cb7df4a0403098ef9bf9921df2a5": {
      "model_module": "@jupyter-widgets/base",
      "model_module_version": "1.1.0",
      "model_name": "LayoutModel",
      "state": {}
     },
     "179b372a43284d4b90aa143301a225a3": {
      "model_module": "@jupyter-widgets/controls",
      "model_module_version": "1.4.0",
      "model_name": "HTMLModel",
      "state": {
       "layout": "IPY_MODEL_eda8f19df05341ccb215e14c82ffe557",
       "style": "IPY_MODEL_80590dca09e14d65bd28444febd51f7f",
       "value": "<table><style type=\"text/css\" scoped>td{ padding:5px; border: 1px solid #9e9e9e; line-height:1.2em;}td:first-child{font-weight:bold;}</style><tbody><tr><td>Target node</td><td>nodes=1:i5-6500te</td></tr><tr><td>Submission command</td><td>qsub test_script.sh -l   nodes=1:i5-6500te  -F ' -r results/ '</td></tr></tbody></table>"
      }
     },
     "17e9cdd2d8ba4da2b150e1f52ac567d4": {
      "model_module": "@jupyter-widgets/base",
      "model_module_version": "1.1.0",
      "model_name": "LayoutModel",
      "state": {}
     },
     "18085b27672845b3a76a847a1edc7464": {
      "model_module": "@jupyter-widgets/base",
      "model_module_version": "1.1.0",
      "model_name": "LayoutModel",
      "state": {}
     },
     "184d3ee1fe064ec38ad7dcc935677720": {
      "model_module": "@jupyter-widgets/base",
      "model_module_version": "1.1.0",
      "model_name": "LayoutModel",
      "state": {}
     },
     "18a00b737289457c8bc1b8a39d863b63": {
      "model_module": "@jupyter-widgets/controls",
      "model_module_version": "1.4.0",
      "model_name": "VBoxModel",
      "state": {
       "children": [
        "IPY_MODEL_581426cdd6ea4629b30f99fa6ceab8b6",
        "IPY_MODEL_870a450d54c744349c045e89472069d0"
       ],
       "layout": "IPY_MODEL_bb642cdb3be24372b51391be28fec0b3"
      }
     },
     "190478cb85ed431c981c7b6ce4586151": {
      "model_module": "@jupyter-widgets/base",
      "model_module_version": "1.1.0",
      "model_name": "LayoutModel",
      "state": {}
     },
     "192b944de22f45a2a28b7700b4e9d3bf": {
      "model_module": "@jupyter-widgets/base",
      "model_module_version": "1.1.0",
      "model_name": "LayoutModel",
      "state": {}
     },
     "1995622464f846c588f78f5c0fa3c1f9": {
      "model_module": "@jupyter-widgets/base",
      "model_module_version": "1.1.0",
      "model_name": "LayoutModel",
      "state": {}
     },
     "19d1021cde8b4a56b986a08f596542b4": {
      "model_module": "@jupyter-widgets/base",
      "model_module_version": "1.1.0",
      "model_name": "LayoutModel",
      "state": {}
     },
     "19d8e3e3ca89424e842cb1d0c5eb9c02": {
      "model_module": "@jupyter-widgets/base",
      "model_module_version": "1.1.0",
      "model_name": "LayoutModel",
      "state": {}
     },
     "19fbcbd7ef574341b98831c783f89a07": {
      "model_module": "@jupyter-widgets/controls",
      "model_module_version": "1.4.0",
      "model_name": "HTMLModel",
      "state": {
       "layout": "IPY_MODEL_1b86cf07765648cc83eaa28de4fef975",
       "style": "IPY_MODEL_ce4ba0f995b3441f80db16724ca2bde9",
       "value": "<table><style type=\"text/css\" scoped>td{ padding:5px; border: 1px solid #9e9e9e; line-height:1.2em;}td:first-child{font-weight:bold;}</style><tbody><tr><td>Target node</td><td>nodes=1:i5-6500te</td></tr><tr><td>Submission command</td><td>qsub test_script.sh  -l nodes=1:i5-6500te -F \"  -r results/\"</td></tr></tbody></table>"
      }
     },
     "1a1ec4db5b754bd3962dd1bce24067c9": {
      "model_module": "@jupyter-widgets/base",
      "model_module_version": "1.1.0",
      "model_name": "LayoutModel",
      "state": {}
     },
     "1a300245a2d040ffb9fd77ebfef12c29": {
      "model_module": "@jupyter-widgets/controls",
      "model_module_version": "1.4.0",
      "model_name": "DescriptionStyleModel",
      "state": {
       "description_width": ""
      }
     },
     "1a463aed7fe0444e82f1de8108684ed3": {
      "model_module": "@jupyter-widgets/controls",
      "model_module_version": "1.4.0",
      "model_name": "DescriptionStyleModel",
      "state": {
       "description_width": ""
      }
     },
     "1a54e2d5457e4bfabd3b15b8ca8968dd": {
      "model_module": "@jupyter-widgets/base",
      "model_module_version": "1.1.0",
      "model_name": "LayoutModel",
      "state": {}
     },
     "1aa3a1518e6d426f91ff873c5e3723c7": {
      "model_module": "@jupyter-widgets/controls",
      "model_module_version": "1.4.0",
      "model_name": "FloatProgressModel",
      "state": {
       "bar_style": "info",
       "layout": "IPY_MODEL_7922f7144c984becbf8954c7c2f43e81",
       "style": "IPY_MODEL_45107df8010f47d7bb6572f3fea4917a"
      }
     },
     "1ac05eafaa1f41fe92b25b874f9fdc44": {
      "model_module": "@jupyter-widgets/base",
      "model_module_version": "1.1.0",
      "model_name": "LayoutModel",
      "state": {}
     },
     "1accc2c48ec243d3bde12bec66666b27": {
      "model_module": "@jupyter-widgets/controls",
      "model_module_version": "1.4.0",
      "model_name": "ButtonModel",
      "state": {
       "button_style": "info",
       "description": "Display output",
       "disabled": true,
       "layout": "IPY_MODEL_22a300b2df6a4311871fe5c867dae795",
       "style": "IPY_MODEL_61472faffe924e50a3259006b39a9e30"
      }
     },
     "1ad8194725bb4d04aa929b6c703fadef": {
      "model_module": "@jupyter-widgets/controls",
      "model_module_version": "1.4.0",
      "model_name": "DescriptionStyleModel",
      "state": {
       "description_width": ""
      }
     },
     "1b29bfd3c5da4a9ea9a72c75921af7b3": {
      "model_module": "@jupyter-widgets/controls",
      "model_module_version": "1.4.0",
      "model_name": "ButtonStyleModel",
      "state": {}
     },
     "1b3d5eb1a81c4442be655d32e73416fe": {
      "model_module": "@jupyter-widgets/controls",
      "model_module_version": "1.4.0",
      "model_name": "DescriptionStyleModel",
      "state": {
       "description_width": ""
      }
     },
     "1b86cf07765648cc83eaa28de4fef975": {
      "model_module": "@jupyter-widgets/base",
      "model_module_version": "1.1.0",
      "model_name": "LayoutModel",
      "state": {}
     },
     "1b89b122ff4649249908fad80da2287a": {
      "model_module": "@jupyter-widgets/controls",
      "model_module_version": "1.4.0",
      "model_name": "ButtonModel",
      "state": {
       "button_style": "info",
       "description": "Plot results",
       "disabled": true,
       "layout": "IPY_MODEL_a8e8af7f73ec4c0eb70329a275d6df45",
       "style": "IPY_MODEL_8dd1591323f64a5f924cd80db20425b9"
      }
     },
     "1bad60f671bd4978b5a7e34827d3d435": {
      "model_module": "@jupyter-widgets/controls",
      "model_module_version": "1.4.0",
      "model_name": "LabelModel",
      "state": {
       "layout": "IPY_MODEL_ceccfff865a1424fa5bd73b956e8ae90",
       "style": "IPY_MODEL_856a6f77e33a46bf8363b59ff4a66d18",
       "value": "Target node"
      }
     },
     "1bd272d54636402293666b564bbafe86": {
      "model_module": "@jupyter-widgets/controls",
      "model_module_version": "1.4.0",
      "model_name": "ButtonStyleModel",
      "state": {}
     },
     "1c04f9a3bc8046459098db697b5f99b8": {
      "model_module": "@jupyter-widgets/base",
      "model_module_version": "1.1.0",
      "model_name": "LayoutModel",
      "state": {}
     },
     "1c1acf6ff58540c9865f16815030d6b6": {
      "model_module": "@jupyter-widgets/base",
      "model_module_version": "1.1.0",
      "model_name": "LayoutModel",
      "state": {}
     },
     "1c54f1675bcd447db4d44874c5920676": {
      "model_module": "@jupyter-widgets/controls",
      "model_module_version": "1.4.0",
      "model_name": "ButtonModel",
      "state": {
       "button_style": "info",
       "description": "Display output",
       "layout": "IPY_MODEL_461b426d6f92489899e60317c526d95a",
       "style": "IPY_MODEL_1b29bfd3c5da4a9ea9a72c75921af7b3"
      }
     },
     "1c6d905e681c46d09eecbf8a5a8281b4": {
      "model_module": "@jupyter-widgets/base",
      "model_module_version": "1.1.0",
      "model_name": "LayoutModel",
      "state": {
       "align_items": "stretch",
       "border": "",
       "display": "flex",
       "flex_flow": "column",
       "height": "",
       "width": "100%"
      }
     },
     "1cc99ff9d33547bb81f475b4448f7560": {
      "model_module": "@jupyter-widgets/base",
      "model_module_version": "1.1.0",
      "model_name": "LayoutModel",
      "state": {
       "align_items": "stretch",
       "border": "",
       "display": "flex",
       "flex_flow": "column",
       "height": "",
       "width": "100%"
      }
     },
     "1cdb22f864804d98a72938acdb395856": {
      "model_module": "@jupyter-widgets/base",
      "model_module_version": "1.1.0",
      "model_name": "LayoutModel",
      "state": {
       "align_items": "stretch",
       "border": "ridge",
       "display": "flex",
       "flex_flow": "column",
       "height": "",
       "width": "100%"
      }
     },
     "1ce3871ef64846fbac748781583e88e6": {
      "model_module": "@jupyter-widgets/controls",
      "model_module_version": "1.4.0",
      "model_name": "DescriptionStyleModel",
      "state": {
       "description_width": ""
      }
     },
     "1cea834709b847158c61c5abcff19d4d": {
      "model_module": "@jupyter-widgets/controls",
      "model_module_version": "1.4.0",
      "model_name": "ButtonModel",
      "state": {
       "button_style": "info",
       "description": "Plot results",
       "disabled": true,
       "layout": "IPY_MODEL_0a8a71802e614e3aae39b3ac40a83ef7",
       "style": "IPY_MODEL_2b12b962b3e04df29f59f8f09f909820"
      }
     },
     "1d48febffc9b44308bb2543b25156f03": {
      "model_module": "@jupyter-widgets/controls",
      "model_module_version": "1.4.0",
      "model_name": "VBoxModel",
      "state": {
       "children": [
        "IPY_MODEL_16f71bc6e46548f0a832d04d237b3dfb"
       ],
       "layout": "IPY_MODEL_8d995f105ad041188e5097b44cc6b7eb"
      }
     },
     "1d57eb34c67240bd869963b0f84bfd9c": {
      "model_module": "@jupyter-widgets/controls",
      "model_module_version": "1.4.0",
      "model_name": "DescriptionStyleModel",
      "state": {
       "description_width": ""
      }
     },
     "1d684e191c984784a815a81c3b6846a5": {
      "model_module": "@jupyter-widgets/base",
      "model_module_version": "1.1.0",
      "model_name": "LayoutModel",
      "state": {}
     },
     "1d6dac476e664ef0a53e7ebb140e9155": {
      "model_module": "@jupyter-widgets/controls",
      "model_module_version": "1.4.0",
      "model_name": "DescriptionStyleModel",
      "state": {
       "description_width": "initial"
      }
     },
     "1da5fa0e60ee4d308b2998d1b61448af": {
      "model_module": "@jupyter-widgets/base",
      "model_module_version": "1.1.0",
      "model_name": "LayoutModel",
      "state": {}
     },
     "1de1c428b30b4cfab33e39977c968ada": {
      "model_module": "@jupyter-widgets/controls",
      "model_module_version": "1.4.0",
      "model_name": "TextModel",
      "state": {
       "layout": "IPY_MODEL_f5ac155178b34d268787806bbea740ad",
       "style": "IPY_MODEL_69f0ad73370f42e88b8be6f6de5710d9",
       "value": "nodes=1:i5-6500te"
      }
     },
     "1e34d91f0d6c40acbb2873663ddef158": {
      "model_module": "@jupyter-widgets/controls",
      "model_module_version": "1.4.0",
      "model_name": "VBoxModel",
      "state": {
       "children": [
        "IPY_MODEL_0b91edcf48854d1e8541becbead1a366",
        "IPY_MODEL_235f6084d481486789b9fc0ba103f922"
       ],
       "layout": "IPY_MODEL_894a4449d773414bbf6bf927c9acdc0f"
      }
     },
     "1e43300c2309475bb28e464083db3bd0": {
      "model_module": "@jupyter-widgets/controls",
      "model_module_version": "1.4.0",
      "model_name": "LabelModel",
      "state": {
       "layout": "IPY_MODEL_a01351950ac54a2c9bbec6aa208620f5",
       "style": "IPY_MODEL_2718c95a0b694a97aab7fa6f0e04500a",
       "value": "Target node"
      }
     },
     "1e529dd341a04053abee167dec457057": {
      "model_module": "@jupyter-widgets/controls",
      "model_module_version": "1.4.0",
      "model_name": "VBoxModel",
      "state": {
       "children": [
        "IPY_MODEL_6a0022738fb04654ad7d7a06842b0d0c",
        "IPY_MODEL_f3d20bba82c94d728646d25e0299c8be"
       ],
       "layout": "IPY_MODEL_f0d06dfd34214a049f977f81207e0112"
      }
     },
     "1eed1b3cb16b4b2fb4b81d25e3857189": {
      "model_module": "@jupyter-widgets/controls",
      "model_module_version": "1.4.0",
      "model_name": "VBoxModel",
      "state": {
       "children": [
        "IPY_MODEL_1f836218eeac456db22670d6f8f82283"
       ],
       "layout": "IPY_MODEL_704af203fc7948779884b84d5a354046"
      }
     },
     "1eefd634b3cf4e4891542992dce47813": {
      "model_module": "@jupyter-widgets/controls",
      "model_module_version": "1.4.0",
      "model_name": "DescriptionStyleModel",
      "state": {
       "description_width": "initial"
      }
     },
     "1f41928fc8304f008084a6c20c7b16ae": {
      "model_module": "@jupyter-widgets/controls",
      "model_module_version": "1.4.0",
      "model_name": "ButtonStyleModel",
      "state": {}
     },
     "1f426453088e4c528c7f82ffb38da576": {
      "model_module": "@jupyter-widgets/controls",
      "model_module_version": "1.4.0",
      "model_name": "TabModel",
      "state": {
       "_titles": {
        "0": "Done: 18568"
       },
       "children": [
        "IPY_MODEL_279982b8049c43a682f16610986f7881"
       ],
       "layout": "IPY_MODEL_319ebf7d8f894d6c93610084e35ebf68"
      }
     },
     "1f61991ae2764a569a10d32358264d8c": {
      "model_module": "@jupyter-widgets/controls",
      "model_module_version": "1.4.0",
      "model_name": "ProgressStyleModel",
      "state": {
       "description_width": "initial"
      }
     },
     "1f676718e8744b8799a30b67ba0cefda": {
      "model_module": "@jupyter-widgets/controls",
      "model_module_version": "1.4.0",
      "model_name": "FloatProgressModel",
      "state": {
       "bar_style": "info",
       "description": "Progress",
       "layout": "IPY_MODEL_ea85afc4c5aa444d9c52d7e5a87126a5",
       "style": "IPY_MODEL_40b773d3ea9d421c8a7158c791c379fd",
       "value": 100
      }
     },
     "1f70222d86ab4c6f9b24210242967303": {
      "model_module": "@jupyter-widgets/controls",
      "model_module_version": "1.4.0",
      "model_name": "HTMLModel",
      "state": {
       "layout": "IPY_MODEL_6a18fecd8b3141d7b4afa45bc0021e7d",
       "style": "IPY_MODEL_29ea480275354fe0a0246f3100778324"
      }
     },
     "1f710abce64a4cfb9a2bcd4fa77fc524": {
      "model_module": "@jupyter-widgets/base",
      "model_module_version": "1.1.0",
      "model_name": "LayoutModel",
      "state": {}
     },
     "1f836218eeac456db22670d6f8f82283": {
      "model_module": "@jupyter-widgets/controls",
      "model_module_version": "1.4.0",
      "model_name": "VBoxModel",
      "state": {
       "children": [
        "IPY_MODEL_8ec54e92ee914a43a506066fd72ca743",
        "IPY_MODEL_28084b615cc64673a9e6f8028cb6464a"
       ],
       "layout": "IPY_MODEL_60da8f99201c4ed2887f9fa3cd3a0f26"
      }
     },
     "1f846fe3b30a4cdeb36c82f7fc35f04d": {
      "model_module": "@jupyter-widgets/controls",
      "model_module_version": "1.4.0",
      "model_name": "VBoxModel",
      "state": {
       "children": [
        "IPY_MODEL_aeb2bc5138bc4f6fa51ed80d05da8ed1",
        "IPY_MODEL_98fcbf55a56a42739fa0e50321b79a24"
       ],
       "layout": "IPY_MODEL_7dde0d91003248458d37a08ee94ee266"
      }
     },
     "1fc67d8b7483435e8b5aa66badcd4062": {
      "model_module": "@jupyter-widgets/base",
      "model_module_version": "1.1.0",
      "model_name": "LayoutModel",
      "state": {}
     },
     "1fd3f11f304e4b42a96b6a57ac5e0e3f": {
      "model_module": "@jupyter-widgets/controls",
      "model_module_version": "1.4.0",
      "model_name": "LabelModel",
      "state": {
       "layout": "IPY_MODEL_19d1021cde8b4a56b986a08f596542b4",
       "style": "IPY_MODEL_863dcad9d36d4875a3c3b26416ce1d31",
       "value": "Target node"
      }
     },
     "1fe2aaa4e3db4290ae128479be8eb6fd": {
      "model_module": "@jupyter-widgets/controls",
      "model_module_version": "1.4.0",
      "model_name": "VBoxModel",
      "state": {
       "children": [
        "IPY_MODEL_6884607f3f7749fea9406da2797ba668",
        "IPY_MODEL_9253857610fa40a6892a73194fb8cd19"
       ],
       "layout": "IPY_MODEL_69d5a414f921491284fd0f3acd21a57c"
      }
     },
     "1fee9e0665fa45c5808edfd57c912654": {
      "model_module": "@jupyter-widgets/controls",
      "model_module_version": "1.4.0",
      "model_name": "ButtonModel",
      "state": {
       "button_style": "info",
       "description": "Plot results",
       "disabled": true,
       "layout": "IPY_MODEL_fa45cc4bdb9342d89693db9085e1ca57",
       "style": "IPY_MODEL_aa3db057b32146a9b6cd1ac4420eda60"
      }
     },
     "2073e7b180df4ce188eb4fc3ad29e89d": {
      "model_module": "@jupyter-widgets/controls",
      "model_module_version": "1.4.0",
      "model_name": "HTMLModel",
      "state": {
       "layout": "IPY_MODEL_44e210f4de934c89a180d3301df3bb1f",
       "style": "IPY_MODEL_9ac3f80e657e4fa4b90a6b352b543e39"
      }
     },
     "20b56ec60b3641f9b09754668de8b544": {
      "model_module": "@jupyter-widgets/base",
      "model_module_version": "1.1.0",
      "model_name": "LayoutModel",
      "state": {}
     },
     "20b7b4eff86d4416bfe710fb23b0b02d": {
      "model_module": "@jupyter-widgets/base",
      "model_module_version": "1.1.0",
      "model_name": "LayoutModel",
      "state": {
       "align_items": "stretch",
       "border": "",
       "display": "flex",
       "flex_flow": "column",
       "height": "",
       "width": "100%"
      }
     },
     "20c98e414a3e4d2ebc099ab3c5d35456": {
      "model_module": "@jupyter-widgets/controls",
      "model_module_version": "1.4.0",
      "model_name": "HTMLModel",
      "state": {
       "layout": "IPY_MODEL_1778cb7df4a0403098ef9bf9921df2a5",
       "placeholder": "0",
       "style": "IPY_MODEL_703bb03553124d2780f555d816ba1d11",
       "value": "...waiting to start"
      }
     },
     "20ce99864a0847bb87bcbb24e41ba066": {
      "model_module": "@jupyter-widgets/controls",
      "model_module_version": "1.4.0",
      "model_name": "ButtonModel",
      "state": {
       "button_style": "info",
       "description": "Submit",
       "layout": "IPY_MODEL_94cec053c85d4c1c814eb5dbc128c690",
       "style": "IPY_MODEL_ab970b0ea0c44ccb887078cd551b7667"
      }
     },
     "20fcd06583a34c3babe6f898fbed3076": {
      "model_module": "@jupyter-widgets/controls",
      "model_module_version": "1.4.0",
      "model_name": "ProgressStyleModel",
      "state": {
       "description_width": "initial"
      }
     },
     "213e7a46e8f444d68f7ef3146d0f9013": {
      "model_module": "@jupyter-widgets/controls",
      "model_module_version": "1.4.0",
      "model_name": "DescriptionStyleModel",
      "state": {
       "description_width": ""
      }
     },
     "21b354666f034c5eba155c6a3a1b4d5e": {
      "model_module": "@jupyter-widgets/base",
      "model_module_version": "1.1.0",
      "model_name": "LayoutModel",
      "state": {}
     },
     "21f3d7b1941c4124a6dfbf5b2f8f8e1b": {
      "model_module": "@jupyter-widgets/base",
      "model_module_version": "1.1.0",
      "model_name": "LayoutModel",
      "state": {}
     },
     "2229db9b367f4368b6fac7d48769a8f0": {
      "model_module": "@jupyter-widgets/controls",
      "model_module_version": "1.4.0",
      "model_name": "DescriptionStyleModel",
      "state": {
       "description_width": ""
      }
     },
     "222f5e8571934b35aa3a33dca208eb8d": {
      "model_module": "@jupyter-widgets/base",
      "model_module_version": "1.1.0",
      "model_name": "LayoutModel",
      "state": {}
     },
     "228079472e904d589795440f6a222431": {
      "model_module": "@jupyter-widgets/controls",
      "model_module_version": "1.4.0",
      "model_name": "HTMLModel",
      "state": {
       "layout": "IPY_MODEL_3d027f81c56a4974be036fed8d860ad0",
       "style": "IPY_MODEL_655a915fdbd34da297de924aa8203e5d",
       "value": "<table><style type=\"text/css\" scoped>td{ padding:5px; border: 1px solid #9e9e9e; line-height:1.2em;}td:first-child{font-weight:bold;}</style><tbody><tr><td>Target node</td><td>nodes=1:i5-6500te</td></tr><tr><td>Submission command</td><td>qsub test_script.sh  -l nodes=1:i5-6500te -F \"  -r results/\"</td></tr></tbody></table>"
      }
     },
     "229751d2f80a43979ca07350782dd8a0": {
      "model_module": "@jupyter-widgets/controls",
      "model_module_version": "1.4.0",
      "model_name": "VBoxModel",
      "state": {
       "children": [
        "IPY_MODEL_0012085fd39045548ce1cbc0148570d9"
       ],
       "layout": "IPY_MODEL_3bfef1c22db64685991207bfbf546418"
      }
     },
     "22a300b2df6a4311871fe5c867dae795": {
      "model_module": "@jupyter-widgets/base",
      "model_module_version": "1.1.0",
      "model_name": "LayoutModel",
      "state": {}
     },
     "22cc551434cd4c42af19c46fd5ff5c1a": {
      "model_module": "@jupyter-widgets/controls",
      "model_module_version": "1.4.0",
      "model_name": "HTMLModel",
      "state": {
       "layout": "IPY_MODEL_2926cf13cbfe438ab0275b51535ae71f",
       "style": "IPY_MODEL_cf1fe6a14d494857b0842c4d263fff05"
      }
     },
     "22ed800a91304c258fa0aeadef9e5dfc": {
      "model_module": "@jupyter-widgets/controls",
      "model_module_version": "1.4.0",
      "model_name": "ButtonModel",
      "state": {
       "button_style": "info",
       "description": "Display output",
       "disabled": true,
       "layout": "IPY_MODEL_dcf8f2a11f2c43dd828c5866887bb5aa",
       "style": "IPY_MODEL_c61c30f1f0ae443b9c21030abbc81500"
      }
     },
     "2340adf15e6a4eaa89673dcf0edac822": {
      "model_module": "@jupyter-widgets/controls",
      "model_module_version": "1.4.0",
      "model_name": "HBoxModel",
      "state": {
       "children": [
        "IPY_MODEL_9627f8f992cc405491d4b8efa0f7e1ee",
        "IPY_MODEL_e1bf5347e5b54329b51d9b44d3dd70ec",
        "IPY_MODEL_a7ff847436a0434ba362fec2442098ff",
        "IPY_MODEL_a61b9029c8774472ad91f9fe34c2e7fb",
        "IPY_MODEL_c626ab4866a34d29abd34f1795d62500",
        "IPY_MODEL_1114f17c184a49f9ad68e1112a2a7cdd"
       ],
       "layout": "IPY_MODEL_0026bd7ca7594ade9a2baab4b3e24983"
      }
     },
     "2346b01267e94483bd95fd4d75b218c0": {
      "model_module": "@jupyter-widgets/base",
      "model_module_version": "1.1.0",
      "model_name": "LayoutModel",
      "state": {}
     },
     "235f6084d481486789b9fc0ba103f922": {
      "model_module": "@jupyter-widgets/controls",
      "model_module_version": "1.4.0",
      "model_name": "TextModel",
      "state": {
       "layout": "IPY_MODEL_827ccd70b214437fbfede4f5cd5e1ca4",
       "style": "IPY_MODEL_2868d9c41b3c4ba494c45dbb0f486d88",
       "value": "nodes=1:i5-6500te"
      }
     },
     "23937189b1a94282a31d3598cc0fd399": {
      "model_module": "@jupyter-widgets/controls",
      "model_module_version": "1.4.0",
      "model_name": "HTMLModel",
      "state": {
       "layout": "IPY_MODEL_c9400241d3ea480fb122e7a7a99b2977",
       "style": "IPY_MODEL_9702be746a4347158638f27655ed6d97",
       "value": "<span style='color:green'>&#10004;</span> Job submitted, job ID: "
      }
     },
     "24348a99134f42e4bf11b3bbcad8e93d": {
      "model_module": "@jupyter-widgets/controls",
      "model_module_version": "1.4.0",
      "model_name": "DescriptionStyleModel",
      "state": {
       "description_width": ""
      }
     },
     "2444de41c6304f99af28503477e0d751": {
      "model_module": "@jupyter-widgets/base",
      "model_module_version": "1.1.0",
      "model_name": "LayoutModel",
      "state": {}
     },
     "248c370e34db4531b80137fd94b47def": {
      "model_module": "@jupyter-widgets/base",
      "model_module_version": "1.1.0",
      "model_name": "LayoutModel",
      "state": {}
     },
     "24d9ddf6d99b4b94855554a2fd24b166": {
      "model_module": "@jupyter-widgets/base",
      "model_module_version": "1.1.0",
      "model_name": "LayoutModel",
      "state": {}
     },
     "24e5816f90954fbfab0ace7fb454eaf6": {
      "model_module": "@jupyter-widgets/controls",
      "model_module_version": "1.4.0",
      "model_name": "ButtonStyleModel",
      "state": {}
     },
     "24ef70a6cc564e2293c2abdfc1f03d3a": {
      "model_module": "@jupyter-widgets/base",
      "model_module_version": "1.1.0",
      "model_name": "LayoutModel",
      "state": {}
     },
     "24fce67851bf419685f79031387cd3a2": {
      "model_module": "@jupyter-widgets/base",
      "model_module_version": "1.1.0",
      "model_name": "LayoutModel",
      "state": {
       "align_items": "stretch",
       "border": "",
       "display": "flex",
       "flex_flow": "column",
       "height": "",
       "width": "100%"
      }
     },
     "2507d49ca82b405381338df10d248dca": {
      "model_module": "@jupyter-widgets/controls",
      "model_module_version": "1.4.0",
      "model_name": "HTMLModel",
      "state": {
       "layout": "IPY_MODEL_54cb59a90b3e4757a169964ee8ac9a06",
       "placeholder": "",
       "style": "IPY_MODEL_4499757a33cf4581a8e849eb498554b0"
      }
     },
     "250e539ba9bb4e839cefc606ffc7c48a": {
      "model_module": "@jupyter-widgets/controls",
      "model_module_version": "1.4.0",
      "model_name": "HBoxModel",
      "state": {
       "children": [
        "IPY_MODEL_563e42877688488daee9712d2ad60741",
        "IPY_MODEL_984d075264b340d29c044a12ca81df0c",
        "IPY_MODEL_1accc2c48ec243d3bde12bec66666b27",
        "IPY_MODEL_57ec8b377b054ccd919127f0703c050a"
       ],
       "layout": "IPY_MODEL_1c6d905e681c46d09eecbf8a5a8281b4"
      }
     },
     "2519441cad55491da9404d3b2868b59c": {
      "model_module": "@jupyter-widgets/controls",
      "model_module_version": "1.4.0",
      "model_name": "FloatProgressModel",
      "state": {
       "bar_style": "info",
       "layout": "IPY_MODEL_9be25208cf774f1f8683da01225a6bb1",
       "style": "IPY_MODEL_32d96f6642dc41dcbd1ec357e800288d"
      }
     },
     "252340f1fad9426ab7a5026b81f26f41": {
      "model_module": "@jupyter-widgets/controls",
      "model_module_version": "1.4.0",
      "model_name": "TextModel",
      "state": {
       "layout": "IPY_MODEL_8264e710561e4c78a70174e149b40eea",
       "style": "IPY_MODEL_768f97bfa4e84bf4b749b08b34a22dad",
       "value": "nodes=1:i5-6500te"
      }
     },
     "258fcdd890964a65a66f06f527405d55": {
      "model_module": "@jupyter-widgets/controls",
      "model_module_version": "1.4.0",
      "model_name": "DescriptionStyleModel",
      "state": {
       "description_width": ""
      }
     },
     "25c39207b743472e98c9758477f9689c": {
      "model_module": "@jupyter-widgets/controls",
      "model_module_version": "1.4.0",
      "model_name": "VBoxModel",
      "state": {
       "children": [
        "IPY_MODEL_0ce668e5db014110a25e03d6bc9c3344",
        "IPY_MODEL_71905b41122a4874affda25f45f5461f"
       ],
       "layout": "IPY_MODEL_31dba3b365fc4b6d880d494d7ed83465"
      }
     },
     "25e78274b4da411492ca041ab0099195": {
      "model_module": "@jupyter-widgets/base",
      "model_module_version": "1.1.0",
      "model_name": "LayoutModel",
      "state": {}
     },
     "25fac9eaf74a4829a3c396314d9c3df1": {
      "model_module": "@jupyter-widgets/controls",
      "model_module_version": "1.4.0",
      "model_name": "HTMLModel",
      "state": {
       "layout": "IPY_MODEL_11f5f7ae3aad4ed8a434230bc1c7cd90",
       "placeholder": "0",
       "style": "IPY_MODEL_8e5c60fe44994ebebcdd2637028ac513"
      }
     },
     "2626a5bf66564d9ea24ee702c4ee3129": {
      "model_module": "@jupyter-widgets/controls",
      "model_module_version": "1.4.0",
      "model_name": "TabModel",
      "state": {
       "layout": "IPY_MODEL_f53b0518a94545f0b3b748e92ca9e85a"
      }
     },
     "2649c39d55cc42ba8857f0787dafeef1": {
      "model_module": "@jupyter-widgets/base",
      "model_module_version": "1.1.0",
      "model_name": "LayoutModel",
      "state": {}
     },
     "270b334d88b744edb3044c186970bf05": {
      "model_module": "@jupyter-widgets/controls",
      "model_module_version": "1.4.0",
      "model_name": "ProgressStyleModel",
      "state": {
       "description_width": "initial"
      }
     },
     "270f56fc5d564485bb76ab121fb21375": {
      "model_module": "@jupyter-widgets/base",
      "model_module_version": "1.1.0",
      "model_name": "LayoutModel",
      "state": {}
     },
     "2718c95a0b694a97aab7fa6f0e04500a": {
      "model_module": "@jupyter-widgets/controls",
      "model_module_version": "1.4.0",
      "model_name": "DescriptionStyleModel",
      "state": {
       "description_width": ""
      }
     },
     "2719af76542a41738bed2f421c4bf416": {
      "model_module": "@jupyter-widgets/controls",
      "model_module_version": "1.4.0",
      "model_name": "ButtonStyleModel",
      "state": {}
     },
     "279982b8049c43a682f16610986f7881": {
      "model_module": "@jupyter-widgets/controls",
      "model_module_version": "1.4.0",
      "model_name": "HBoxModel",
      "state": {
       "children": [
        "IPY_MODEL_441d3fdf0679485f9a5ad0bd627c3c20",
        "IPY_MODEL_2ffdb744e29e4b459b9841a8dc9d4ecd",
        "IPY_MODEL_c2d2535f846b4a00bbeac9fdf21488cb",
        "IPY_MODEL_4bb609b161bd40538f98736f301ecae6",
        "IPY_MODEL_14c381ece6c94d2eb17e185a269773f1",
        "IPY_MODEL_ab83695f05bf491fa50c04dc7006bdd2"
       ],
       "layout": "IPY_MODEL_6b8c8e8d82fc43eca3c488f806bf20b1"
      }
     },
     "27a73931ef5f4950953a119924f8267c": {
      "model_module": "@jupyter-widgets/base",
      "model_module_version": "1.1.0",
      "model_name": "LayoutModel",
      "state": {}
     },
     "27aba8e7f86e4150bdfdcdce4814effc": {
      "model_module": "@jupyter-widgets/controls",
      "model_module_version": "1.4.0",
      "model_name": "VBoxModel",
      "state": {
       "children": [
        "IPY_MODEL_3a8b62413f894efeabbd58c9cc559c14",
        "IPY_MODEL_bcfe2c67e20c4c1aa5974e8b6085b64b",
        "IPY_MODEL_bbe5bc883d46477b939d7c301978bf54"
       ],
       "layout": "IPY_MODEL_4c5db37e2fcb4ccea40c6caa2a62f37c"
      }
     },
     "27bc4c80e685400098ca60efbbb4780a": {
      "model_module": "@jupyter-widgets/controls",
      "model_module_version": "1.4.0",
      "model_name": "ButtonModel",
      "state": {
       "button_style": "info",
       "description": "Submit",
       "layout": "IPY_MODEL_eac9d7ce308d4e229aaf32cae6614d1b",
       "style": "IPY_MODEL_bf2161d125b14952b72207afe389bb42"
      }
     },
     "27c3cfe6e25840859687cca90af59667": {
      "model_module": "@jupyter-widgets/controls",
      "model_module_version": "1.4.0",
      "model_name": "HTMLModel",
      "state": {
       "layout": "IPY_MODEL_7c8df22a443a4439a58ee99a24044ae0",
       "style": "IPY_MODEL_eab921ad62fc4cb8be071909b106431e",
       "value": "<table><style type=\"text/css\" scoped>td{ padding:5px; border: 1px solid #9e9e9e; line-height:1.2em;}td:first-child{font-weight:bold;}</style><tbody><tr><td>Target node</td><td>nodes=1:i5-6500te</td></tr><tr><td>Submission command</td><td>qsub test_script.sh  -l nodes=1:i5-6500te -F \"  -r results/\"</td></tr></tbody></table>"
      }
     },
     "27de32a39af54565a71fd2e9df9a5708": {
      "model_module": "@jupyter-widgets/controls",
      "model_module_version": "1.4.0",
      "model_name": "VBoxModel",
      "state": {
       "children": [
        "IPY_MODEL_36c03c7eb05745ca830e9a41fe9b8a92",
        "IPY_MODEL_3d54e6fd27ff4c2096b327d09e0e2d04"
       ],
       "layout": "IPY_MODEL_1143c82d0ef445369f2515afe6704599"
      }
     },
     "28068d2f4ab84cc9bf0744122577041c": {
      "model_module": "@jupyter-widgets/base",
      "model_module_version": "1.1.0",
      "model_name": "LayoutModel",
      "state": {}
     },
     "28084b615cc64673a9e6f8028cb6464a": {
      "model_module": "@jupyter-widgets/controls",
      "model_module_version": "1.4.0",
      "model_name": "TextModel",
      "state": {
       "layout": "IPY_MODEL_caa7cd5662ff49bc97ffe011bd319786",
       "style": "IPY_MODEL_cb269822332347fbaef64a3b547e1953",
       "value": "nodes=1:i5-6500te"
      }
     },
     "2810f3c47f9749e3bef08e5a6240e8d8": {
      "model_module": "@jupyter-widgets/controls",
      "model_module_version": "1.4.0",
      "model_name": "FloatProgressModel",
      "state": {
       "bar_style": "info",
       "layout": "IPY_MODEL_6ae6770161a240489236af9347f14c58",
       "style": "IPY_MODEL_1157e6e2c52b45d3918ef00088abbfba"
      }
     },
     "283d5082c2794122a26f2e035079b9b9": {
      "model_module": "@jupyter-widgets/controls",
      "model_module_version": "1.4.0",
      "model_name": "DescriptionStyleModel",
      "state": {
       "description_width": "initial"
      }
     },
     "2868d9c41b3c4ba494c45dbb0f486d88": {
      "model_module": "@jupyter-widgets/controls",
      "model_module_version": "1.4.0",
      "model_name": "DescriptionStyleModel",
      "state": {
       "description_width": ""
      }
     },
     "28713e8e947c40289db6deccfb853c68": {
      "model_module": "@jupyter-widgets/base",
      "model_module_version": "1.1.0",
      "model_name": "LayoutModel",
      "state": {}
     },
     "2882345fd53f443ab312f680fed1606f": {
      "model_module": "@jupyter-widgets/controls",
      "model_module_version": "1.4.0",
      "model_name": "ProgressStyleModel",
      "state": {
       "description_width": "initial"
      }
     },
     "28a38d097bc14391a2b8157e1d117782": {
      "model_module": "@jupyter-widgets/base",
      "model_module_version": "1.1.0",
      "model_name": "LayoutModel",
      "state": {
       "width": "100%"
      }
     },
     "28a9646967164a9bab8dc348c1c5cacf": {
      "model_module": "@jupyter-widgets/controls",
      "model_module_version": "1.4.0",
      "model_name": "DescriptionStyleModel",
      "state": {
       "description_width": ""
      }
     },
     "28ae66cdd43d4d428b6fe52085c1238e": {
      "model_module": "@jupyter-widgets/base",
      "model_module_version": "1.1.0",
      "model_name": "LayoutModel",
      "state": {}
     },
     "28c88ef44afa4722be7993dcf6f6a042": {
      "model_module": "@jupyter-widgets/base",
      "model_module_version": "1.1.0",
      "model_name": "LayoutModel",
      "state": {}
     },
     "28db8ff06e20436e8e9f0f64d8d2dd8f": {
      "model_module": "@jupyter-widgets/controls",
      "model_module_version": "1.4.0",
      "model_name": "ButtonModel",
      "state": {
       "button_style": "info",
       "description": "Submit",
       "layout": "IPY_MODEL_c73ea145fe2d4146bc2fbff14601951d",
       "style": "IPY_MODEL_d51b4cb49c2b482fa9e10fa80d74f4e8"
      }
     },
     "28f7f0eac3f64122ac84f0e58ba42c3b": {
      "model_module": "@jupyter-widgets/base",
      "model_module_version": "1.1.0",
      "model_name": "LayoutModel",
      "state": {}
     },
     "2906c48b2c1a4fcc8e4dba75521472e2": {
      "model_module": "@jupyter-widgets/controls",
      "model_module_version": "1.4.0",
      "model_name": "HTMLModel",
      "state": {
       "layout": "IPY_MODEL_fed82f3ed7284d809e149697d1927e6a",
       "style": "IPY_MODEL_4faeb3b135744e31bac0979c05528c0f"
      }
     },
     "2926cf13cbfe438ab0275b51535ae71f": {
      "model_module": "@jupyter-widgets/base",
      "model_module_version": "1.1.0",
      "model_name": "LayoutModel",
      "state": {}
     },
     "2981555da4aa4cfbb3c10e55ba699d76": {
      "model_module": "@jupyter-widgets/controls",
      "model_module_version": "1.4.0",
      "model_name": "HTMLModel",
      "state": {
       "layout": "IPY_MODEL_a533443929954379a2b5f65bc3937aa0",
       "style": "IPY_MODEL_6986b895fce64ff18955180fa8db64e2",
       "value": "<table><style type=\"text/css\" scoped>td{ padding:5px; border: 1px solid #9e9e9e; line-height:1.2em;}td:first-child{font-weight:bold;}</style><tbody><tr><td>Target node</td><td>nodes=1:i5-6500te</td></tr><tr><td>Submission command</td><td>qsub test_script.sh  -l nodes=1:i5-6500te -F \"  -r results/\"</td></tr></tbody></table>"
      }
     },
     "299b7adc934b497992ca389f5b2dd0d9": {
      "model_module": "@jupyter-widgets/base",
      "model_module_version": "1.1.0",
      "model_name": "LayoutModel",
      "state": {}
     },
     "29ea480275354fe0a0246f3100778324": {
      "model_module": "@jupyter-widgets/controls",
      "model_module_version": "1.4.0",
      "model_name": "DescriptionStyleModel",
      "state": {
       "description_width": ""
      }
     },
     "29fe2e35393845a98e8f4c2b4ba7c001": {
      "model_module": "@jupyter-widgets/controls",
      "model_module_version": "1.4.0",
      "model_name": "LabelModel",
      "state": {
       "layout": "IPY_MODEL_c8372c53b7ca4d6e8d017a0cae4884bb",
       "style": "IPY_MODEL_c1ba145e4cd54d89ba398c9610adcc4f",
       "value": "Target node"
      }
     },
     "2a0802d785cc4e668e7fbeec8c12b215": {
      "model_module": "@jupyter-widgets/controls",
      "model_module_version": "1.4.0",
      "model_name": "HTMLModel",
      "state": {
       "layout": "IPY_MODEL_84286a74e1074ffa8eb48f088e91ad0a",
       "style": "IPY_MODEL_24348a99134f42e4bf11b3bbcad8e93d",
       "value": "<table><style type=\"text/css\" scoped>td{ padding:5px; border: 1px solid #9e9e9e; line-height:1.2em;}td:first-child{font-weight:bold;}</style><tbody><tr><td>Target node</td><td>nodes=1:i5-6500te</td></tr><tr><td>Submission command</td><td>qsub test_script.sh  -l nodes=1:i5-6500te -F \"  -r results/\"</td></tr></tbody></table>"
      }
     },
     "2a11c954dc3a4d398491e8d828d45ecf": {
      "model_module": "@jupyter-widgets/base",
      "model_module_version": "1.1.0",
      "model_name": "LayoutModel",
      "state": {}
     },
     "2a2ea620a2d247779eec42c531dbdfe5": {
      "model_module": "@jupyter-widgets/controls",
      "model_module_version": "1.4.0",
      "model_name": "ButtonModel",
      "state": {
       "button_style": "info",
       "description": "Submit",
       "layout": "IPY_MODEL_ccb0f259bb0e4a99a95eddb605ba0334",
       "style": "IPY_MODEL_2d6513d25e9f4d609d1de457f968a42c"
      }
     },
     "2a49f696d8e14bd49b5474b4fc75156d": {
      "model_module": "@jupyter-widgets/controls",
      "model_module_version": "1.4.0",
      "model_name": "HTMLModel",
      "state": {
       "layout": "IPY_MODEL_8650c53714b1477694f31f11e68b6ad2",
       "placeholder": "",
       "style": "IPY_MODEL_bb698d9f4e8141648cc795bffa83a32e",
       "value": "...waiting to start"
      }
     },
     "2a59f671174046919098d50dad9b2537": {
      "model_module": "@jupyter-widgets/base",
      "model_module_version": "1.1.0",
      "model_name": "LayoutModel",
      "state": {}
     },
     "2a5c91f3e1d54025a6dfb7965bcee0bd": {
      "model_module": "@jupyter-widgets/controls",
      "model_module_version": "1.4.0",
      "model_name": "DescriptionStyleModel",
      "state": {
       "description_width": ""
      }
     },
     "2a6f9f0cb32747e091eb0aa7ee637fcf": {
      "model_module": "@jupyter-widgets/base",
      "model_module_version": "1.1.0",
      "model_name": "LayoutModel",
      "state": {}
     },
     "2a9edd13f9004b4abc30933689d67e78": {
      "model_module": "@jupyter-widgets/base",
      "model_module_version": "1.1.0",
      "model_name": "LayoutModel",
      "state": {}
     },
     "2ab94794acb44ddf920d24b6d050e508": {
      "model_module": "@jupyter-widgets/base",
      "model_module_version": "1.1.0",
      "model_name": "LayoutModel",
      "state": {}
     },
     "2ae12f6d4c3448629364b2d08c97d51b": {
      "model_module": "@jupyter-widgets/controls",
      "model_module_version": "1.4.0",
      "model_name": "VBoxModel",
      "state": {
       "children": [
        "IPY_MODEL_78ff6f3316be4193b19d6cea1ca614ec"
       ],
       "layout": "IPY_MODEL_bc3303eb1b134b9686dd234058f9304a"
      }
     },
     "2afa25b0ec6340bc8c6a14a0dff96c5b": {
      "model_module": "@jupyter-widgets/base",
      "model_module_version": "1.1.0",
      "model_name": "LayoutModel",
      "state": {}
     },
     "2b12b962b3e04df29f59f8f09f909820": {
      "model_module": "@jupyter-widgets/controls",
      "model_module_version": "1.4.0",
      "model_name": "ButtonStyleModel",
      "state": {}
     },
     "2b70b726bb2c4d01abace2f6ac6e611d": {
      "model_module": "@jupyter-widgets/controls",
      "model_module_version": "1.4.0",
      "model_name": "ButtonModel",
      "state": {
       "button_style": "info",
       "description": "Plot results",
       "disabled": true,
       "layout": "IPY_MODEL_9691934024d54cd493ddb0f437408f98",
       "style": "IPY_MODEL_b5beb6e871a541419cdaccfe751ecda5"
      }
     },
     "2bb7764dd2aa4d1d98b9d5c9dd8a69cd": {
      "model_module": "@jupyter-widgets/controls",
      "model_module_version": "1.4.0",
      "model_name": "DescriptionStyleModel",
      "state": {
       "description_width": ""
      }
     },
     "2bb8967877034ac0ab7489cacdb649c9": {
      "model_module": "@jupyter-widgets/controls",
      "model_module_version": "1.4.0",
      "model_name": "VBoxModel",
      "state": {
       "children": [
        "IPY_MODEL_2c3614b742874b7cb9fda8c33a4023fa"
       ],
       "layout": "IPY_MODEL_692e20b989014299a852b8e681103e6f"
      }
     },
     "2bd1d4b1e4424195a700febcf1b2714c": {
      "model_module": "@jupyter-widgets/controls",
      "model_module_version": "1.4.0",
      "model_name": "ButtonModel",
      "state": {
       "button_style": "info",
       "description": "Plot results",
       "disabled": true,
       "layout": "IPY_MODEL_24ef70a6cc564e2293c2abdfc1f03d3a",
       "style": "IPY_MODEL_8751147cad064ef08e40eed93bd2dcfa"
      }
     },
     "2be636952cca4f66a3cf8135d09cc38d": {
      "model_module": "@jupyter-widgets/controls",
      "model_module_version": "1.4.0",
      "model_name": "LabelModel",
      "state": {
       "layout": "IPY_MODEL_c037f056a01c41c0b3a45174078a223c",
       "style": "IPY_MODEL_38c00663e636445f8f4767df28499a3e",
       "value": "Target node"
      }
     },
     "2bef86858a3840f295f5d0929c7d6693": {
      "model_module": "@jupyter-widgets/controls",
      "model_module_version": "1.4.0",
      "model_name": "HTMLModel",
      "state": {
       "layout": "IPY_MODEL_8e32af88d685455a9bd93e2831af0900",
       "style": "IPY_MODEL_8393cec88efe40f6a71da960e6b4660f",
       "value": "<table><style type=\"text/css\" scoped>td{ padding:5px; border: 1px solid #9e9e9e; line-height:1.2em;}td:first-child{font-weight:bold;}</style><tbody><tr><td>Target node</td><td>nodes=1:i5-6500te</td></tr><tr><td>Submission command</td><td>qsub test_script.sh  -l nodes=1:i5-6500te -F \"  -r results/\"</td></tr></tbody></table>"
      }
     },
     "2c005711efde4531bda856ce5a818a96": {
      "model_module": "@jupyter-widgets/controls",
      "model_module_version": "1.4.0",
      "model_name": "TextModel",
      "state": {
       "layout": "IPY_MODEL_e7463bbe855d466ba9c7f1e444bfda2e",
       "style": "IPY_MODEL_2bb7764dd2aa4d1d98b9d5c9dd8a69cd",
       "value": "nodes=1:i5-6500te"
      }
     },
     "2c2f00ba55ae4fd590521977ebba64de": {
      "model_module": "@jupyter-widgets/base",
      "model_module_version": "1.1.0",
      "model_name": "LayoutModel",
      "state": {}
     },
     "2c3614b742874b7cb9fda8c33a4023fa": {
      "model_module": "@jupyter-widgets/controls",
      "model_module_version": "1.4.0",
      "model_name": "VBoxModel",
      "state": {
       "children": [
        "IPY_MODEL_ad825253925a4f879fad8fd32c7fbf5b",
        "IPY_MODEL_70c3371b39454c6ca003f2938d688304"
       ],
       "layout": "IPY_MODEL_b2a42efb03fc402a9d245b0aadf33859"
      }
     },
     "2c974835844e4d8ea0ff9152c6fbbf45": {
      "model_module": "@jupyter-widgets/controls",
      "model_module_version": "1.4.0",
      "model_name": "DescriptionStyleModel",
      "state": {
       "description_width": ""
      }
     },
     "2c9b0abfd9f8482f9bb1b5613286f7c5": {
      "model_module": "@jupyter-widgets/controls",
      "model_module_version": "1.4.0",
      "model_name": "DescriptionStyleModel",
      "state": {
       "description_width": "initial"
      }
     },
     "2cc76918d53849da94c9b219882dbb51": {
      "model_module": "@jupyter-widgets/controls",
      "model_module_version": "1.4.0",
      "model_name": "DescriptionStyleModel",
      "state": {
       "description_width": ""
      }
     },
     "2cdcb5ffcb3b463e91680b0e43d7489a": {
      "model_module": "@jupyter-widgets/controls",
      "model_module_version": "1.4.0",
      "model_name": "ButtonModel",
      "state": {
       "button_style": "info",
       "description": "Submit",
       "layout": "IPY_MODEL_3ab44ca3dee14c60aa50d75050001f07",
       "style": "IPY_MODEL_977026a12fc04d4e8785c58d9e3ca7f9"
      }
     },
     "2d033798f73a41bba66596734246279b": {
      "model_module": "@jupyter-widgets/output",
      "model_module_version": "1.0.0",
      "model_name": "OutputModel",
      "state": {
       "layout": "IPY_MODEL_7583988626be4ee9b206e95027035db1"
      }
     },
     "2d0ec43f91904ae596d0239a1da857c7": {
      "model_module": "@jupyter-widgets/base",
      "model_module_version": "1.1.0",
      "model_name": "LayoutModel",
      "state": {}
     },
     "2d4c81c4937645f8bfc6248eb672181b": {
      "model_module": "@jupyter-widgets/base",
      "model_module_version": "1.1.0",
      "model_name": "LayoutModel",
      "state": {}
     },
     "2d5d36352df04b3598f7cea66c73c887": {
      "model_module": "@jupyter-widgets/controls",
      "model_module_version": "1.4.0",
      "model_name": "HTMLModel",
      "state": {
       "layout": "IPY_MODEL_0958dc358da04da79da1d2dcf7ce139c",
       "placeholder": "0",
       "style": "IPY_MODEL_35d8692b28ac43269ed14c7b5feb1abd"
      }
     },
     "2d6513d25e9f4d609d1de457f968a42c": {
      "model_module": "@jupyter-widgets/controls",
      "model_module_version": "1.4.0",
      "model_name": "ButtonStyleModel",
      "state": {}
     },
     "2da9dcf27bfe46e8973c1745d1946e9b": {
      "model_module": "@jupyter-widgets/base",
      "model_module_version": "1.1.0",
      "model_name": "LayoutModel",
      "state": {}
     },
     "2dd7557108884ea687f9e84ebcad4f4b": {
      "model_module": "@jupyter-widgets/controls",
      "model_module_version": "1.4.0",
      "model_name": "VBoxModel",
      "state": {
       "children": [
        "IPY_MODEL_cd48c9e84c7c4b558491b6b3411e80ed"
       ],
       "layout": "IPY_MODEL_90d55964c5c14762885fc55b85727a2f"
      }
     },
     "2dd860f3ef044d0dae9af2abfce3e16c": {
      "model_module": "@jupyter-widgets/controls",
      "model_module_version": "1.4.0",
      "model_name": "ButtonModel",
      "state": {
       "button_style": "info",
       "description": "Display output",
       "layout": "IPY_MODEL_4e87135a66ed43c19413be718b83c1a0",
       "style": "IPY_MODEL_17231c86a504411a8f44e0c8eeb127a9"
      }
     },
     "2de90841fd334318b7f61e0d282a68fe": {
      "model_module": "@jupyter-widgets/controls",
      "model_module_version": "1.4.0",
      "model_name": "VBoxModel",
      "state": {
       "children": [
        "IPY_MODEL_25c39207b743472e98c9758477f9689c"
       ],
       "layout": "IPY_MODEL_057fb7c44c3d4fd0a7a59d7dc2af594c"
      }
     },
     "2dfd712021414176a17a1d05ce273c85": {
      "model_module": "@jupyter-widgets/base",
      "model_module_version": "1.1.0",
      "model_name": "LayoutModel",
      "state": {}
     },
     "2e1925f874274ac381aabd66eeba840f": {
      "model_module": "@jupyter-widgets/base",
      "model_module_version": "1.1.0",
      "model_name": "LayoutModel",
      "state": {}
     },
     "2e9295ea057944fa84604e30b3c0fc40": {
      "model_module": "@jupyter-widgets/base",
      "model_module_version": "1.1.0",
      "model_name": "LayoutModel",
      "state": {
       "align_items": "stretch",
       "border": "ridge",
       "display": "flex",
       "flex_flow": "column",
       "height": "",
       "width": "100%"
      }
     },
     "2ea657a9d449436eaa6d94aa7372b8d8": {
      "model_module": "@jupyter-widgets/controls",
      "model_module_version": "1.4.0",
      "model_name": "HTMLModel",
      "state": {
       "layout": "IPY_MODEL_9cda3211c70247cf8c13fec60379dc9d",
       "placeholder": "",
       "style": "IPY_MODEL_b5f7d963c5a641558d1daa44559cf82a"
      }
     },
     "2ed3cd35252244dcaa48f4ec73bdbb39": {
      "model_module": "@jupyter-widgets/base",
      "model_module_version": "1.1.0",
      "model_name": "LayoutModel",
      "state": {}
     },
     "2ed42f823f224ce79fbceab9d6e2a3db": {
      "model_module": "@jupyter-widgets/controls",
      "model_module_version": "1.4.0",
      "model_name": "ButtonModel",
      "state": {
       "button_style": "info",
       "description": "Display output",
       "layout": "IPY_MODEL_0ddcc6579c4d477cafb1e2f390bbfea2",
       "style": "IPY_MODEL_98df6e378e584a5db71f6467a2405382"
      }
     },
     "2ef37a02c08943aab460af75b8594bdf": {
      "model_module": "@jupyter-widgets/controls",
      "model_module_version": "1.4.0",
      "model_name": "DescriptionStyleModel",
      "state": {
       "description_width": ""
      }
     },
     "2efdbf1836e945f7bec315c35346d5f1": {
      "model_module": "@jupyter-widgets/controls",
      "model_module_version": "1.4.0",
      "model_name": "TextModel",
      "state": {
       "layout": "IPY_MODEL_bb7f6ca65dea4d9bbeec3f20777e4075",
       "style": "IPY_MODEL_6d7972e4c2ad4c509dba8adb88389925",
       "value": "nodes=1:i5-6500te"
      }
     },
     "2f100b67d0034f928e3772a3648b13fd": {
      "model_module": "@jupyter-widgets/controls",
      "model_module_version": "1.4.0",
      "model_name": "VBoxModel",
      "state": {
       "children": [
        "IPY_MODEL_18a00b737289457c8bc1b8a39d863b63"
       ],
       "layout": "IPY_MODEL_580f57690ed0410b919e4c46486f73fd"
      }
     },
     "2f73914273214e64a53fa08aad51ef07": {
      "model_module": "@jupyter-widgets/controls",
      "model_module_version": "1.4.0",
      "model_name": "DescriptionStyleModel",
      "state": {
       "description_width": ""
      }
     },
     "2fba1841091e436fb4ecf5974a30fd6b": {
      "model_module": "@jupyter-widgets/base",
      "model_module_version": "1.1.0",
      "model_name": "LayoutModel",
      "state": {}
     },
     "2fd887676a074944874a5ecda1ae7915": {
      "model_module": "@jupyter-widgets/controls",
      "model_module_version": "1.4.0",
      "model_name": "ButtonStyleModel",
      "state": {}
     },
     "2ffdb744e29e4b459b9841a8dc9d4ecd": {
      "model_module": "@jupyter-widgets/controls",
      "model_module_version": "1.4.0",
      "model_name": "FloatProgressModel",
      "state": {
       "bar_style": "info",
       "description": "Progress",
       "layout": "IPY_MODEL_4724589ba60d43488611bf2e18fd957a",
       "style": "IPY_MODEL_7561834524504d34a2e8151357afa3d1",
       "value": 100
      }
     },
     "300240ecf0c44eafac5c59b7da6c73eb": {
      "model_module": "@jupyter-widgets/controls",
      "model_module_version": "1.4.0",
      "model_name": "ButtonStyleModel",
      "state": {}
     },
     "30133cf4027941ce931d054091edf266": {
      "model_module": "@jupyter-widgets/controls",
      "model_module_version": "1.4.0",
      "model_name": "DescriptionStyleModel",
      "state": {
       "description_width": "initial"
      }
     },
     "3016c2cb21ac418cac753157473ee70b": {
      "model_module": "@jupyter-widgets/controls",
      "model_module_version": "1.4.0",
      "model_name": "DescriptionStyleModel",
      "state": {
       "description_width": ""
      }
     },
     "303c8a55ae2e42ba848088d2f41c959a": {
      "model_module": "@jupyter-widgets/base",
      "model_module_version": "1.1.0",
      "model_name": "LayoutModel",
      "state": {}
     },
     "30b16c53c97e41eb9c88b30ffdd1c6da": {
      "model_module": "@jupyter-widgets/controls",
      "model_module_version": "1.4.0",
      "model_name": "DescriptionStyleModel",
      "state": {
       "description_width": ""
      }
     },
     "3105f74fdb004a6db0fb2ee04044ce04": {
      "model_module": "@jupyter-widgets/base",
      "model_module_version": "1.1.0",
      "model_name": "LayoutModel",
      "state": {}
     },
     "3153aa45d48e431b859fbe4c762dd5b5": {
      "model_module": "@jupyter-widgets/controls",
      "model_module_version": "1.4.0",
      "model_name": "HBoxModel",
      "state": {
       "children": [
        "IPY_MODEL_ec89ffed59014f57a564012ba870e5f1",
        "IPY_MODEL_fb27c5411568444f90459aa9767198d3",
        "IPY_MODEL_8c21be7c83dc403cabe4f6c5f8951d4d",
        "IPY_MODEL_4e624ea9868d439fb6a5dc0f27766140",
        "IPY_MODEL_b33f383ce74945c69f3c0541c602f853",
        "IPY_MODEL_03679b81011c476b8f673f4d708335e4"
       ],
       "layout": "IPY_MODEL_82a79e437ee546ce9e1e38b8c4e72f29"
      }
     },
     "316033e81a9247aaae645c0bd6e00d3b": {
      "model_module": "@jupyter-widgets/controls",
      "model_module_version": "1.4.0",
      "model_name": "HTMLModel",
      "state": {
       "layout": "IPY_MODEL_7e8dee5edd4544afad8a9fa39a32a413",
       "style": "IPY_MODEL_5a55e9a5ff6545c78bf7238eadce1717"
      }
     },
     "319ebf7d8f894d6c93610084e35ebf68": {
      "model_module": "@jupyter-widgets/base",
      "model_module_version": "1.1.0",
      "model_name": "LayoutModel",
      "state": {}
     },
     "31bd76409b724ccb99c2e30b30d0fbb8": {
      "model_module": "@jupyter-widgets/base",
      "model_module_version": "1.1.0",
      "model_name": "LayoutModel",
      "state": {}
     },
     "31c09d938f3f4c41b831a9617c1ff2a7": {
      "model_module": "@jupyter-widgets/base",
      "model_module_version": "1.1.0",
      "model_name": "LayoutModel",
      "state": {}
     },
     "31c5a9335a2344ae86355d9b3ae818eb": {
      "model_module": "@jupyter-widgets/base",
      "model_module_version": "1.1.0",
      "model_name": "LayoutModel",
      "state": {}
     },
     "31ca1feba1d04101ba32e1409679b5c5": {
      "model_module": "@jupyter-widgets/base",
      "model_module_version": "1.1.0",
      "model_name": "LayoutModel",
      "state": {}
     },
     "31dba3b365fc4b6d880d494d7ed83465": {
      "model_module": "@jupyter-widgets/base",
      "model_module_version": "1.1.0",
      "model_name": "LayoutModel",
      "state": {}
     },
     "31eca8219a1146458e65e87ad165be46": {
      "model_module": "@jupyter-widgets/base",
      "model_module_version": "1.1.0",
      "model_name": "LayoutModel",
      "state": {
       "align_items": "stretch",
       "border": "ridge",
       "display": "flex",
       "flex_flow": "column",
       "height": "",
       "width": "100%"
      }
     },
     "31f70f039dd04bc28578aa079a866001": {
      "model_module": "@jupyter-widgets/controls",
      "model_module_version": "1.4.0",
      "model_name": "DescriptionStyleModel",
      "state": {
       "description_width": "initial"
      }
     },
     "320737ddf35a4c32b101a840f881373d": {
      "model_module": "@jupyter-widgets/controls",
      "model_module_version": "1.4.0",
      "model_name": "DescriptionStyleModel",
      "state": {
       "description_width": ""
      }
     },
     "3231a74cb1a44db38fead31e636c2e76": {
      "model_module": "@jupyter-widgets/controls",
      "model_module_version": "1.4.0",
      "model_name": "HTMLModel",
      "state": {
       "layout": "IPY_MODEL_f838c0f678e040fc8fd3cee55d5a71b0",
       "placeholder": "",
       "style": "IPY_MODEL_4c61453163b94611a3c3a525b542c36c"
      }
     },
     "325d208e55c24d72a999efe61e6217fb": {
      "model_module": "@jupyter-widgets/output",
      "model_module_version": "1.0.0",
      "model_name": "OutputModel",
      "state": {
       "layout": "IPY_MODEL_6c8673a1f52842af8bb0c7186bc15ec3"
      }
     },
     "326b27dda7d14652a42552417728fcaa": {
      "model_module": "@jupyter-widgets/base",
      "model_module_version": "1.1.0",
      "model_name": "LayoutModel",
      "state": {
       "width": "100%"
      }
     },
     "32be8472f4694080969fdba0099f6374": {
      "model_module": "@jupyter-widgets/controls",
      "model_module_version": "1.4.0",
      "model_name": "ButtonStyleModel",
      "state": {}
     },
     "32d96f6642dc41dcbd1ec357e800288d": {
      "model_module": "@jupyter-widgets/controls",
      "model_module_version": "1.4.0",
      "model_name": "ProgressStyleModel",
      "state": {
       "description_width": "initial"
      }
     },
     "331609c0cb43462384cf824015c25b4c": {
      "model_module": "@jupyter-widgets/base",
      "model_module_version": "1.1.0",
      "model_name": "LayoutModel",
      "state": {}
     },
     "333d77d13ab340d2b66efb2464a603b7": {
      "model_module": "@jupyter-widgets/controls",
      "model_module_version": "1.4.0",
      "model_name": "DescriptionStyleModel",
      "state": {
       "description_width": "initial"
      }
     },
     "334c3c9eca5d4efe9c628d60efbc7e2c": {
      "model_module": "@jupyter-widgets/base",
      "model_module_version": "1.1.0",
      "model_name": "LayoutModel",
      "state": {}
     },
     "3358eddae4bc4434a995273a0179d1a3": {
      "model_module": "@jupyter-widgets/base",
      "model_module_version": "1.1.0",
      "model_name": "LayoutModel",
      "state": {}
     },
     "335c686f01974a6eab6296d4dc01d682": {
      "model_module": "@jupyter-widgets/base",
      "model_module_version": "1.1.0",
      "model_name": "LayoutModel",
      "state": {}
     },
     "337ff3da0964415a9268d22c5a12ffcc": {
      "model_module": "@jupyter-widgets/base",
      "model_module_version": "1.1.0",
      "model_name": "LayoutModel",
      "state": {}
     },
     "3381df2d0c494b5d95bd631f6749d635": {
      "model_module": "@jupyter-widgets/base",
      "model_module_version": "1.1.0",
      "model_name": "LayoutModel",
      "state": {
       "align_items": "stretch",
       "border": "ridge",
       "display": "flex",
       "flex_flow": "column",
       "height": "",
       "width": "100%"
      }
     },
     "338a5566d0214bb9acd2dc113fc78416": {
      "model_module": "@jupyter-widgets/controls",
      "model_module_version": "1.4.0",
      "model_name": "VBoxModel",
      "state": {
       "children": [
        "IPY_MODEL_67950bfef29446698874f379cd1d4a11",
        "IPY_MODEL_406696af15234e48a40772605b590b27"
       ],
       "layout": "IPY_MODEL_3a6cdd9b50e74dbcbe6fa0d8981017ea"
      }
     },
     "34d6b45ede14459196b6be256acd3679": {
      "model_module": "@jupyter-widgets/base",
      "model_module_version": "1.1.0",
      "model_name": "LayoutModel",
      "state": {}
     },
     "34d7d03ec86945cb811d4bc60717d77b": {
      "model_module": "@jupyter-widgets/base",
      "model_module_version": "1.1.0",
      "model_name": "LayoutModel",
      "state": {}
     },
     "34eb8d1d03b44be9af32551d330c1540": {
      "model_module": "@jupyter-widgets/base",
      "model_module_version": "1.1.0",
      "model_name": "LayoutModel",
      "state": {}
     },
     "34f2e837fdf44b3bb357d4e8355d7c0f": {
      "model_module": "@jupyter-widgets/base",
      "model_module_version": "1.1.0",
      "model_name": "LayoutModel",
      "state": {
       "align_items": "stretch",
       "border": "",
       "display": "flex",
       "flex_flow": "column",
       "height": "",
       "width": "100%"
      }
     },
     "34f92ffefcc34151b73174fc3f93a4aa": {
      "model_module": "@jupyter-widgets/controls",
      "model_module_version": "1.4.0",
      "model_name": "ButtonStyleModel",
      "state": {}
     },
     "35162b33f06742d79d12b338399a70da": {
      "model_module": "@jupyter-widgets/base",
      "model_module_version": "1.1.0",
      "model_name": "LayoutModel",
      "state": {}
     },
     "352533ce0e004a6fa1a72600c61e5aa1": {
      "model_module": "@jupyter-widgets/base",
      "model_module_version": "1.1.0",
      "model_name": "LayoutModel",
      "state": {}
     },
     "353936bbad3d478e824032f04cacb2b5": {
      "model_module": "@jupyter-widgets/controls",
      "model_module_version": "1.4.0",
      "model_name": "FloatProgressModel",
      "state": {
       "bar_style": "info",
       "description": "Progress",
       "layout": "IPY_MODEL_423bd191651b4b9b85f350c7dbbc2a6c",
       "style": "IPY_MODEL_8ec6dba0796a4463b8f50bd09b93c677"
      }
     },
     "353c53252f1644a180564fd814926eb7": {
      "model_module": "@jupyter-widgets/controls",
      "model_module_version": "1.4.0",
      "model_name": "DescriptionStyleModel",
      "state": {
       "description_width": ""
      }
     },
     "355dfa2e61cd48cf84ababbf621589f6": {
      "model_module": "@jupyter-widgets/base",
      "model_module_version": "1.1.0",
      "model_name": "LayoutModel",
      "state": {}
     },
     "3561d7e0dc844b4b893b0c7e8d348cdd": {
      "model_module": "@jupyter-widgets/controls",
      "model_module_version": "1.4.0",
      "model_name": "DescriptionStyleModel",
      "state": {
       "description_width": ""
      }
     },
     "356ebd3d548f47a4b5d2616b6d360ea7": {
      "model_module": "@jupyter-widgets/base",
      "model_module_version": "1.1.0",
      "model_name": "LayoutModel",
      "state": {}
     },
     "357cb1d5316244a09b8eeb78458463a6": {
      "model_module": "@jupyter-widgets/controls",
      "model_module_version": "1.4.0",
      "model_name": "ButtonModel",
      "state": {
       "button_style": "info",
       "description": "Plot results",
       "disabled": true,
       "layout": "IPY_MODEL_b1e44d0b61654388be58f3290376c767",
       "style": "IPY_MODEL_c3699acd57e84b5384ff88b413decfaa"
      }
     },
     "35807e3771cf471ea171561be866ab79": {
      "model_module": "@jupyter-widgets/base",
      "model_module_version": "1.1.0",
      "model_name": "LayoutModel",
      "state": {}
     },
     "35b7fd82a7474cd6be4e59b255b64038": {
      "model_module": "@jupyter-widgets/controls",
      "model_module_version": "1.4.0",
      "model_name": "ButtonStyleModel",
      "state": {}
     },
     "35cbee555a9744c5a595c6d170b026cd": {
      "model_module": "@jupyter-widgets/controls",
      "model_module_version": "1.4.0",
      "model_name": "HTMLModel",
      "state": {
       "layout": "IPY_MODEL_5c5a53edfffe41518e8f7d811f5f3dc2",
       "placeholder": "0",
       "style": "IPY_MODEL_d991395690fb4d56936f7e9923a7bff7",
       "value": "Total estimated: 10.0\n seconds"
      }
     },
     "35d8692b28ac43269ed14c7b5feb1abd": {
      "model_module": "@jupyter-widgets/controls",
      "model_module_version": "1.4.0",
      "model_name": "DescriptionStyleModel",
      "state": {
       "description_width": "initial"
      }
     },
     "35ef32376e4e4390b80120a33d23402a": {
      "model_module": "@jupyter-widgets/controls",
      "model_module_version": "1.4.0",
      "model_name": "HTMLModel",
      "state": {
       "layout": "IPY_MODEL_6350928143394052b87288f4cefbdf98",
       "style": "IPY_MODEL_aa3fd8f79a7b4e0ebedf19ea9fad83c2"
      }
     },
     "3604a03cb0e2450d88e1c729db75e19c": {
      "model_module": "@jupyter-widgets/base",
      "model_module_version": "1.1.0",
      "model_name": "LayoutModel",
      "state": {}
     },
     "367c69890a4a483d9f4faa63d4d84341": {
      "model_module": "@jupyter-widgets/base",
      "model_module_version": "1.1.0",
      "model_name": "LayoutModel",
      "state": {}
     },
     "36af151cbb0645fbbee49345e0b62f64": {
      "model_module": "@jupyter-widgets/base",
      "model_module_version": "1.1.0",
      "model_name": "LayoutModel",
      "state": {}
     },
     "36c03c7eb05745ca830e9a41fe9b8a92": {
      "model_module": "@jupyter-widgets/controls",
      "model_module_version": "1.4.0",
      "model_name": "LabelModel",
      "state": {
       "layout": "IPY_MODEL_ee0462bdbbce461c9f2a0e4fbbfe60f9",
       "style": "IPY_MODEL_c55c2ff14ba8401495fe0ebae3df4c13",
       "value": "Target node"
      }
     },
     "36c90ad780284d18af2d225f8a1af34b": {
      "model_module": "@jupyter-widgets/controls",
      "model_module_version": "1.4.0",
      "model_name": "VBoxModel",
      "state": {
       "children": [
        "IPY_MODEL_1e529dd341a04053abee167dec457057"
       ],
       "layout": "IPY_MODEL_9d3abba88f244a898e46016bee3e2440"
      }
     },
     "37357f68904f4c9e94ff4942bec29165": {
      "model_module": "@jupyter-widgets/base",
      "model_module_version": "1.1.0",
      "model_name": "LayoutModel",
      "state": {}
     },
     "37515fa5232f406dbf74a87e4581c306": {
      "model_module": "@jupyter-widgets/base",
      "model_module_version": "1.1.0",
      "model_name": "LayoutModel",
      "state": {}
     },
     "378429d3a2cb492bbb3ac5d48318671c": {
      "model_module": "@jupyter-widgets/controls",
      "model_module_version": "1.4.0",
      "model_name": "TextModel",
      "state": {
       "layout": "IPY_MODEL_d0100c7e0c06456cac4237ed86c44d5a",
       "style": "IPY_MODEL_1a300245a2d040ffb9fd77ebfef12c29",
       "value": "nodes=1:i5-6500te"
      }
     },
     "3797e116129040cd8207b31ec44eccd9": {
      "model_module": "@jupyter-widgets/base",
      "model_module_version": "1.1.0",
      "model_name": "LayoutModel",
      "state": {
       "align_items": "stretch",
       "border": "ridge",
       "display": "flex",
       "flex_flow": "column",
       "height": "",
       "width": "100%"
      }
     },
     "379b3bb4d1da4e26ac383d00f29901df": {
      "model_module": "@jupyter-widgets/base",
      "model_module_version": "1.1.0",
      "model_name": "LayoutModel",
      "state": {}
     },
     "37a8867f12c242ad8d806b085ae53cc8": {
      "model_module": "@jupyter-widgets/controls",
      "model_module_version": "1.4.0",
      "model_name": "LabelModel",
      "state": {
       "layout": "IPY_MODEL_0585414c5f9a4548940dce5ed835da8b",
       "style": "IPY_MODEL_b50524a680ef4c8f829554aeef40c4b4",
       "value": "Target node"
      }
     },
     "37b3b19dba23434d87188a6b2c790946": {
      "model_module": "@jupyter-widgets/controls",
      "model_module_version": "1.4.0",
      "model_name": "DescriptionStyleModel",
      "state": {
       "description_width": ""
      }
     },
     "37b86d9ce471497f9dee5b423310344a": {
      "model_module": "@jupyter-widgets/controls",
      "model_module_version": "1.4.0",
      "model_name": "LabelModel",
      "state": {
       "layout": "IPY_MODEL_3f286c249e9f43d8b74b1fcd73f72f48",
       "style": "IPY_MODEL_1b3d5eb1a81c4442be655d32e73416fe",
       "value": "Target node"
      }
     },
     "37ca7ea5a7904d5d90fb677ad8535ba1": {
      "model_module": "@jupyter-widgets/controls",
      "model_module_version": "1.4.0",
      "model_name": "DescriptionStyleModel",
      "state": {
       "description_width": ""
      }
     },
     "37e9b4f6d0eb454188211d6d7b426d62": {
      "model_module": "@jupyter-widgets/controls",
      "model_module_version": "1.4.0",
      "model_name": "LabelModel",
      "state": {
       "layout": "IPY_MODEL_691e3fe9e1b94b72b695fe12ce1e5ddc",
       "style": "IPY_MODEL_e694b820d4e948caa803d8db3650dd68",
       "value": "Target node"
      }
     },
     "3830ac397ee4410ea8767de563de4bba": {
      "model_module": "@jupyter-widgets/base",
      "model_module_version": "1.1.0",
      "model_name": "LayoutModel",
      "state": {
       "width": "100%"
      }
     },
     "38631aadf39141c7b8c5490b14d7b0ef": {
      "model_module": "@jupyter-widgets/base",
      "model_module_version": "1.1.0",
      "model_name": "LayoutModel",
      "state": {
       "align_items": "stretch",
       "border": "ridge",
       "display": "flex",
       "flex_flow": "column",
       "height": "",
       "width": "100%"
      }
     },
     "387c93a5b64a4bf2ab8b1d48538b0951": {
      "model_module": "@jupyter-widgets/controls",
      "model_module_version": "1.4.0",
      "model_name": "DescriptionStyleModel",
      "state": {
       "description_width": "initial"
      }
     },
     "387e540e9b0b4779b451c05da2779797": {
      "model_module": "@jupyter-widgets/base",
      "model_module_version": "1.1.0",
      "model_name": "LayoutModel",
      "state": {}
     },
     "389c613e8cbc4c25895e9ae45e5d084c": {
      "model_module": "@jupyter-widgets/base",
      "model_module_version": "1.1.0",
      "model_name": "LayoutModel",
      "state": {}
     },
     "38c00663e636445f8f4767df28499a3e": {
      "model_module": "@jupyter-widgets/controls",
      "model_module_version": "1.4.0",
      "model_name": "DescriptionStyleModel",
      "state": {
       "description_width": ""
      }
     },
     "38c40a3da5224bef94e3d5bfc5e3147e": {
      "model_module": "@jupyter-widgets/base",
      "model_module_version": "1.1.0",
      "model_name": "LayoutModel",
      "state": {}
     },
     "38dbd3a943aa43f9b817d275dec8b33a": {
      "model_module": "@jupyter-widgets/controls",
      "model_module_version": "1.4.0",
      "model_name": "DescriptionStyleModel",
      "state": {
       "description_width": ""
      }
     },
     "395d29b2e89248e8bf6930026e37aa16": {
      "model_module": "@jupyter-widgets/controls",
      "model_module_version": "1.4.0",
      "model_name": "ButtonModel",
      "state": {
       "button_style": "info",
       "description": "Display output",
       "disabled": true,
       "layout": "IPY_MODEL_f8e77da25dc34861acecc72d38073602",
       "style": "IPY_MODEL_fc98f0202b7745d4aaaa70ec7bb8c2cb"
      }
     },
     "39712a296fcc4a169c80a393ba004684": {
      "model_module": "@jupyter-widgets/controls",
      "model_module_version": "1.4.0",
      "model_name": "DescriptionStyleModel",
      "state": {
       "description_width": "initial"
      }
     },
     "39793bf34a3a4c5c8d0fcd6df508f9da": {
      "model_module": "@jupyter-widgets/base",
      "model_module_version": "1.1.0",
      "model_name": "LayoutModel",
      "state": {}
     },
     "39888462e9b44d41bd4187ba6f549fc9": {
      "model_module": "@jupyter-widgets/base",
      "model_module_version": "1.1.0",
      "model_name": "LayoutModel",
      "state": {}
     },
     "39c63c4758ea4ccdba532c6781aa3155": {
      "model_module": "@jupyter-widgets/controls",
      "model_module_version": "1.4.0",
      "model_name": "DescriptionStyleModel",
      "state": {
       "description_width": ""
      }
     },
     "39eca4524eb14e76b4e2b8473ab9ad92": {
      "model_module": "@jupyter-widgets/base",
      "model_module_version": "1.1.0",
      "model_name": "LayoutModel",
      "state": {}
     },
     "39f89337da1f43c3b8bd546fb01ba65d": {
      "model_module": "@jupyter-widgets/base",
      "model_module_version": "1.1.0",
      "model_name": "LayoutModel",
      "state": {}
     },
     "3a3ab7d975c64f3db5fff3c01735552c": {
      "model_module": "@jupyter-widgets/controls",
      "model_module_version": "1.4.0",
      "model_name": "DescriptionStyleModel",
      "state": {
       "description_width": "initial"
      }
     },
     "3a3d0bfbc2e04eea870d553875577b29": {
      "model_module": "@jupyter-widgets/controls",
      "model_module_version": "1.4.0",
      "model_name": "ButtonModel",
      "state": {
       "button_style": "info",
       "description": "Submit",
       "layout": "IPY_MODEL_303c8a55ae2e42ba848088d2f41c959a",
       "style": "IPY_MODEL_810815895f29457b87caae4e1bd87664"
      }
     },
     "3a5dc490b2e64df6b0c0b23b0852bd7e": {
      "model_module": "@jupyter-widgets/controls",
      "model_module_version": "1.4.0",
      "model_name": "HTMLModel",
      "state": {
       "layout": "IPY_MODEL_fd74db199689498786730f017eb5212f",
       "style": "IPY_MODEL_856b6948cd31439881d25f184f3fdcd6",
       "value": "<table><style type=\"text/css\" scoped>td{ padding:5px; border: 1px solid #9e9e9e; line-height:1.2em;}td:first-child{font-weight:bold;}</style><tbody><tr><td>Target node</td><td>nodes=1:i5-6500te</td></tr><tr><td>Submission command</td><td>qsub test_script.sh -l   nodes=1:i5-6500te \" -F \" -r results/ \"\"</td></tr></tbody></table>"
      }
     },
     "3a6cdd9b50e74dbcbe6fa0d8981017ea": {
      "model_module": "@jupyter-widgets/base",
      "model_module_version": "1.1.0",
      "model_name": "LayoutModel",
      "state": {}
     },
     "3a7b89243358488cbed4404eee00ce22": {
      "model_module": "@jupyter-widgets/controls",
      "model_module_version": "1.4.0",
      "model_name": "HTMLModel",
      "state": {
       "layout": "IPY_MODEL_1224f2b404d5489084c44a6732fe7ec3",
       "style": "IPY_MODEL_ac47e6fe4d8041bf81b0cd9e5feb63fa"
      }
     },
     "3a8b62413f894efeabbd58c9cc559c14": {
      "model_module": "@jupyter-widgets/controls",
      "model_module_version": "1.4.0",
      "model_name": "FloatProgressModel",
      "state": {
       "bar_style": "info",
       "description": "Progress",
       "layout": "IPY_MODEL_126f83dc4c294392b052b86e58c18fed",
       "style": "IPY_MODEL_717ed293d80d401994a05a4ce73a4b92",
       "value": 100
      }
     },
     "3a8f4099716a48429d93729ae461380f": {
      "model_module": "@jupyter-widgets/controls",
      "model_module_version": "1.4.0",
      "model_name": "ProgressStyleModel",
      "state": {
       "description_width": "initial"
      }
     },
     "3aa18335e4dd40d68d65e04fe8d8b901": {
      "model_module": "@jupyter-widgets/controls",
      "model_module_version": "1.4.0",
      "model_name": "DescriptionStyleModel",
      "state": {
       "description_width": "initial"
      }
     },
     "3aaadf24357c44efb11ab73d89f786ca": {
      "model_module": "@jupyter-widgets/base",
      "model_module_version": "1.1.0",
      "model_name": "LayoutModel",
      "state": {}
     },
     "3ab44ca3dee14c60aa50d75050001f07": {
      "model_module": "@jupyter-widgets/base",
      "model_module_version": "1.1.0",
      "model_name": "LayoutModel",
      "state": {}
     },
     "3abd170958874f959e849ba620ba7703": {
      "model_module": "@jupyter-widgets/controls",
      "model_module_version": "1.4.0",
      "model_name": "ProgressStyleModel",
      "state": {
       "description_width": "initial"
      }
     },
     "3ac65609a7dc4cba9eb72aa655adf4f8": {
      "model_module": "@jupyter-widgets/base",
      "model_module_version": "1.1.0",
      "model_name": "LayoutModel",
      "state": {}
     },
     "3ae6e9a1c2b54cb6bc824444eb9b9eb8": {
      "model_module": "@jupyter-widgets/base",
      "model_module_version": "1.1.0",
      "model_name": "LayoutModel",
      "state": {}
     },
     "3b59fb957fd348289ee4ef7fb6f4d57e": {
      "model_module": "@jupyter-widgets/controls",
      "model_module_version": "1.4.0",
      "model_name": "HTMLModel",
      "state": {
       "layout": "IPY_MODEL_53809c75d11e436bb83969d3e4d537ef",
       "placeholder": "0",
       "style": "IPY_MODEL_d63792d09692406b9d431ff354ee87b3"
      }
     },
     "3b701c1fc9db453d99e0b07c8e99d215": {
      "model_module": "@jupyter-widgets/controls",
      "model_module_version": "1.4.0",
      "model_name": "HTMLModel",
      "state": {
       "layout": "IPY_MODEL_f2245bce9b514262b6678073328eb175",
       "style": "IPY_MODEL_61ce1b1a0f0b447897d3d327cf94f662"
      }
     },
     "3b7091a07d5a4cf5856e133332d761da": {
      "model_module": "@jupyter-widgets/base",
      "model_module_version": "1.1.0",
      "model_name": "LayoutModel",
      "state": {}
     },
     "3bb269667a594e70984aa48efe622aa4": {
      "model_module": "@jupyter-widgets/controls",
      "model_module_version": "1.4.0",
      "model_name": "ButtonStyleModel",
      "state": {}
     },
     "3bbb7374df8e4977ae98d0f13f826286": {
      "model_module": "@jupyter-widgets/controls",
      "model_module_version": "1.4.0",
      "model_name": "DescriptionStyleModel",
      "state": {
       "description_width": "initial"
      }
     },
     "3bd75c93741c4775827c23dea814b215": {
      "model_module": "@jupyter-widgets/base",
      "model_module_version": "1.1.0",
      "model_name": "LayoutModel",
      "state": {}
     },
     "3bfa5acb73484c25b098bb9c9bce97a0": {
      "model_module": "@jupyter-widgets/controls",
      "model_module_version": "1.4.0",
      "model_name": "VBoxModel",
      "state": {
       "children": [
        "IPY_MODEL_884bc7c5582040dd847dd4fb9bf935cc",
        "IPY_MODEL_b4af525d951240dab898f7812922c22f",
        "IPY_MODEL_4b11d2ef3d694d15bf1207222732dd9b"
       ],
       "layout": "IPY_MODEL_f7cb0c6d1a3942dcb0f459ccfd023dc5"
      }
     },
     "3bfef1c22db64685991207bfbf546418": {
      "model_module": "@jupyter-widgets/base",
      "model_module_version": "1.1.0",
      "model_name": "LayoutModel",
      "state": {}
     },
     "3bffdce7477c4f26b96df5cbf1fa0e26": {
      "model_module": "@jupyter-widgets/controls",
      "model_module_version": "1.4.0",
      "model_name": "HTMLModel",
      "state": {
       "layout": "IPY_MODEL_c29e36739e9543fa99de809172310c7f",
       "placeholder": "0",
       "style": "IPY_MODEL_960f48a3ed1646e68f4bca899cebd008",
       "value": "Done"
      }
     },
     "3c04c06573ab4bc9b91803e6824dba8e": {
      "model_module": "@jupyter-widgets/base",
      "model_module_version": "1.1.0",
      "model_name": "LayoutModel",
      "state": {}
     },
     "3c25fe0e4c0d414bbf33b386d53f314d": {
      "model_module": "@jupyter-widgets/controls",
      "model_module_version": "1.4.0",
      "model_name": "VBoxModel",
      "state": {
       "children": [
        "IPY_MODEL_82e00e0f449a4d319ea25e1439222851",
        "IPY_MODEL_f373d1badcfa4fdca1fd77caae1f1c4d",
        "IPY_MODEL_bed6d4b463ac4af788817c5f7ae95b85"
       ],
       "layout": "IPY_MODEL_c1be7e6bb45e4d619a5513e19b87a84c"
      }
     },
     "3c3f8b25232d4d789fd944d39ae434f3": {
      "model_module": "@jupyter-widgets/base",
      "model_module_version": "1.1.0",
      "model_name": "LayoutModel",
      "state": {}
     },
     "3c9a5935b8e3468eba80f8e79a3a1278": {
      "model_module": "@jupyter-widgets/base",
      "model_module_version": "1.1.0",
      "model_name": "LayoutModel",
      "state": {}
     },
     "3d027f81c56a4974be036fed8d860ad0": {
      "model_module": "@jupyter-widgets/base",
      "model_module_version": "1.1.0",
      "model_name": "LayoutModel",
      "state": {}
     },
     "3d179c81a08f4681ab8d3404a4767f32": {
      "model_module": "@jupyter-widgets/base",
      "model_module_version": "1.1.0",
      "model_name": "LayoutModel",
      "state": {}
     },
     "3d2e004806cd4d2482dcbd7d9f1595aa": {
      "model_module": "@jupyter-widgets/base",
      "model_module_version": "1.1.0",
      "model_name": "LayoutModel",
      "state": {}
     },
     "3d53d13360974571a7e5a6536dc45e68": {
      "model_module": "@jupyter-widgets/base",
      "model_module_version": "1.1.0",
      "model_name": "LayoutModel",
      "state": {}
     },
     "3d54e6fd27ff4c2096b327d09e0e2d04": {
      "model_module": "@jupyter-widgets/controls",
      "model_module_version": "1.4.0",
      "model_name": "TextModel",
      "state": {
       "layout": "IPY_MODEL_69ff569d15ae475cbda58fd3cf1b2b63",
       "style": "IPY_MODEL_f3b43901c5864afd9cbc382a206acb10",
       "value": "nodes=1:i5-6500te"
      }
     },
     "3d7bb1da8c20409ab9d3f78d24eddde9": {
      "model_module": "@jupyter-widgets/controls",
      "model_module_version": "1.4.0",
      "model_name": "DescriptionStyleModel",
      "state": {
       "description_width": ""
      }
     },
     "3d885f39beeb4a939f4ebd13a5cfa63f": {
      "model_module": "@jupyter-widgets/controls",
      "model_module_version": "1.4.0",
      "model_name": "HTMLModel",
      "state": {
       "layout": "IPY_MODEL_2a9edd13f9004b4abc30933689d67e78",
       "style": "IPY_MODEL_37b3b19dba23434d87188a6b2c790946"
      }
     },
     "3da289b755654b1f9be7c93ba6cea5ec": {
      "model_module": "@jupyter-widgets/controls",
      "model_module_version": "1.4.0",
      "model_name": "ButtonModel",
      "state": {
       "button_style": "info",
       "description": "Display output",
       "layout": "IPY_MODEL_ab412ee2c6dd4effae5864a83cbb2494",
       "style": "IPY_MODEL_79f796fc4c3e494199ee9bc0cfdaeb4d"
      }
     },
     "3dc9d0c6ca5e452b83ba51140710b030": {
      "model_module": "@jupyter-widgets/base",
      "model_module_version": "1.1.0",
      "model_name": "LayoutModel",
      "state": {}
     },
     "3de6eb93b875479280e0972e8f6c7785": {
      "model_module": "@jupyter-widgets/controls",
      "model_module_version": "1.4.0",
      "model_name": "DescriptionStyleModel",
      "state": {
       "description_width": ""
      }
     },
     "3dece44a0b8144a59e4bd29de49fb7d6": {
      "model_module": "@jupyter-widgets/base",
      "model_module_version": "1.1.0",
      "model_name": "LayoutModel",
      "state": {}
     },
     "3def34d4ce7b42f9881a4c39c2a01ab6": {
      "model_module": "@jupyter-widgets/controls",
      "model_module_version": "1.4.0",
      "model_name": "DescriptionStyleModel",
      "state": {
       "description_width": ""
      }
     },
     "3df876468f0d42659e3897aad2eb3545": {
      "model_module": "@jupyter-widgets/controls",
      "model_module_version": "1.4.0",
      "model_name": "VBoxModel",
      "state": {
       "children": [
        "IPY_MODEL_09fedd76c5c84adea0afd31c1de8142b"
       ],
       "layout": "IPY_MODEL_a26c8f3ebfbe48fa896d05754a56cf8e"
      }
     },
     "3dfd3451a9b447b28de2b8449cd94ceb": {
      "model_module": "@jupyter-widgets/controls",
      "model_module_version": "1.4.0",
      "model_name": "ButtonModel",
      "state": {
       "button_style": "info",
       "description": "Display output",
       "disabled": true,
       "layout": "IPY_MODEL_b246358318644ecdb82fc6ea38e5e625",
       "style": "IPY_MODEL_06b17d85c4994edea6c390cca31dbc6c"
      }
     },
     "3e1a1bc2de514e14b50bf92100412bad": {
      "model_module": "@jupyter-widgets/controls",
      "model_module_version": "1.4.0",
      "model_name": "HTMLModel",
      "state": {
       "layout": "IPY_MODEL_fe11583f1e4a472d90e8607956959870",
       "placeholder": "0",
       "style": "IPY_MODEL_ae8afcb86fa842ccb6f073a2588c2d75",
       "value": "...waiting to start"
      }
     },
     "3e356824bacb49b2bf1e2e374c1ff8aa": {
      "model_module": "@jupyter-widgets/base",
      "model_module_version": "1.1.0",
      "model_name": "LayoutModel",
      "state": {}
     },
     "3e718026838f424184131b7a6e402abe": {
      "model_module": "@jupyter-widgets/controls",
      "model_module_version": "1.4.0",
      "model_name": "HTMLModel",
      "state": {
       "layout": "IPY_MODEL_9f06daf4121f4f9d9959b1810ffc5e89",
       "style": "IPY_MODEL_37ca7ea5a7904d5d90fb677ad8535ba1",
       "value": "<span style='color:green'>&#10004;</span> Job submitted, job ID: 18570.c003"
      }
     },
     "3edc310808b04b3a8abda02931817b0b": {
      "model_module": "@jupyter-widgets/base",
      "model_module_version": "1.1.0",
      "model_name": "LayoutModel",
      "state": {}
     },
     "3ee2076aebc84edd94e112ba3544bec2": {
      "model_module": "@jupyter-widgets/controls",
      "model_module_version": "1.4.0",
      "model_name": "DescriptionStyleModel",
      "state": {
       "description_width": "initial"
      }
     },
     "3f1554d2c3f74a36bcf758ded69b9e6a": {
      "model_module": "@jupyter-widgets/output",
      "model_module_version": "1.0.0",
      "model_name": "OutputModel",
      "state": {
       "layout": "IPY_MODEL_e0cac6560fab45e18c881cc246997884"
      }
     },
     "3f286c249e9f43d8b74b1fcd73f72f48": {
      "model_module": "@jupyter-widgets/base",
      "model_module_version": "1.1.0",
      "model_name": "LayoutModel",
      "state": {}
     },
     "3f4deacd43ae4ae18e4ac3540d059758": {
      "model_module": "@jupyter-widgets/controls",
      "model_module_version": "1.4.0",
      "model_name": "FloatProgressModel",
      "state": {
       "bar_style": "info",
       "description": "Progress",
       "layout": "IPY_MODEL_0bc95c94e44d46f3bffaee81092dce33",
       "style": "IPY_MODEL_77da35ce7cb14ee29d38e5fa4998bd9b",
       "value": 100
      }
     },
     "3f664d466fc94edfbc3dcc268c80f8f0": {
      "model_module": "@jupyter-widgets/base",
      "model_module_version": "1.1.0",
      "model_name": "LayoutModel",
      "state": {}
     },
     "3f82aa7a763740b3b09d2f29d037b433": {
      "model_module": "@jupyter-widgets/controls",
      "model_module_version": "1.4.0",
      "model_name": "TextModel",
      "state": {
       "layout": "IPY_MODEL_f3cec496303f45bab264080c708dac2b",
       "style": "IPY_MODEL_4e1de9eda19f451b8e906ae02394f44c",
       "value": "nodes=1:i5-6500te"
      }
     },
     "3f919b2ef41b4fd5bcb803dcd9a62bd5": {
      "model_module": "@jupyter-widgets/base",
      "model_module_version": "1.1.0",
      "model_name": "LayoutModel",
      "state": {}
     },
     "3f94df86b7554c768a00dac3fd484f40": {
      "model_module": "@jupyter-widgets/controls",
      "model_module_version": "1.4.0",
      "model_name": "DescriptionStyleModel",
      "state": {
       "description_width": ""
      }
     },
     "3fec19c9701141709747938aa9736c32": {
      "model_module": "@jupyter-widgets/controls",
      "model_module_version": "1.4.0",
      "model_name": "DescriptionStyleModel",
      "state": {
       "description_width": "initial"
      }
     },
     "406696af15234e48a40772605b590b27": {
      "model_module": "@jupyter-widgets/controls",
      "model_module_version": "1.4.0",
      "model_name": "TextModel",
      "state": {
       "layout": "IPY_MODEL_05495953b857450899d209704f2ca588",
       "style": "IPY_MODEL_8c493bb3974446398f2246a399745ed1",
       "value": "nodes=1:i5-6500te"
      }
     },
     "4085bb10ddb14c62a5d9ee0962776701": {
      "model_module": "@jupyter-widgets/base",
      "model_module_version": "1.1.0",
      "model_name": "LayoutModel",
      "state": {}
     },
     "40a59d80398346178bd9a3cfaf10af1d": {
      "model_module": "@jupyter-widgets/base",
      "model_module_version": "1.1.0",
      "model_name": "LayoutModel",
      "state": {
       "align_items": "stretch",
       "border": "",
       "display": "flex",
       "flex_flow": "column",
       "height": "",
       "width": "100%"
      }
     },
     "40b773d3ea9d421c8a7158c791c379fd": {
      "model_module": "@jupyter-widgets/controls",
      "model_module_version": "1.4.0",
      "model_name": "ProgressStyleModel",
      "state": {
       "description_width": "initial"
      }
     },
     "40f1c6791f0f4d169a867f30f141379f": {
      "model_module": "@jupyter-widgets/controls",
      "model_module_version": "1.4.0",
      "model_name": "TextModel",
      "state": {
       "layout": "IPY_MODEL_e3a9fd4a558146c88081abfd8840ede4",
       "style": "IPY_MODEL_6eec98db406d4b76aa5b80fd5d695153",
       "value": "nodes=1:i5-6500te"
      }
     },
     "41370066514a47d7a843b805a5a81174": {
      "model_module": "@jupyter-widgets/controls",
      "model_module_version": "1.4.0",
      "model_name": "FloatProgressModel",
      "state": {
       "bar_style": "info",
       "layout": "IPY_MODEL_ffc523b433d141e8ab6d5bb9c6e07c27",
       "style": "IPY_MODEL_2882345fd53f443ab312f680fed1606f"
      }
     },
     "41a1a0a6752640bfa087671e5ee51d1c": {
      "model_module": "@jupyter-widgets/controls",
      "model_module_version": "1.4.0",
      "model_name": "LabelModel",
      "state": {
       "layout": "IPY_MODEL_52d5892d996547f9ad34c58edf343279",
       "style": "IPY_MODEL_58987aa92370468e80479041ae671056",
       "value": "Target node"
      }
     },
     "42370ce636ec4ddd9738c62ad206486b": {
      "model_module": "@jupyter-widgets/controls",
      "model_module_version": "1.4.0",
      "model_name": "ButtonModel",
      "state": {
       "button_style": "info",
       "description": "Submit",
       "layout": "IPY_MODEL_c81c78bb67eb46dda13e0ed46a5b390a",
       "style": "IPY_MODEL_d2343a136a0c40acb2cf5cd44dbb5df9"
      }
     },
     "423bd191651b4b9b85f350c7dbbc2a6c": {
      "model_module": "@jupyter-widgets/base",
      "model_module_version": "1.1.0",
      "model_name": "LayoutModel",
      "state": {}
     },
     "42729ce875c84415a4a8057b68673ab9": {
      "model_module": "@jupyter-widgets/controls",
      "model_module_version": "1.4.0",
      "model_name": "HTMLModel",
      "state": {
       "layout": "IPY_MODEL_6df863e2969f4ad4a5d0d0823b66de46",
       "placeholder": "",
       "style": "IPY_MODEL_a89fb11d20f74c548c740653694e23a3"
      }
     },
     "428dd0fa341b4522a81cd67a1516bb5e": {
      "model_module": "@jupyter-widgets/controls",
      "model_module_version": "1.4.0",
      "model_name": "TabModel",
      "state": {
       "layout": "IPY_MODEL_8897e9b5e9794c83a8df922f2cc24198"
      }
     },
     "42ac1e1fa62042e683c216e7161c4a0d": {
      "model_module": "@jupyter-widgets/output",
      "model_module_version": "1.0.0",
      "model_name": "OutputModel",
      "state": {
       "layout": "IPY_MODEL_1426f16551814b30ad984188a350cd41"
      }
     },
     "42bb1ec7cc6c447fae93faf4dcc04352": {
      "model_module": "@jupyter-widgets/controls",
      "model_module_version": "1.4.0",
      "model_name": "LabelModel",
      "state": {
       "layout": "IPY_MODEL_c9475f15ac11493ebe3c8aa704b6c1eb",
       "style": "IPY_MODEL_213e7a46e8f444d68f7ef3146d0f9013",
       "value": "Target node"
      }
     },
     "42f934b0d7d64abf92d9b88c9c557cdf": {
      "model_module": "@jupyter-widgets/controls",
      "model_module_version": "1.4.0",
      "model_name": "ButtonStyleModel",
      "state": {}
     },
     "434dd5ba1ab24804870523e30ce963cb": {
      "model_module": "@jupyter-widgets/base",
      "model_module_version": "1.1.0",
      "model_name": "LayoutModel",
      "state": {}
     },
     "441d3fdf0679485f9a5ad0bd627c3c20": {
      "model_module": "@jupyter-widgets/controls",
      "model_module_version": "1.4.0",
      "model_name": "HTMLModel",
      "state": {
       "layout": "IPY_MODEL_13169608bc354655ab0f4078dcb05e03",
       "style": "IPY_MODEL_f534aa160abe4579959293376d2fe6f8",
       "value": "<table><style type=\"text/css\" scoped>td{ padding:5px; border: 1px solid #9e9e9e; line-height:1.2em;}td:first-child{font-weight:bold;}</style><tbody><tr><td>Target node</td><td>nodes=1:i5-6500te</td></tr><tr><td>Submission command</td><td>qsub test_script.sh  -l nodes=1:i5-6500te -F \"  -r results/\"</td></tr></tbody></table>"
      }
     },
     "442611b8abd84ef9a383d3681c755196": {
      "model_module": "@jupyter-widgets/controls",
      "model_module_version": "1.4.0",
      "model_name": "LabelModel",
      "state": {
       "layout": "IPY_MODEL_600e22c143184b16adb2142bc836554c",
       "style": "IPY_MODEL_6d9aa82a14e2488f9a85d5074d1b4549",
       "value": "Target node"
      }
     },
     "443eb3ce9b6d422681ba0eca0787c7fe": {
      "model_module": "@jupyter-widgets/controls",
      "model_module_version": "1.4.0",
      "model_name": "VBoxModel",
      "state": {
       "children": [
        "IPY_MODEL_cc99d5ca5d1146fe8b972a1c91c70c79",
        "IPY_MODEL_1de1c428b30b4cfab33e39977c968ada"
       ],
       "layout": "IPY_MODEL_5eb174e3098244b1af4751284dce6e96"
      }
     },
     "444fef2aaae0486f80c9ad6745598c4b": {
      "model_module": "@jupyter-widgets/base",
      "model_module_version": "1.1.0",
      "model_name": "LayoutModel",
      "state": {}
     },
     "446641c194ab48b5b91907cf60a89d69": {
      "model_module": "@jupyter-widgets/controls",
      "model_module_version": "1.4.0",
      "model_name": "ButtonModel",
      "state": {
       "button_style": "info",
       "description": "Plot results",
       "layout": "IPY_MODEL_2ed3cd35252244dcaa48f4ec73bdbb39",
       "style": "IPY_MODEL_d9671c8fbd8548cd80edf7cfb96adc92"
      }
     },
     "4499757a33cf4581a8e849eb498554b0": {
      "model_module": "@jupyter-widgets/controls",
      "model_module_version": "1.4.0",
      "model_name": "DescriptionStyleModel",
      "state": {
       "description_width": "initial"
      }
     },
     "44bdc69081334ab58aa95b238721427d": {
      "model_module": "@jupyter-widgets/base",
      "model_module_version": "1.1.0",
      "model_name": "LayoutModel",
      "state": {}
     },
     "44e210f4de934c89a180d3301df3bb1f": {
      "model_module": "@jupyter-widgets/base",
      "model_module_version": "1.1.0",
      "model_name": "LayoutModel",
      "state": {}
     },
     "44e81932d046401684d5063ca69078cf": {
      "model_module": "@jupyter-widgets/controls",
      "model_module_version": "1.4.0",
      "model_name": "VBoxModel",
      "state": {
       "children": [
        "IPY_MODEL_b135ecb4ec9d4504b4844c101a39a70b"
       ],
       "layout": "IPY_MODEL_c4dbe340064b4600b687fa74267abea5"
      }
     },
     "44f4825265b14036ba6f5a7b180c8cb3": {
      "model_module": "@jupyter-widgets/base",
      "model_module_version": "1.1.0",
      "model_name": "LayoutModel",
      "state": {}
     },
     "45107df8010f47d7bb6572f3fea4917a": {
      "model_module": "@jupyter-widgets/controls",
      "model_module_version": "1.4.0",
      "model_name": "ProgressStyleModel",
      "state": {
       "description_width": "initial"
      }
     },
     "4537cc650e854476804d849471144f03": {
      "model_module": "@jupyter-widgets/controls",
      "model_module_version": "1.4.0",
      "model_name": "DescriptionStyleModel",
      "state": {
       "description_width": ""
      }
     },
     "4542e5597d2b44f38228ae6e6e0a1330": {
      "model_module": "@jupyter-widgets/controls",
      "model_module_version": "1.4.0",
      "model_name": "DescriptionStyleModel",
      "state": {
       "description_width": ""
      }
     },
     "4566cf75b2f2435e9fcda0f72398b529": {
      "model_module": "@jupyter-widgets/controls",
      "model_module_version": "1.4.0",
      "model_name": "HTMLModel",
      "state": {
       "layout": "IPY_MODEL_24d9ddf6d99b4b94855554a2fd24b166",
       "style": "IPY_MODEL_e2bbf19349b1448db5d017ca432fe5cc"
      }
     },
     "4571ac95650048158f1261b93d2597a9": {
      "model_module": "@jupyter-widgets/controls",
      "model_module_version": "1.4.0",
      "model_name": "FloatProgressModel",
      "state": {
       "bar_style": "info",
       "layout": "IPY_MODEL_06d993543b9e4f6684deb928b59c4b31",
       "style": "IPY_MODEL_20fcd06583a34c3babe6f898fbed3076"
      }
     },
     "45774380e1bb48eb915e1807c6edfecb": {
      "model_module": "@jupyter-widgets/base",
      "model_module_version": "1.1.0",
      "model_name": "LayoutModel",
      "state": {
       "width": "100%"
      }
     },
     "457ac673173c4b35ad8c9b9e8feff588": {
      "model_module": "@jupyter-widgets/base",
      "model_module_version": "1.1.0",
      "model_name": "LayoutModel",
      "state": {}
     },
     "45b21031f55d4335b3142ef61c34b85a": {
      "model_module": "@jupyter-widgets/controls",
      "model_module_version": "1.4.0",
      "model_name": "HTMLModel",
      "state": {
       "layout": "IPY_MODEL_70c15d65fa8a4b72925e7781579c75a1",
       "style": "IPY_MODEL_2a5c91f3e1d54025a6dfb7965bcee0bd",
       "value": "<span style='color:green'>&#10004;</span> Job submitted, job ID: 18667.c003"
      }
     },
     "45db09d839684c3aa63d995ecd3e8810": {
      "model_module": "@jupyter-widgets/controls",
      "model_module_version": "1.4.0",
      "model_name": "FloatProgressModel",
      "state": {
       "bar_style": "info",
       "description": "Progress",
       "layout": "IPY_MODEL_e93043a32a814332bf37a94f7c826d43",
       "style": "IPY_MODEL_983cf6136c48446cb3a679d6f88b6f62"
      }
     },
     "461b426d6f92489899e60317c526d95a": {
      "model_module": "@jupyter-widgets/base",
      "model_module_version": "1.1.0",
      "model_name": "LayoutModel",
      "state": {}
     },
     "4626ccdbdf364a9fa1c2bc824c792c0c": {
      "model_module": "@jupyter-widgets/controls",
      "model_module_version": "1.4.0",
      "model_name": "HTMLModel",
      "state": {
       "layout": "IPY_MODEL_47dc354add2b4c7ea4088864b3bbbee6",
       "placeholder": "",
       "style": "IPY_MODEL_31f70f039dd04bc28578aa079a866001",
       "value": "...waiting to start"
      }
     },
     "46ae7a2fb23a45a7b03b63c086aa4e5d": {
      "model_module": "@jupyter-widgets/controls",
      "model_module_version": "1.4.0",
      "model_name": "HTMLModel",
      "state": {
       "layout": "IPY_MODEL_e0b8def7cbb6475ea75a4f7c0212f12f",
       "style": "IPY_MODEL_bbb22bba7b8343f0b48a21905103041c",
       "value": "<span style='color:green'>&#10004;</span> Job submitted, job ID: 18562.c003"
      }
     },
     "47029ae5354543ae88a5bad8823bb73e": {
      "model_module": "@jupyter-widgets/output",
      "model_module_version": "1.0.0",
      "model_name": "OutputModel",
      "state": {
       "layout": "IPY_MODEL_dd8b926fba5b4054be6ded208837b0a0"
      }
     },
     "471d83c77f4c4ad998396c7478ffe2e7": {
      "model_module": "@jupyter-widgets/controls",
      "model_module_version": "1.4.0",
      "model_name": "FloatProgressModel",
      "state": {
       "bar_style": "info",
       "description": "Progress",
       "layout": "IPY_MODEL_4c60f08d6fbc4fc9ba7535ed472e307d",
       "style": "IPY_MODEL_c1f5f630114540f99f57fff899047b13",
       "value": 100
      }
     },
     "47213c6b2d25471c88a29a3d73cff499": {
      "model_module": "@jupyter-widgets/controls",
      "model_module_version": "1.4.0",
      "model_name": "DescriptionStyleModel",
      "state": {
       "description_width": "initial"
      }
     },
     "4724589ba60d43488611bf2e18fd957a": {
      "model_module": "@jupyter-widgets/base",
      "model_module_version": "1.1.0",
      "model_name": "LayoutModel",
      "state": {}
     },
     "473db4d1acef4b12a6cce5c98de40ee3": {
      "model_module": "@jupyter-widgets/controls",
      "model_module_version": "1.4.0",
      "model_name": "HTMLModel",
      "state": {
       "layout": "IPY_MODEL_036ebe86a24048c3909ae97ced025acd",
       "style": "IPY_MODEL_4dbdfbc655684226ab8bad4b1268d0ee"
      }
     },
     "4781b5fcedc7475589f2e5be5e09c7dd": {
      "model_module": "@jupyter-widgets/base",
      "model_module_version": "1.1.0",
      "model_name": "LayoutModel",
      "state": {}
     },
     "479df3ed8eb4425cbe2a789ffda4ec0d": {
      "model_module": "@jupyter-widgets/controls",
      "model_module_version": "1.4.0",
      "model_name": "HTMLModel",
      "state": {
       "layout": "IPY_MODEL_3e356824bacb49b2bf1e2e374c1ff8aa",
       "placeholder": "0",
       "style": "IPY_MODEL_ff10424f102d4a2d9fad0eda1237c03c"
      }
     },
     "47b60b9e86fb43e2ae2b517d7672e127": {
      "model_module": "@jupyter-widgets/controls",
      "model_module_version": "1.4.0",
      "model_name": "DescriptionStyleModel",
      "state": {
       "description_width": ""
      }
     },
     "47d6b9ed5a74486784e181bdca03f568": {
      "model_module": "@jupyter-widgets/base",
      "model_module_version": "1.1.0",
      "model_name": "LayoutModel",
      "state": {}
     },
     "47dc354add2b4c7ea4088864b3bbbee6": {
      "model_module": "@jupyter-widgets/base",
      "model_module_version": "1.1.0",
      "model_name": "LayoutModel",
      "state": {}
     },
     "47f9da4ab4ea4938bc0a14a5d3497561": {
      "model_module": "@jupyter-widgets/base",
      "model_module_version": "1.1.0",
      "model_name": "LayoutModel",
      "state": {}
     },
     "47fce8f7ca4d40f2a43842e64f705f4e": {
      "model_module": "@jupyter-widgets/controls",
      "model_module_version": "1.4.0",
      "model_name": "DescriptionStyleModel",
      "state": {
       "description_width": ""
      }
     },
     "48481e06119a485f8659d1f523438a67": {
      "model_module": "@jupyter-widgets/controls",
      "model_module_version": "1.4.0",
      "model_name": "TextModel",
      "state": {
       "layout": "IPY_MODEL_05f96bfa593547b3ac9ee26caf01591a",
       "style": "IPY_MODEL_39c63c4758ea4ccdba532c6781aa3155",
       "value": "nodes=1:i5-6500te"
      }
     },
     "484e32c5197a44a39083c8f7a903c535": {
      "model_module": "@jupyter-widgets/controls",
      "model_module_version": "1.4.0",
      "model_name": "HTMLModel",
      "state": {
       "layout": "IPY_MODEL_31c09d938f3f4c41b831a9617c1ff2a7",
       "placeholder": "0",
       "style": "IPY_MODEL_b43cc8a792884108901cf68028d891fa",
       "value": "Done"
      }
     },
     "484e7458a22c4e71ac5b2cb19767af70": {
      "model_module": "@jupyter-widgets/controls",
      "model_module_version": "1.4.0",
      "model_name": "DescriptionStyleModel",
      "state": {
       "description_width": ""
      }
     },
     "48740cba76144834bded1b65ca0ac76d": {
      "model_module": "@jupyter-widgets/controls",
      "model_module_version": "1.4.0",
      "model_name": "VBoxModel",
      "state": {
       "children": [
        "IPY_MODEL_37e9b4f6d0eb454188211d6d7b426d62",
        "IPY_MODEL_8d38daf253a74008b4c04d779dc6db63"
       ],
       "layout": "IPY_MODEL_a84950ef12954d00a9c63b09928a8355"
      }
     },
     "48be895767584cdc82c275411be87f23": {
      "model_module": "@jupyter-widgets/base",
      "model_module_version": "1.1.0",
      "model_name": "LayoutModel",
      "state": {}
     },
     "48bed9d343364a1ab8eccdeb09fb0c2d": {
      "model_module": "@jupyter-widgets/base",
      "model_module_version": "1.1.0",
      "model_name": "LayoutModel",
      "state": {}
     },
     "48f2b6a393694787aa07f44157b2cbd2": {
      "model_module": "@jupyter-widgets/controls",
      "model_module_version": "1.4.0",
      "model_name": "HTMLModel",
      "state": {
       "layout": "IPY_MODEL_0b7638d1f02945bcb69bccfe31077bf4",
       "placeholder": "",
       "style": "IPY_MODEL_3fec19c9701141709747938aa9736c32",
       "value": "...waiting to start"
      }
     },
     "4914f908b9e9453fa3d31228d17704d1": {
      "model_module": "@jupyter-widgets/controls",
      "model_module_version": "1.4.0",
      "model_name": "ButtonModel",
      "state": {
       "button_style": "info",
       "description": "Plot results",
       "disabled": true,
       "layout": "IPY_MODEL_d2c860cc197c43d4ae8c6d8ad2529f7c",
       "style": "IPY_MODEL_729f4caccbae465ba3d892fd336651e8"
      }
     },
     "491c89b6ed5043f9ac629aff8e4e254d": {
      "model_module": "@jupyter-widgets/base",
      "model_module_version": "1.1.0",
      "model_name": "LayoutModel",
      "state": {}
     },
     "49251b60fba144bb9797e07a0ee6799e": {
      "model_module": "@jupyter-widgets/base",
      "model_module_version": "1.1.0",
      "model_name": "LayoutModel",
      "state": {}
     },
     "4971f012381d4cb09f4a6e9971006a9f": {
      "model_module": "@jupyter-widgets/controls",
      "model_module_version": "1.4.0",
      "model_name": "ButtonStyleModel",
      "state": {}
     },
     "497c18a1b9a9408188416699f737d6fb": {
      "model_module": "@jupyter-widgets/controls",
      "model_module_version": "1.4.0",
      "model_name": "HTMLModel",
      "state": {
       "layout": "IPY_MODEL_626f6c059b1f42ffa1e31698523359d7",
       "placeholder": "",
       "style": "IPY_MODEL_b118f4e003204df68521587c851fde1e"
      }
     },
     "4982619db6184500b7fa6f83353452ca": {
      "model_module": "@jupyter-widgets/controls",
      "model_module_version": "1.4.0",
      "model_name": "HTMLModel",
      "state": {
       "layout": "IPY_MODEL_eccf57d40c8b4e018f90c1bcda7af35f",
       "placeholder": "0",
       "style": "IPY_MODEL_56336f5dcb814e858f9e2412c9adf7eb",
       "value": "...waiting to start"
      }
     },
     "4982a60b1a7a494d8f77cb5dbc5a314f": {
      "model_module": "@jupyter-widgets/base",
      "model_module_version": "1.1.0",
      "model_name": "LayoutModel",
      "state": {}
     },
     "4984fdeee6f646fc8265c57bfa3add13": {
      "model_module": "@jupyter-widgets/controls",
      "model_module_version": "1.4.0",
      "model_name": "DescriptionStyleModel",
      "state": {
       "description_width": ""
      }
     },
     "499b13d42c4b4f5db16d8ebb913a8fb3": {
      "model_module": "@jupyter-widgets/base",
      "model_module_version": "1.1.0",
      "model_name": "LayoutModel",
      "state": {}
     },
     "499cf52289544e41b66fae911e0d27dd": {
      "model_module": "@jupyter-widgets/base",
      "model_module_version": "1.1.0",
      "model_name": "LayoutModel",
      "state": {}
     },
     "49a1394f6d544cb58bf11ee1fa441092": {
      "model_module": "@jupyter-widgets/base",
      "model_module_version": "1.1.0",
      "model_name": "LayoutModel",
      "state": {
       "width": "100%"
      }
     },
     "49c3ba90fe924d17b61926827294a6f3": {
      "model_module": "@jupyter-widgets/controls",
      "model_module_version": "1.4.0",
      "model_name": "TabModel",
      "state": {
       "_titles": {
        "0": "Running: "
       },
       "children": [
        "IPY_MODEL_250e539ba9bb4e839cefc606ffc7c48a"
       ],
       "layout": "IPY_MODEL_fb1dbac6e4534ddbaa175c8786e54729"
      }
     },
     "49d48d0f12304a129728af94b046b80d": {
      "model_module": "@jupyter-widgets/controls",
      "model_module_version": "1.4.0",
      "model_name": "HTMLModel",
      "state": {
       "layout": "IPY_MODEL_457ac673173c4b35ad8c9b9e8feff588",
       "style": "IPY_MODEL_8667994561fd4ce38159779a5fb08a94"
      }
     },
     "49f90d5bbe814af4a95389e02be85ad0": {
      "model_module": "@jupyter-widgets/base",
      "model_module_version": "1.1.0",
      "model_name": "LayoutModel",
      "state": {}
     },
     "4a0f36ccf20e43bb81c760e23fb1e466": {
      "model_module": "@jupyter-widgets/controls",
      "model_module_version": "1.4.0",
      "model_name": "ButtonModel",
      "state": {
       "button_style": "info",
       "description": "Plot results",
       "disabled": true,
       "layout": "IPY_MODEL_0d93e57a676d4eecbf6ec4f74ec169ce",
       "style": "IPY_MODEL_b297678272754a28a874706c61124ad2"
      }
     },
     "4a3c09c3dd354eccac2eac29ce7fd213": {
      "model_module": "@jupyter-widgets/controls",
      "model_module_version": "1.4.0",
      "model_name": "VBoxModel",
      "state": {
       "children": [
        "IPY_MODEL_b24ac6c3362147bda3417e58c6561630",
        "IPY_MODEL_87faa29abcde464fb5349b2f74804d51"
       ],
       "layout": "IPY_MODEL_73a0167825c24d50a9d26df81cdfcc29"
      }
     },
     "4ae0b9df6a124e039533dab72dac7d6f": {
      "model_module": "@jupyter-widgets/base",
      "model_module_version": "1.1.0",
      "model_name": "LayoutModel",
      "state": {}
     },
     "4ae25077fc27484e885475261589cc0b": {
      "model_module": "@jupyter-widgets/base",
      "model_module_version": "1.1.0",
      "model_name": "LayoutModel",
      "state": {}
     },
     "4ae388fd253a421f94b1073cd6051b86": {
      "model_module": "@jupyter-widgets/base",
      "model_module_version": "1.1.0",
      "model_name": "LayoutModel",
      "state": {}
     },
     "4af501abbae84b99862b4a6c3a04a214": {
      "model_module": "@jupyter-widgets/base",
      "model_module_version": "1.1.0",
      "model_name": "LayoutModel",
      "state": {}
     },
     "4b11d2ef3d694d15bf1207222732dd9b": {
      "model_module": "@jupyter-widgets/controls",
      "model_module_version": "1.4.0",
      "model_name": "HTMLModel",
      "state": {
       "layout": "IPY_MODEL_015ac2255b664748be5b8584d861bc18",
       "placeholder": "0",
       "style": "IPY_MODEL_8be21d3b34254602a2ebed1a07244de2",
       "value": "...waiting to start"
      }
     },
     "4b20a0ae19d94b3c8101d350483182bd": {
      "model_module": "@jupyter-widgets/base",
      "model_module_version": "1.1.0",
      "model_name": "LayoutModel",
      "state": {}
     },
     "4b2ab5bedec846b3ae5f727331086af5": {
      "model_module": "@jupyter-widgets/base",
      "model_module_version": "1.1.0",
      "model_name": "LayoutModel",
      "state": {}
     },
     "4b4d4ea5a56f4ed289b9f161259883a9": {
      "model_module": "@jupyter-widgets/controls",
      "model_module_version": "1.4.0",
      "model_name": "ProgressStyleModel",
      "state": {
       "description_width": "initial"
      }
     },
     "4bb609b161bd40538f98736f301ecae6": {
      "model_module": "@jupyter-widgets/controls",
      "model_module_version": "1.4.0",
      "model_name": "HTMLModel",
      "state": {
       "layout": "IPY_MODEL_9b3d641061b14167b13da8a693bb5fda",
       "placeholder": "0",
       "style": "IPY_MODEL_3aa18335e4dd40d68d65e04fe8d8b901",
       "value": "Done"
      }
     },
     "4bdd636794d9476cb3cf74203484370c": {
      "model_module": "@jupyter-widgets/base",
      "model_module_version": "1.1.0",
      "model_name": "LayoutModel",
      "state": {}
     },
     "4be60cd8b75549799ddec77e014c2995": {
      "model_module": "@jupyter-widgets/controls",
      "model_module_version": "1.4.0",
      "model_name": "ProgressStyleModel",
      "state": {
       "description_width": "initial"
      }
     },
     "4bf972452cfc452f988fb88a6f4d4d38": {
      "model_module": "@jupyter-widgets/controls",
      "model_module_version": "1.4.0",
      "model_name": "HTMLModel",
      "state": {
       "layout": "IPY_MODEL_d08a83e3faa841afa8ed72be70810f1e",
       "placeholder": "",
       "style": "IPY_MODEL_a244ff6de6a547a992a6606ccf819f8d"
      }
     },
     "4c5db37e2fcb4ccea40c6caa2a62f37c": {
      "model_module": "@jupyter-widgets/base",
      "model_module_version": "1.1.0",
      "model_name": "LayoutModel",
      "state": {}
     },
     "4c60f08d6fbc4fc9ba7535ed472e307d": {
      "model_module": "@jupyter-widgets/base",
      "model_module_version": "1.1.0",
      "model_name": "LayoutModel",
      "state": {}
     },
     "4c61453163b94611a3c3a525b542c36c": {
      "model_module": "@jupyter-widgets/controls",
      "model_module_version": "1.4.0",
      "model_name": "DescriptionStyleModel",
      "state": {
       "description_width": "initial"
      }
     },
     "4c743b8685e345f5a5c63796018d5df5": {
      "model_module": "@jupyter-widgets/base",
      "model_module_version": "1.1.0",
      "model_name": "LayoutModel",
      "state": {}
     },
     "4c8b80c747c44da98c1666ff4584f734": {
      "model_module": "@jupyter-widgets/base",
      "model_module_version": "1.1.0",
      "model_name": "LayoutModel",
      "state": {}
     },
     "4c92acf64b93442da3fd82e24575b023": {
      "model_module": "@jupyter-widgets/base",
      "model_module_version": "1.1.0",
      "model_name": "LayoutModel",
      "state": {}
     },
     "4ca0d7d11b104a8a81d1846c89926221": {
      "model_module": "@jupyter-widgets/base",
      "model_module_version": "1.1.0",
      "model_name": "LayoutModel",
      "state": {}
     },
     "4cbb0ed7bc414978a405e82964432c57": {
      "model_module": "@jupyter-widgets/controls",
      "model_module_version": "1.4.0",
      "model_name": "ProgressStyleModel",
      "state": {
       "description_width": "initial"
      }
     },
     "4ceb83bea78742369711eba444cb51ed": {
      "model_module": "@jupyter-widgets/controls",
      "model_module_version": "1.4.0",
      "model_name": "HTMLModel",
      "state": {
       "layout": "IPY_MODEL_9441010d359d427996f2903ace997064",
       "style": "IPY_MODEL_9479c2c6515c4aa8ab5776cb0383a836"
      }
     },
     "4d154a916c06423b95c7da67b920e92c": {
      "model_module": "@jupyter-widgets/controls",
      "model_module_version": "1.4.0",
      "model_name": "DescriptionStyleModel",
      "state": {
       "description_width": "initial"
      }
     },
     "4d40cea288b543c897e9c6fdd5793b6f": {
      "model_module": "@jupyter-widgets/controls",
      "model_module_version": "1.4.0",
      "model_name": "HTMLModel",
      "state": {
       "layout": "IPY_MODEL_6ce8a144f7434ea89bad65103de0091d",
       "placeholder": "0",
       "style": "IPY_MODEL_5807c6cf9b0c44d69057fe51ad706175",
       "value": "...waiting to start"
      }
     },
     "4d6f3159a26945b79a4f41de2ee8d27a": {
      "model_module": "@jupyter-widgets/controls",
      "model_module_version": "1.4.0",
      "model_name": "DescriptionStyleModel",
      "state": {
       "description_width": "initial"
      }
     },
     "4d9fc9a66e964810a6e2faa0d1db1598": {
      "model_module": "@jupyter-widgets/controls",
      "model_module_version": "1.4.0",
      "model_name": "TextModel",
      "state": {
       "layout": "IPY_MODEL_99c35409b33b4dd985a1ce8406729c5e",
       "style": "IPY_MODEL_bda6292980f74fada724b341884f9280",
       "value": "nodes=1:i5-6500te"
      }
     },
     "4da7dece7cf040599f389d59047cec9b": {
      "model_module": "@jupyter-widgets/controls",
      "model_module_version": "1.4.0",
      "model_name": "ButtonModel",
      "state": {
       "button_style": "info",
       "description": "Plot results",
       "disabled": true,
       "layout": "IPY_MODEL_b90b64a71c994419a39b8bbdf18eb899",
       "style": "IPY_MODEL_300240ecf0c44eafac5c59b7da6c73eb"
      }
     },
     "4dbdfbc655684226ab8bad4b1268d0ee": {
      "model_module": "@jupyter-widgets/controls",
      "model_module_version": "1.4.0",
      "model_name": "DescriptionStyleModel",
      "state": {
       "description_width": ""
      }
     },
     "4ded730515304377b62e4f66707fcdaf": {
      "model_module": "@jupyter-widgets/controls",
      "model_module_version": "1.4.0",
      "model_name": "TabModel",
      "state": {
       "_titles": {
        "0": "Done: 18567"
       },
       "children": [
        "IPY_MODEL_07117a92c64748ba812b582a5bab1d38"
       ],
       "layout": "IPY_MODEL_e5043a884c9440b38d0ce6f2400363f2"
      }
     },
     "4e1de9eda19f451b8e906ae02394f44c": {
      "model_module": "@jupyter-widgets/controls",
      "model_module_version": "1.4.0",
      "model_name": "DescriptionStyleModel",
      "state": {
       "description_width": ""
      }
     },
     "4e5e5609110b4361ac62bc32d023c828": {
      "model_module": "@jupyter-widgets/output",
      "model_module_version": "1.0.0",
      "model_name": "OutputModel",
      "state": {
       "layout": "IPY_MODEL_123eed3c862d42eba9d10248749efb34"
      }
     },
     "4e5ee7809c03423397e6fb4ebc29f2cf": {
      "model_module": "@jupyter-widgets/base",
      "model_module_version": "1.1.0",
      "model_name": "LayoutModel",
      "state": {}
     },
     "4e624ea9868d439fb6a5dc0f27766140": {
      "model_module": "@jupyter-widgets/controls",
      "model_module_version": "1.4.0",
      "model_name": "HTMLModel",
      "state": {
       "layout": "IPY_MODEL_28068d2f4ab84cc9bf0744122577041c",
       "placeholder": "0",
       "style": "IPY_MODEL_5c78c8223892418f9ab9923c0fdb8fd4",
       "value": "Remaining: 0.1\n seconds"
      }
     },
     "4e87135a66ed43c19413be718b83c1a0": {
      "model_module": "@jupyter-widgets/base",
      "model_module_version": "1.1.0",
      "model_name": "LayoutModel",
      "state": {}
     },
     "4eb02b02411746ceb13fc5f752830bb9": {
      "model_module": "@jupyter-widgets/controls",
      "model_module_version": "1.4.0",
      "model_name": "HTMLModel",
      "state": {
       "layout": "IPY_MODEL_28f7f0eac3f64122ac84f0e58ba42c3b",
       "placeholder": "0",
       "style": "IPY_MODEL_d378dd9e80254da692cffdedfd5da59f"
      }
     },
     "4f30ebe7a8964396b144e58639902f31": {
      "model_module": "@jupyter-widgets/base",
      "model_module_version": "1.1.0",
      "model_name": "LayoutModel",
      "state": {
       "width": "100%"
      }
     },
     "4f39f267af154607bcc6e0ad7317b2cc": {
      "model_module": "@jupyter-widgets/base",
      "model_module_version": "1.1.0",
      "model_name": "LayoutModel",
      "state": {}
     },
     "4faeb3b135744e31bac0979c05528c0f": {
      "model_module": "@jupyter-widgets/controls",
      "model_module_version": "1.4.0",
      "model_name": "DescriptionStyleModel",
      "state": {
       "description_width": ""
      }
     },
     "4fccde06439845159f50b266c2a7e2d9": {
      "model_module": "@jupyter-widgets/base",
      "model_module_version": "1.1.0",
      "model_name": "LayoutModel",
      "state": {}
     },
     "4fd561104d92429ab82e15496b4ca0af": {
      "model_module": "@jupyter-widgets/controls",
      "model_module_version": "1.4.0",
      "model_name": "DescriptionStyleModel",
      "state": {
       "description_width": ""
      }
     },
     "4ffec934584f45fa8314ba00381d5a26": {
      "model_module": "@jupyter-widgets/base",
      "model_module_version": "1.1.0",
      "model_name": "LayoutModel",
      "state": {}
     },
     "507ea8cb26ad4a689b8155be3b075884": {
      "model_module": "@jupyter-widgets/controls",
      "model_module_version": "1.4.0",
      "model_name": "HTMLModel",
      "state": {
       "layout": "IPY_MODEL_31bd76409b724ccb99c2e30b30d0fbb8",
       "style": "IPY_MODEL_bc99db39fc5e4ca79ae8f82ac1b263d9",
       "value": "<table><style type=\"text/css\" scoped>td{ padding:5px; border: 1px solid #9e9e9e; line-height:1.2em;}td:first-child{font-weight:bold;}</style><tbody><tr><td>Target node</td><td>nodes=1:i5-6500te</td></tr><tr><td>Submission command</td><td>qsub test_script.sh  -l nodes=1:i5-6500te -F \"  -r results/\"</td></tr></tbody></table>"
      }
     },
     "5085afe7dd704ecab3f1b52170a909aa": {
      "model_module": "@jupyter-widgets/base",
      "model_module_version": "1.1.0",
      "model_name": "LayoutModel",
      "state": {
       "align_items": "stretch",
       "border": "",
       "display": "flex",
       "flex_flow": "column",
       "height": "",
       "width": "100%"
      }
     },
     "50a169c7502d4af1abf38b99973baf7a": {
      "model_module": "@jupyter-widgets/base",
      "model_module_version": "1.1.0",
      "model_name": "LayoutModel",
      "state": {}
     },
     "50a6ee5d58e440eca7c9d8d66b9257e6": {
      "model_module": "@jupyter-widgets/controls",
      "model_module_version": "1.4.0",
      "model_name": "HTMLModel",
      "state": {
       "layout": "IPY_MODEL_5ef422fa51a349dda76f8fe5b7e94051",
       "placeholder": "0",
       "style": "IPY_MODEL_cbd688f7eed4460180c00f00a9d161ed",
       "value": "Total estimated: 1.0\n seconds"
      }
     },
     "51095f05a990477d9473f3849df35bd8": {
      "model_module": "@jupyter-widgets/base",
      "model_module_version": "1.1.0",
      "model_name": "LayoutModel",
      "state": {}
     },
     "513f40d3871f421691269bb22c3a8c8b": {
      "model_module": "@jupyter-widgets/controls",
      "model_module_version": "1.4.0",
      "model_name": "DescriptionStyleModel",
      "state": {
       "description_width": ""
      }
     },
     "5150bdd0ef164545962603db3becd242": {
      "model_module": "@jupyter-widgets/controls",
      "model_module_version": "1.4.0",
      "model_name": "ProgressStyleModel",
      "state": {
       "description_width": "initial"
      }
     },
     "51672e11a94a4e31802180caf3dce669": {
      "model_module": "@jupyter-widgets/controls",
      "model_module_version": "1.4.0",
      "model_name": "HTMLModel",
      "state": {
       "layout": "IPY_MODEL_d0bfa6e4492e4b9cb4a8384f61ab9762",
       "placeholder": "0",
       "style": "IPY_MODEL_83a7613e9bca42fca7df41928ad7f8cc",
       "value": "...waiting to start"
      }
     },
     "51788554d59f41f1a3c04d190cbe912f": {
      "model_module": "@jupyter-widgets/base",
      "model_module_version": "1.1.0",
      "model_name": "LayoutModel",
      "state": {}
     },
     "51809140deb6476d82baec32b8286e17": {
      "model_module": "@jupyter-widgets/base",
      "model_module_version": "1.1.0",
      "model_name": "LayoutModel",
      "state": {}
     },
     "51cae3b58de24935b0ed6a7a6d02348c": {
      "model_module": "@jupyter-widgets/controls",
      "model_module_version": "1.4.0",
      "model_name": "DescriptionStyleModel",
      "state": {
       "description_width": ""
      }
     },
     "51ec3868c2bf40268d86e74c8509c4ff": {
      "model_module": "@jupyter-widgets/base",
      "model_module_version": "1.1.0",
      "model_name": "LayoutModel",
      "state": {}
     },
     "52180aa615834faea3f52d6f50e96b58": {
      "model_module": "@jupyter-widgets/controls",
      "model_module_version": "1.4.0",
      "model_name": "DescriptionStyleModel",
      "state": {
       "description_width": ""
      }
     },
     "52319b13099b4adf8768218c68f367fc": {
      "model_module": "@jupyter-widgets/base",
      "model_module_version": "1.1.0",
      "model_name": "LayoutModel",
      "state": {}
     },
     "524b2553e4ea47d1b597b63063e5c511": {
      "model_module": "@jupyter-widgets/controls",
      "model_module_version": "1.4.0",
      "model_name": "HTMLModel",
      "state": {
       "layout": "IPY_MODEL_ab10d6d0127f4ba0a9639ccf9a455f7f",
       "placeholder": "0",
       "style": "IPY_MODEL_7893c378ddc54d35aa7430c92d3baa16"
      }
     },
     "5262a0c44ffb4a7fb3a964660aac2cc7": {
      "model_module": "@jupyter-widgets/controls",
      "model_module_version": "1.4.0",
      "model_name": "DescriptionStyleModel",
      "state": {
       "description_width": ""
      }
     },
     "5286a676c8dc4f2faca4af79370c8caf": {
      "model_module": "@jupyter-widgets/controls",
      "model_module_version": "1.4.0",
      "model_name": "ButtonModel",
      "state": {
       "button_style": "info",
       "description": "Plot results",
       "layout": "IPY_MODEL_12831eabdf4244639754b63e2525b7e3",
       "style": "IPY_MODEL_667dfe760c2e46e79a81082d07e7a503"
      }
     },
     "52b6fc365ed24b9bb370673bbea974c7": {
      "model_module": "@jupyter-widgets/output",
      "model_module_version": "1.0.0",
      "model_name": "OutputModel",
      "state": {
       "layout": "IPY_MODEL_190478cb85ed431c981c7b6ce4586151"
      }
     },
     "52d5892d996547f9ad34c58edf343279": {
      "model_module": "@jupyter-widgets/base",
      "model_module_version": "1.1.0",
      "model_name": "LayoutModel",
      "state": {}
     },
     "52d9554cd422431d868aa1ae87c7e762": {
      "model_module": "@jupyter-widgets/controls",
      "model_module_version": "1.4.0",
      "model_name": "ButtonModel",
      "state": {
       "button_style": "info",
       "description": "Plot results",
       "disabled": true,
       "layout": "IPY_MODEL_222f5e8571934b35aa3a33dca208eb8d",
       "style": "IPY_MODEL_ffe1c7fc7f26438485b2b7a34e2ac7b5"
      }
     },
     "52f1d87c30624985b26cc293a7c3b052": {
      "model_module": "@jupyter-widgets/base",
      "model_module_version": "1.1.0",
      "model_name": "LayoutModel",
      "state": {}
     },
     "52f52025328b4e7a97c14aa0ff997a4f": {
      "model_module": "@jupyter-widgets/controls",
      "model_module_version": "1.4.0",
      "model_name": "TabModel",
      "state": {
       "_titles": {
        "0": "Done: 18571"
       },
       "children": [
        "IPY_MODEL_7c7db097c16c44028e8ab7c5fb53207e"
       ],
       "layout": "IPY_MODEL_6578c198100a4900aadc305336f72edb"
      }
     },
     "52feca4457d94a02940d4bdad21e6f2c": {
      "model_module": "@jupyter-widgets/controls",
      "model_module_version": "1.4.0",
      "model_name": "FloatProgressModel",
      "state": {
       "bar_style": "info",
       "description": "Progress",
       "layout": "IPY_MODEL_c0975649ffe640db8d2e15da9de80deb",
       "style": "IPY_MODEL_4be60cd8b75549799ddec77e014c2995"
      }
     },
     "536bc19b0ddb436a9e38a9c86c379dac": {
      "model_module": "@jupyter-widgets/controls",
      "model_module_version": "1.4.0",
      "model_name": "HTMLModel",
      "state": {
       "layout": "IPY_MODEL_d204982f9d3347afbc8806f7f58de398",
       "placeholder": "0",
       "style": "IPY_MODEL_05baa2d592a9481395b36f9d960fd55b",
       "value": "...waiting to start"
      }
     },
     "53809c75d11e436bb83969d3e4d537ef": {
      "model_module": "@jupyter-widgets/base",
      "model_module_version": "1.1.0",
      "model_name": "LayoutModel",
      "state": {}
     },
     "53822aee860d452588b813e77049060c": {
      "model_module": "@jupyter-widgets/controls",
      "model_module_version": "1.4.0",
      "model_name": "HTMLModel",
      "state": {
       "layout": "IPY_MODEL_781f6e956c9c4a45a7e43b19d10eb879",
       "placeholder": "0",
       "style": "IPY_MODEL_a1f1387a97ed47758acb0e0f7274a1bf",
       "value": "Done"
      }
     },
     "53e6ec842c6f4c63a583a22f2f3c571e": {
      "model_module": "@jupyter-widgets/base",
      "model_module_version": "1.1.0",
      "model_name": "LayoutModel",
      "state": {}
     },
     "53ff24e3dd73492db66ebaf105dc400f": {
      "model_module": "@jupyter-widgets/controls",
      "model_module_version": "1.4.0",
      "model_name": "TabModel",
      "state": {
       "layout": "IPY_MODEL_56be609809d74d7fb00c91468dfccbcd"
      }
     },
     "54289c5be9154793ac5076951b96ab79": {
      "model_module": "@jupyter-widgets/controls",
      "model_module_version": "1.4.0",
      "model_name": "ButtonModel",
      "state": {
       "button_style": "info",
       "description": "Submit",
       "layout": "IPY_MODEL_f2b48d7db10a4e7b9d61e7cd1bfe6c98",
       "style": "IPY_MODEL_040cbb59a71a4d928573e0ae84efead0"
      }
     },
     "5453b461740942aab04196f910cf0a13": {
      "model_module": "@jupyter-widgets/base",
      "model_module_version": "1.1.0",
      "model_name": "LayoutModel",
      "state": {}
     },
     "54cb59a90b3e4757a169964ee8ac9a06": {
      "model_module": "@jupyter-widgets/base",
      "model_module_version": "1.1.0",
      "model_name": "LayoutModel",
      "state": {}
     },
     "5506b6082a244ef189362b6dd13f2d00": {
      "model_module": "@jupyter-widgets/base",
      "model_module_version": "1.1.0",
      "model_name": "LayoutModel",
      "state": {}
     },
     "552404f968a04023bccffe7fcb60891c": {
      "model_module": "@jupyter-widgets/controls",
      "model_module_version": "1.4.0",
      "model_name": "HTMLModel",
      "state": {
       "layout": "IPY_MODEL_3dc9d0c6ca5e452b83ba51140710b030",
       "style": "IPY_MODEL_52180aa615834faea3f52d6f50e96b58",
       "value": "<span style='color:green'>&#10004;</span> Job submitted, job ID: 18662.c003"
      }
     },
     "5524e9a7ec8d47f3a6ccc405f31b19a6": {
      "model_module": "@jupyter-widgets/base",
      "model_module_version": "1.1.0",
      "model_name": "LayoutModel",
      "state": {}
     },
     "5536dc2c7ae74675a1d9e80b2b770db0": {
      "model_module": "@jupyter-widgets/controls",
      "model_module_version": "1.4.0",
      "model_name": "TextModel",
      "state": {
       "layout": "IPY_MODEL_ae05f338b73d4d7c8854e9f0b9bc6f01",
       "style": "IPY_MODEL_8800fb8c755c475a8b9c7f1b2f972e9c",
       "value": "nodes=1:i5-6500te"
      }
     },
     "556563a9cfa6446d97e83f0ac9bbbd91": {
      "model_module": "@jupyter-widgets/controls",
      "model_module_version": "1.4.0",
      "model_name": "VBoxModel",
      "state": {
       "children": [
        "IPY_MODEL_338a5566d0214bb9acd2dc113fc78416"
       ],
       "layout": "IPY_MODEL_8be83fc27db5466f84740b2dff0f522d"
      }
     },
     "5599cedcfe244bdd8fc44b923b02072a": {
      "model_module": "@jupyter-widgets/base",
      "model_module_version": "1.1.0",
      "model_name": "LayoutModel",
      "state": {}
     },
     "55b110550b934de780a5e7effa4adf95": {
      "model_module": "@jupyter-widgets/controls",
      "model_module_version": "1.4.0",
      "model_name": "ButtonStyleModel",
      "state": {}
     },
     "55dcc853f16842bbb48efb3c1e23e4eb": {
      "model_module": "@jupyter-widgets/base",
      "model_module_version": "1.1.0",
      "model_name": "LayoutModel",
      "state": {}
     },
     "55f5732a9722456f99dec55f0b539ea6": {
      "model_module": "@jupyter-widgets/controls",
      "model_module_version": "1.4.0",
      "model_name": "DescriptionStyleModel",
      "state": {
       "description_width": ""
      }
     },
     "55fbbc422336435288252cf211a42b32": {
      "model_module": "@jupyter-widgets/controls",
      "model_module_version": "1.4.0",
      "model_name": "VBoxModel",
      "state": {
       "children": [
        "IPY_MODEL_f5d31856b7da45be9d64b5571f7a759b",
        "IPY_MODEL_6418703a6c3a4a06ac0287c7d654fb6f"
       ],
       "layout": "IPY_MODEL_9a09b89046d047ddb8ba1f3dd2a4d267"
      }
     },
     "56336f5dcb814e858f9e2412c9adf7eb": {
      "model_module": "@jupyter-widgets/controls",
      "model_module_version": "1.4.0",
      "model_name": "DescriptionStyleModel",
      "state": {
       "description_width": "initial"
      }
     },
     "563e42877688488daee9712d2ad60741": {
      "model_module": "@jupyter-widgets/controls",
      "model_module_version": "1.4.0",
      "model_name": "HTMLModel",
      "state": {
       "layout": "IPY_MODEL_55dcc853f16842bbb48efb3c1e23e4eb",
       "style": "IPY_MODEL_75272e1debe44b469beba07ef203e08b",
       "value": "<table><style type=\"text/css\" scoped>td{ padding:5px; border: 1px solid #9e9e9e; line-height:1.2em;}td:first-child{font-weight:bold;}</style><tbody><tr><td>Target node</td><td>nodes=1:i5-6500te</td></tr><tr><td>Submission command</td><td>qsub test_script.sh -l   nodes=1:i5-6500te \" -F ' -r results/ '\"</td></tr></tbody></table>"
      }
     },
     "568d8c2bcc9d49fdb64ed0ab14664627": {
      "model_module": "@jupyter-widgets/base",
      "model_module_version": "1.1.0",
      "model_name": "LayoutModel",
      "state": {}
     },
     "56be609809d74d7fb00c91468dfccbcd": {
      "model_module": "@jupyter-widgets/base",
      "model_module_version": "1.1.0",
      "model_name": "LayoutModel",
      "state": {}
     },
     "56c3c6434f9345aa8202859f4e17af11": {
      "model_module": "@jupyter-widgets/base",
      "model_module_version": "1.1.0",
      "model_name": "LayoutModel",
      "state": {}
     },
     "56fb475cd5c9438597be48acd65cd82e": {
      "model_module": "@jupyter-widgets/base",
      "model_module_version": "1.1.0",
      "model_name": "LayoutModel",
      "state": {}
     },
     "572637ebf1f54f6dace6c865a1166ab3": {
      "model_module": "@jupyter-widgets/controls",
      "model_module_version": "1.4.0",
      "model_name": "ButtonModel",
      "state": {
       "button_style": "info",
       "description": "Plot results",
       "disabled": true,
       "layout": "IPY_MODEL_53e6ec842c6f4c63a583a22f2f3c571e",
       "style": "IPY_MODEL_c5ccd9ac78f84ca5acc2e6f5acc09be9"
      }
     },
     "572697f64f8a472ba48321fe0212c362": {
      "model_module": "@jupyter-widgets/controls",
      "model_module_version": "1.4.0",
      "model_name": "HTMLModel",
      "state": {
       "layout": "IPY_MODEL_96d828643e9c43bda36949c97f4f8901",
       "style": "IPY_MODEL_901d9b0d62b84d33b7634be79898cd1c",
       "value": "<table><style type=\"text/css\" scoped>td{ padding:5px; border: 1px solid #9e9e9e; line-height:1.2em;}td:first-child{font-weight:bold;}</style><tbody><tr><td>Target node</td><td>nodes=1:i5-6500te</td></tr><tr><td>Submission command</td><td>qsub test_script.sh  -l nodes=1:i5-6500te -F \"  -r results/\"</td></tr></tbody></table>"
      }
     },
     "573e432c8d084794ac5b72760f25ccfa": {
      "model_module": "@jupyter-widgets/controls",
      "model_module_version": "1.4.0",
      "model_name": "HTMLModel",
      "state": {
       "layout": "IPY_MODEL_697bdfd8a54c4a97ae4113ec51e0126c",
       "placeholder": "",
       "style": "IPY_MODEL_8b376a0814684da9b60879ed76a3754a"
      }
     },
     "57d94dbeefd242b6a17f281940de3cdb": {
      "model_module": "@jupyter-widgets/controls",
      "model_module_version": "1.4.0",
      "model_name": "VBoxModel",
      "state": {
       "children": [
        "IPY_MODEL_d37c59ae1f2a47ea95f48d23a3fc4615",
        "IPY_MODEL_536bc19b0ddb436a9e38a9c86c379dac",
        "IPY_MODEL_4982619db6184500b7fa6f83353452ca"
       ],
       "layout": "IPY_MODEL_64a0fbde6f834ee2a39878737357457e"
      }
     },
     "57ec8b377b054ccd919127f0703c050a": {
      "model_module": "@jupyter-widgets/controls",
      "model_module_version": "1.4.0",
      "model_name": "HTMLModel",
      "state": {
       "layout": "IPY_MODEL_f8f13f670c16492eb51c9a1404228060",
       "placeholder": "",
       "style": "IPY_MODEL_fe17e374eadc406cb19f0bc83d5a1d05"
      }
     },
     "5807c6cf9b0c44d69057fe51ad706175": {
      "model_module": "@jupyter-widgets/controls",
      "model_module_version": "1.4.0",
      "model_name": "DescriptionStyleModel",
      "state": {
       "description_width": "initial"
      }
     },
     "580f57690ed0410b919e4c46486f73fd": {
      "model_module": "@jupyter-widgets/base",
      "model_module_version": "1.1.0",
      "model_name": "LayoutModel",
      "state": {}
     },
     "581426cdd6ea4629b30f99fa6ceab8b6": {
      "model_module": "@jupyter-widgets/controls",
      "model_module_version": "1.4.0",
      "model_name": "LabelModel",
      "state": {
       "layout": "IPY_MODEL_f6222c6ff748458fbe8fab198e498383",
       "style": "IPY_MODEL_b67f3da7fdcd4527a96f9032f6f9462d",
       "value": "Target node"
      }
     },
     "583b5324156746438490ff3a2fe2b53e": {
      "model_module": "@jupyter-widgets/output",
      "model_module_version": "1.0.0",
      "model_name": "OutputModel",
      "state": {
       "layout": "IPY_MODEL_14a9034cae83434b92b8af67208b4c21"
      }
     },
     "58987aa92370468e80479041ae671056": {
      "model_module": "@jupyter-widgets/controls",
      "model_module_version": "1.4.0",
      "model_name": "DescriptionStyleModel",
      "state": {
       "description_width": ""
      }
     },
     "58ab4cbb062445a98f9d3588c870ba07": {
      "model_module": "@jupyter-widgets/controls",
      "model_module_version": "1.4.0",
      "model_name": "VBoxModel",
      "state": {
       "children": [
        "IPY_MODEL_b08331437d754b2c9853c5171663e445",
        "IPY_MODEL_cbdc58596cd848c6a7cb415a01e288a9",
        "IPY_MODEL_53822aee860d452588b813e77049060c"
       ],
       "layout": "IPY_MODEL_51ec3868c2bf40268d86e74c8509c4ff"
      }
     },
     "58c884267ad5472c8585e98d70c4b02a": {
      "model_module": "@jupyter-widgets/base",
      "model_module_version": "1.1.0",
      "model_name": "LayoutModel",
      "state": {}
     },
     "58df093af24646a3a0e9aa935732adee": {
      "model_module": "@jupyter-widgets/controls",
      "model_module_version": "1.4.0",
      "model_name": "VBoxModel",
      "state": {
       "children": [
        "IPY_MODEL_674e67b4e858440b83db6add51ffed51"
       ],
       "layout": "IPY_MODEL_fa56db8292b04c048cf14e9a6d44828b"
      }
     },
     "5900264473334a82a5ce337f6a5c3594": {
      "model_module": "@jupyter-widgets/base",
      "model_module_version": "1.1.0",
      "model_name": "LayoutModel",
      "state": {}
     },
     "5904ee118dfe49a8a8013471155571bd": {
      "model_module": "@jupyter-widgets/controls",
      "model_module_version": "1.4.0",
      "model_name": "VBoxModel",
      "state": {
       "children": [
        "IPY_MODEL_55fbbc422336435288252cf211a42b32"
       ],
       "layout": "IPY_MODEL_a0ccf939daa04251bedaa41440484bab"
      }
     },
     "599e87d220304d42a96e311ff1616237": {
      "model_module": "@jupyter-widgets/controls",
      "model_module_version": "1.4.0",
      "model_name": "TextModel",
      "state": {
       "layout": "IPY_MODEL_9718e88a4bbc4d5faad53b6c3229cf5d",
       "style": "IPY_MODEL_88f0818acbe44c20a0f9ee8bfd5580d9",
       "value": "nodes=1:i5-6500te"
      }
     },
     "59b57614300a4dd18038f3f01d80f0cf": {
      "model_module": "@jupyter-widgets/controls",
      "model_module_version": "1.4.0",
      "model_name": "ButtonStyleModel",
      "state": {}
     },
     "59c40849b01b40b7a15f2709d25371e7": {
      "model_module": "@jupyter-widgets/controls",
      "model_module_version": "1.4.0",
      "model_name": "HTMLModel",
      "state": {
       "layout": "IPY_MODEL_c687e72ef3c64ebe8354e11b1dbff8f4",
       "placeholder": "",
       "style": "IPY_MODEL_a65c14724c9b4128886ee2a0cb1ce855",
       "value": "...waiting to start"
      }
     },
     "59c8c228fd314f34a811676647dc2f25": {
      "model_module": "@jupyter-widgets/base",
      "model_module_version": "1.1.0",
      "model_name": "LayoutModel",
      "state": {}
     },
     "59f4ce5dc61d4e509cfcd783ecf81409": {
      "model_module": "@jupyter-widgets/base",
      "model_module_version": "1.1.0",
      "model_name": "LayoutModel",
      "state": {}
     },
     "5a3a16d7e8d5433989239e19dd408239": {
      "model_module": "@jupyter-widgets/controls",
      "model_module_version": "1.4.0",
      "model_name": "ButtonStyleModel",
      "state": {}
     },
     "5a55e9a5ff6545c78bf7238eadce1717": {
      "model_module": "@jupyter-widgets/controls",
      "model_module_version": "1.4.0",
      "model_name": "DescriptionStyleModel",
      "state": {
       "description_width": ""
      }
     },
     "5a7af34ee42642fbb32baa7b913c8630": {
      "model_module": "@jupyter-widgets/controls",
      "model_module_version": "1.4.0",
      "model_name": "ProgressStyleModel",
      "state": {
       "description_width": "initial"
      }
     },
     "5a880eb0abb842beb8458137b15354b7": {
      "model_module": "@jupyter-widgets/controls",
      "model_module_version": "1.4.0",
      "model_name": "HTMLModel",
      "state": {
       "layout": "IPY_MODEL_b2a977056e9b4c1da27788404d145991",
       "placeholder": "0",
       "style": "IPY_MODEL_8c8933b841b740e4adf78556375824ea"
      }
     },
     "5a9c5a2c4c3743439bec412775acc34c": {
      "model_module": "@jupyter-widgets/controls",
      "model_module_version": "1.4.0",
      "model_name": "FloatProgressModel",
      "state": {
       "bar_style": "info",
       "layout": "IPY_MODEL_4b2ab5bedec846b3ae5f727331086af5",
       "style": "IPY_MODEL_784d9be3f34c42ca9354402b50b209e4"
      }
     },
     "5ac3b8ca4b074d4d9c204cca67dde649": {
      "model_module": "@jupyter-widgets/controls",
      "model_module_version": "1.4.0",
      "model_name": "ButtonStyleModel",
      "state": {}
     },
     "5ae7373e6fab414e82a80a377432ed7d": {
      "model_module": "@jupyter-widgets/controls",
      "model_module_version": "1.4.0",
      "model_name": "ButtonModel",
      "state": {
       "button_style": "info",
       "description": "Display output",
       "disabled": true,
       "layout": "IPY_MODEL_91e737a6473949bcad0048b3f186f200",
       "style": "IPY_MODEL_5bddfbdfa895427ba4ac8016e280791c"
      }
     },
     "5af94edeae734e5a9c1b550e338a746c": {
      "model_module": "@jupyter-widgets/controls",
      "model_module_version": "1.4.0",
      "model_name": "DescriptionStyleModel",
      "state": {
       "description_width": ""
      }
     },
     "5b35b0f6879d430286561b3888a8b8bd": {
      "model_module": "@jupyter-widgets/controls",
      "model_module_version": "1.4.0",
      "model_name": "DescriptionStyleModel",
      "state": {
       "description_width": ""
      }
     },
     "5b42654fa6314cac99dc91f93b325879": {
      "model_module": "@jupyter-widgets/base",
      "model_module_version": "1.1.0",
      "model_name": "LayoutModel",
      "state": {}
     },
     "5b8037e182444c6ebf0f1f927b94b6ea": {
      "model_module": "@jupyter-widgets/controls",
      "model_module_version": "1.4.0",
      "model_name": "ButtonStyleModel",
      "state": {}
     },
     "5b85901e5f4e47cd8634d6d210769733": {
      "model_module": "@jupyter-widgets/controls",
      "model_module_version": "1.4.0",
      "model_name": "VBoxModel",
      "state": {
       "children": [
        "IPY_MODEL_7dbf3d3d893646bcaa0086d1e2e3aedc"
       ],
       "layout": "IPY_MODEL_061f2ff755da4334b75a24c249663334"
      }
     },
     "5bddfbdfa895427ba4ac8016e280791c": {
      "model_module": "@jupyter-widgets/controls",
      "model_module_version": "1.4.0",
      "model_name": "ButtonStyleModel",
      "state": {}
     },
     "5c144cb1532a4781b03c1bdfdf3a87b2": {
      "model_module": "@jupyter-widgets/controls",
      "model_module_version": "1.4.0",
      "model_name": "HTMLModel",
      "state": {
       "layout": "IPY_MODEL_5e3bba55975643ff9051e826d43edbdc",
       "style": "IPY_MODEL_2c974835844e4d8ea0ff9152c6fbbf45"
      }
     },
     "5c1501f586a94a8593e0e27799ae3b86": {
      "model_module": "@jupyter-widgets/controls",
      "model_module_version": "1.4.0",
      "model_name": "DescriptionStyleModel",
      "state": {
       "description_width": "initial"
      }
     },
     "5c43341c25164d31bf72ce645e11d069": {
      "model_module": "@jupyter-widgets/controls",
      "model_module_version": "1.4.0",
      "model_name": "HTMLModel",
      "state": {
       "layout": "IPY_MODEL_7ebe8bc7981949fab62379433b3dc1b4",
       "placeholder": "",
       "style": "IPY_MODEL_15bc914d09e1433ca9351ae870029267"
      }
     },
     "5c451c717a3c4d5ba30c6628127e39e3": {
      "model_module": "@jupyter-widgets/controls",
      "model_module_version": "1.4.0",
      "model_name": "ButtonModel",
      "state": {
       "button_style": "info",
       "description": "Display output",
       "layout": "IPY_MODEL_791a1aa80e224ab0872d009fe9aae13b",
       "style": "IPY_MODEL_34f92ffefcc34151b73174fc3f93a4aa"
      }
     },
     "5c5a53edfffe41518e8f7d811f5f3dc2": {
      "model_module": "@jupyter-widgets/base",
      "model_module_version": "1.1.0",
      "model_name": "LayoutModel",
      "state": {}
     },
     "5c78c8223892418f9ab9923c0fdb8fd4": {
      "model_module": "@jupyter-widgets/controls",
      "model_module_version": "1.4.0",
      "model_name": "DescriptionStyleModel",
      "state": {
       "description_width": "initial"
      }
     },
     "5cbb49330db1444d9257cc998e74bea0": {
      "model_module": "@jupyter-widgets/controls",
      "model_module_version": "1.4.0",
      "model_name": "LabelModel",
      "state": {
       "layout": "IPY_MODEL_cf443f73e5934b97a9594a829408a105",
       "style": "IPY_MODEL_47b60b9e86fb43e2ae2b517d7672e127",
       "value": "Target node"
      }
     },
     "5ce3df4bbe824484bb5e03ff60704e9a": {
      "model_module": "@jupyter-widgets/controls",
      "model_module_version": "1.4.0",
      "model_name": "HBoxModel",
      "state": {
       "children": [
        "IPY_MODEL_507ea8cb26ad4a689b8155be3b075884",
        "IPY_MODEL_f3d3ef6843a7429b90c6755bb766244c",
        "IPY_MODEL_5c451c717a3c4d5ba30c6628127e39e3",
        "IPY_MODEL_2507d49ca82b405381338df10d248dca"
       ],
       "layout": "IPY_MODEL_740e6cb5dbfc4c8287623a0594df28e1"
      }
     },
     "5cef84f556014f6f9ce727947e33869d": {
      "model_module": "@jupyter-widgets/base",
      "model_module_version": "1.1.0",
      "model_name": "LayoutModel",
      "state": {}
     },
     "5cf4a5edf621443cabf06a99a0c14fd2": {
      "model_module": "@jupyter-widgets/base",
      "model_module_version": "1.1.0",
      "model_name": "LayoutModel",
      "state": {
       "align_items": "stretch",
       "border": "",
       "display": "flex",
       "flex_flow": "column",
       "height": "",
       "width": "100%"
      }
     },
     "5cf711162fda4329990a9950a7654e8a": {
      "model_module": "@jupyter-widgets/output",
      "model_module_version": "1.0.0",
      "model_name": "OutputModel",
      "state": {
       "layout": "IPY_MODEL_ce758660eb9c435e9abbbe0f298c78b0"
      }
     },
     "5d020d3edf90476598bd40815b1c4c62": {
      "model_module": "@jupyter-widgets/base",
      "model_module_version": "1.1.0",
      "model_name": "LayoutModel",
      "state": {}
     },
     "5d38bc7dcde949748baa3064802df6b6": {
      "model_module": "@jupyter-widgets/controls",
      "model_module_version": "1.4.0",
      "model_name": "FloatProgressModel",
      "state": {
       "bar_style": "info",
       "description": "Progress",
       "layout": "IPY_MODEL_a0bd105fb1d5431db3f3b1c725ca563b",
       "style": "IPY_MODEL_4b4d4ea5a56f4ed289b9f161259883a9"
      }
     },
     "5d6ae44bb83d4c75827c5c38e5e284b5": {
      "model_module": "@jupyter-widgets/base",
      "model_module_version": "1.1.0",
      "model_name": "LayoutModel",
      "state": {
       "align_items": "stretch",
       "border": "",
       "display": "flex",
       "flex_flow": "column",
       "height": "",
       "width": "100%"
      }
     },
     "5d7da37801da40d983bac00e18fd59b6": {
      "model_module": "@jupyter-widgets/controls",
      "model_module_version": "1.4.0",
      "model_name": "DescriptionStyleModel",
      "state": {
       "description_width": "initial"
      }
     },
     "5d8077b43b784060a1b3e1dd08929cf6": {
      "model_module": "@jupyter-widgets/controls",
      "model_module_version": "1.4.0",
      "model_name": "HTMLModel",
      "state": {
       "layout": "IPY_MODEL_1a1ec4db5b754bd3962dd1bce24067c9",
       "placeholder": "0",
       "style": "IPY_MODEL_6feccbe0632c4c409bbdf1e5a95eece8",
       "value": "...waiting to start"
      }
     },
     "5d97cdb3849a49d6930b77d3b9f02564": {
      "model_module": "@jupyter-widgets/controls",
      "model_module_version": "1.4.0",
      "model_name": "ButtonModel",
      "state": {
       "button_style": "info",
       "description": "Plot results",
       "disabled": true,
       "layout": "IPY_MODEL_85c3968c6dd845dbb8fa1e1b68e23c42",
       "style": "IPY_MODEL_691b1d9ab95947658b22586cb8700ad0"
      }
     },
     "5d9b1101f2974152b8a7defbccac3324": {
      "model_module": "@jupyter-widgets/controls",
      "model_module_version": "1.4.0",
      "model_name": "TabModel",
      "state": {
       "_titles": {
        "0": "Done: 18820"
       },
       "children": [
        "IPY_MODEL_5ce3df4bbe824484bb5e03ff60704e9a"
       ],
       "layout": "IPY_MODEL_2ab94794acb44ddf920d24b6d050e508"
      }
     },
     "5df78f034c6a4f4caf2734f95c766e91": {
      "model_module": "@jupyter-widgets/controls",
      "model_module_version": "1.4.0",
      "model_name": "HTMLModel",
      "state": {
       "layout": "IPY_MODEL_88e3ad272a72422ab4b56bb54d36573f",
       "style": "IPY_MODEL_b2fc780a9f6847d383bfd71388d411d9"
      }
     },
     "5e3bba55975643ff9051e826d43edbdc": {
      "model_module": "@jupyter-widgets/base",
      "model_module_version": "1.1.0",
      "model_name": "LayoutModel",
      "state": {}
     },
     "5e44b4696957409dbf3c4056e6a75849": {
      "model_module": "@jupyter-widgets/base",
      "model_module_version": "1.1.0",
      "model_name": "LayoutModel",
      "state": {}
     },
     "5e7c3f4d62ba415598f6076d4b7006b0": {
      "model_module": "@jupyter-widgets/base",
      "model_module_version": "1.1.0",
      "model_name": "LayoutModel",
      "state": {}
     },
     "5e9d422c42064bfc8c3c2ea6e2b3bea7": {
      "model_module": "@jupyter-widgets/base",
      "model_module_version": "1.1.0",
      "model_name": "LayoutModel",
      "state": {}
     },
     "5ea508702ee9488a88346a26d35ab5c0": {
      "model_module": "@jupyter-widgets/base",
      "model_module_version": "1.1.0",
      "model_name": "LayoutModel",
      "state": {}
     },
     "5eb174e3098244b1af4751284dce6e96": {
      "model_module": "@jupyter-widgets/base",
      "model_module_version": "1.1.0",
      "model_name": "LayoutModel",
      "state": {}
     },
     "5ef422fa51a349dda76f8fe5b7e94051": {
      "model_module": "@jupyter-widgets/base",
      "model_module_version": "1.1.0",
      "model_name": "LayoutModel",
      "state": {}
     },
     "5f14cd67ccce44e09ffc6c239d45e4d9": {
      "model_module": "@jupyter-widgets/base",
      "model_module_version": "1.1.0",
      "model_name": "LayoutModel",
      "state": {
       "align_items": "stretch",
       "border": "ridge",
       "display": "flex",
       "flex_flow": "column",
       "height": "",
       "width": "100%"
      }
     },
     "5fb9a78f73294d0d9998e57d31d4266c": {
      "model_module": "@jupyter-widgets/base",
      "model_module_version": "1.1.0",
      "model_name": "LayoutModel",
      "state": {
       "width": "100%"
      }
     },
     "600707b0b4364dd5a1a9084eda626ef7": {
      "model_module": "@jupyter-widgets/controls",
      "model_module_version": "1.4.0",
      "model_name": "HTMLModel",
      "state": {
       "layout": "IPY_MODEL_ff9e454799df4b659da84d58acb7e24e",
       "placeholder": "0",
       "style": "IPY_MODEL_333d77d13ab340d2b66efb2464a603b7",
       "value": "Total estimated: 1.0\n seconds"
      }
     },
     "600e22c143184b16adb2142bc836554c": {
      "model_module": "@jupyter-widgets/base",
      "model_module_version": "1.1.0",
      "model_name": "LayoutModel",
      "state": {}
     },
     "6043aacb9e1c4076b6c4071e70d15f45": {
      "model_module": "@jupyter-widgets/base",
      "model_module_version": "1.1.0",
      "model_name": "LayoutModel",
      "state": {}
     },
     "606694a40b8942b3af8223c8cd45737e": {
      "model_module": "@jupyter-widgets/base",
      "model_module_version": "1.1.0",
      "model_name": "LayoutModel",
      "state": {}
     },
     "60a639cd68114ae4a6d8ad7bfd5ec704": {
      "model_module": "@jupyter-widgets/controls",
      "model_module_version": "1.4.0",
      "model_name": "TabModel",
      "state": {
       "_titles": {
        "0": "Queued: 18667"
       },
       "children": [
        "IPY_MODEL_9c0aabac9f204d20bfb1738fd1fc14dc"
       ],
       "layout": "IPY_MODEL_3604a03cb0e2450d88e1c729db75e19c"
      }
     },
     "60affe49407a4811aa1b7e17fc5ac1f0": {
      "model_module": "@jupyter-widgets/base",
      "model_module_version": "1.1.0",
      "model_name": "LayoutModel",
      "state": {
       "align_items": "stretch",
       "border": "ridge",
       "display": "flex",
       "flex_flow": "column",
       "height": "",
       "width": "100%"
      }
     },
     "60ce50d86d6949ef8d68b96fe5fd6d66": {
      "model_module": "@jupyter-widgets/controls",
      "model_module_version": "1.4.0",
      "model_name": "VBoxModel",
      "state": {
       "children": [
        "IPY_MODEL_952b04a7310f47bc94bd6cf6ec9da079"
       ],
       "layout": "IPY_MODEL_44f4825265b14036ba6f5a7b180c8cb3"
      }
     },
     "60da8f99201c4ed2887f9fa3cd3a0f26": {
      "model_module": "@jupyter-widgets/base",
      "model_module_version": "1.1.0",
      "model_name": "LayoutModel",
      "state": {}
     },
     "60fbe65308194632acb6490ac628df16": {
      "model_module": "@jupyter-widgets/controls",
      "model_module_version": "1.4.0",
      "model_name": "HTMLModel",
      "state": {
       "layout": "IPY_MODEL_3c9a5935b8e3468eba80f8e79a3a1278",
       "placeholder": "",
       "style": "IPY_MODEL_0518c77ec1cf40fea442556c22d19eb9"
      }
     },
     "610eaa60fdea4b8eb1920bb60812ccac": {
      "model_module": "@jupyter-widgets/controls",
      "model_module_version": "1.4.0",
      "model_name": "DescriptionStyleModel",
      "state": {
       "description_width": ""
      }
     },
     "61472faffe924e50a3259006b39a9e30": {
      "model_module": "@jupyter-widgets/controls",
      "model_module_version": "1.4.0",
      "model_name": "ButtonStyleModel",
      "state": {}
     },
     "6165cbb130e447fd80b705b134deaa79": {
      "model_module": "@jupyter-widgets/controls",
      "model_module_version": "1.4.0",
      "model_name": "HBoxModel",
      "state": {
       "children": [
        "IPY_MODEL_7a053ef4bf504a4891172937cd439fdc",
        "IPY_MODEL_1f676718e8744b8799a30b67ba0cefda",
        "IPY_MODEL_9dac9d9e465b4306ab54d44836526d5f",
        "IPY_MODEL_6937593360404316871ebd58c0c3a997",
        "IPY_MODEL_c8412d87f3f44a1f86a852e725f44a17",
        "IPY_MODEL_7d86e23df14e455390125de948b1930a"
       ],
       "layout": "IPY_MODEL_f7b2f1eddcaa4a0b8b2e68f5b21aee9c"
      }
     },
     "618becad3a2d4813b8c71a370e06ab3f": {
      "model_module": "@jupyter-widgets/base",
      "model_module_version": "1.1.0",
      "model_name": "LayoutModel",
      "state": {}
     },
     "61c19fd30a164fa6a30142b6922d388f": {
      "model_module": "@jupyter-widgets/controls",
      "model_module_version": "1.4.0",
      "model_name": "TabModel",
      "state": {
       "layout": "IPY_MODEL_76eb3c4f1a574abdb2f01265fb07e182"
      }
     },
     "61ce1b1a0f0b447897d3d327cf94f662": {
      "model_module": "@jupyter-widgets/controls",
      "model_module_version": "1.4.0",
      "model_name": "DescriptionStyleModel",
      "state": {
       "description_width": ""
      }
     },
     "62003d470600458dbbfcfca54727681e": {
      "model_module": "@jupyter-widgets/controls",
      "model_module_version": "1.4.0",
      "model_name": "HTMLModel",
      "state": {
       "layout": "IPY_MODEL_ff4a88a720e84f03af0b4c0d759eae21",
       "style": "IPY_MODEL_8f272793df0d41a4a525d90db58a0bda",
       "value": "<table><style type=\"text/css\" scoped>td{ padding:5px; border: 1px solid #9e9e9e; line-height:1.2em;}td:first-child{font-weight:bold;}</style><tbody><tr><td>Target node</td><td>nodes=1:i5-6500te</td></tr><tr><td>Submission command</td><td>qsub test_script.sh  -l nodes=1:i5-6500te -F \"  -r results/\"</td></tr></tbody></table>"
      }
     },
     "6209fce599e14b59b3b9b97fd087a809": {
      "model_module": "@jupyter-widgets/controls",
      "model_module_version": "1.4.0",
      "model_name": "LabelModel",
      "state": {
       "layout": "IPY_MODEL_2fba1841091e436fb4ecf5974a30fd6b",
       "style": "IPY_MODEL_2229db9b367f4368b6fac7d48769a8f0",
       "value": "Target node"
      }
     },
     "624be1cf8ca142229d70bd152c8eb945": {
      "model_module": "@jupyter-widgets/controls",
      "model_module_version": "1.4.0",
      "model_name": "DescriptionStyleModel",
      "state": {
       "description_width": ""
      }
     },
     "625deec690f1437494cb333f2d57f59b": {
      "model_module": "@jupyter-widgets/base",
      "model_module_version": "1.1.0",
      "model_name": "LayoutModel",
      "state": {}
     },
     "626f6c059b1f42ffa1e31698523359d7": {
      "model_module": "@jupyter-widgets/base",
      "model_module_version": "1.1.0",
      "model_name": "LayoutModel",
      "state": {}
     },
     "6307c602109348ea9c1bd98dae4a0acc": {
      "model_module": "@jupyter-widgets/controls",
      "model_module_version": "1.4.0",
      "model_name": "DescriptionStyleModel",
      "state": {
       "description_width": ""
      }
     },
     "6311535a32a14a72b0ee0ac4fb9cd645": {
      "model_module": "@jupyter-widgets/controls",
      "model_module_version": "1.4.0",
      "model_name": "ButtonStyleModel",
      "state": {}
     },
     "6350928143394052b87288f4cefbdf98": {
      "model_module": "@jupyter-widgets/base",
      "model_module_version": "1.1.0",
      "model_name": "LayoutModel",
      "state": {}
     },
     "635360ac387f47cd99c9d6831d3406e1": {
      "model_module": "@jupyter-widgets/controls",
      "model_module_version": "1.4.0",
      "model_name": "HTMLModel",
      "state": {
       "layout": "IPY_MODEL_3d179c81a08f4681ab8d3404a4767f32",
       "style": "IPY_MODEL_c645007522294413a4a2dc71de586ab9",
       "value": "<span style='color:green'>&#10004;</span> Job submitted, job ID: 18669.c003"
      }
     },
     "636728b47d4f4a6f99d596edbf1ac68a": {
      "model_module": "@jupyter-widgets/controls",
      "model_module_version": "1.4.0",
      "model_name": "HTMLModel",
      "state": {
       "layout": "IPY_MODEL_9c24e2f530c842668b6b0d9c16956d23",
       "style": "IPY_MODEL_6c4d9a611cf24380ae73ce82e8b44177"
      }
     },
     "636f54e3c443404786de2afad0fcbbe7": {
      "model_module": "@jupyter-widgets/base",
      "model_module_version": "1.1.0",
      "model_name": "LayoutModel",
      "state": {}
     },
     "63fa55c5cd2e49b9954b77e5f3d08eff": {
      "model_module": "@jupyter-widgets/base",
      "model_module_version": "1.1.0",
      "model_name": "LayoutModel",
      "state": {}
     },
     "6418703a6c3a4a06ac0287c7d654fb6f": {
      "model_module": "@jupyter-widgets/controls",
      "model_module_version": "1.4.0",
      "model_name": "TextModel",
      "state": {
       "layout": "IPY_MODEL_a399dfce8ba34fc198e53866298548c4",
       "style": "IPY_MODEL_916972a3951a415aa4210d107bb84ec0",
       "value": "nodes=1:i5-6500te"
      }
     },
     "643baab7f49641a8b9956bc5470fe085": {
      "model_module": "@jupyter-widgets/controls",
      "model_module_version": "1.4.0",
      "model_name": "HTMLModel",
      "state": {
       "layout": "IPY_MODEL_0c140d45d0ba4316a5015e0f8cd53595",
       "style": "IPY_MODEL_eb86e501bc9341a09c20f14de0ebf7e9"
      }
     },
     "644af076fc4c475983c9ee458b7a1b5b": {
      "model_module": "@jupyter-widgets/base",
      "model_module_version": "1.1.0",
      "model_name": "LayoutModel",
      "state": {}
     },
     "6459f85f6df7440ebe2dedf72c111b3a": {
      "model_module": "@jupyter-widgets/controls",
      "model_module_version": "1.4.0",
      "model_name": "ButtonStyleModel",
      "state": {}
     },
     "64a0fbde6f834ee2a39878737357457e": {
      "model_module": "@jupyter-widgets/base",
      "model_module_version": "1.1.0",
      "model_name": "LayoutModel",
      "state": {}
     },
     "64b0293e99b948d4b516eb6e7a94e2d2": {
      "model_module": "@jupyter-widgets/base",
      "model_module_version": "1.1.0",
      "model_name": "LayoutModel",
      "state": {}
     },
     "64ba8e55a64544acb34d232e290df625": {
      "model_module": "@jupyter-widgets/controls",
      "model_module_version": "1.4.0",
      "model_name": "HTMLModel",
      "state": {
       "layout": "IPY_MODEL_66bbf433b4fe4c7d9fa007400284ad41",
       "placeholder": "0",
       "style": "IPY_MODEL_e0babce248304017807748413a7d5274",
       "value": "Done"
      }
     },
     "64db2828625145a5b9f95db111432664": {
      "model_module": "@jupyter-widgets/base",
      "model_module_version": "1.1.0",
      "model_name": "LayoutModel",
      "state": {
       "width": "100%"
      }
     },
     "64e516e1258d4d58b0dee293e48bc6d0": {
      "model_module": "@jupyter-widgets/controls",
      "model_module_version": "1.4.0",
      "model_name": "DescriptionStyleModel",
      "state": {
       "description_width": "initial"
      }
     },
     "65171c2d151b4d18897e62278af79c27": {
      "model_module": "@jupyter-widgets/controls",
      "model_module_version": "1.4.0",
      "model_name": "DescriptionStyleModel",
      "state": {
       "description_width": "initial"
      }
     },
     "6538ac53849749089dc5d1cedb2b7ebf": {
      "model_module": "@jupyter-widgets/controls",
      "model_module_version": "1.4.0",
      "model_name": "ButtonStyleModel",
      "state": {}
     },
     "655a915fdbd34da297de924aa8203e5d": {
      "model_module": "@jupyter-widgets/controls",
      "model_module_version": "1.4.0",
      "model_name": "DescriptionStyleModel",
      "state": {
       "description_width": ""
      }
     },
     "6578c198100a4900aadc305336f72edb": {
      "model_module": "@jupyter-widgets/base",
      "model_module_version": "1.1.0",
      "model_name": "LayoutModel",
      "state": {}
     },
     "65b60938573b4ddda3e1c590f8e6fc2f": {
      "model_module": "@jupyter-widgets/controls",
      "model_module_version": "1.4.0",
      "model_name": "DescriptionStyleModel",
      "state": {
       "description_width": "initial"
      }
     },
     "66595af163cd403d92d4d73c5f4001c4": {
      "model_module": "@jupyter-widgets/controls",
      "model_module_version": "1.4.0",
      "model_name": "DescriptionStyleModel",
      "state": {
       "description_width": ""
      }
     },
     "66742a63fa78499fb62e41f834275150": {
      "model_module": "@jupyter-widgets/base",
      "model_module_version": "1.1.0",
      "model_name": "LayoutModel",
      "state": {}
     },
     "667dfe760c2e46e79a81082d07e7a503": {
      "model_module": "@jupyter-widgets/controls",
      "model_module_version": "1.4.0",
      "model_name": "ButtonStyleModel",
      "state": {}
     },
     "66bbf433b4fe4c7d9fa007400284ad41": {
      "model_module": "@jupyter-widgets/base",
      "model_module_version": "1.1.0",
      "model_name": "LayoutModel",
      "state": {}
     },
     "671e4bd3bb88458fa75a181672e3a265": {
      "model_module": "@jupyter-widgets/controls",
      "model_module_version": "1.4.0",
      "model_name": "TabModel",
      "state": {
       "_titles": {
        "0": "Done: 18566",
        "1": "Running: 18565"
       },
       "children": [
        "IPY_MODEL_f0a57705711846a8831e75814df0bfeb",
        "IPY_MODEL_3153aa45d48e431b859fbe4c762dd5b5"
       ],
       "layout": "IPY_MODEL_4b20a0ae19d94b3c8101d350483182bd"
      }
     },
     "674e67b4e858440b83db6add51ffed51": {
      "model_module": "@jupyter-widgets/controls",
      "model_module_version": "1.4.0",
      "model_name": "VBoxModel",
      "state": {
       "children": [
        "IPY_MODEL_7c7b861f1b054c5fa2ad6596e20b5034",
        "IPY_MODEL_2efdbf1836e945f7bec315c35346d5f1"
       ],
       "layout": "IPY_MODEL_caaf73613a5e481fb9e38fecee2b5fc2"
      }
     },
     "6764d4af3efe42bfbf84aba456f37b75": {
      "model_module": "@jupyter-widgets/base",
      "model_module_version": "1.1.0",
      "model_name": "LayoutModel",
      "state": {}
     },
     "67950bfef29446698874f379cd1d4a11": {
      "model_module": "@jupyter-widgets/controls",
      "model_module_version": "1.4.0",
      "model_name": "LabelModel",
      "state": {
       "layout": "IPY_MODEL_a90e382498124720ae10b4365eaff613",
       "style": "IPY_MODEL_624be1cf8ca142229d70bd152c8eb945",
       "value": "Target node"
      }
     },
     "67b6a25ffaee4db2a41a9bb7b1d86ee1": {
      "model_module": "@jupyter-widgets/controls",
      "model_module_version": "1.4.0",
      "model_name": "ButtonModel",
      "state": {
       "button_style": "info",
       "description": "Plot results",
       "layout": "IPY_MODEL_2444de41c6304f99af28503477e0d751",
       "style": "IPY_MODEL_a11dcd4a801d4e429ce0ebdcd889ff6b"
      }
     },
     "683003b679a64a0bb46d23181a049e0b": {
      "model_module": "@jupyter-widgets/controls",
      "model_module_version": "1.4.0",
      "model_name": "HTMLModel",
      "state": {
       "layout": "IPY_MODEL_47f9da4ab4ea4938bc0a14a5d3497561",
       "style": "IPY_MODEL_bb53647fe9584ef7afaf7696674b50dd"
      }
     },
     "68411e094b9549db8078b8795f80802d": {
      "model_module": "@jupyter-widgets/output",
      "model_module_version": "1.0.0",
      "model_name": "OutputModel",
      "state": {
       "layout": "IPY_MODEL_c5d241f7cfdf4d3ca7241681192a3a3b"
      }
     },
     "6846d30f8c6446e2b5dd1838ead5dbe7": {
      "model_module": "@jupyter-widgets/controls",
      "model_module_version": "1.4.0",
      "model_name": "HTMLModel",
      "state": {
       "layout": "IPY_MODEL_2c2f00ba55ae4fd590521977ebba64de",
       "style": "IPY_MODEL_5af94edeae734e5a9c1b550e338a746c",
       "value": "<table><style type=\"text/css\" scoped>td{ padding:5px; border: 1px solid #9e9e9e; line-height:1.2em;}td:first-child{font-weight:bold;}</style><tbody><tr><td>Target node</td><td>nodes=1:i5-6500te</td></tr><tr><td>Submission command</td><td>qsub test_script.sh -l   nodes=1:i5-6500te  -F ' -r results/ '</td></tr></tbody></table>"
      }
     },
     "6884607f3f7749fea9406da2797ba668": {
      "model_module": "@jupyter-widgets/controls",
      "model_module_version": "1.4.0",
      "model_name": "LabelModel",
      "state": {
       "layout": "IPY_MODEL_5e9d422c42064bfc8c3c2ea6e2b3bea7",
       "style": "IPY_MODEL_6307c602109348ea9c1bd98dae4a0acc",
       "value": "Target node"
      }
     },
     "68c4032a90f548c984fc5352bfa80eac": {
      "model_module": "@jupyter-widgets/controls",
      "model_module_version": "1.4.0",
      "model_name": "ButtonStyleModel",
      "state": {}
     },
     "68d52a185b4c4b19b7b649c1b61f3a8a": {
      "model_module": "@jupyter-widgets/controls",
      "model_module_version": "1.4.0",
      "model_name": "DescriptionStyleModel",
      "state": {
       "description_width": ""
      }
     },
     "691b1d9ab95947658b22586cb8700ad0": {
      "model_module": "@jupyter-widgets/controls",
      "model_module_version": "1.4.0",
      "model_name": "ButtonStyleModel",
      "state": {}
     },
     "691e3fe9e1b94b72b695fe12ce1e5ddc": {
      "model_module": "@jupyter-widgets/base",
      "model_module_version": "1.1.0",
      "model_name": "LayoutModel",
      "state": {}
     },
     "692e20b989014299a852b8e681103e6f": {
      "model_module": "@jupyter-widgets/base",
      "model_module_version": "1.1.0",
      "model_name": "LayoutModel",
      "state": {}
     },
     "6937593360404316871ebd58c0c3a997": {
      "model_module": "@jupyter-widgets/controls",
      "model_module_version": "1.4.0",
      "model_name": "HTMLModel",
      "state": {
       "layout": "IPY_MODEL_3aaadf24357c44efb11ab73d89f786ca",
       "placeholder": "0",
       "style": "IPY_MODEL_65171c2d151b4d18897e62278af79c27",
       "value": "Done"
      }
     },
     "6941d9244d1b47c897cc17397dc8cbf7": {
      "model_module": "@jupyter-widgets/controls",
      "model_module_version": "1.4.0",
      "model_name": "HTMLModel",
      "state": {
       "layout": "IPY_MODEL_0772d63ec17a4c0da8592840b5a65f97",
       "placeholder": "0",
       "style": "IPY_MODEL_3bbb7374df8e4977ae98d0f13f826286"
      }
     },
     "695f6120aab3449bbd503cc37454cfdd": {
      "model_module": "@jupyter-widgets/output",
      "model_module_version": "1.0.0",
      "model_name": "OutputModel",
      "state": {
       "layout": "IPY_MODEL_ac60ee4a19094d0f9c8ab39b03c314d9"
      }
     },
     "697bdfd8a54c4a97ae4113ec51e0126c": {
      "model_module": "@jupyter-widgets/base",
      "model_module_version": "1.1.0",
      "model_name": "LayoutModel",
      "state": {}
     },
     "6986b895fce64ff18955180fa8db64e2": {
      "model_module": "@jupyter-widgets/controls",
      "model_module_version": "1.4.0",
      "model_name": "DescriptionStyleModel",
      "state": {
       "description_width": ""
      }
     },
     "69b872ba6b68405b94441416a2df147c": {
      "model_module": "@jupyter-widgets/controls",
      "model_module_version": "1.4.0",
      "model_name": "DescriptionStyleModel",
      "state": {
       "description_width": ""
      }
     },
     "69c09899302e449494dcb846616ff4dc": {
      "model_module": "@jupyter-widgets/controls",
      "model_module_version": "1.4.0",
      "model_name": "DescriptionStyleModel",
      "state": {
       "description_width": ""
      }
     },
     "69d5a414f921491284fd0f3acd21a57c": {
      "model_module": "@jupyter-widgets/base",
      "model_module_version": "1.1.0",
      "model_name": "LayoutModel",
      "state": {}
     },
     "69f003862733499488cd986bd92ddc24": {
      "model_module": "@jupyter-widgets/controls",
      "model_module_version": "1.4.0",
      "model_name": "ButtonStyleModel",
      "state": {}
     },
     "69f0ad73370f42e88b8be6f6de5710d9": {
      "model_module": "@jupyter-widgets/controls",
      "model_module_version": "1.4.0",
      "model_name": "DescriptionStyleModel",
      "state": {
       "description_width": ""
      }
     },
     "69ff569d15ae475cbda58fd3cf1b2b63": {
      "model_module": "@jupyter-widgets/base",
      "model_module_version": "1.1.0",
      "model_name": "LayoutModel",
      "state": {
       "width": "100%"
      }
     },
     "6a0022738fb04654ad7d7a06842b0d0c": {
      "model_module": "@jupyter-widgets/controls",
      "model_module_version": "1.4.0",
      "model_name": "LabelModel",
      "state": {
       "layout": "IPY_MODEL_9645cfa45f4f4df59874f82c07040283",
       "style": "IPY_MODEL_db70561d5a354ac3a3e93fa3113432a5",
       "value": "Target node"
      }
     },
     "6a038440be9f43c095a6cc4eb0b19701": {
      "model_module": "@jupyter-widgets/controls",
      "model_module_version": "1.4.0",
      "model_name": "ButtonStyleModel",
      "state": {}
     },
     "6a14f265f4d64c02944356a2f5f20de6": {
      "model_module": "@jupyter-widgets/controls",
      "model_module_version": "1.4.0",
      "model_name": "DescriptionStyleModel",
      "state": {
       "description_width": "initial"
      }
     },
     "6a18fecd8b3141d7b4afa45bc0021e7d": {
      "model_module": "@jupyter-widgets/base",
      "model_module_version": "1.1.0",
      "model_name": "LayoutModel",
      "state": {}
     },
     "6a2cb0d451d44524b0207db97bf9399e": {
      "model_module": "@jupyter-widgets/controls",
      "model_module_version": "1.4.0",
      "model_name": "HTMLModel",
      "state": {
       "layout": "IPY_MODEL_58c884267ad5472c8585e98d70c4b02a",
       "placeholder": "0",
       "style": "IPY_MODEL_8ea57653eb184a1c88d321ea5ad81ddb",
       "value": "...waiting to start"
      }
     },
     "6a85ec677b2a42aa8103bde14f68a40c": {
      "model_module": "@jupyter-widgets/controls",
      "model_module_version": "1.4.0",
      "model_name": "DescriptionStyleModel",
      "state": {
       "description_width": "initial"
      }
     },
     "6aa2a13fc78147a5a92bf8e5a85437b9": {
      "model_module": "@jupyter-widgets/controls",
      "model_module_version": "1.4.0",
      "model_name": "HTMLModel",
      "state": {
       "layout": "IPY_MODEL_b5091b2595d949eb85f41a5afbf35e97",
       "style": "IPY_MODEL_e64f71a70d2e415db13e84a3abfa07a2",
       "value": "<span style='color:green'>&#10004;</span> Job submitted, job ID: 18571.c003"
      }
     },
     "6aa511bfccd448c6a60278ad1be1e998": {
      "model_module": "@jupyter-widgets/base",
      "model_module_version": "1.1.0",
      "model_name": "LayoutModel",
      "state": {}
     },
     "6adba240403b431082644edbdfdad403": {
      "model_module": "@jupyter-widgets/base",
      "model_module_version": "1.1.0",
      "model_name": "LayoutModel",
      "state": {}
     },
     "6ae6770161a240489236af9347f14c58": {
      "model_module": "@jupyter-widgets/base",
      "model_module_version": "1.1.0",
      "model_name": "LayoutModel",
      "state": {}
     },
     "6b2debb2b580435391afebe1a7937b10": {
      "model_module": "@jupyter-widgets/base",
      "model_module_version": "1.1.0",
      "model_name": "LayoutModel",
      "state": {}
     },
     "6b789f10e4a24866ab38a3dd299e8c02": {
      "model_module": "@jupyter-widgets/controls",
      "model_module_version": "1.4.0",
      "model_name": "ButtonModel",
      "state": {
       "button_style": "info",
       "description": "Submit",
       "layout": "IPY_MODEL_4ae25077fc27484e885475261589cc0b",
       "style": "IPY_MODEL_ef230c31323143c4a7a93eab7aed1751"
      }
     },
     "6b84158a93984765a5b901a5e6fb54d8": {
      "model_module": "@jupyter-widgets/base",
      "model_module_version": "1.1.0",
      "model_name": "LayoutModel",
      "state": {}
     },
     "6b8c8e8d82fc43eca3c488f806bf20b1": {
      "model_module": "@jupyter-widgets/base",
      "model_module_version": "1.1.0",
      "model_name": "LayoutModel",
      "state": {
       "align_items": "stretch",
       "border": "",
       "display": "flex",
       "flex_flow": "column",
       "height": "",
       "width": "100%"
      }
     },
     "6b91fa02727b4daf9d67c056ce4862f6": {
      "model_module": "@jupyter-widgets/controls",
      "model_module_version": "1.4.0",
      "model_name": "ButtonStyleModel",
      "state": {}
     },
     "6bd4ba4de769431bb8c02c0758d929e2": {
      "model_module": "@jupyter-widgets/controls",
      "model_module_version": "1.4.0",
      "model_name": "VBoxModel",
      "state": {
       "children": [
        "IPY_MODEL_adc8f30cfd2a4b388be501c1d08e258e"
       ],
       "layout": "IPY_MODEL_7bc8350d88be4d37a29b61b4b576a066"
      }
     },
     "6bddad012af34059b01e0f4b4103b6fb": {
      "model_module": "@jupyter-widgets/base",
      "model_module_version": "1.1.0",
      "model_name": "LayoutModel",
      "state": {
       "width": "100%"
      }
     },
     "6c4d9a611cf24380ae73ce82e8b44177": {
      "model_module": "@jupyter-widgets/controls",
      "model_module_version": "1.4.0",
      "model_name": "DescriptionStyleModel",
      "state": {
       "description_width": ""
      }
     },
     "6c556b2db8d148f599649827e195818a": {
      "model_module": "@jupyter-widgets/controls",
      "model_module_version": "1.4.0",
      "model_name": "DescriptionStyleModel",
      "state": {
       "description_width": ""
      }
     },
     "6c8673a1f52842af8bb0c7186bc15ec3": {
      "model_module": "@jupyter-widgets/base",
      "model_module_version": "1.1.0",
      "model_name": "LayoutModel",
      "state": {}
     },
     "6c93c5723d5445b9a66d87caf3afc61c": {
      "model_module": "@jupyter-widgets/base",
      "model_module_version": "1.1.0",
      "model_name": "LayoutModel",
      "state": {}
     },
     "6ca8e9dcdfa3497d95ab4834e836eb24": {
      "model_module": "@jupyter-widgets/base",
      "model_module_version": "1.1.0",
      "model_name": "LayoutModel",
      "state": {}
     },
     "6caed044f28e4d7f87d0dde1adc2655f": {
      "model_module": "@jupyter-widgets/controls",
      "model_module_version": "1.4.0",
      "model_name": "DescriptionStyleModel",
      "state": {
       "description_width": ""
      }
     },
     "6cdfddb86c824c1593ebd28bb14083ff": {
      "model_module": "@jupyter-widgets/controls",
      "model_module_version": "1.4.0",
      "model_name": "HTMLModel",
      "state": {
       "layout": "IPY_MODEL_2d4c81c4937645f8bfc6248eb672181b",
       "style": "IPY_MODEL_86db2642490e4134a53d3401e57d33a9"
      }
     },
     "6ce8a144f7434ea89bad65103de0091d": {
      "model_module": "@jupyter-widgets/base",
      "model_module_version": "1.1.0",
      "model_name": "LayoutModel",
      "state": {}
     },
     "6d4e9b5223c14a618545111bf05cc1fc": {
      "model_module": "@jupyter-widgets/controls",
      "model_module_version": "1.4.0",
      "model_name": "DescriptionStyleModel",
      "state": {
       "description_width": "initial"
      }
     },
     "6d732bbfd6054a7c8c064f5977a59b52": {
      "model_module": "@jupyter-widgets/base",
      "model_module_version": "1.1.0",
      "model_name": "LayoutModel",
      "state": {}
     },
     "6d73f022ed1543e08e6e49dbe114ce33": {
      "model_module": "@jupyter-widgets/base",
      "model_module_version": "1.1.0",
      "model_name": "LayoutModel",
      "state": {
       "width": "100%"
      }
     },
     "6d7972e4c2ad4c509dba8adb88389925": {
      "model_module": "@jupyter-widgets/controls",
      "model_module_version": "1.4.0",
      "model_name": "DescriptionStyleModel",
      "state": {
       "description_width": ""
      }
     },
     "6d7e9a8b3cbe4827a0674cf100445699": {
      "model_module": "@jupyter-widgets/controls",
      "model_module_version": "1.4.0",
      "model_name": "DescriptionStyleModel",
      "state": {
       "description_width": "initial"
      }
     },
     "6d9aa82a14e2488f9a85d5074d1b4549": {
      "model_module": "@jupyter-widgets/controls",
      "model_module_version": "1.4.0",
      "model_name": "DescriptionStyleModel",
      "state": {
       "description_width": ""
      }
     },
     "6dd3e671a2c949939c9cad453a6dbbda": {
      "model_module": "@jupyter-widgets/controls",
      "model_module_version": "1.4.0",
      "model_name": "HTMLModel",
      "state": {
       "layout": "IPY_MODEL_87d3e565996d460caebdbcad50503f22",
       "style": "IPY_MODEL_fcdf1dc92a824682bf1f6f0ee56ea6e3",
       "value": "<span style='color:green'>&#10004;</span> Job submitted, job ID: 18566.c003"
      }
     },
     "6dd92cc15efb4a9eb7d33b49ca8c7bbf": {
      "model_module": "@jupyter-widgets/controls",
      "model_module_version": "1.4.0",
      "model_name": "DescriptionStyleModel",
      "state": {
       "description_width": ""
      }
     },
     "6df863e2969f4ad4a5d0d0823b66de46": {
      "model_module": "@jupyter-widgets/base",
      "model_module_version": "1.1.0",
      "model_name": "LayoutModel",
      "state": {}
     },
     "6e0dd165e8cf4b2794191666c02a3f31": {
      "model_module": "@jupyter-widgets/controls",
      "model_module_version": "1.4.0",
      "model_name": "ProgressStyleModel",
      "state": {
       "description_width": "initial"
      }
     },
     "6e3977247bcc4498915192a1233fcc7a": {
      "model_module": "@jupyter-widgets/controls",
      "model_module_version": "1.4.0",
      "model_name": "DescriptionStyleModel",
      "state": {
       "description_width": ""
      }
     },
     "6e45ec1637e848dbb72264048ef964bd": {
      "model_module": "@jupyter-widgets/controls",
      "model_module_version": "1.4.0",
      "model_name": "DescriptionStyleModel",
      "state": {
       "description_width": ""
      }
     },
     "6eec98db406d4b76aa5b80fd5d695153": {
      "model_module": "@jupyter-widgets/controls",
      "model_module_version": "1.4.0",
      "model_name": "DescriptionStyleModel",
      "state": {
       "description_width": ""
      }
     },
     "6f21f74b47c944b19de826253aa14cf7": {
      "model_module": "@jupyter-widgets/base",
      "model_module_version": "1.1.0",
      "model_name": "LayoutModel",
      "state": {}
     },
     "6f278679b0c74e76a51057d93538e8d7": {
      "model_module": "@jupyter-widgets/controls",
      "model_module_version": "1.4.0",
      "model_name": "DescriptionStyleModel",
      "state": {
       "description_width": ""
      }
     },
     "6f37a94cefac4a7787d2511ce8efa1da": {
      "model_module": "@jupyter-widgets/controls",
      "model_module_version": "1.4.0",
      "model_name": "HTMLModel",
      "state": {
       "layout": "IPY_MODEL_cdfd08dcda04455698a7e954c32277a9",
       "placeholder": "0",
       "style": "IPY_MODEL_e567ce8a67a94fc4b1c706a8bfcc1de3"
      }
     },
     "6f56e9ca19894a64a557776302aab83a": {
      "model_module": "@jupyter-widgets/controls",
      "model_module_version": "1.4.0",
      "model_name": "DescriptionStyleModel",
      "state": {
       "description_width": ""
      }
     },
     "6f6e03024c58474eb507a51c4add8d62": {
      "model_module": "@jupyter-widgets/base",
      "model_module_version": "1.1.0",
      "model_name": "LayoutModel",
      "state": {}
     },
     "6f9c20c678af4ac687641264ee77f3d2": {
      "model_module": "@jupyter-widgets/controls",
      "model_module_version": "1.4.0",
      "model_name": "DescriptionStyleModel",
      "state": {
       "description_width": ""
      }
     },
     "6fa7556f7c554e57a3db487c60fab606": {
      "model_module": "@jupyter-widgets/controls",
      "model_module_version": "1.4.0",
      "model_name": "HTMLModel",
      "state": {
       "layout": "IPY_MODEL_48be895767584cdc82c275411be87f23",
       "style": "IPY_MODEL_a6c95a81e3ef4dd3a37db35a65d04b5c"
      }
     },
     "6fc755cf542c4dd8a562226ec3a2eb94": {
      "model_module": "@jupyter-widgets/controls",
      "model_module_version": "1.4.0",
      "model_name": "HTMLModel",
      "state": {
       "layout": "IPY_MODEL_dd9d3f6983c24ab7ab66189a956a3fa9",
       "style": "IPY_MODEL_ff4ef8970f124750af7e8289b0378eff"
      }
     },
     "6feccbe0632c4c409bbdf1e5a95eece8": {
      "model_module": "@jupyter-widgets/controls",
      "model_module_version": "1.4.0",
      "model_name": "DescriptionStyleModel",
      "state": {
       "description_width": "initial"
      }
     },
     "702fbc157bf449bab217d5af0cbed2ee": {
      "model_module": "@jupyter-widgets/controls",
      "model_module_version": "1.4.0",
      "model_name": "HTMLModel",
      "state": {
       "layout": "IPY_MODEL_8ebe3a68eac14d58819432662cc34f5a",
       "placeholder": "",
       "style": "IPY_MODEL_d41e1b438d89443e97083945515c679c",
       "value": "...waiting to start"
      }
     },
     "703b99873ae342d4823f360b238358d5": {
      "model_module": "@jupyter-widgets/base",
      "model_module_version": "1.1.0",
      "model_name": "LayoutModel",
      "state": {}
     },
     "703bb03553124d2780f555d816ba1d11": {
      "model_module": "@jupyter-widgets/controls",
      "model_module_version": "1.4.0",
      "model_name": "DescriptionStyleModel",
      "state": {
       "description_width": "initial"
      }
     },
     "704af203fc7948779884b84d5a354046": {
      "model_module": "@jupyter-widgets/base",
      "model_module_version": "1.1.0",
      "model_name": "LayoutModel",
      "state": {}
     },
     "7063009f2c6e496194193ea3d96700a3": {
      "model_module": "@jupyter-widgets/controls",
      "model_module_version": "1.4.0",
      "model_name": "DescriptionStyleModel",
      "state": {
       "description_width": "initial"
      }
     },
     "70b87138ad32405d9e3e4a875a4101dd": {
      "model_module": "@jupyter-widgets/base",
      "model_module_version": "1.1.0",
      "model_name": "LayoutModel",
      "state": {
       "align_items": "stretch",
       "border": "ridge",
       "display": "flex",
       "flex_flow": "column",
       "height": "",
       "width": "100%"
      }
     },
     "70c15d65fa8a4b72925e7781579c75a1": {
      "model_module": "@jupyter-widgets/base",
      "model_module_version": "1.1.0",
      "model_name": "LayoutModel",
      "state": {}
     },
     "70c3371b39454c6ca003f2938d688304": {
      "model_module": "@jupyter-widgets/controls",
      "model_module_version": "1.4.0",
      "model_name": "TextModel",
      "state": {
       "layout": "IPY_MODEL_64db2828625145a5b9f95db111432664",
       "style": "IPY_MODEL_10c0c6c9f8f84e33867c81c4188921bf",
       "value": "nodes=1:i5-6500te"
      }
     },
     "70ff6d5741374072ae68e93b39963a57": {
      "model_module": "@jupyter-widgets/controls",
      "model_module_version": "1.4.0",
      "model_name": "ButtonModel",
      "state": {
       "button_style": "info",
       "description": "Display output",
       "disabled": true,
       "layout": "IPY_MODEL_20b56ec60b3641f9b09754668de8b544",
       "style": "IPY_MODEL_db1272aa4ced49f5af2ef97be3d7299b"
      }
     },
     "7113cce26dd64bd0b71ece130f23457e": {
      "model_module": "@jupyter-widgets/base",
      "model_module_version": "1.1.0",
      "model_name": "LayoutModel",
      "state": {}
     },
     "711c372a7c2e4b2db2598599efb38e71": {
      "model_module": "@jupyter-widgets/output",
      "model_module_version": "1.0.0",
      "model_name": "OutputModel",
      "state": {
       "layout": "IPY_MODEL_c77dd8e6f37b402f93a7e32d8360a6ca"
      }
     },
     "7123c3f27f614132a082349de247f0fc": {
      "model_module": "@jupyter-widgets/controls",
      "model_module_version": "1.4.0",
      "model_name": "DescriptionStyleModel",
      "state": {
       "description_width": ""
      }
     },
     "717ed293d80d401994a05a4ce73a4b92": {
      "model_module": "@jupyter-widgets/controls",
      "model_module_version": "1.4.0",
      "model_name": "ProgressStyleModel",
      "state": {
       "description_width": "initial"
      }
     },
     "71841f177e52406eac97ccb78fa93929": {
      "model_module": "@jupyter-widgets/base",
      "model_module_version": "1.1.0",
      "model_name": "LayoutModel",
      "state": {
       "align_items": "stretch",
       "border": "",
       "display": "flex",
       "flex_flow": "column",
       "height": "",
       "width": "100%"
      }
     },
     "71905b41122a4874affda25f45f5461f": {
      "model_module": "@jupyter-widgets/controls",
      "model_module_version": "1.4.0",
      "model_name": "TextModel",
      "state": {
       "layout": "IPY_MODEL_fa90ecdb0e804c1ca74bd81a6bde2099",
       "style": "IPY_MODEL_258fcdd890964a65a66f06f527405d55",
       "value": "nodes=1:i5-6500te"
      }
     },
     "71c55cb9b90449a3a76a8fbd3b770aa4": {
      "model_module": "@jupyter-widgets/controls",
      "model_module_version": "1.4.0",
      "model_name": "TextModel",
      "state": {
       "layout": "IPY_MODEL_941bf08148a9443cb6521b4453e3ab60",
       "style": "IPY_MODEL_b5302f72ee4c49b4999f5431cb78a8ff",
       "value": "nodes=1:i5-6500te"
      }
     },
     "71efdf99fcb94df696f3faf5cbb7c1b8": {
      "model_module": "@jupyter-widgets/controls",
      "model_module_version": "1.4.0",
      "model_name": "DescriptionStyleModel",
      "state": {
       "description_width": ""
      }
     },
     "7228c7a001414de88e86794d44acb264": {
      "model_module": "@jupyter-widgets/controls",
      "model_module_version": "1.4.0",
      "model_name": "ProgressStyleModel",
      "state": {
       "description_width": "initial"
      }
     },
     "729f4caccbae465ba3d892fd336651e8": {
      "model_module": "@jupyter-widgets/controls",
      "model_module_version": "1.4.0",
      "model_name": "ButtonStyleModel",
      "state": {}
     },
     "73153a69ba0b4661815ade23c707ff28": {
      "model_module": "@jupyter-widgets/controls",
      "model_module_version": "1.4.0",
      "model_name": "DescriptionStyleModel",
      "state": {
       "description_width": ""
      }
     },
     "736d48a8c670460589c5ec10dcfcd540": {
      "model_module": "@jupyter-widgets/controls",
      "model_module_version": "1.4.0",
      "model_name": "HTMLModel",
      "state": {
       "layout": "IPY_MODEL_5cef84f556014f6f9ce727947e33869d",
       "style": "IPY_MODEL_a8d2a7f087d04fc3964b800ead0a3e18"
      }
     },
     "73a0167825c24d50a9d26df81cdfcc29": {
      "model_module": "@jupyter-widgets/base",
      "model_module_version": "1.1.0",
      "model_name": "LayoutModel",
      "state": {}
     },
     "73badb90941446988ef8dc7eb0bb8f78": {
      "model_module": "@jupyter-widgets/controls",
      "model_module_version": "1.4.0",
      "model_name": "VBoxModel",
      "state": {
       "children": [
        "IPY_MODEL_10c27b5119eb49e0bd41f84f95814e4f"
       ],
       "layout": "IPY_MODEL_dbb3fac870354a79a73977debc48c0c1"
      }
     },
     "740e6cb5dbfc4c8287623a0594df28e1": {
      "model_module": "@jupyter-widgets/base",
      "model_module_version": "1.1.0",
      "model_name": "LayoutModel",
      "state": {
       "align_items": "stretch",
       "border": "",
       "display": "flex",
       "flex_flow": "column",
       "height": "",
       "width": "100%"
      }
     },
     "74422e036be146f5a022b4fe21d8dd6b": {
      "model_module": "@jupyter-widgets/controls",
      "model_module_version": "1.4.0",
      "model_name": "ButtonStyleModel",
      "state": {}
     },
     "744a0582ef6c4227849decef589233ab": {
      "model_module": "@jupyter-widgets/controls",
      "model_module_version": "1.4.0",
      "model_name": "LabelModel",
      "state": {
       "layout": "IPY_MODEL_4e5ee7809c03423397e6fb4ebc29f2cf",
       "style": "IPY_MODEL_1ad8194725bb4d04aa929b6c703fadef",
       "value": "Target node"
      }
     },
     "750c606e671b44729fd31c3eeffdb2dd": {
      "model_module": "@jupyter-widgets/controls",
      "model_module_version": "1.4.0",
      "model_name": "HTMLModel",
      "state": {
       "layout": "IPY_MODEL_8a18263ca71e4d9584507a66a7c9c233",
       "style": "IPY_MODEL_69b872ba6b68405b94441416a2df147c"
      }
     },
     "7512485a1169435a8bb3b3bc181d74d0": {
      "model_module": "@jupyter-widgets/controls",
      "model_module_version": "1.4.0",
      "model_name": "ButtonModel",
      "state": {
       "button_style": "info",
       "description": "Plot results",
       "disabled": true,
       "layout": "IPY_MODEL_f74ebebb52bb4f6594a3de41c4002049",
       "style": "IPY_MODEL_b3c24e9ab7c24d22b5f9eda140a39832"
      }
     },
     "75272e1debe44b469beba07ef203e08b": {
      "model_module": "@jupyter-widgets/controls",
      "model_module_version": "1.4.0",
      "model_name": "DescriptionStyleModel",
      "state": {
       "description_width": ""
      }
     },
     "754519e2dbbd464fb523596271f9ec14": {
      "model_module": "@jupyter-widgets/controls",
      "model_module_version": "1.4.0",
      "model_name": "FloatProgressModel",
      "state": {
       "bar_style": "info",
       "layout": "IPY_MODEL_28ae66cdd43d4d428b6fe52085c1238e",
       "style": "IPY_MODEL_7228c7a001414de88e86794d44acb264"
      }
     },
     "7561834524504d34a2e8151357afa3d1": {
      "model_module": "@jupyter-widgets/controls",
      "model_module_version": "1.4.0",
      "model_name": "ProgressStyleModel",
      "state": {
       "description_width": "initial"
      }
     },
     "7580851454714a7c8106296d603a3104": {
      "model_module": "@jupyter-widgets/controls",
      "model_module_version": "1.4.0",
      "model_name": "TextModel",
      "state": {
       "layout": "IPY_MODEL_3830ac397ee4410ea8767de563de4bba",
       "style": "IPY_MODEL_f55b8256735749509241d460f324fba1",
       "value": "nodes=1:i5-6500te"
      }
     },
     "7583988626be4ee9b206e95027035db1": {
      "model_module": "@jupyter-widgets/base",
      "model_module_version": "1.1.0",
      "model_name": "LayoutModel",
      "state": {}
     },
     "75868d7b2bcb46c9a74ce3ca80a9ab13": {
      "model_module": "@jupyter-widgets/base",
      "model_module_version": "1.1.0",
      "model_name": "LayoutModel",
      "state": {}
     },
     "75c0e9f769484eb3a3a496eb8b75f380": {
      "model_module": "@jupyter-widgets/controls",
      "model_module_version": "1.4.0",
      "model_name": "HTMLModel",
      "state": {
       "layout": "IPY_MODEL_84303a841efa4a5287e92ae5ec00a49a",
       "style": "IPY_MODEL_3def34d4ce7b42f9881a4c39c2a01ab6"
      }
     },
     "75f64b7089d44bb58b96f6f0c392e042": {
      "model_module": "@jupyter-widgets/base",
      "model_module_version": "1.1.0",
      "model_name": "LayoutModel",
      "state": {}
     },
     "762104f03bee411abf5730abf29594d5": {
      "model_module": "@jupyter-widgets/controls",
      "model_module_version": "1.4.0",
      "model_name": "ButtonModel",
      "state": {
       "button_style": "info",
       "description": "Submit",
       "layout": "IPY_MODEL_06d94b9a617f4e759557a003e18517ab",
       "style": "IPY_MODEL_7ccaef6e4f70459e9b59b5eda50ef324"
      }
     },
     "765133eb500048dc83180616171d61f0": {
      "model_module": "@jupyter-widgets/controls",
      "model_module_version": "1.4.0",
      "model_name": "VBoxModel",
      "state": {
       "children": [
        "IPY_MODEL_0d17b4e68f304f9faf19ca5c6cde0651",
        "IPY_MODEL_1fe2aaa4e3db4290ae128479be8eb6fd"
       ],
       "layout": "IPY_MODEL_c87ccf91ebd74740b461ef6cdde3da35"
      }
     },
     "768f97bfa4e84bf4b749b08b34a22dad": {
      "model_module": "@jupyter-widgets/controls",
      "model_module_version": "1.4.0",
      "model_name": "DescriptionStyleModel",
      "state": {
       "description_width": ""
      }
     },
     "769c723ab7154b70bed3eb8e725223f0": {
      "model_module": "@jupyter-widgets/controls",
      "model_module_version": "1.4.0",
      "model_name": "HTMLModel",
      "state": {
       "layout": "IPY_MODEL_085fd7f56abb4a268a73824fff69e2ae",
       "style": "IPY_MODEL_6dd92cc15efb4a9eb7d33b49ca8c7bbf",
       "value": "<span style='color:green'>&#10004;</span> Job submitted, job ID: 18568.c003"
      }
     },
     "76eb3c4f1a574abdb2f01265fb07e182": {
      "model_module": "@jupyter-widgets/base",
      "model_module_version": "1.1.0",
      "model_name": "LayoutModel",
      "state": {}
     },
     "771eefe4386e48ef94f860e549637eb4": {
      "model_module": "@jupyter-widgets/output",
      "model_module_version": "1.0.0",
      "model_name": "OutputModel",
      "state": {
       "layout": "IPY_MODEL_5d020d3edf90476598bd40815b1c4c62"
      }
     },
     "77274a96860e4fdd8cc041acfda9c146": {
      "model_module": "@jupyter-widgets/controls",
      "model_module_version": "1.4.0",
      "model_name": "TabModel",
      "state": {
       "_titles": {
        "0": "Running: "
       },
       "children": [
        "IPY_MODEL_a7cebd9799c7463ba6de6dcea3b460e1"
       ],
       "layout": "IPY_MODEL_51095f05a990477d9473f3849df35bd8"
      }
     },
     "7742b129fb0242a189d33dbb855d7edf": {
      "model_module": "@jupyter-widgets/base",
      "model_module_version": "1.1.0",
      "model_name": "LayoutModel",
      "state": {}
     },
     "776bf0f152754be4832f2d17b9bf647f": {
      "model_module": "@jupyter-widgets/base",
      "model_module_version": "1.1.0",
      "model_name": "LayoutModel",
      "state": {}
     },
     "779d489e4e1a46f1987e241ffd2353d3": {
      "model_module": "@jupyter-widgets/controls",
      "model_module_version": "1.4.0",
      "model_name": "ButtonModel",
      "state": {
       "button_style": "info",
       "description": "Plot results",
       "disabled": true,
       "layout": "IPY_MODEL_1a54e2d5457e4bfabd3b15b8ca8968dd",
       "style": "IPY_MODEL_f93d7079c2904c3681cb51103036f156"
      }
     },
     "77cbd171911146bcabdf77fb2956e9bd": {
      "model_module": "@jupyter-widgets/controls",
      "model_module_version": "1.4.0",
      "model_name": "HTMLModel",
      "state": {
       "layout": "IPY_MODEL_352533ce0e004a6fa1a72600c61e5aa1",
       "placeholder": "0",
       "style": "IPY_MODEL_f57ccb3438844f9d885f28d433259706",
       "value": "...waiting to start"
      }
     },
     "77da35ce7cb14ee29d38e5fa4998bd9b": {
      "model_module": "@jupyter-widgets/controls",
      "model_module_version": "1.4.0",
      "model_name": "ProgressStyleModel",
      "state": {
       "description_width": "initial"
      }
     },
     "77f0b09035ce48b6bea8e8da95e3032a": {
      "model_module": "@jupyter-widgets/controls",
      "model_module_version": "1.4.0",
      "model_name": "LabelModel",
      "state": {
       "layout": "IPY_MODEL_4ae388fd253a421f94b1073cd6051b86",
       "style": "IPY_MODEL_88af8357367741e69cefeaffc689ddef",
       "value": "Target node"
      }
     },
     "781c62ee7388419d8ce8f79fe7a9bc82": {
      "model_module": "@jupyter-widgets/controls",
      "model_module_version": "1.4.0",
      "model_name": "ButtonModel",
      "state": {
       "button_style": "info",
       "description": "Plot results",
       "layout": "IPY_MODEL_1ac05eafaa1f41fe92b25b874f9fdc44",
       "style": "IPY_MODEL_792a13d0a0f2443dacfbc6218e421e69"
      }
     },
     "781f6e956c9c4a45a7e43b19d10eb879": {
      "model_module": "@jupyter-widgets/base",
      "model_module_version": "1.1.0",
      "model_name": "LayoutModel",
      "state": {}
     },
     "784d9be3f34c42ca9354402b50b209e4": {
      "model_module": "@jupyter-widgets/controls",
      "model_module_version": "1.4.0",
      "model_name": "ProgressStyleModel",
      "state": {
       "description_width": "initial"
      }
     },
     "7893c378ddc54d35aa7430c92d3baa16": {
      "model_module": "@jupyter-widgets/controls",
      "model_module_version": "1.4.0",
      "model_name": "DescriptionStyleModel",
      "state": {
       "description_width": "initial"
      }
     },
     "78fa22957d0047fb8b3d640d66025061": {
      "model_module": "@jupyter-widgets/controls",
      "model_module_version": "1.4.0",
      "model_name": "LabelModel",
      "state": {
       "layout": "IPY_MODEL_5506b6082a244ef189362b6dd13f2d00",
       "style": "IPY_MODEL_8680c172f1134d34923ef8435fe3708f",
       "value": "Target node"
      }
     },
     "78fe73affbce4531b8ad2abeb7800214": {
      "model_module": "@jupyter-widgets/base",
      "model_module_version": "1.1.0",
      "model_name": "LayoutModel",
      "state": {
       "width": "100%"
      }
     },
     "78ff6f3316be4193b19d6cea1ca614ec": {
      "model_module": "@jupyter-widgets/controls",
      "model_module_version": "1.4.0",
      "model_name": "VBoxModel",
      "state": {
       "children": [
        "IPY_MODEL_744a0582ef6c4227849decef589233ab",
        "IPY_MODEL_dfd678e323d241e0a9dd8319a05d904f"
       ],
       "layout": "IPY_MODEL_568d8c2bcc9d49fdb64ed0ab14664627"
      }
     },
     "791a1aa80e224ab0872d009fe9aae13b": {
      "model_module": "@jupyter-widgets/base",
      "model_module_version": "1.1.0",
      "model_name": "LayoutModel",
      "state": {}
     },
     "792024a215a44d95b30fb33ea6e920de": {
      "model_module": "@jupyter-widgets/base",
      "model_module_version": "1.1.0",
      "model_name": "LayoutModel",
      "state": {}
     },
     "7922f7144c984becbf8954c7c2f43e81": {
      "model_module": "@jupyter-widgets/base",
      "model_module_version": "1.1.0",
      "model_name": "LayoutModel",
      "state": {}
     },
     "792a13d0a0f2443dacfbc6218e421e69": {
      "model_module": "@jupyter-widgets/controls",
      "model_module_version": "1.4.0",
      "model_name": "ButtonStyleModel",
      "state": {}
     },
     "79398736abc64e56934a433c612ddb5d": {
      "model_module": "@jupyter-widgets/base",
      "model_module_version": "1.1.0",
      "model_name": "LayoutModel",
      "state": {}
     },
     "7998d743a9394193b1fb6c655277ce4c": {
      "model_module": "@jupyter-widgets/controls",
      "model_module_version": "1.4.0",
      "model_name": "TabModel",
      "state": {
       "layout": "IPY_MODEL_cae377b3565a4f1192d5117c9912a4af"
      }
     },
     "79ed2363a8c344dda57e07138e7749ad": {
      "model_module": "@jupyter-widgets/controls",
      "model_module_version": "1.4.0",
      "model_name": "TabModel",
      "state": {
       "_titles": {
        "0": "Done: 18574"
       },
       "children": [
        "IPY_MODEL_c33d3948d1b14e4fa684f5f73d889be4"
       ],
       "layout": "IPY_MODEL_56fb475cd5c9438597be48acd65cd82e"
      }
     },
     "79f796fc4c3e494199ee9bc0cfdaeb4d": {
      "model_module": "@jupyter-widgets/controls",
      "model_module_version": "1.4.0",
      "model_name": "ButtonStyleModel",
      "state": {}
     },
     "7a053ef4bf504a4891172937cd439fdc": {
      "model_module": "@jupyter-widgets/controls",
      "model_module_version": "1.4.0",
      "model_name": "HTMLModel",
      "state": {
       "layout": "IPY_MODEL_a4d83f449c0940eeb82aec80c9c7e449",
       "style": "IPY_MODEL_090c612133c242859c4e787f7d5690a7",
       "value": "<table><style type=\"text/css\" scoped>td{ padding:5px; border: 1px solid #9e9e9e; line-height:1.2em;}td:first-child{font-weight:bold;}</style><tbody><tr><td>Target node</td><td>nodes=1:i5-6500te</td></tr><tr><td>Submission command</td><td>qsub test_script.sh  -l nodes=1:i5-6500te -F \"  -r results/\"</td></tr></tbody></table>"
      }
     },
     "7a1d22f7bb554c3bbc6285b8d21b2bce": {
      "model_module": "@jupyter-widgets/base",
      "model_module_version": "1.1.0",
      "model_name": "LayoutModel",
      "state": {}
     },
     "7a269d7ee8254a128ad4301e7b344017": {
      "model_module": "@jupyter-widgets/base",
      "model_module_version": "1.1.0",
      "model_name": "LayoutModel",
      "state": {
       "align_items": "stretch",
       "border": "ridge",
       "display": "flex",
       "flex_flow": "column",
       "height": "",
       "width": "100%"
      }
     },
     "7a52de0107bf473b8bfabf51a9af4a6b": {
      "model_module": "@jupyter-widgets/controls",
      "model_module_version": "1.4.0",
      "model_name": "ButtonStyleModel",
      "state": {}
     },
     "7a5ee1af44f74ecda9cfb13358358a35": {
      "model_module": "@jupyter-widgets/controls",
      "model_module_version": "1.4.0",
      "model_name": "DescriptionStyleModel",
      "state": {
       "description_width": "initial"
      }
     },
     "7aa0fde65f3b4100959892e4b2fd564c": {
      "model_module": "@jupyter-widgets/controls",
      "model_module_version": "1.4.0",
      "model_name": "HTMLModel",
      "state": {
       "layout": "IPY_MODEL_34eb8d1d03b44be9af32551d330c1540",
       "style": "IPY_MODEL_4fd561104d92429ab82e15496b4ca0af"
      }
     },
     "7aac7bace98a4c7d84223666055cf801": {
      "model_module": "@jupyter-widgets/controls",
      "model_module_version": "1.4.0",
      "model_name": "VBoxModel",
      "state": {
       "children": [
        "IPY_MODEL_f3f5a400dc2b402293385a4fc61813a5",
        "IPY_MODEL_77cbd171911146bcabdf77fb2956e9bd",
        "IPY_MODEL_51672e11a94a4e31802180caf3dce669"
       ],
       "layout": "IPY_MODEL_21b354666f034c5eba155c6a3a1b4d5e"
      }
     },
     "7ab8d6435c72463d8f9189ef543e61de": {
      "model_module": "@jupyter-widgets/base",
      "model_module_version": "1.1.0",
      "model_name": "LayoutModel",
      "state": {}
     },
     "7b40b55f90234c79b63d86c49e7b4337": {
      "model_module": "@jupyter-widgets/controls",
      "model_module_version": "1.4.0",
      "model_name": "DescriptionStyleModel",
      "state": {
       "description_width": "initial"
      }
     },
     "7b42992360b842c88ace841d5d4a4764": {
      "model_module": "@jupyter-widgets/controls",
      "model_module_version": "1.4.0",
      "model_name": "HTMLModel",
      "state": {
       "layout": "IPY_MODEL_270f56fc5d564485bb76ab121fb21375",
       "style": "IPY_MODEL_6f56e9ca19894a64a557776302aab83a",
       "value": "<span style='color:green'>&#10004;</span> Job submitted, job ID: 18572.c003"
      }
     },
     "7b446e568c7e4801a6f7e9142c292b78": {
      "model_module": "@jupyter-widgets/base",
      "model_module_version": "1.1.0",
      "model_name": "LayoutModel",
      "state": {}
     },
     "7b89393c688c4af1aaf0b97a75af9b4f": {
      "model_module": "@jupyter-widgets/controls",
      "model_module_version": "1.4.0",
      "model_name": "ButtonModel",
      "state": {
       "button_style": "info",
       "description": "Display output",
       "layout": "IPY_MODEL_a1e74b0a17c341a5ba79247260c5d820",
       "style": "IPY_MODEL_086bd7e40e46495d9f7e5a0919cc72a3"
      }
     },
     "7bc8350d88be4d37a29b61b4b576a066": {
      "model_module": "@jupyter-widgets/base",
      "model_module_version": "1.1.0",
      "model_name": "LayoutModel",
      "state": {}
     },
     "7bcad7ac79624534991dc1228cf5c583": {
      "model_module": "@jupyter-widgets/base",
      "model_module_version": "1.1.0",
      "model_name": "LayoutModel",
      "state": {
       "width": "100%"
      }
     },
     "7c0b22cf91eb4bac9d7757b820c323b9": {
      "model_module": "@jupyter-widgets/controls",
      "model_module_version": "1.4.0",
      "model_name": "ProgressStyleModel",
      "state": {
       "description_width": "initial"
      }
     },
     "7c106128e446412087004d7afcdb4a0d": {
      "model_module": "@jupyter-widgets/base",
      "model_module_version": "1.1.0",
      "model_name": "LayoutModel",
      "state": {}
     },
     "7c6128697178454f9b6e52e56c873d74": {
      "model_module": "@jupyter-widgets/controls",
      "model_module_version": "1.4.0",
      "model_name": "DescriptionStyleModel",
      "state": {
       "description_width": "initial"
      }
     },
     "7c7b861f1b054c5fa2ad6596e20b5034": {
      "model_module": "@jupyter-widgets/controls",
      "model_module_version": "1.4.0",
      "model_name": "LabelModel",
      "state": {
       "layout": "IPY_MODEL_2649c39d55cc42ba8857f0787dafeef1",
       "style": "IPY_MODEL_b82dc5f11e5a4eb7ab4d095d1f4586f5",
       "value": "Target node"
      }
     },
     "7c7db097c16c44028e8ab7c5fb53207e": {
      "model_module": "@jupyter-widgets/controls",
      "model_module_version": "1.4.0",
      "model_name": "HBoxModel",
      "state": {
       "children": [
        "IPY_MODEL_a20238b9e4c549c7b70e2e94740abe37",
        "IPY_MODEL_ec582923f5a64132bd752e3699e32d81",
        "IPY_MODEL_dcae3c3d1d9c4f1bbb599a21eb8a8780",
        "IPY_MODEL_bb7ce901eb8342c38de460e63876aa3a",
        "IPY_MODEL_a1bcbc36cdfa4b23ad00bebc8685c3ff",
        "IPY_MODEL_7ebfbd549ffa41bba7f0b6faa9dd7d36"
       ],
       "layout": "IPY_MODEL_1cc99ff9d33547bb81f475b4448f7560"
      }
     },
     "7c8df22a443a4439a58ee99a24044ae0": {
      "model_module": "@jupyter-widgets/base",
      "model_module_version": "1.1.0",
      "model_name": "LayoutModel",
      "state": {}
     },
     "7c992e48071a41a6ba127ea587de913d": {
      "model_module": "@jupyter-widgets/base",
      "model_module_version": "1.1.0",
      "model_name": "LayoutModel",
      "state": {}
     },
     "7c9cd4d44d954e9fb90050e1750c4d25": {
      "model_module": "@jupyter-widgets/controls",
      "model_module_version": "1.4.0",
      "model_name": "ButtonStyleModel",
      "state": {}
     },
     "7cb2f937ae4e4b66be5be6fe9b70abc0": {
      "model_module": "@jupyter-widgets/controls",
      "model_module_version": "1.4.0",
      "model_name": "HTMLModel",
      "state": {
       "layout": "IPY_MODEL_3edc310808b04b3a8abda02931817b0b",
       "style": "IPY_MODEL_a5e6cd536764475d8a74e992bd8110f8"
      }
     },
     "7cc3049248794d20b6dc3c051b5df8a8": {
      "model_module": "@jupyter-widgets/controls",
      "model_module_version": "1.4.0",
      "model_name": "HTMLModel",
      "state": {
       "layout": "IPY_MODEL_fe5bc6812e8c47e09df409b2efff813e",
       "style": "IPY_MODEL_8a45b76bef604b0798bc6b5b773664f2"
      }
     },
     "7ccaef6e4f70459e9b59b5eda50ef324": {
      "model_module": "@jupyter-widgets/controls",
      "model_module_version": "1.4.0",
      "model_name": "ButtonStyleModel",
      "state": {}
     },
     "7cde1d0ad9cf425f9576d2d6759e5185": {
      "model_module": "@jupyter-widgets/controls",
      "model_module_version": "1.4.0",
      "model_name": "ButtonStyleModel",
      "state": {}
     },
     "7d1baf1933ad41c8b2baf7559391dc2c": {
      "model_module": "@jupyter-widgets/controls",
      "model_module_version": "1.4.0",
      "model_name": "ButtonModel",
      "state": {
       "button_style": "info",
       "description": "Display output",
       "disabled": true,
       "layout": "IPY_MODEL_aff04e1f09e74f78858a92a7562484ef",
       "style": "IPY_MODEL_b1032f83d1e042cda9cab0f0d38aae5d"
      }
     },
     "7d29d03fe5c24de788de7cc61787881b": {
      "model_module": "@jupyter-widgets/controls",
      "model_module_version": "1.4.0",
      "model_name": "ButtonStyleModel",
      "state": {}
     },
     "7d34cd0c88154bea9721e42703667fd5": {
      "model_module": "@jupyter-widgets/controls",
      "model_module_version": "1.4.0",
      "model_name": "ButtonModel",
      "state": {
       "button_style": "info",
       "description": "Submit",
       "layout": "IPY_MODEL_f5e174eb4c3e4deabc2a3452b6db29c1",
       "style": "IPY_MODEL_07f1a8e451834733b89e57598ec25754"
      }
     },
     "7d86e23df14e455390125de948b1930a": {
      "model_module": "@jupyter-widgets/controls",
      "model_module_version": "1.4.0",
      "model_name": "HTMLModel",
      "state": {
       "layout": "IPY_MODEL_39793bf34a3a4c5c8d0fcd6df508f9da",
       "placeholder": "",
       "style": "IPY_MODEL_2c9b0abfd9f8482f9bb1b5613286f7c5"
      }
     },
     "7dbf3d3d893646bcaa0086d1e2e3aedc": {
      "model_module": "@jupyter-widgets/controls",
      "model_module_version": "1.4.0",
      "model_name": "VBoxModel",
      "state": {
       "children": [
        "IPY_MODEL_5cbb49330db1444d9257cc998e74bea0",
        "IPY_MODEL_b1df190d92c9414091ec9a30376cb10b"
       ],
       "layout": "IPY_MODEL_0aca67abc37e49c492b3937ad40b36f8"
      }
     },
     "7dc018e9f7c14edea0ffb5228db54226": {
      "model_module": "@jupyter-widgets/controls",
      "model_module_version": "1.4.0",
      "model_name": "DescriptionStyleModel",
      "state": {
       "description_width": ""
      }
     },
     "7ddcbe1d88964d79882faf9be92373d6": {
      "model_module": "@jupyter-widgets/output",
      "model_module_version": "1.0.0",
      "model_name": "OutputModel",
      "state": {
       "layout": "IPY_MODEL_379b3bb4d1da4e26ac383d00f29901df"
      }
     },
     "7dde0d91003248458d37a08ee94ee266": {
      "model_module": "@jupyter-widgets/base",
      "model_module_version": "1.1.0",
      "model_name": "LayoutModel",
      "state": {}
     },
     "7debcbfaa3174ccca353655a3fa04dd8": {
      "model_module": "@jupyter-widgets/controls",
      "model_module_version": "1.4.0",
      "model_name": "HTMLModel",
      "state": {
       "layout": "IPY_MODEL_ae03ff22a1e941e2ba5278a3fdf5c9c4",
       "style": "IPY_MODEL_d6c3641557de4967a1db139ae5bd637f"
      }
     },
     "7e88482a0099496a8603416904ea384c": {
      "model_module": "@jupyter-widgets/controls",
      "model_module_version": "1.4.0",
      "model_name": "VBoxModel",
      "state": {
       "children": [
        "IPY_MODEL_c4de6afc79cd41e5b35d71d23cc3c951",
        "IPY_MODEL_ad624cb3ece540778c066d422e6a2a6a"
       ],
       "layout": "IPY_MODEL_0ec38c8f891e4a4797600f39de6edaa5"
      }
     },
     "7e8dee5edd4544afad8a9fa39a32a413": {
      "model_module": "@jupyter-widgets/base",
      "model_module_version": "1.1.0",
      "model_name": "LayoutModel",
      "state": {}
     },
     "7ebe8bc7981949fab62379433b3dc1b4": {
      "model_module": "@jupyter-widgets/base",
      "model_module_version": "1.1.0",
      "model_name": "LayoutModel",
      "state": {}
     },
     "7ebfbd549ffa41bba7f0b6faa9dd7d36": {
      "model_module": "@jupyter-widgets/controls",
      "model_module_version": "1.4.0",
      "model_name": "HTMLModel",
      "state": {
       "layout": "IPY_MODEL_dbbc0fab696c4949a798a1820e2f8150",
       "placeholder": "",
       "style": "IPY_MODEL_387c93a5b64a4bf2ab8b1d48538b0951"
      }
     },
     "7ef286c02ab74b6a922bac6189210987": {
      "model_module": "@jupyter-widgets/base",
      "model_module_version": "1.1.0",
      "model_name": "LayoutModel",
      "state": {}
     },
     "7f843a06f7eb4f8bab1b34a5106f09cb": {
      "model_module": "@jupyter-widgets/controls",
      "model_module_version": "1.4.0",
      "model_name": "FloatProgressModel",
      "state": {
       "bar_style": "info",
       "layout": "IPY_MODEL_8fcec1fde25b4079bf00e84affd69f5b",
       "style": "IPY_MODEL_971d729bff4a421eb09e701ac955d41f"
      }
     },
     "7fc81300b8c4404f9894cd042e3e3c6a": {
      "model_module": "@jupyter-widgets/controls",
      "model_module_version": "1.4.0",
      "model_name": "HTMLModel",
      "state": {
       "layout": "IPY_MODEL_3105f74fdb004a6db0fb2ee04044ce04",
       "style": "IPY_MODEL_f140efdb970546568c4508dbff4d41cb"
      }
     },
     "7fce203357bb473faa3d60b988344b4a": {
      "model_module": "@jupyter-widgets/controls",
      "model_module_version": "1.4.0",
      "model_name": "DescriptionStyleModel",
      "state": {
       "description_width": ""
      }
     },
     "7fee7f81d9b74e6ead251424da88b31d": {
      "model_module": "@jupyter-widgets/output",
      "model_module_version": "1.0.0",
      "model_name": "OutputModel",
      "state": {
       "layout": "IPY_MODEL_8cbe57c9622e44e1b3da5391064d17a1"
      }
     },
     "7fef788dcf434a7888bdd9bbba832305": {
      "model_module": "@jupyter-widgets/base",
      "model_module_version": "1.1.0",
      "model_name": "LayoutModel",
      "state": {}
     },
     "80590dca09e14d65bd28444febd51f7f": {
      "model_module": "@jupyter-widgets/controls",
      "model_module_version": "1.4.0",
      "model_name": "DescriptionStyleModel",
      "state": {
       "description_width": ""
      }
     },
     "8071fd271ede446aa68ec302069127c2": {
      "model_module": "@jupyter-widgets/controls",
      "model_module_version": "1.4.0",
      "model_name": "DescriptionStyleModel",
      "state": {
       "description_width": "initial"
      }
     },
     "808b02ecff104358b8871fc559b99a37": {
      "model_module": "@jupyter-widgets/controls",
      "model_module_version": "1.4.0",
      "model_name": "HTMLModel",
      "state": {
       "layout": "IPY_MODEL_491c89b6ed5043f9ac629aff8e4e254d",
       "placeholder": "",
       "style": "IPY_MODEL_bd3ccf93cef14e40916b649b245e31d2",
       "value": "...waiting to start"
      }
     },
     "80ce08c8bbd44c3aac8963d8b054482e": {
      "model_module": "@jupyter-widgets/controls",
      "model_module_version": "1.4.0",
      "model_name": "DescriptionStyleModel",
      "state": {
       "description_width": ""
      }
     },
     "80e4d520a21e4131b8f74f24a44a306a": {
      "model_module": "@jupyter-widgets/controls",
      "model_module_version": "1.4.0",
      "model_name": "HTMLModel",
      "state": {
       "layout": "IPY_MODEL_387e540e9b0b4779b451c05da2779797",
       "placeholder": "",
       "style": "IPY_MODEL_eda22c08a71146e1bd449f09ad9e2252",
       "value": "Architecture:          x86_64\nCPU op-mode(s):        32-bit, 64-bit\nByte Order:            Little Endian\nCPU(s):                4\nOn-line CPU(s) list:   0-3\nThread(s) per core:    1\nCore(s) per socket:    4\nSocket(s):             1\nNUMA node(s):          1\nVendor ID:             GenuineIntel\nCPU family:            6\nModel:                 94\nModel name:            Intel(R) Core(TM) i5-6500TE CPU @ 2.30GHz\nStepping:              3\nCPU MHz:               1486.349\nCPU max MHz:           3300.0000\nCPU min MHz:           800.0000\nBogoMIPS:              4608.00\nVirtualization:        VT-x\nL1d cache:             32K\nL1i cache:             32K\nL2 cache:              256K\nL3 cache:              6144K\nNUMA node0 CPU(s):     0-3\nFlags:                 fpu vme de pse tsc msr pae mce cx8 apic sep mtrr pge mca cmov pat pse36 clflush dts acpi mmx fxsr sse sse2 ss ht tm pbe syscall nx pdpe1gb rdtscp lm constant_tsc art arch_perfmon pebs bts rep_good nopl xtopology nonstop_tsc cpuid aperfmperf tsc_known_freq pni pclmulqdq dtes64 monitor ds_cpl vmx smx est tm2 ssse3 sdbg fma cx16 xtpr pdcm pcid sse4_1 sse4_2 x2apic movbe popcnt tsc_deadline_timer aes xsave avx f16c rdrand lahf_lm abm 3dnowprefetch cpuid_fault epb invpcid_single pti ssbd ibrs ibpb stibp tpr_shadow vnmi flexpriority ept vpid fsgsbase tsc_adjust bmi1 hle avx2 smep bmi2 erms invpcid rtm mpx rdseed adx smap clflushopt intel_pt xsaveopt xsavec xgetbv1 xsaves dtherm ida arat pln pts hwp hwp_notify hwp_act_window hwp_epp flush_l1d"
      }
     },
     "810815895f29457b87caae4e1bd87664": {
      "model_module": "@jupyter-widgets/controls",
      "model_module_version": "1.4.0",
      "model_name": "ButtonStyleModel",
      "state": {}
     },
     "815b9eebdaf845b2927ccbc5b534ecd0": {
      "model_module": "@jupyter-widgets/controls",
      "model_module_version": "1.4.0",
      "model_name": "HBoxModel",
      "state": {
       "children": [
        "IPY_MODEL_ccfe21710b7d47d5b028092d360a858d",
        "IPY_MODEL_ba13e7a9830f477caffbd9c9a2e12275",
        "IPY_MODEL_d71d44dacec34012a4662543f32e47b6",
        "IPY_MODEL_0b4645cad27a4902b4722bd0112e6788",
        "IPY_MODEL_2dd860f3ef044d0dae9af2abfce3e16c",
        "IPY_MODEL_f0c670cb16024010a300a2ac6c001eca"
       ],
       "layout": "IPY_MODEL_8bedeaeae611481e86b7bed2712e436c"
      }
     },
     "815d67ba18b542c0bdd3cf30bf804f51": {
      "model_module": "@jupyter-widgets/controls",
      "model_module_version": "1.4.0",
      "model_name": "DescriptionStyleModel",
      "state": {
       "description_width": "initial"
      }
     },
     "81f8bebc833c4c6abd78d0748eac3858": {
      "model_module": "@jupyter-widgets/controls",
      "model_module_version": "1.4.0",
      "model_name": "DescriptionStyleModel",
      "state": {
       "description_width": "initial"
      }
     },
     "8207ce3131f045c9879fa710cc75af60": {
      "model_module": "@jupyter-widgets/controls",
      "model_module_version": "1.4.0",
      "model_name": "HTMLModel",
      "state": {
       "layout": "IPY_MODEL_9954e8a12931451dbbc8a801026f71a3",
       "placeholder": "",
       "style": "IPY_MODEL_1d6dac476e664ef0a53e7ebb140e9155",
       "value": "...waiting to start"
      }
     },
     "8264e710561e4c78a70174e149b40eea": {
      "model_module": "@jupyter-widgets/base",
      "model_module_version": "1.1.0",
      "model_name": "LayoutModel",
      "state": {
       "width": "100%"
      }
     },
     "827ccd70b214437fbfede4f5cd5e1ca4": {
      "model_module": "@jupyter-widgets/base",
      "model_module_version": "1.1.0",
      "model_name": "LayoutModel",
      "state": {
       "width": "100%"
      }
     },
     "8290157737ea426d884680d9479b1e94": {
      "model_module": "@jupyter-widgets/controls",
      "model_module_version": "1.4.0",
      "model_name": "DescriptionStyleModel",
      "state": {
       "description_width": "initial"
      }
     },
     "82a79e437ee546ce9e1e38b8c4e72f29": {
      "model_module": "@jupyter-widgets/base",
      "model_module_version": "1.1.0",
      "model_name": "LayoutModel",
      "state": {
       "align_items": "stretch",
       "border": "",
       "display": "flex",
       "flex_flow": "column",
       "height": "",
       "width": "100%"
      }
     },
     "82e00e0f449a4d319ea25e1439222851": {
      "model_module": "@jupyter-widgets/controls",
      "model_module_version": "1.4.0",
      "model_name": "FloatProgressModel",
      "state": {
       "bar_style": "info",
       "description": "Progress",
       "layout": "IPY_MODEL_4ca0d7d11b104a8a81d1846c89926221",
       "style": "IPY_MODEL_ff0786ecad5344a7a4555cae566ec915"
      }
     },
     "82fbca26c7ec4bf990db206a1f8eb2df": {
      "model_module": "@jupyter-widgets/base",
      "model_module_version": "1.1.0",
      "model_name": "LayoutModel",
      "state": {}
     },
     "830c6eb21e4c4d2c9a86e61b33242e14": {
      "model_module": "@jupyter-widgets/controls",
      "model_module_version": "1.4.0",
      "model_name": "LabelModel",
      "state": {
       "layout": "IPY_MODEL_dc9ec9e9659349a4b12563f1c51a3bd7",
       "style": "IPY_MODEL_ba72fa2e65e14c20a07a8c94a9072f5f",
       "value": "Target node"
      }
     },
     "832fbaf2ccd2435781321fc9b8428cfa": {
      "model_module": "@jupyter-widgets/controls",
      "model_module_version": "1.4.0",
      "model_name": "HTMLModel",
      "state": {
       "layout": "IPY_MODEL_e1b3ada8538e4940928f71b3e66161ee",
       "style": "IPY_MODEL_ec3e762f74f7481c871b043b8cba1c9b"
      }
     },
     "8393cec88efe40f6a71da960e6b4660f": {
      "model_module": "@jupyter-widgets/controls",
      "model_module_version": "1.4.0",
      "model_name": "DescriptionStyleModel",
      "state": {
       "description_width": ""
      }
     },
     "83a07114dce04e20a2285dfccdad328a": {
      "model_module": "@jupyter-widgets/base",
      "model_module_version": "1.1.0",
      "model_name": "LayoutModel",
      "state": {}
     },
     "83a7613e9bca42fca7df41928ad7f8cc": {
      "model_module": "@jupyter-widgets/controls",
      "model_module_version": "1.4.0",
      "model_name": "DescriptionStyleModel",
      "state": {
       "description_width": "initial"
      }
     },
     "83d462d6a0b34bb9bcb176ec7bba00c7": {
      "model_module": "@jupyter-widgets/controls",
      "model_module_version": "1.4.0",
      "model_name": "HTMLModel",
      "state": {
       "layout": "IPY_MODEL_11b16fc018a241b4a441919d1de4174e",
       "placeholder": "",
       "style": "IPY_MODEL_4d6f3159a26945b79a4f41de2ee8d27a",
       "value": "...waiting to start"
      }
     },
     "84286a74e1074ffa8eb48f088e91ad0a": {
      "model_module": "@jupyter-widgets/base",
      "model_module_version": "1.1.0",
      "model_name": "LayoutModel",
      "state": {}
     },
     "84303a841efa4a5287e92ae5ec00a49a": {
      "model_module": "@jupyter-widgets/base",
      "model_module_version": "1.1.0",
      "model_name": "LayoutModel",
      "state": {}
     },
     "84d19e45e8f342d6842d7776b18235df": {
      "model_module": "@jupyter-widgets/base",
      "model_module_version": "1.1.0",
      "model_name": "LayoutModel",
      "state": {}
     },
     "84e13e5f234f4c7ea5cc201d8b30658d": {
      "model_module": "@jupyter-widgets/controls",
      "model_module_version": "1.4.0",
      "model_name": "DescriptionStyleModel",
      "state": {
       "description_width": ""
      }
     },
     "8534263f362042b29ae1fdd666d3b4c8": {
      "model_module": "@jupyter-widgets/controls",
      "model_module_version": "1.4.0",
      "model_name": "ProgressStyleModel",
      "state": {
       "description_width": "initial"
      }
     },
     "856a6f77e33a46bf8363b59ff4a66d18": {
      "model_module": "@jupyter-widgets/controls",
      "model_module_version": "1.4.0",
      "model_name": "DescriptionStyleModel",
      "state": {
       "description_width": ""
      }
     },
     "856b6948cd31439881d25f184f3fdcd6": {
      "model_module": "@jupyter-widgets/controls",
      "model_module_version": "1.4.0",
      "model_name": "DescriptionStyleModel",
      "state": {
       "description_width": ""
      }
     },
     "8574e8bb0f6d43ff91a661622a1a7fbe": {
      "model_module": "@jupyter-widgets/controls",
      "model_module_version": "1.4.0",
      "model_name": "HTMLModel",
      "state": {
       "layout": "IPY_MODEL_f07154fc6ea141329f7a3cebe6742555",
       "placeholder": "0",
       "style": "IPY_MODEL_81f8bebc833c4c6abd78d0748eac3858",
       "value": "...waiting to start"
      }
     },
     "857a2b0a9bd941fdbb3e1b9756070048": {
      "model_module": "@jupyter-widgets/controls",
      "model_module_version": "1.4.0",
      "model_name": "ButtonStyleModel",
      "state": {}
     },
     "8580f581ed2e4382be88c5203f84ae20": {
      "model_module": "@jupyter-widgets/controls",
      "model_module_version": "1.4.0",
      "model_name": "TabModel",
      "state": {
       "layout": "IPY_MODEL_3b7091a07d5a4cf5856e133332d761da"
      }
     },
     "858492aa8658417ba572f86f7868eb25": {
      "model_module": "@jupyter-widgets/base",
      "model_module_version": "1.1.0",
      "model_name": "LayoutModel",
      "state": {}
     },
     "858a53f1ddd64f4e9fbdf8c4342c81c4": {
      "model_module": "@jupyter-widgets/controls",
      "model_module_version": "1.4.0",
      "model_name": "ButtonModel",
      "state": {
       "button_style": "info",
       "description": "Submit",
       "layout": "IPY_MODEL_fd26eaf81e6f48e99a16901423c7c660",
       "style": "IPY_MODEL_b6150e99eb0f47a485209fd2bcfc2a2d"
      }
     },
     "85a9e74032b94aa0bd06e8a35f06d66b": {
      "model_module": "@jupyter-widgets/controls",
      "model_module_version": "1.4.0",
      "model_name": "DescriptionStyleModel",
      "state": {
       "description_width": "initial"
      }
     },
     "85c3968c6dd845dbb8fa1e1b68e23c42": {
      "model_module": "@jupyter-widgets/base",
      "model_module_version": "1.1.0",
      "model_name": "LayoutModel",
      "state": {}
     },
     "861cac821ed84f4ca82b1f4aa9275ef2": {
      "model_module": "@jupyter-widgets/base",
      "model_module_version": "1.1.0",
      "model_name": "LayoutModel",
      "state": {}
     },
     "86239ce2770549209eea1bf857897dd7": {
      "model_module": "@jupyter-widgets/controls",
      "model_module_version": "1.4.0",
      "model_name": "ButtonStyleModel",
      "state": {}
     },
     "863dcad9d36d4875a3c3b26416ce1d31": {
      "model_module": "@jupyter-widgets/controls",
      "model_module_version": "1.4.0",
      "model_name": "DescriptionStyleModel",
      "state": {
       "description_width": ""
      }
     },
     "8650c53714b1477694f31f11e68b6ad2": {
      "model_module": "@jupyter-widgets/base",
      "model_module_version": "1.1.0",
      "model_name": "LayoutModel",
      "state": {}
     },
     "8667994561fd4ce38159779a5fb08a94": {
      "model_module": "@jupyter-widgets/controls",
      "model_module_version": "1.4.0",
      "model_name": "DescriptionStyleModel",
      "state": {
       "description_width": ""
      }
     },
     "867a602d47864b93ae26318eaa3a2fed": {
      "model_module": "@jupyter-widgets/controls",
      "model_module_version": "1.4.0",
      "model_name": "HTMLModel",
      "state": {
       "layout": "IPY_MODEL_cbf99848957c44eeaba7b68334826602",
       "placeholder": "",
       "style": "IPY_MODEL_d4a68534bf0947318a535ee823b424e4"
      }
     },
     "8680c172f1134d34923ef8435fe3708f": {
      "model_module": "@jupyter-widgets/controls",
      "model_module_version": "1.4.0",
      "model_name": "DescriptionStyleModel",
      "state": {
       "description_width": ""
      }
     },
     "8696c8ba322146a787f3d75cebb33c95": {
      "model_module": "@jupyter-widgets/base",
      "model_module_version": "1.1.0",
      "model_name": "LayoutModel",
      "state": {}
     },
     "86db2642490e4134a53d3401e57d33a9": {
      "model_module": "@jupyter-widgets/controls",
      "model_module_version": "1.4.0",
      "model_name": "DescriptionStyleModel",
      "state": {
       "description_width": ""
      }
     },
     "86f17566335f485cb022be538202f074": {
      "model_module": "@jupyter-widgets/controls",
      "model_module_version": "1.4.0",
      "model_name": "HTMLModel",
      "state": {
       "layout": "IPY_MODEL_b2e6b44349e243e3ba94f32289d40f30",
       "style": "IPY_MODEL_d29de06d6d2f4398b36b81b8cff624de"
      }
     },
     "870a450d54c744349c045e89472069d0": {
      "model_module": "@jupyter-widgets/controls",
      "model_module_version": "1.4.0",
      "model_name": "TextModel",
      "state": {
       "layout": "IPY_MODEL_6d73f022ed1543e08e6e49dbe114ce33",
       "style": "IPY_MODEL_8b574cef106f4a1d952fb290b2a46d1d",
       "value": "nodes=1:i5-6500te"
      }
     },
     "870ea077eeb44bad91fa56cf99c153a5": {
      "model_module": "@jupyter-widgets/base",
      "model_module_version": "1.1.0",
      "model_name": "LayoutModel",
      "state": {}
     },
     "870ff85afa2c423782b3cf643c7a57bd": {
      "model_module": "@jupyter-widgets/base",
      "model_module_version": "1.1.0",
      "model_name": "LayoutModel",
      "state": {}
     },
     "87391c1ef3684d2c8fc62648b64d07b9": {
      "model_module": "@jupyter-widgets/base",
      "model_module_version": "1.1.0",
      "model_name": "LayoutModel",
      "state": {}
     },
     "8751147cad064ef08e40eed93bd2dcfa": {
      "model_module": "@jupyter-widgets/controls",
      "model_module_version": "1.4.0",
      "model_name": "ButtonStyleModel",
      "state": {}
     },
     "8764845edf504291bd8decb5457a4644": {
      "model_module": "@jupyter-widgets/controls",
      "model_module_version": "1.4.0",
      "model_name": "VBoxModel",
      "state": {
       "children": [
        "IPY_MODEL_b0d4e12fbfbc4454a6e9cd10428512b9"
       ],
       "layout": "IPY_MODEL_618becad3a2d4813b8c71a370e06ab3f"
      }
     },
     "8776ca6ca59444f0ab7d1f1ad3e53e1b": {
      "model_module": "@jupyter-widgets/controls",
      "model_module_version": "1.4.0",
      "model_name": "HTMLModel",
      "state": {
       "layout": "IPY_MODEL_6adba240403b431082644edbdfdad403",
       "placeholder": "0",
       "style": "IPY_MODEL_afe1db0a9bd844b5b474b522773a2104",
       "value": "Done"
      }
     },
     "87838e497b5d458f8777a62d59527abc": {
      "model_module": "@jupyter-widgets/base",
      "model_module_version": "1.1.0",
      "model_name": "LayoutModel",
      "state": {}
     },
     "879efa9748f04bafa40cff8e995b8183": {
      "model_module": "@jupyter-widgets/base",
      "model_module_version": "1.1.0",
      "model_name": "LayoutModel",
      "state": {}
     },
     "87d3e565996d460caebdbcad50503f22": {
      "model_module": "@jupyter-widgets/base",
      "model_module_version": "1.1.0",
      "model_name": "LayoutModel",
      "state": {}
     },
     "87df3d03cb694a8e83e6ee0d3aa0b9a2": {
      "model_module": "@jupyter-widgets/base",
      "model_module_version": "1.1.0",
      "model_name": "LayoutModel",
      "state": {}
     },
     "87faa29abcde464fb5349b2f74804d51": {
      "model_module": "@jupyter-widgets/controls",
      "model_module_version": "1.4.0",
      "model_name": "TextModel",
      "state": {
       "layout": "IPY_MODEL_faf55e7ea96d48eb9e71ad31bc3ab0b3",
       "style": "IPY_MODEL_c60800588bb34c2fb6014f5b2b99af2c",
       "value": "nodes=1:i5-6500te"
      }
     },
     "8800fb8c755c475a8b9c7f1b2f972e9c": {
      "model_module": "@jupyter-widgets/controls",
      "model_module_version": "1.4.0",
      "model_name": "DescriptionStyleModel",
      "state": {
       "description_width": ""
      }
     },
     "8802d95a68cb475dbd8422f6c8204fd3": {
      "model_module": "@jupyter-widgets/controls",
      "model_module_version": "1.4.0",
      "model_name": "TextModel",
      "state": {
       "layout": "IPY_MODEL_89d702c453ab4c75bc77772cb78dba4e",
       "style": "IPY_MODEL_b0ed14135c2c4bf685dff680f76bf9eb",
       "value": "nodes=1:i5-6500te"
      }
     },
     "880d65d9a6af41b49e527501e29e6ed2": {
      "model_module": "@jupyter-widgets/controls",
      "model_module_version": "1.4.0",
      "model_name": "DescriptionStyleModel",
      "state": {
       "description_width": ""
      }
     },
     "884bc7c5582040dd847dd4fb9bf935cc": {
      "model_module": "@jupyter-widgets/controls",
      "model_module_version": "1.4.0",
      "model_name": "FloatProgressModel",
      "state": {
       "bar_style": "info",
       "description": "Progress",
       "layout": "IPY_MODEL_e09b50a360864461b4a88427b9b5c9fe",
       "style": "IPY_MODEL_4cbb0ed7bc414978a405e82964432c57"
      }
     },
     "8897e9b5e9794c83a8df922f2cc24198": {
      "model_module": "@jupyter-widgets/base",
      "model_module_version": "1.1.0",
      "model_name": "LayoutModel",
      "state": {}
     },
     "88af72d6660d40bab307a06d244248f9": {
      "model_module": "@jupyter-widgets/controls",
      "model_module_version": "1.4.0",
      "model_name": "DescriptionStyleModel",
      "state": {
       "description_width": ""
      }
     },
     "88af8357367741e69cefeaffc689ddef": {
      "model_module": "@jupyter-widgets/controls",
      "model_module_version": "1.4.0",
      "model_name": "DescriptionStyleModel",
      "state": {
       "description_width": ""
      }
     },
     "88e3ad272a72422ab4b56bb54d36573f": {
      "model_module": "@jupyter-widgets/base",
      "model_module_version": "1.1.0",
      "model_name": "LayoutModel",
      "state": {}
     },
     "88ef179d62ed4afca98d64186d224730": {
      "model_module": "@jupyter-widgets/controls",
      "model_module_version": "1.4.0",
      "model_name": "ButtonModel",
      "state": {
       "button_style": "info",
       "description": "Plot results",
       "disabled": true,
       "layout": "IPY_MODEL_8696c8ba322146a787f3d75cebb33c95",
       "style": "IPY_MODEL_7cde1d0ad9cf425f9576d2d6759e5185"
      }
     },
     "88f0818acbe44c20a0f9ee8bfd5580d9": {
      "model_module": "@jupyter-widgets/controls",
      "model_module_version": "1.4.0",
      "model_name": "DescriptionStyleModel",
      "state": {
       "description_width": ""
      }
     },
     "8903e1be9fe541628d76f5ec7b594fb6": {
      "model_module": "@jupyter-widgets/controls",
      "model_module_version": "1.4.0",
      "model_name": "FloatProgressModel",
      "state": {
       "bar_style": "info",
       "description": "Progress",
       "layout": "IPY_MODEL_2e1925f874274ac381aabd66eeba840f",
       "style": "IPY_MODEL_fb645e02323246d19d2de14154da5fb4",
       "value": 100
      }
     },
     "894a4449d773414bbf6bf927c9acdc0f": {
      "model_module": "@jupyter-widgets/base",
      "model_module_version": "1.1.0",
      "model_name": "LayoutModel",
      "state": {}
     },
     "8951d77cf05d42fbb611c29d741482ff": {
      "model_module": "@jupyter-widgets/controls",
      "model_module_version": "1.4.0",
      "model_name": "HTMLModel",
      "state": {
       "layout": "IPY_MODEL_792024a215a44d95b30fb33ea6e920de",
       "placeholder": "0",
       "style": "IPY_MODEL_1540a31675784cef8c1073c851a58edd",
       "value": "Done"
      }
     },
     "8962eca1d1fa442fb859ce1e6dd73b65": {
      "model_module": "@jupyter-widgets/base",
      "model_module_version": "1.1.0",
      "model_name": "LayoutModel",
      "state": {}
     },
     "89b2ef8874ed43c9ab28c1743e587e30": {
      "model_module": "@jupyter-widgets/base",
      "model_module_version": "1.1.0",
      "model_name": "LayoutModel",
      "state": {}
     },
     "89d702c453ab4c75bc77772cb78dba4e": {
      "model_module": "@jupyter-widgets/base",
      "model_module_version": "1.1.0",
      "model_name": "LayoutModel",
      "state": {
       "width": "100%"
      }
     },
     "8a0eda3330b14344980469c1d5829512": {
      "model_module": "@jupyter-widgets/controls",
      "model_module_version": "1.4.0",
      "model_name": "TabModel",
      "state": {
       "layout": "IPY_MODEL_b218b0a9b92f466ca55edbd4c1107fd0"
      }
     },
     "8a18263ca71e4d9584507a66a7c9c233": {
      "model_module": "@jupyter-widgets/base",
      "model_module_version": "1.1.0",
      "model_name": "LayoutModel",
      "state": {}
     },
     "8a29a72f9e9f45aa9b4c7a29e9940a0d": {
      "model_module": "@jupyter-widgets/controls",
      "model_module_version": "1.4.0",
      "model_name": "DescriptionStyleModel",
      "state": {
       "description_width": ""
      }
     },
     "8a2e9aaf17694b259f9aaa5dc94f6dc7": {
      "model_module": "@jupyter-widgets/controls",
      "model_module_version": "1.4.0",
      "model_name": "HTMLModel",
      "state": {
       "layout": "IPY_MODEL_3c3f8b25232d4d789fd944d39ae434f3",
       "placeholder": "",
       "style": "IPY_MODEL_47213c6b2d25471c88a29a3d73cff499"
      }
     },
     "8a3edda9601c45c08d840d614b25ce98": {
      "model_module": "@jupyter-widgets/base",
      "model_module_version": "1.1.0",
      "model_name": "LayoutModel",
      "state": {}
     },
     "8a45b76bef604b0798bc6b5b773664f2": {
      "model_module": "@jupyter-widgets/controls",
      "model_module_version": "1.4.0",
      "model_name": "DescriptionStyleModel",
      "state": {
       "description_width": ""
      }
     },
     "8a4a86bc24fe4f5cafc78c207a22bdc1": {
      "model_module": "@jupyter-widgets/base",
      "model_module_version": "1.1.0",
      "model_name": "LayoutModel",
      "state": {}
     },
     "8aaa5a71227741778a23b2e541d361b3": {
      "model_module": "@jupyter-widgets/base",
      "model_module_version": "1.1.0",
      "model_name": "LayoutModel",
      "state": {}
     },
     "8b10ad4048294b90a61c08f3f68cc3e2": {
      "model_module": "@jupyter-widgets/controls",
      "model_module_version": "1.4.0",
      "model_name": "DescriptionStyleModel",
      "state": {
       "description_width": "initial"
      }
     },
     "8b376a0814684da9b60879ed76a3754a": {
      "model_module": "@jupyter-widgets/controls",
      "model_module_version": "1.4.0",
      "model_name": "DescriptionStyleModel",
      "state": {
       "description_width": "initial"
      }
     },
     "8b512ca62bca4d0094c761f4b99cd3b1": {
      "model_module": "@jupyter-widgets/base",
      "model_module_version": "1.1.0",
      "model_name": "LayoutModel",
      "state": {}
     },
     "8b574cef106f4a1d952fb290b2a46d1d": {
      "model_module": "@jupyter-widgets/controls",
      "model_module_version": "1.4.0",
      "model_name": "DescriptionStyleModel",
      "state": {
       "description_width": ""
      }
     },
     "8b7d42d6f2744420a2505b8280350fe1": {
      "model_module": "@jupyter-widgets/controls",
      "model_module_version": "1.4.0",
      "model_name": "ButtonModel",
      "state": {
       "button_style": "info",
       "description": "Plot results",
       "layout": "IPY_MODEL_925a7d2556dc4fdda4e4f0441f2b0f94",
       "style": "IPY_MODEL_cd2f5b16db414f05924aaae0ea736702"
      }
     },
     "8ba86a7e282a4cc889b996ba6f28a41b": {
      "model_module": "@jupyter-widgets/controls",
      "model_module_version": "1.4.0",
      "model_name": "DescriptionStyleModel",
      "state": {
       "description_width": "initial"
      }
     },
     "8be21d3b34254602a2ebed1a07244de2": {
      "model_module": "@jupyter-widgets/controls",
      "model_module_version": "1.4.0",
      "model_name": "DescriptionStyleModel",
      "state": {
       "description_width": "initial"
      }
     },
     "8be83fc27db5466f84740b2dff0f522d": {
      "model_module": "@jupyter-widgets/base",
      "model_module_version": "1.1.0",
      "model_name": "LayoutModel",
      "state": {}
     },
     "8beb07d3d56f4f70ba21fed5d5a1b0ae": {
      "model_module": "@jupyter-widgets/base",
      "model_module_version": "1.1.0",
      "model_name": "LayoutModel",
      "state": {}
     },
     "8beb13b19cda4fea81046158550e42ce": {
      "model_module": "@jupyter-widgets/base",
      "model_module_version": "1.1.0",
      "model_name": "LayoutModel",
      "state": {}
     },
     "8bedeaeae611481e86b7bed2712e436c": {
      "model_module": "@jupyter-widgets/base",
      "model_module_version": "1.1.0",
      "model_name": "LayoutModel",
      "state": {
       "align_items": "stretch",
       "border": "",
       "display": "flex",
       "flex_flow": "column",
       "height": "",
       "width": "100%"
      }
     },
     "8bfce3983d65402fba26b8f3bb4dd90c": {
      "model_module": "@jupyter-widgets/controls",
      "model_module_version": "1.4.0",
      "model_name": "DescriptionStyleModel",
      "state": {
       "description_width": ""
      }
     },
     "8c1f7dd93db3454fb1c04955d462361e": {
      "model_module": "@jupyter-widgets/controls",
      "model_module_version": "1.4.0",
      "model_name": "DescriptionStyleModel",
      "state": {
       "description_width": "initial"
      }
     },
     "8c21be7c83dc403cabe4f6c5f8951d4d": {
      "model_module": "@jupyter-widgets/controls",
      "model_module_version": "1.4.0",
      "model_name": "HTMLModel",
      "state": {
       "layout": "IPY_MODEL_008b593a3b51419594e2dd7ee1c279d9",
       "placeholder": "0",
       "style": "IPY_MODEL_283d5082c2794122a26f2e035079b9b9",
       "value": "Total estimated: 1.1\n seconds"
      }
     },
     "8c2db4f9be7d4da7b214c0b2b6ad263d": {
      "model_module": "@jupyter-widgets/controls",
      "model_module_version": "1.4.0",
      "model_name": "VBoxModel",
      "state": {
       "children": [
        "IPY_MODEL_27de32a39af54565a71fd2e9df9a5708"
       ],
       "layout": "IPY_MODEL_9ec6fa0330314bbb9a94cf493a0554d0"
      }
     },
     "8c493bb3974446398f2246a399745ed1": {
      "model_module": "@jupyter-widgets/controls",
      "model_module_version": "1.4.0",
      "model_name": "DescriptionStyleModel",
      "state": {
       "description_width": ""
      }
     },
     "8c8933b841b740e4adf78556375824ea": {
      "model_module": "@jupyter-widgets/controls",
      "model_module_version": "1.4.0",
      "model_name": "DescriptionStyleModel",
      "state": {
       "description_width": "initial"
      }
     },
     "8caaa82bb95849b08d618bad6fd115de": {
      "model_module": "@jupyter-widgets/controls",
      "model_module_version": "1.4.0",
      "model_name": "HTMLModel",
      "state": {
       "layout": "IPY_MODEL_ff76dfa5a8be4c1d9ce1f7d88e78f0ed",
       "style": "IPY_MODEL_e03515856141400a8af7d9a01c4ce37f"
      }
     },
     "8cbe57c9622e44e1b3da5391064d17a1": {
      "model_module": "@jupyter-widgets/base",
      "model_module_version": "1.1.0",
      "model_name": "LayoutModel",
      "state": {}
     },
     "8d284117d6594f359b46fc71046b944e": {
      "model_module": "@jupyter-widgets/base",
      "model_module_version": "1.1.0",
      "model_name": "LayoutModel",
      "state": {}
     },
     "8d38daf253a74008b4c04d779dc6db63": {
      "model_module": "@jupyter-widgets/controls",
      "model_module_version": "1.4.0",
      "model_name": "TextModel",
      "state": {
       "layout": "IPY_MODEL_034a2ca6637b4b17907fc1e146ee2397",
       "style": "IPY_MODEL_55f5732a9722456f99dec55f0b539ea6",
       "value": "nodes=1:i5-6500te"
      }
     },
     "8d42cc664b834bb2966b8de9c2562f78": {
      "model_module": "@jupyter-widgets/base",
      "model_module_version": "1.1.0",
      "model_name": "LayoutModel",
      "state": {}
     },
     "8d66f6517db44cba865f9a7009aa7c6b": {
      "model_module": "@jupyter-widgets/controls",
      "model_module_version": "1.4.0",
      "model_name": "DescriptionStyleModel",
      "state": {
       "description_width": "initial"
      }
     },
     "8d8b70044e2049d497fc82d4c7c79fe8": {
      "model_module": "@jupyter-widgets/controls",
      "model_module_version": "1.4.0",
      "model_name": "VBoxModel",
      "state": {
       "children": [
        "IPY_MODEL_0f8507897d054a4a87f44b32b80dfc3f"
       ],
       "layout": "IPY_MODEL_ba65440d9bcd4c688a2fddc62f2277d7"
      }
     },
     "8d9129f3d4764e4c980614dfe6a996e8": {
      "model_module": "@jupyter-widgets/base",
      "model_module_version": "1.1.0",
      "model_name": "LayoutModel",
      "state": {
       "align_items": "stretch",
       "border": "ridge",
       "display": "flex",
       "flex_flow": "column",
       "height": "",
       "width": "100%"
      }
     },
     "8d92a42e48cb430d90846b9fa113f765": {
      "model_module": "@jupyter-widgets/controls",
      "model_module_version": "1.4.0",
      "model_name": "VBoxModel",
      "state": {
       "children": [
        "IPY_MODEL_ba26b041c93b401a82370799482794c6"
       ],
       "layout": "IPY_MODEL_31c5a9335a2344ae86355d9b3ae818eb"
      }
     },
     "8d995f105ad041188e5097b44cc6b7eb": {
      "model_module": "@jupyter-widgets/base",
      "model_module_version": "1.1.0",
      "model_name": "LayoutModel",
      "state": {}
     },
     "8d9f9a5778c24f4c807063d1651cbece": {
      "model_module": "@jupyter-widgets/controls",
      "model_module_version": "1.4.0",
      "model_name": "DescriptionStyleModel",
      "state": {
       "description_width": "initial"
      }
     },
     "8dc504f2face46329eae2d3c1ff31391": {
      "model_module": "@jupyter-widgets/base",
      "model_module_version": "1.1.0",
      "model_name": "LayoutModel",
      "state": {}
     },
     "8dd1591323f64a5f924cd80db20425b9": {
      "model_module": "@jupyter-widgets/controls",
      "model_module_version": "1.4.0",
      "model_name": "ButtonStyleModel",
      "state": {}
     },
     "8dd7bd066d6c48edb64bd42dd92ffdf7": {
      "model_module": "@jupyter-widgets/controls",
      "model_module_version": "1.4.0",
      "model_name": "FloatProgressModel",
      "state": {
       "bar_style": "info",
       "description": "Progress",
       "layout": "IPY_MODEL_c65b9fea8eda487abf9abfc766253c79",
       "style": "IPY_MODEL_ab11b0a7fc2e40a6873acb4b425232f5",
       "value": 100
      }
     },
     "8e023e3c84e44ced97e33f416fcbd131": {
      "model_module": "@jupyter-widgets/output",
      "model_module_version": "1.0.0",
      "model_name": "OutputModel",
      "state": {
       "layout": "IPY_MODEL_ef4907908f894d32a1490bb1661146d1"
      }
     },
     "8e32af88d685455a9bd93e2831af0900": {
      "model_module": "@jupyter-widgets/base",
      "model_module_version": "1.1.0",
      "model_name": "LayoutModel",
      "state": {}
     },
     "8e5c60fe44994ebebcdd2637028ac513": {
      "model_module": "@jupyter-widgets/controls",
      "model_module_version": "1.4.0",
      "model_name": "DescriptionStyleModel",
      "state": {
       "description_width": "initial"
      }
     },
     "8e9a2e3962074062b978ca2da52c2c5c": {
      "model_module": "@jupyter-widgets/controls",
      "model_module_version": "1.4.0",
      "model_name": "VBoxModel",
      "state": {
       "children": [
        "IPY_MODEL_4a3c09c3dd354eccac2eac29ce7fd213"
       ],
       "layout": "IPY_MODEL_aae64110ccc04a04b5c637e16c549847"
      }
     },
     "8ea57653eb184a1c88d321ea5ad81ddb": {
      "model_module": "@jupyter-widgets/controls",
      "model_module_version": "1.4.0",
      "model_name": "DescriptionStyleModel",
      "state": {
       "description_width": "initial"
      }
     },
     "8ebe3a68eac14d58819432662cc34f5a": {
      "model_module": "@jupyter-widgets/base",
      "model_module_version": "1.1.0",
      "model_name": "LayoutModel",
      "state": {}
     },
     "8ec54e92ee914a43a506066fd72ca743": {
      "model_module": "@jupyter-widgets/controls",
      "model_module_version": "1.4.0",
      "model_name": "LabelModel",
      "state": {
       "layout": "IPY_MODEL_4085bb10ddb14c62a5d9ee0962776701",
       "style": "IPY_MODEL_dfaef1dded4a4a0e9c1c7a681602ac60",
       "value": "Target node"
      }
     },
     "8ec6dba0796a4463b8f50bd09b93c677": {
      "model_module": "@jupyter-widgets/controls",
      "model_module_version": "1.4.0",
      "model_name": "ProgressStyleModel",
      "state": {
       "description_width": "initial"
      }
     },
     "8ee9327b5fcc4ef0833ee396ea4c4434": {
      "model_module": "@jupyter-widgets/controls",
      "model_module_version": "1.4.0",
      "model_name": "FloatProgressModel",
      "state": {
       "bar_style": "info",
       "layout": "IPY_MODEL_5ea508702ee9488a88346a26d35ab5c0",
       "style": "IPY_MODEL_0fef805d2fa1422b97a364d13a43cce8"
      }
     },
     "8f272793df0d41a4a525d90db58a0bda": {
      "model_module": "@jupyter-widgets/controls",
      "model_module_version": "1.4.0",
      "model_name": "DescriptionStyleModel",
      "state": {
       "description_width": ""
      }
     },
     "8f3f241409a346c4b5eb833afd3d0d68": {
      "model_module": "@jupyter-widgets/base",
      "model_module_version": "1.1.0",
      "model_name": "LayoutModel",
      "state": {}
     },
     "8f6cb61071ed4e1f94fab082e040f6f1": {
      "model_module": "@jupyter-widgets/controls",
      "model_module_version": "1.4.0",
      "model_name": "ButtonStyleModel",
      "state": {}
     },
     "8f7ba86a1171488c9a2f5b5c871196d8": {
      "model_module": "@jupyter-widgets/base",
      "model_module_version": "1.1.0",
      "model_name": "LayoutModel",
      "state": {}
     },
     "8fa20d7dbc2c4b5c876ae562e97221ca": {
      "model_module": "@jupyter-widgets/controls",
      "model_module_version": "1.4.0",
      "model_name": "ButtonModel",
      "state": {
       "button_style": "info",
       "description": "Plot results",
       "layout": "IPY_MODEL_879efa9748f04bafa40cff8e995b8183",
       "style": "IPY_MODEL_7a52de0107bf473b8bfabf51a9af4a6b"
      }
     },
     "8fcec1fde25b4079bf00e84affd69f5b": {
      "model_module": "@jupyter-widgets/base",
      "model_module_version": "1.1.0",
      "model_name": "LayoutModel",
      "state": {}
     },
     "8fd5f2c718c3464cbf54c9f53b67552b": {
      "model_module": "@jupyter-widgets/controls",
      "model_module_version": "1.4.0",
      "model_name": "HTMLModel",
      "state": {
       "layout": "IPY_MODEL_870ea077eeb44bad91fa56cf99c153a5",
       "style": "IPY_MODEL_6f9c20c678af4ac687641264ee77f3d2"
      }
     },
     "901d9b0d62b84d33b7634be79898cd1c": {
      "model_module": "@jupyter-widgets/controls",
      "model_module_version": "1.4.0",
      "model_name": "DescriptionStyleModel",
      "state": {
       "description_width": ""
      }
     },
     "9020fd7cccd64c2aaf6703d795da5471": {
      "model_module": "@jupyter-widgets/output",
      "model_module_version": "1.0.0",
      "model_name": "OutputModel",
      "state": {
       "layout": "IPY_MODEL_fd531e7f85bc499cbc36f1a852dfca8e"
      }
     },
     "90276f05f4a745618eedc28dbf768535": {
      "model_module": "@jupyter-widgets/base",
      "model_module_version": "1.1.0",
      "model_name": "LayoutModel",
      "state": {
       "align_items": "stretch",
       "border": "",
       "display": "flex",
       "flex_flow": "column",
       "height": "",
       "width": "100%"
      }
     },
     "90d55964c5c14762885fc55b85727a2f": {
      "model_module": "@jupyter-widgets/base",
      "model_module_version": "1.1.0",
      "model_name": "LayoutModel",
      "state": {}
     },
     "90f706d907704dbd915d10e90c6f06f1": {
      "model_module": "@jupyter-widgets/base",
      "model_module_version": "1.1.0",
      "model_name": "LayoutModel",
      "state": {}
     },
     "90f7edcb818e41e4867d52ab66c0cc26": {
      "model_module": "@jupyter-widgets/base",
      "model_module_version": "1.1.0",
      "model_name": "LayoutModel",
      "state": {}
     },
     "90fbf0c6486f4cf481f9f254ec7be7f5": {
      "model_module": "@jupyter-widgets/controls",
      "model_module_version": "1.4.0",
      "model_name": "DescriptionStyleModel",
      "state": {
       "description_width": "initial"
      }
     },
     "9164f00e5cb94acfbb5b3ea3c58f8b4f": {
      "model_module": "@jupyter-widgets/controls",
      "model_module_version": "1.4.0",
      "model_name": "DescriptionStyleModel",
      "state": {
       "description_width": ""
      }
     },
     "916972a3951a415aa4210d107bb84ec0": {
      "model_module": "@jupyter-widgets/controls",
      "model_module_version": "1.4.0",
      "model_name": "DescriptionStyleModel",
      "state": {
       "description_width": ""
      }
     },
     "917a467c92e44a6d8666e52c8bc81229": {
      "model_module": "@jupyter-widgets/base",
      "model_module_version": "1.1.0",
      "model_name": "LayoutModel",
      "state": {}
     },
     "91ae3f619d32461f9d2d79ff5365e6ff": {
      "model_module": "@jupyter-widgets/base",
      "model_module_version": "1.1.0",
      "model_name": "LayoutModel",
      "state": {}
     },
     "91be4f2628f440e9a6e8156e4bf7ee92": {
      "model_module": "@jupyter-widgets/base",
      "model_module_version": "1.1.0",
      "model_name": "LayoutModel",
      "state": {}
     },
     "91d380b4782c4a49b729acd4816081ba": {
      "model_module": "@jupyter-widgets/controls",
      "model_module_version": "1.4.0",
      "model_name": "DescriptionStyleModel",
      "state": {
       "description_width": "initial"
      }
     },
     "91e737a6473949bcad0048b3f186f200": {
      "model_module": "@jupyter-widgets/base",
      "model_module_version": "1.1.0",
      "model_name": "LayoutModel",
      "state": {}
     },
     "922c25220016474faeb1efa0c18ce07d": {
      "model_module": "@jupyter-widgets/base",
      "model_module_version": "1.1.0",
      "model_name": "LayoutModel",
      "state": {}
     },
     "922e97b79cf8433a85ce199ac2e84ae2": {
      "model_module": "@jupyter-widgets/base",
      "model_module_version": "1.1.0",
      "model_name": "LayoutModel",
      "state": {}
     },
     "9253857610fa40a6892a73194fb8cd19": {
      "model_module": "@jupyter-widgets/controls",
      "model_module_version": "1.4.0",
      "model_name": "SelectModel",
      "state": {
       "_options_labels": [
        "Intel FPGA"
       ],
       "index": 0,
       "layout": "IPY_MODEL_f2d60669eb5d423f807cd7b05582bac2",
       "rows": 1,
       "style": "IPY_MODEL_7123c3f27f614132a082349de247f0fc"
      }
     },
     "925a7d2556dc4fdda4e4f0441f2b0f94": {
      "model_module": "@jupyter-widgets/base",
      "model_module_version": "1.1.0",
      "model_name": "LayoutModel",
      "state": {}
     },
     "92900a23691e463784b79426d96a3f3b": {
      "model_module": "@jupyter-widgets/base",
      "model_module_version": "1.1.0",
      "model_name": "LayoutModel",
      "state": {}
     },
     "9308aa54e4d6421881a6aa195043d15e": {
      "model_module": "@jupyter-widgets/controls",
      "model_module_version": "1.4.0",
      "model_name": "FloatProgressModel",
      "state": {
       "bar_style": "info",
       "layout": "IPY_MODEL_9816ecbc88c049d781b1876bf4851e0e",
       "style": "IPY_MODEL_1f61991ae2764a569a10d32358264d8c"
      }
     },
     "9374fc4a478f4c5bb4de724027d2e83f": {
      "model_module": "@jupyter-widgets/controls",
      "model_module_version": "1.4.0",
      "model_name": "HTMLModel",
      "state": {
       "layout": "IPY_MODEL_ca78714f27e743b597ac5a6b32c4d11e",
       "placeholder": "0",
       "style": "IPY_MODEL_64e516e1258d4d58b0dee293e48bc6d0",
       "value": "...waiting to start"
      }
     },
     "93a866fbc6ce4756b5cfc0f3f9e59a94": {
      "model_module": "@jupyter-widgets/controls",
      "model_module_version": "1.4.0",
      "model_name": "ButtonModel",
      "state": {
       "button_style": "info",
       "description": "Plot results",
       "layout": "IPY_MODEL_bd5722c859a84228a9ecc8b715f28409",
       "style": "IPY_MODEL_eccbf9e449ee4bd49c051524057ff4db"
      }
     },
     "93cc872928d94676b14482417ab25571": {
      "model_module": "@jupyter-widgets/base",
      "model_module_version": "1.1.0",
      "model_name": "LayoutModel",
      "state": {}
     },
     "93df229ede6e41dc812caf16c27fe9b8": {
      "model_module": "@jupyter-widgets/controls",
      "model_module_version": "1.4.0",
      "model_name": "ButtonModel",
      "state": {
       "button_style": "info",
       "description": "Submit",
       "layout": "IPY_MODEL_ede337bd5049411396a05d36a039dc12",
       "style": "IPY_MODEL_b9a9d08e6c2c457480a55fe6bb0c0e64"
      }
     },
     "93e3493515c640a583074d21a715816c": {
      "model_module": "@jupyter-widgets/controls",
      "model_module_version": "1.4.0",
      "model_name": "ProgressStyleModel",
      "state": {
       "description_width": "initial"
      }
     },
     "941bf08148a9443cb6521b4453e3ab60": {
      "model_module": "@jupyter-widgets/base",
      "model_module_version": "1.1.0",
      "model_name": "LayoutModel",
      "state": {
       "width": "100%"
      }
     },
     "942817e9d1bb41469d7728a6d8308ae3": {
      "model_module": "@jupyter-widgets/controls",
      "model_module_version": "1.4.0",
      "model_name": "DescriptionStyleModel",
      "state": {
       "description_width": "initial"
      }
     },
     "9441010d359d427996f2903ace997064": {
      "model_module": "@jupyter-widgets/base",
      "model_module_version": "1.1.0",
      "model_name": "LayoutModel",
      "state": {}
     },
     "9477945295cd4893a3f1952974e7cec7": {
      "model_module": "@jupyter-widgets/base",
      "model_module_version": "1.1.0",
      "model_name": "LayoutModel",
      "state": {}
     },
     "9479c2c6515c4aa8ab5776cb0383a836": {
      "model_module": "@jupyter-widgets/controls",
      "model_module_version": "1.4.0",
      "model_name": "DescriptionStyleModel",
      "state": {
       "description_width": ""
      }
     },
     "94cec053c85d4c1c814eb5dbc128c690": {
      "model_module": "@jupyter-widgets/base",
      "model_module_version": "1.1.0",
      "model_name": "LayoutModel",
      "state": {}
     },
     "952b04a7310f47bc94bd6cf6ec9da079": {
      "model_module": "@jupyter-widgets/controls",
      "model_module_version": "1.4.0",
      "model_name": "VBoxModel",
      "state": {
       "children": [
        "IPY_MODEL_6209fce599e14b59b3b9b97fd087a809",
        "IPY_MODEL_babefab4be094a77856cec1e208df5af"
       ],
       "layout": "IPY_MODEL_84d19e45e8f342d6842d7776b18235df"
      }
     },
     "952e1530ec7a408681f34038cf32fa6f": {
      "model_module": "@jupyter-widgets/base",
      "model_module_version": "1.1.0",
      "model_name": "LayoutModel",
      "state": {}
     },
     "957ee22b6fbd4563a9933bb9c1ce37d5": {
      "model_module": "@jupyter-widgets/base",
      "model_module_version": "1.1.0",
      "model_name": "LayoutModel",
      "state": {
       "align_items": "stretch",
       "border": "",
       "display": "flex",
       "flex_flow": "column",
       "height": "",
       "width": "100%"
      }
     },
     "9592e30b234c4d1cb75c410bdb48ca17": {
      "model_module": "@jupyter-widgets/base",
      "model_module_version": "1.1.0",
      "model_name": "LayoutModel",
      "state": {}
     },
     "9598f92a9d984843bcbc6682eb0dc9a0": {
      "model_module": "@jupyter-widgets/output",
      "model_module_version": "1.0.0",
      "model_name": "OutputModel",
      "state": {
       "layout": "IPY_MODEL_a3104a70b7f24460af139b9e068b2ae5"
      }
     },
     "95eac0a530cc48d587ea8d1f837a9106": {
      "model_module": "@jupyter-widgets/base",
      "model_module_version": "1.1.0",
      "model_name": "LayoutModel",
      "state": {}
     },
     "96055f03aaf646f29b6ee54eaf2cd0c4": {
      "model_module": "@jupyter-widgets/base",
      "model_module_version": "1.1.0",
      "model_name": "LayoutModel",
      "state": {}
     },
     "960f48a3ed1646e68f4bca899cebd008": {
      "model_module": "@jupyter-widgets/controls",
      "model_module_version": "1.4.0",
      "model_name": "DescriptionStyleModel",
      "state": {
       "description_width": "initial"
      }
     },
     "961b955b70ef4fb082438f0d8982610e": {
      "model_module": "@jupyter-widgets/controls",
      "model_module_version": "1.4.0",
      "model_name": "VBoxModel",
      "state": {
       "children": [
        "IPY_MODEL_ee7a99bcb7f6483db69b50ab062bf684"
       ],
       "layout": "IPY_MODEL_eb56c5d91c2249ccadba0bb071dec7fd"
      }
     },
     "9627f8f992cc405491d4b8efa0f7e1ee": {
      "model_module": "@jupyter-widgets/controls",
      "model_module_version": "1.4.0",
      "model_name": "HTMLModel",
      "state": {
       "layout": "IPY_MODEL_4ae0b9df6a124e039533dab72dac7d6f",
       "style": "IPY_MODEL_fca141da495e46e9a68379e06fb08621",
       "value": "<table><style type=\"text/css\" scoped>td{ padding:5px; border: 1px solid #9e9e9e; line-height:1.2em;}td:first-child{font-weight:bold;}</style><tbody><tr><td>Target node</td><td>nodes=1:i5-6500te</td></tr><tr><td>Submission command</td><td>qsub test_script.sh  -l nodes=1:i5-6500te -F \"  -r results/\"</td></tr></tbody></table>"
      }
     },
     "96304a9039274b80b0949641feb3621a": {
      "model_module": "@jupyter-widgets/controls",
      "model_module_version": "1.4.0",
      "model_name": "VBoxModel",
      "state": {
       "children": [
        "IPY_MODEL_41a1a0a6752640bfa087671e5ee51d1c",
        "IPY_MODEL_eb8589af06744e1cac3b3137d0ce233e"
       ],
       "layout": "IPY_MODEL_8aaa5a71227741778a23b2e541d361b3"
      }
     },
     "9645cfa45f4f4df59874f82c07040283": {
      "model_module": "@jupyter-widgets/base",
      "model_module_version": "1.1.0",
      "model_name": "LayoutModel",
      "state": {}
     },
     "965c1542681a458eae849b7c439de919": {
      "model_module": "@jupyter-widgets/controls",
      "model_module_version": "1.4.0",
      "model_name": "TextModel",
      "state": {
       "layout": "IPY_MODEL_4f30ebe7a8964396b144e58639902f31",
       "style": "IPY_MODEL_e926a4ad2d794e96944f54ecbdc0125b",
       "value": "nodes=1:i5-6500te"
      }
     },
     "9664931756eb46479619a8ceac23ee6e": {
      "model_module": "@jupyter-widgets/base",
      "model_module_version": "1.1.0",
      "model_name": "LayoutModel",
      "state": {}
     },
     "9673486dfb9a48d18685e658b063248f": {
      "model_module": "@jupyter-widgets/base",
      "model_module_version": "1.1.0",
      "model_name": "LayoutModel",
      "state": {}
     },
     "9691934024d54cd493ddb0f437408f98": {
      "model_module": "@jupyter-widgets/base",
      "model_module_version": "1.1.0",
      "model_name": "LayoutModel",
      "state": {}
     },
     "96af3b65e8d843a7837390ca9b86d508": {
      "model_module": "@jupyter-widgets/base",
      "model_module_version": "1.1.0",
      "model_name": "LayoutModel",
      "state": {}
     },
     "96d828643e9c43bda36949c97f4f8901": {
      "model_module": "@jupyter-widgets/base",
      "model_module_version": "1.1.0",
      "model_name": "LayoutModel",
      "state": {}
     },
     "96e0392e90884f94b97f29f67bacf9d1": {
      "model_module": "@jupyter-widgets/controls",
      "model_module_version": "1.4.0",
      "model_name": "DescriptionStyleModel",
      "state": {
       "description_width": ""
      }
     },
     "96e276c80cf2468a90bc68d4c0cba3c6": {
      "model_module": "@jupyter-widgets/controls",
      "model_module_version": "1.4.0",
      "model_name": "DescriptionStyleModel",
      "state": {
       "description_width": "initial"
      }
     },
     "9702be746a4347158638f27655ed6d97": {
      "model_module": "@jupyter-widgets/controls",
      "model_module_version": "1.4.0",
      "model_name": "DescriptionStyleModel",
      "state": {
       "description_width": ""
      }
     },
     "9718e88a4bbc4d5faad53b6c3229cf5d": {
      "model_module": "@jupyter-widgets/base",
      "model_module_version": "1.1.0",
      "model_name": "LayoutModel",
      "state": {
       "width": "100%"
      }
     },
     "971d729bff4a421eb09e701ac955d41f": {
      "model_module": "@jupyter-widgets/controls",
      "model_module_version": "1.4.0",
      "model_name": "ProgressStyleModel",
      "state": {
       "description_width": "initial"
      }
     },
     "97597ed1d38b44fa8717ad7fdd12350d": {
      "model_module": "@jupyter-widgets/base",
      "model_module_version": "1.1.0",
      "model_name": "LayoutModel",
      "state": {}
     },
     "9769473345de4d8ea2262629ec10058f": {
      "model_module": "@jupyter-widgets/base",
      "model_module_version": "1.1.0",
      "model_name": "LayoutModel",
      "state": {}
     },
     "977026a12fc04d4e8785c58d9e3ca7f9": {
      "model_module": "@jupyter-widgets/controls",
      "model_module_version": "1.4.0",
      "model_name": "ButtonStyleModel",
      "state": {}
     },
     "978e91d4806848f6be4b843b84fcd1d4": {
      "model_module": "@jupyter-widgets/controls",
      "model_module_version": "1.4.0",
      "model_name": "DescriptionStyleModel",
      "state": {
       "description_width": ""
      }
     },
     "97908e968d5f4d09bdaf35d39e7e1895": {
      "model_module": "@jupyter-widgets/controls",
      "model_module_version": "1.4.0",
      "model_name": "HTMLModel",
      "state": {
       "layout": "IPY_MODEL_c5671ef7985c4d628536e4c3867d8ad4",
       "style": "IPY_MODEL_4537cc650e854476804d849471144f03"
      }
     },
     "981525ac5a9341ad85fdb4f58d559022": {
      "model_module": "@jupyter-widgets/controls",
      "model_module_version": "1.4.0",
      "model_name": "HTMLModel",
      "state": {
       "layout": "IPY_MODEL_3f664d466fc94edfbc3dcc268c80f8f0",
       "style": "IPY_MODEL_bc074c99815c4e3287e8f59689cc50b5"
      }
     },
     "9816ecbc88c049d781b1876bf4851e0e": {
      "model_module": "@jupyter-widgets/base",
      "model_module_version": "1.1.0",
      "model_name": "LayoutModel",
      "state": {}
     },
     "983cf6136c48446cb3a679d6f88b6f62": {
      "model_module": "@jupyter-widgets/controls",
      "model_module_version": "1.4.0",
      "model_name": "ProgressStyleModel",
      "state": {
       "description_width": "initial"
      }
     },
     "984d075264b340d29c044a12ca81df0c": {
      "model_module": "@jupyter-widgets/controls",
      "model_module_version": "1.4.0",
      "model_name": "VBoxModel",
      "state": {
       "children": [
        "IPY_MODEL_52feca4457d94a02940d4bdad21e6f2c",
        "IPY_MODEL_8574e8bb0f6d43ff91a661622a1a7fbe",
        "IPY_MODEL_d94435ee364a40f4a05794d2996b0ecb"
       ],
       "layout": "IPY_MODEL_ad05c3d6715944aba3cbbce19d47fe9f"
      }
     },
     "9853e4874ec14eedba373e0f1c6dae2d": {
      "model_module": "@jupyter-widgets/controls",
      "model_module_version": "1.4.0",
      "model_name": "ButtonStyleModel",
      "state": {}
     },
     "98822601a7ef4c3ab481d231ff404f5b": {
      "model_module": "@jupyter-widgets/base",
      "model_module_version": "1.1.0",
      "model_name": "LayoutModel",
      "state": {}
     },
     "989956c3dc0b48099fa1a583ee57dd67": {
      "model_module": "@jupyter-widgets/base",
      "model_module_version": "1.1.0",
      "model_name": "LayoutModel",
      "state": {}
     },
     "98c5d1f7e329477bac51f98b443296af": {
      "model_module": "@jupyter-widgets/controls",
      "model_module_version": "1.4.0",
      "model_name": "ProgressStyleModel",
      "state": {
       "description_width": "initial"
      }
     },
     "98df6e378e584a5db71f6467a2405382": {
      "model_module": "@jupyter-widgets/controls",
      "model_module_version": "1.4.0",
      "model_name": "ButtonStyleModel",
      "state": {}
     },
     "98e6cad7a03d47fa82b787697bf086b8": {
      "model_module": "@jupyter-widgets/base",
      "model_module_version": "1.1.0",
      "model_name": "LayoutModel",
      "state": {}
     },
     "98fcbf55a56a42739fa0e50321b79a24": {
      "model_module": "@jupyter-widgets/controls",
      "model_module_version": "1.4.0",
      "model_name": "TextModel",
      "state": {
       "layout": "IPY_MODEL_b8dcfa4ef47e4f8c88dda3916eaa8028",
       "style": "IPY_MODEL_1ce3871ef64846fbac748781583e88e6",
       "value": "nodes=1:i5-6500te"
      }
     },
     "9926745002af4c59b52d79ca986a20c3": {
      "model_module": "@jupyter-widgets/controls",
      "model_module_version": "1.4.0",
      "model_name": "DescriptionStyleModel",
      "state": {
       "description_width": ""
      }
     },
     "99297df04b034bb3a7ec773cdf6f86c5": {
      "model_module": "@jupyter-widgets/controls",
      "model_module_version": "1.4.0",
      "model_name": "DescriptionStyleModel",
      "state": {
       "description_width": ""
      }
     },
     "9954e8a12931451dbbc8a801026f71a3": {
      "model_module": "@jupyter-widgets/base",
      "model_module_version": "1.1.0",
      "model_name": "LayoutModel",
      "state": {}
     },
     "9956fbc66dc942d5940e1cce930c8677": {
      "model_module": "@jupyter-widgets/output",
      "model_module_version": "1.0.0",
      "model_name": "OutputModel",
      "state": {
       "layout": "IPY_MODEL_184d3ee1fe064ec38ad7dcc935677720"
      }
     },
     "998674d4211b44f7bcf6cc54d8244036": {
      "model_module": "@jupyter-widgets/base",
      "model_module_version": "1.1.0",
      "model_name": "LayoutModel",
      "state": {
       "width": "100%"
      }
     },
     "99babc624df64a7f9bfcedb756a11068": {
      "model_module": "@jupyter-widgets/controls",
      "model_module_version": "1.4.0",
      "model_name": "DescriptionStyleModel",
      "state": {
       "description_width": ""
      }
     },
     "99c35409b33b4dd985a1ce8406729c5e": {
      "model_module": "@jupyter-widgets/base",
      "model_module_version": "1.1.0",
      "model_name": "LayoutModel",
      "state": {
       "width": "100%"
      }
     },
     "9a09b89046d047ddb8ba1f3dd2a4d267": {
      "model_module": "@jupyter-widgets/base",
      "model_module_version": "1.1.0",
      "model_name": "LayoutModel",
      "state": {}
     },
     "9a19de166b4d48cea4a02958fe3f597a": {
      "model_module": "@jupyter-widgets/base",
      "model_module_version": "1.1.0",
      "model_name": "LayoutModel",
      "state": {
       "width": "100%"
      }
     },
     "9a27ef2b445142529eefcc89571fb6eb": {
      "model_module": "@jupyter-widgets/base",
      "model_module_version": "1.1.0",
      "model_name": "LayoutModel",
      "state": {}
     },
     "9a448c1f351d44f09cb6b54caac12d37": {
      "model_module": "@jupyter-widgets/controls",
      "model_module_version": "1.4.0",
      "model_name": "TextModel",
      "state": {
       "layout": "IPY_MODEL_cfa6cb56faa54835ade8198189a29a42",
       "style": "IPY_MODEL_105142b21592459181c69287d59a214c",
       "value": "nodes=1:i5-6500te"
      }
     },
     "9a4980b09e1847d58e372d1bd65f717d": {
      "model_module": "@jupyter-widgets/base",
      "model_module_version": "1.1.0",
      "model_name": "LayoutModel",
      "state": {
       "align_items": "stretch",
       "border": "ridge",
       "display": "flex",
       "flex_flow": "column",
       "height": "",
       "width": "100%"
      }
     },
     "9a4ef1d2e7924ee38b14856f3d690ff3": {
      "model_module": "@jupyter-widgets/base",
      "model_module_version": "1.1.0",
      "model_name": "LayoutModel",
      "state": {}
     },
     "9a606ede20e04643a63465149c27cea3": {
      "model_module": "@jupyter-widgets/controls",
      "model_module_version": "1.4.0",
      "model_name": "LabelModel",
      "state": {
       "layout": "IPY_MODEL_75868d7b2bcb46c9a74ce3ca80a9ab13",
       "style": "IPY_MODEL_88af72d6660d40bab307a06d244248f9",
       "value": "Target node"
      }
     },
     "9a6e4446ef6144519820f5047e388dae": {
      "model_module": "@jupyter-widgets/base",
      "model_module_version": "1.1.0",
      "model_name": "LayoutModel",
      "state": {}
     },
     "9ac3f80e657e4fa4b90a6b352b543e39": {
      "model_module": "@jupyter-widgets/controls",
      "model_module_version": "1.4.0",
      "model_name": "DescriptionStyleModel",
      "state": {
       "description_width": ""
      }
     },
     "9af1a388a8ac4ffe94b751def7a366fe": {
      "model_module": "@jupyter-widgets/base",
      "model_module_version": "1.1.0",
      "model_name": "LayoutModel",
      "state": {}
     },
     "9b2012191cd4413ea4f35b5715e73f3f": {
      "model_module": "@jupyter-widgets/base",
      "model_module_version": "1.1.0",
      "model_name": "LayoutModel",
      "state": {}
     },
     "9b3d641061b14167b13da8a693bb5fda": {
      "model_module": "@jupyter-widgets/base",
      "model_module_version": "1.1.0",
      "model_name": "LayoutModel",
      "state": {}
     },
     "9b6d763c0fa94381b188d5a8fe5f9719": {
      "model_module": "@jupyter-widgets/controls",
      "model_module_version": "1.4.0",
      "model_name": "TabModel",
      "state": {
       "_titles": {
        "0": "Done: 18576"
       },
       "children": [
        "IPY_MODEL_2340adf15e6a4eaa89673dcf0edac822"
       ],
       "layout": "IPY_MODEL_d24bbf7e532041eabcb33332d6b62d73"
      }
     },
     "9b7efccc8412471eab5e1ac9ab612b64": {
      "model_module": "@jupyter-widgets/controls",
      "model_module_version": "1.4.0",
      "model_name": "TabModel",
      "state": {
       "layout": "IPY_MODEL_f5cbbc420d85471c815c119db5e7a3fc"
      }
     },
     "9bb05de13363493c9eaa9a5b63e8d9cd": {
      "model_module": "@jupyter-widgets/controls",
      "model_module_version": "1.4.0",
      "model_name": "ButtonModel",
      "state": {
       "button_style": "info",
       "description": "Display output",
       "layout": "IPY_MODEL_83a07114dce04e20a2285dfccdad328a",
       "style": "IPY_MODEL_fcaa097e42094263a0701a18a262861d"
      }
     },
     "9be25208cf774f1f8683da01225a6bb1": {
      "model_module": "@jupyter-widgets/base",
      "model_module_version": "1.1.0",
      "model_name": "LayoutModel",
      "state": {}
     },
     "9c0aabac9f204d20bfb1738fd1fc14dc": {
      "model_module": "@jupyter-widgets/controls",
      "model_module_version": "1.4.0",
      "model_name": "HBoxModel",
      "state": {
       "children": [
        "IPY_MODEL_62003d470600458dbbfcfca54727681e",
        "IPY_MODEL_58ab4cbb062445a98f9d3588c870ba07",
        "IPY_MODEL_a9795dadb74240a188453ec5b646f12d",
        "IPY_MODEL_5c43341c25164d31bf72ce645e11d069"
       ],
       "layout": "IPY_MODEL_16cc4b6c9aee4059a686b572fecb8c42"
      }
     },
     "9c0af42fe43848e180e725ac1d9e64e5": {
      "model_module": "@jupyter-widgets/controls",
      "model_module_version": "1.4.0",
      "model_name": "HTMLModel",
      "state": {
       "layout": "IPY_MODEL_7742b129fb0242a189d33dbb855d7edf",
       "style": "IPY_MODEL_094878c1de1742149fc3747cdc2c2c2c"
      }
     },
     "9c1318cf76e64bbfba6412da122996dc": {
      "model_module": "@jupyter-widgets/controls",
      "model_module_version": "1.4.0",
      "model_name": "VBoxModel",
      "state": {
       "children": [
        "IPY_MODEL_48740cba76144834bded1b65ca0ac76d"
       ],
       "layout": "IPY_MODEL_caa5d785b7704d02b949fe84aa74289e"
      }
     },
     "9c24e2f530c842668b6b0d9c16956d23": {
      "model_module": "@jupyter-widgets/base",
      "model_module_version": "1.1.0",
      "model_name": "LayoutModel",
      "state": {}
     },
     "9c554ef257154e3a8aaa7b756f39af88": {
      "model_module": "@jupyter-widgets/base",
      "model_module_version": "1.1.0",
      "model_name": "LayoutModel",
      "state": {}
     },
     "9cda3211c70247cf8c13fec60379dc9d": {
      "model_module": "@jupyter-widgets/base",
      "model_module_version": "1.1.0",
      "model_name": "LayoutModel",
      "state": {}
     },
     "9cee5451857c42e6b0c20810465db559": {
      "model_module": "@jupyter-widgets/controls",
      "model_module_version": "1.4.0",
      "model_name": "DescriptionStyleModel",
      "state": {
       "description_width": ""
      }
     },
     "9d09a29c354e426483b2b70e22ec36a1": {
      "model_module": "@jupyter-widgets/controls",
      "model_module_version": "1.4.0",
      "model_name": "ButtonModel",
      "state": {
       "button_style": "info",
       "description": "Plot results",
       "disabled": true,
       "layout": "IPY_MODEL_44bdc69081334ab58aa95b238721427d",
       "style": "IPY_MODEL_68c4032a90f548c984fc5352bfa80eac"
      }
     },
     "9d187c8aeb4742c68740404329808167": {
      "model_module": "@jupyter-widgets/base",
      "model_module_version": "1.1.0",
      "model_name": "LayoutModel",
      "state": {}
     },
     "9d206b37e5b747c8a1880d04d2b556b4": {
      "model_module": "@jupyter-widgets/output",
      "model_module_version": "1.0.0",
      "model_name": "OutputModel",
      "state": {
       "layout": "IPY_MODEL_96af3b65e8d843a7837390ca9b86d508"
      }
     },
     "9d3abba88f244a898e46016bee3e2440": {
      "model_module": "@jupyter-widgets/base",
      "model_module_version": "1.1.0",
      "model_name": "LayoutModel",
      "state": {}
     },
     "9dac9d9e465b4306ab54d44836526d5f": {
      "model_module": "@jupyter-widgets/controls",
      "model_module_version": "1.4.0",
      "model_name": "HTMLModel",
      "state": {
       "layout": "IPY_MODEL_63fa55c5cd2e49b9954b77e5f3d08eff",
       "placeholder": "0",
       "style": "IPY_MODEL_39712a296fcc4a169c80a393ba004684",
       "value": "Total estimated: 10.0\n seconds"
      }
     },
     "9db6b6ce337a4bc9a8d465bf90a85a86": {
      "model_module": "@jupyter-widgets/controls",
      "model_module_version": "1.4.0",
      "model_name": "ButtonModel",
      "state": {
       "button_style": "info",
       "description": "Plot results",
       "layout": "IPY_MODEL_b8207d53bea64432b2ad71e912369a22",
       "style": "IPY_MODEL_69f003862733499488cd986bd92ddc24"
      }
     },
     "9de4997b31b04a1c9bb0bdb6ee54fcda": {
      "model_module": "@jupyter-widgets/controls",
      "model_module_version": "1.4.0",
      "model_name": "DescriptionStyleModel",
      "state": {
       "description_width": ""
      }
     },
     "9e8f93cb0ce74c249f72a3431e6f29f0": {
      "model_module": "@jupyter-widgets/controls",
      "model_module_version": "1.4.0",
      "model_name": "HBoxModel",
      "state": {
       "children": [
        "IPY_MODEL_d9a7a0027ec544cba2532e3d04934223",
        "IPY_MODEL_3f4deacd43ae4ae18e4ac3540d059758",
        "IPY_MODEL_fee61f75081c422aabd4c7a243ab231c",
        "IPY_MODEL_64ba8e55a64544acb34d232e290df625",
        "IPY_MODEL_9bb05de13363493c9eaa9a5b63e8d9cd",
        "IPY_MODEL_c1f6c158c7f4487d8ec9228514906466"
       ],
       "layout": "IPY_MODEL_d8936845fbe340e78b68c24f4bc9b6ed"
      }
     },
     "9e932d372ba44469800eb0bed7345701": {
      "model_module": "@jupyter-widgets/controls",
      "model_module_version": "1.4.0",
      "model_name": "HTMLModel",
      "state": {
       "layout": "IPY_MODEL_6aa511bfccd448c6a60278ad1be1e998",
       "style": "IPY_MODEL_30b16c53c97e41eb9c88b30ffdd1c6da",
       "value": "<table><style type=\"text/css\" scoped>td{ padding:5px; border: 1px solid #9e9e9e; line-height:1.2em;}td:first-child{font-weight:bold;}</style><tbody><tr><td>Target node</td><td>nodes=1:i5-6500te</td></tr><tr><td>Submission command</td><td>qsub test_script.sh -l   nodes=1:i5-6500te  -F ' -r results/ '</td></tr></tbody></table>"
      }
     },
     "9eb6c9df4bfd40f2a9942e9274265709": {
      "model_module": "@jupyter-widgets/controls",
      "model_module_version": "1.4.0",
      "model_name": "DescriptionStyleModel",
      "state": {
       "description_width": ""
      }
     },
     "9ec6fa0330314bbb9a94cf493a0554d0": {
      "model_module": "@jupyter-widgets/base",
      "model_module_version": "1.1.0",
      "model_name": "LayoutModel",
      "state": {}
     },
     "9ed57f927fa645fc8c365adf5c48cbbc": {
      "model_module": "@jupyter-widgets/controls",
      "model_module_version": "1.4.0",
      "model_name": "HTMLModel",
      "state": {
       "layout": "IPY_MODEL_fbea1323dec64dfabee5f1053cad6dac",
       "style": "IPY_MODEL_d5906ab1f3a444a09516f4d900922a68",
       "value": "<span style='color:green'>&#10004;</span> Job submitted, job ID: 18820.c003"
      }
     },
     "9edc71f88bbc45de88bf184ffec9f4da": {
      "model_module": "@jupyter-widgets/controls",
      "model_module_version": "1.4.0",
      "model_name": "DescriptionStyleModel",
      "state": {
       "description_width": ""
      }
     },
     "9f06daf4121f4f9d9959b1810ffc5e89": {
      "model_module": "@jupyter-widgets/base",
      "model_module_version": "1.1.0",
      "model_name": "LayoutModel",
      "state": {}
     },
     "9f26ee58d67e40488d944264ffc9e33a": {
      "model_module": "@jupyter-widgets/controls",
      "model_module_version": "1.4.0",
      "model_name": "DescriptionStyleModel",
      "state": {
       "description_width": ""
      }
     },
     "9f385739a604403188d534f8a0c169fd": {
      "model_module": "@jupyter-widgets/controls",
      "model_module_version": "1.4.0",
      "model_name": "DescriptionStyleModel",
      "state": {
       "description_width": "initial"
      }
     },
     "9f467fb94050438c9551b75916640270": {
      "model_module": "@jupyter-widgets/controls",
      "model_module_version": "1.4.0",
      "model_name": "DescriptionStyleModel",
      "state": {
       "description_width": ""
      }
     },
     "9f5320c5e39e4b1284b94f795a0c5f15": {
      "model_module": "@jupyter-widgets/base",
      "model_module_version": "1.1.0",
      "model_name": "LayoutModel",
      "state": {}
     },
     "9f795a31dde84938a8f9a40d1e9d2676": {
      "model_module": "@jupyter-widgets/base",
      "model_module_version": "1.1.0",
      "model_name": "LayoutModel",
      "state": {}
     },
     "9fb4a64f8da344cfb90fae70d5caa72f": {
      "model_module": "@jupyter-widgets/base",
      "model_module_version": "1.1.0",
      "model_name": "LayoutModel",
      "state": {}
     },
     "9ff742319ef8430abbd81c63993fde88": {
      "model_module": "@jupyter-widgets/base",
      "model_module_version": "1.1.0",
      "model_name": "LayoutModel",
      "state": {}
     },
     "9ffc532113204ccca672f2c1331d167f": {
      "model_module": "@jupyter-widgets/base",
      "model_module_version": "1.1.0",
      "model_name": "LayoutModel",
      "state": {}
     },
     "a01351950ac54a2c9bbec6aa208620f5": {
      "model_module": "@jupyter-widgets/base",
      "model_module_version": "1.1.0",
      "model_name": "LayoutModel",
      "state": {}
     },
     "a0303b024441449da62842c7c0a50d9d": {
      "model_module": "@jupyter-widgets/base",
      "model_module_version": "1.1.0",
      "model_name": "LayoutModel",
      "state": {}
     },
     "a0859aaa28f144c49f70c2bdceb5c2d6": {
      "model_module": "@jupyter-widgets/controls",
      "model_module_version": "1.4.0",
      "model_name": "TabModel",
      "state": {
       "_titles": {
        "0": "Done: 18661"
       },
       "children": [
        "IPY_MODEL_9e8f93cb0ce74c249f72a3431e6f29f0"
       ],
       "layout": "IPY_MODEL_2dfd712021414176a17a1d05ce273c85"
      }
     },
     "a0bd105fb1d5431db3f3b1c725ca563b": {
      "model_module": "@jupyter-widgets/base",
      "model_module_version": "1.1.0",
      "model_name": "LayoutModel",
      "state": {}
     },
     "a0ccf939daa04251bedaa41440484bab": {
      "model_module": "@jupyter-widgets/base",
      "model_module_version": "1.1.0",
      "model_name": "LayoutModel",
      "state": {}
     },
     "a0dd9ec9ab2e4dd58a4f182a4ab42502": {
      "model_module": "@jupyter-widgets/controls",
      "model_module_version": "1.4.0",
      "model_name": "LabelModel",
      "state": {
       "layout": "IPY_MODEL_4af501abbae84b99862b4a6c3a04a214",
       "style": "IPY_MODEL_ce8fad0aab4b4bb182d810b9b08ec480",
       "value": "Target node"
      }
     },
     "a0e5e7af632b4942a0382ac2b114bb4e": {
      "model_module": "@jupyter-widgets/controls",
      "model_module_version": "1.4.0",
      "model_name": "DescriptionStyleModel",
      "state": {
       "description_width": "initial"
      }
     },
     "a11dcd4a801d4e429ce0ebdcd889ff6b": {
      "model_module": "@jupyter-widgets/controls",
      "model_module_version": "1.4.0",
      "model_name": "ButtonStyleModel",
      "state": {}
     },
     "a16f89dd4b154a5891e1206c97f74203": {
      "model_module": "@jupyter-widgets/base",
      "model_module_version": "1.1.0",
      "model_name": "LayoutModel",
      "state": {}
     },
     "a186e8b5fb4a417498eeaa90f03aa848": {
      "model_module": "@jupyter-widgets/output",
      "model_module_version": "1.0.0",
      "model_name": "OutputModel",
      "state": {
       "layout": "IPY_MODEL_7c992e48071a41a6ba127ea587de913d"
      }
     },
     "a18ee980fff74a91bec92ff406179fba": {
      "model_module": "@jupyter-widgets/base",
      "model_module_version": "1.1.0",
      "model_name": "LayoutModel",
      "state": {}
     },
     "a1bcbc36cdfa4b23ad00bebc8685c3ff": {
      "model_module": "@jupyter-widgets/controls",
      "model_module_version": "1.4.0",
      "model_name": "ButtonModel",
      "state": {
       "button_style": "info",
       "description": "Display output",
       "layout": "IPY_MODEL_9f795a31dde84938a8f9a40d1e9d2676",
       "style": "IPY_MODEL_e9c98964f04140d99e17c659308dbfc9"
      }
     },
     "a1e74b0a17c341a5ba79247260c5d820": {
      "model_module": "@jupyter-widgets/base",
      "model_module_version": "1.1.0",
      "model_name": "LayoutModel",
      "state": {}
     },
     "a1f1387a97ed47758acb0e0f7274a1bf": {
      "model_module": "@jupyter-widgets/controls",
      "model_module_version": "1.4.0",
      "model_name": "DescriptionStyleModel",
      "state": {
       "description_width": "initial"
      }
     },
     "a20238b9e4c549c7b70e2e94740abe37": {
      "model_module": "@jupyter-widgets/controls",
      "model_module_version": "1.4.0",
      "model_name": "HTMLModel",
      "state": {
       "layout": "IPY_MODEL_e0b4511d73904feb8afb3d7436b7f99d",
       "style": "IPY_MODEL_d0cac0653880488b862c111d0a6c006d",
       "value": "<table><style type=\"text/css\" scoped>td{ padding:5px; border: 1px solid #9e9e9e; line-height:1.2em;}td:first-child{font-weight:bold;}</style><tbody><tr><td>Target node</td><td>nodes=1:i5-6500te</td></tr><tr><td>Submission command</td><td>qsub test_script.sh  -l nodes=1:i5-6500te -F \"  -r results/\"</td></tr></tbody></table>"
      }
     },
     "a22c1493c3d649f49962b0c4b6f0b7d7": {
      "model_module": "@jupyter-widgets/controls",
      "model_module_version": "1.4.0",
      "model_name": "ButtonModel",
      "state": {
       "button_style": "info",
       "description": "Submit",
       "layout": "IPY_MODEL_248c370e34db4531b80137fd94b47def",
       "style": "IPY_MODEL_3bb269667a594e70984aa48efe622aa4"
      }
     },
     "a244ff6de6a547a992a6606ccf819f8d": {
      "model_module": "@jupyter-widgets/controls",
      "model_module_version": "1.4.0",
      "model_name": "DescriptionStyleModel",
      "state": {
       "description_width": "initial"
      }
     },
     "a24b878e22ae40e98c0e3e32157e3bbb": {
      "model_module": "@jupyter-widgets/output",
      "model_module_version": "1.0.0",
      "model_name": "OutputModel",
      "state": {
       "layout": "IPY_MODEL_e1c80849ea0c4b508aa7fcb33d2b81a1"
      }
     },
     "a26c8f3ebfbe48fa896d05754a56cf8e": {
      "model_module": "@jupyter-widgets/base",
      "model_module_version": "1.1.0",
      "model_name": "LayoutModel",
      "state": {}
     },
     "a2ba0960ef914480bfdcc362a0a704af": {
      "model_module": "@jupyter-widgets/base",
      "model_module_version": "1.1.0",
      "model_name": "LayoutModel",
      "state": {
       "align_items": "stretch",
       "border": "ridge",
       "display": "flex",
       "flex_flow": "column",
       "height": "",
       "width": "100%"
      }
     },
     "a2c09b73e67446118318f27a3cce4870": {
      "model_module": "@jupyter-widgets/base",
      "model_module_version": "1.1.0",
      "model_name": "LayoutModel",
      "state": {
       "align_items": "stretch",
       "border": "",
       "display": "flex",
       "flex_flow": "column",
       "height": "",
       "width": "100%"
      }
     },
     "a2d86975e06d481d9cadacfcea828ea8": {
      "model_module": "@jupyter-widgets/controls",
      "model_module_version": "1.4.0",
      "model_name": "ButtonModel",
      "state": {
       "button_style": "info",
       "description": "Plot results",
       "layout": "IPY_MODEL_1fc67d8b7483435e8b5aa66badcd4062",
       "style": "IPY_MODEL_6b91fa02727b4daf9d67c056ce4862f6"
      }
     },
     "a2ef6fadb98745cf8df6cadc0e696e08": {
      "model_module": "@jupyter-widgets/base",
      "model_module_version": "1.1.0",
      "model_name": "LayoutModel",
      "state": {}
     },
     "a2f2a02ad3a34240b1cabcfe0b96c959": {
      "model_module": "@jupyter-widgets/base",
      "model_module_version": "1.1.0",
      "model_name": "LayoutModel",
      "state": {
       "align_items": "stretch",
       "border": "ridge",
       "display": "flex",
       "flex_flow": "column",
       "height": "",
       "width": "100%"
      }
     },
     "a303527f159f47bb91a68e4dc8bb1e5a": {
      "model_module": "@jupyter-widgets/controls",
      "model_module_version": "1.4.0",
      "model_name": "TabModel",
      "state": {
       "layout": "IPY_MODEL_ba2c0966f74649b8abf0ebb06612072d"
      }
     },
     "a3104a70b7f24460af139b9e068b2ae5": {
      "model_module": "@jupyter-widgets/base",
      "model_module_version": "1.1.0",
      "model_name": "LayoutModel",
      "state": {}
     },
     "a38e469c0434438b8cd7aa12aaad9af8": {
      "model_module": "@jupyter-widgets/base",
      "model_module_version": "1.1.0",
      "model_name": "LayoutModel",
      "state": {}
     },
     "a399dfce8ba34fc198e53866298548c4": {
      "model_module": "@jupyter-widgets/base",
      "model_module_version": "1.1.0",
      "model_name": "LayoutModel",
      "state": {
       "width": "100%"
      }
     },
     "a3ce7b31e5104c15917133066404f556": {
      "model_module": "@jupyter-widgets/controls",
      "model_module_version": "1.4.0",
      "model_name": "DescriptionStyleModel",
      "state": {
       "description_width": "initial"
      }
     },
     "a4374bd72ef349a580506c38f4d8300e": {
      "model_module": "@jupyter-widgets/controls",
      "model_module_version": "1.4.0",
      "model_name": "TabModel",
      "state": {
       "layout": "IPY_MODEL_97597ed1d38b44fa8717ad7fdd12350d"
      }
     },
     "a44cbf7207d64426a9516b5f60ca37cd": {
      "model_module": "@jupyter-widgets/controls",
      "model_module_version": "1.4.0",
      "model_name": "HTMLModel",
      "state": {
       "layout": "IPY_MODEL_137e58d60f0543daae776c14a1767f53",
       "style": "IPY_MODEL_f6c462d3ce1e46cfa22a649a34ba774c"
      }
     },
     "a4d83f449c0940eeb82aec80c9c7e449": {
      "model_module": "@jupyter-widgets/base",
      "model_module_version": "1.1.0",
      "model_name": "LayoutModel",
      "state": {}
     },
     "a500d070cc10406b9dd0e71bbe4063a6": {
      "model_module": "@jupyter-widgets/output",
      "model_module_version": "1.0.0",
      "model_name": "OutputModel",
      "state": {
       "layout": "IPY_MODEL_d13701a60aeb4e6cbc74974808413aaa"
      }
     },
     "a533443929954379a2b5f65bc3937aa0": {
      "model_module": "@jupyter-widgets/base",
      "model_module_version": "1.1.0",
      "model_name": "LayoutModel",
      "state": {}
     },
     "a578029aa01d45b298bd97ace15dc9bb": {
      "model_module": "@jupyter-widgets/controls",
      "model_module_version": "1.4.0",
      "model_name": "DescriptionStyleModel",
      "state": {
       "description_width": ""
      }
     },
     "a58f283df8f74dacbf942da72d055cbf": {
      "model_module": "@jupyter-widgets/controls",
      "model_module_version": "1.4.0",
      "model_name": "DescriptionStyleModel",
      "state": {
       "description_width": ""
      }
     },
     "a5e6cd536764475d8a74e992bd8110f8": {
      "model_module": "@jupyter-widgets/controls",
      "model_module_version": "1.4.0",
      "model_name": "DescriptionStyleModel",
      "state": {
       "description_width": ""
      }
     },
     "a6157807d4d74d54b3edf1dd2c0c028c": {
      "model_module": "@jupyter-widgets/controls",
      "model_module_version": "1.4.0",
      "model_name": "ProgressStyleModel",
      "state": {
       "description_width": "initial"
      }
     },
     "a61b9029c8774472ad91f9fe34c2e7fb": {
      "model_module": "@jupyter-widgets/controls",
      "model_module_version": "1.4.0",
      "model_name": "HTMLModel",
      "state": {
       "layout": "IPY_MODEL_4bdd636794d9476cb3cf74203484370c",
       "placeholder": "0",
       "style": "IPY_MODEL_d7a4ace5d22641bdb7cdf2264e51884c",
       "value": "Done"
      }
     },
     "a65c14724c9b4128886ee2a0cb1ce855": {
      "model_module": "@jupyter-widgets/controls",
      "model_module_version": "1.4.0",
      "model_name": "DescriptionStyleModel",
      "state": {
       "description_width": "initial"
      }
     },
     "a65c272cc0414880ad7609958d0d877d": {
      "model_module": "@jupyter-widgets/controls",
      "model_module_version": "1.4.0",
      "model_name": "HTMLModel",
      "state": {
       "layout": "IPY_MODEL_35162b33f06742d79d12b338399a70da",
       "placeholder": "",
       "style": "IPY_MODEL_8ba86a7e282a4cc889b996ba6f28a41b",
       "value": "...waiting to start"
      }
     },
     "a68145d974314638933a873c09cdaa39": {
      "model_module": "@jupyter-widgets/base",
      "model_module_version": "1.1.0",
      "model_name": "LayoutModel",
      "state": {}
     },
     "a6c95a81e3ef4dd3a37db35a65d04b5c": {
      "model_module": "@jupyter-widgets/controls",
      "model_module_version": "1.4.0",
      "model_name": "DescriptionStyleModel",
      "state": {
       "description_width": ""
      }
     },
     "a6dda742717a444bbf86b78ce2f242ca": {
      "model_module": "@jupyter-widgets/base",
      "model_module_version": "1.1.0",
      "model_name": "LayoutModel",
      "state": {}
     },
     "a6e9cd9f59e0454abeb1f897a8e7db28": {
      "model_module": "@jupyter-widgets/controls",
      "model_module_version": "1.4.0",
      "model_name": "HTMLModel",
      "state": {
       "layout": "IPY_MODEL_f20ed5a6b9ef47509fb6cc0ddd649959",
       "placeholder": "",
       "style": "IPY_MODEL_bf3d295d62614ae6ac29d383a9d8243b",
       "value": "Model name:            Intel(R) Core(TM) i5-6500TE CPU @ 2.30GHz<br>"
      }
     },
     "a7079781b56f412ca966c5897aded9e3": {
      "model_module": "@jupyter-widgets/controls",
      "model_module_version": "1.4.0",
      "model_name": "HTMLModel",
      "state": {
       "layout": "IPY_MODEL_a18ee980fff74a91bec92ff406179fba",
       "style": "IPY_MODEL_99babc624df64a7f9bfcedb756a11068",
       "value": "<span style='color:green'>&#10004;</span> Job submitted, job ID: 18665.c003"
      }
     },
     "a75641bbacfd434e811c7bed19651673": {
      "model_module": "@jupyter-widgets/controls",
      "model_module_version": "1.4.0",
      "model_name": "TextModel",
      "state": {
       "layout": "IPY_MODEL_78fe73affbce4531b8ad2abeb7800214",
       "style": "IPY_MODEL_9926745002af4c59b52d79ca986a20c3",
       "value": "nodes=1:i5-6500te"
      }
     },
     "a78996c8953a4f89995bee73ac37239c": {
      "model_module": "@jupyter-widgets/controls",
      "model_module_version": "1.4.0",
      "model_name": "ButtonModel",
      "state": {
       "button_style": "info",
       "description": "Submit",
       "layout": "IPY_MODEL_aa197f2945aa4e899299b866e78e3885",
       "style": "IPY_MODEL_b481f935ad684cfdb3c5443c5b16d8a3"
      }
     },
     "a7c1b7e6abcc40148b95933c2855be36": {
      "model_module": "@jupyter-widgets/base",
      "model_module_version": "1.1.0",
      "model_name": "LayoutModel",
      "state": {
       "align_items": "stretch",
       "border": "",
       "display": "flex",
       "flex_flow": "column",
       "height": "",
       "width": "100%"
      }
     },
     "a7cebd9799c7463ba6de6dcea3b460e1": {
      "model_module": "@jupyter-widgets/controls",
      "model_module_version": "1.4.0",
      "model_name": "HBoxModel",
      "state": {
       "children": [
        "IPY_MODEL_3a5dc490b2e64df6b0c0b23b0852bd7e",
        "IPY_MODEL_7aac7bace98a4c7d84223666055cf801",
        "IPY_MODEL_add26066256a4361b77575dadd93256e",
        "IPY_MODEL_42729ce875c84415a4a8057b68673ab9"
       ],
       "layout": "IPY_MODEL_957ee22b6fbd4563a9933bb9c1ce37d5"
      }
     },
     "a7d97f5664dd47a68d6acf6b4075cfa9": {
      "model_module": "@jupyter-widgets/controls",
      "model_module_version": "1.4.0",
      "model_name": "HTMLModel",
      "state": {
       "layout": "IPY_MODEL_3358eddae4bc4434a995273a0179d1a3",
       "style": "IPY_MODEL_c58160df4aea48ebb2e70fee9657744d"
      }
     },
     "a7f131ab89104d70a7d6b489ea8b023e": {
      "model_module": "@jupyter-widgets/controls",
      "model_module_version": "1.4.0",
      "model_name": "ButtonStyleModel",
      "state": {}
     },
     "a7f1c6ec34c94dfca79e530bc56d0310": {
      "model_module": "@jupyter-widgets/controls",
      "model_module_version": "1.4.0",
      "model_name": "TextModel",
      "state": {
       "layout": "IPY_MODEL_5fb9a78f73294d0d9998e57d31d4266c",
       "style": "IPY_MODEL_7dc018e9f7c14edea0ffb5228db54226",
       "value": "nodes=1:i5-6500te"
      }
     },
     "a7ff847436a0434ba362fec2442098ff": {
      "model_module": "@jupyter-widgets/controls",
      "model_module_version": "1.4.0",
      "model_name": "HTMLModel",
      "state": {
       "layout": "IPY_MODEL_d45051e2efa24a19b633e9e14271b9bd",
       "placeholder": "0",
       "style": "IPY_MODEL_6a85ec677b2a42aa8103bde14f68a40c",
       "value": "Total estimated: 10.0\n seconds"
      }
     },
     "a82059badfaa476cbab99f9763f1e65a": {
      "model_module": "@jupyter-widgets/controls",
      "model_module_version": "1.4.0",
      "model_name": "ButtonStyleModel",
      "state": {}
     },
     "a84950ef12954d00a9c63b09928a8355": {
      "model_module": "@jupyter-widgets/base",
      "model_module_version": "1.1.0",
      "model_name": "LayoutModel",
      "state": {}
     },
     "a89fb11d20f74c548c740653694e23a3": {
      "model_module": "@jupyter-widgets/controls",
      "model_module_version": "1.4.0",
      "model_name": "DescriptionStyleModel",
      "state": {
       "description_width": "initial"
      }
     },
     "a8cc39e5a27e4cdebd13d1b1a38d33ed": {
      "model_module": "@jupyter-widgets/controls",
      "model_module_version": "1.4.0",
      "model_name": "ButtonModel",
      "state": {
       "button_style": "info",
       "description": "Plot results",
       "layout": "IPY_MODEL_aba573e42a19409c90185fe212d37f02",
       "style": "IPY_MODEL_32be8472f4694080969fdba0099f6374"
      }
     },
     "a8d2a7f087d04fc3964b800ead0a3e18": {
      "model_module": "@jupyter-widgets/controls",
      "model_module_version": "1.4.0",
      "model_name": "DescriptionStyleModel",
      "state": {
       "description_width": ""
      }
     },
     "a8db65ce092b45339e1b65134fb310b8": {
      "model_module": "@jupyter-widgets/controls",
      "model_module_version": "1.4.0",
      "model_name": "FloatProgressModel",
      "state": {
       "bar_style": "info",
       "layout": "IPY_MODEL_f36c029407d6494c82fb898bef28516f",
       "style": "IPY_MODEL_d1227c7ab78b4c9a8492af4b6109282b"
      }
     },
     "a8e8af7f73ec4c0eb70329a275d6df45": {
      "model_module": "@jupyter-widgets/base",
      "model_module_version": "1.1.0",
      "model_name": "LayoutModel",
      "state": {}
     },
     "a8ff5e775b394fe7b5b4d72aa47fa928": {
      "model_module": "@jupyter-widgets/controls",
      "model_module_version": "1.4.0",
      "model_name": "ButtonModel",
      "state": {
       "button_style": "info",
       "description": "Display output",
       "disabled": true,
       "layout": "IPY_MODEL_89b2ef8874ed43c9ab28c1743e587e30",
       "style": "IPY_MODEL_0dd97d9271774e388aa2ade57b39932b"
      }
     },
     "a90e382498124720ae10b4365eaff613": {
      "model_module": "@jupyter-widgets/base",
      "model_module_version": "1.1.0",
      "model_name": "LayoutModel",
      "state": {}
     },
     "a9734aa9a3db4e4c9bb6dfdc17e4388d": {
      "model_module": "@jupyter-widgets/base",
      "model_module_version": "1.1.0",
      "model_name": "LayoutModel",
      "state": {}
     },
     "a9795dadb74240a188453ec5b646f12d": {
      "model_module": "@jupyter-widgets/controls",
      "model_module_version": "1.4.0",
      "model_name": "ButtonModel",
      "state": {
       "button_style": "info",
       "description": "Display output",
       "disabled": true,
       "layout": "IPY_MODEL_e3d0fe7e4f354c5eb108d7b77e07760b",
       "style": "IPY_MODEL_24e5816f90954fbfab0ace7fb454eaf6"
      }
     },
     "a98dc0e62fbb439ca260396725ea6087": {
      "model_module": "@jupyter-widgets/controls",
      "model_module_version": "1.4.0",
      "model_name": "ButtonStyleModel",
      "state": {}
     },
     "a9c56c35019744cb9863bdfc6f456684": {
      "model_module": "@jupyter-widgets/base",
      "model_module_version": "1.1.0",
      "model_name": "LayoutModel",
      "state": {}
     },
     "a9ff8ae922df4ff59ed4a2b1ef809c4b": {
      "model_module": "@jupyter-widgets/controls",
      "model_module_version": "1.4.0",
      "model_name": "ButtonStyleModel",
      "state": {}
     },
     "aa197f2945aa4e899299b866e78e3885": {
      "model_module": "@jupyter-widgets/base",
      "model_module_version": "1.1.0",
      "model_name": "LayoutModel",
      "state": {}
     },
     "aa2b189a636f4427ae559680bf6eaa7c": {
      "model_module": "@jupyter-widgets/controls",
      "model_module_version": "1.4.0",
      "model_name": "ButtonModel",
      "state": {
       "button_style": "info",
       "description": "Submit",
       "layout": "IPY_MODEL_09ddb461389a4bea9264d479ce216843",
       "style": "IPY_MODEL_044bc77a7e9a4ebe8db3d0f932698649"
      }
     },
     "aa3db057b32146a9b6cd1ac4420eda60": {
      "model_module": "@jupyter-widgets/controls",
      "model_module_version": "1.4.0",
      "model_name": "ButtonStyleModel",
      "state": {}
     },
     "aa3fd8f79a7b4e0ebedf19ea9fad83c2": {
      "model_module": "@jupyter-widgets/controls",
      "model_module_version": "1.4.0",
      "model_name": "DescriptionStyleModel",
      "state": {
       "description_width": ""
      }
     },
     "aae64110ccc04a04b5c637e16c549847": {
      "model_module": "@jupyter-widgets/base",
      "model_module_version": "1.1.0",
      "model_name": "LayoutModel",
      "state": {}
     },
     "aafc38009fdd453f867512cb5fd08cc9": {
      "model_module": "@jupyter-widgets/base",
      "model_module_version": "1.1.0",
      "model_name": "LayoutModel",
      "state": {}
     },
     "ab10d6d0127f4ba0a9639ccf9a455f7f": {
      "model_module": "@jupyter-widgets/base",
      "model_module_version": "1.1.0",
      "model_name": "LayoutModel",
      "state": {}
     },
     "ab11b0a7fc2e40a6873acb4b425232f5": {
      "model_module": "@jupyter-widgets/controls",
      "model_module_version": "1.4.0",
      "model_name": "ProgressStyleModel",
      "state": {
       "description_width": "initial"
      }
     },
     "ab412ee2c6dd4effae5864a83cbb2494": {
      "model_module": "@jupyter-widgets/base",
      "model_module_version": "1.1.0",
      "model_name": "LayoutModel",
      "state": {}
     },
     "ab7c954204b846da92f8b0e35bbb2fa1": {
      "model_module": "@jupyter-widgets/controls",
      "model_module_version": "1.4.0",
      "model_name": "ButtonModel",
      "state": {
       "button_style": "info",
       "description": "Display output",
       "disabled": true,
       "layout": "IPY_MODEL_37515fa5232f406dbf74a87e4581c306",
       "style": "IPY_MODEL_b12c5c2371ee4f7abd01725faa5c7922"
      }
     },
     "ab83695f05bf491fa50c04dc7006bdd2": {
      "model_module": "@jupyter-widgets/controls",
      "model_module_version": "1.4.0",
      "model_name": "HTMLModel",
      "state": {
       "layout": "IPY_MODEL_2a59f671174046919098d50dad9b2537",
       "placeholder": "",
       "style": "IPY_MODEL_e733a80de41649bda3fb6e57aceb5d25"
      }
     },
     "ab970b0ea0c44ccb887078cd551b7667": {
      "model_module": "@jupyter-widgets/controls",
      "model_module_version": "1.4.0",
      "model_name": "ButtonStyleModel",
      "state": {}
     },
     "aba573e42a19409c90185fe212d37f02": {
      "model_module": "@jupyter-widgets/base",
      "model_module_version": "1.1.0",
      "model_name": "LayoutModel",
      "state": {}
     },
     "aba831202da840bd9e973ba3ad556ac8": {
      "model_module": "@jupyter-widgets/controls",
      "model_module_version": "1.4.0",
      "model_name": "LabelModel",
      "state": {
       "layout": "IPY_MODEL_6b2debb2b580435391afebe1a7937b10",
       "style": "IPY_MODEL_84e13e5f234f4c7ea5cc201d8b30658d",
       "value": "Target node"
      }
     },
     "ac314c8bb0774f6d9d05e83b14f765f7": {
      "model_module": "@jupyter-widgets/controls",
      "model_module_version": "1.4.0",
      "model_name": "VBoxModel",
      "state": {
       "children": [
        "IPY_MODEL_a0dd9ec9ab2e4dd58a4f182a4ab42502",
        "IPY_MODEL_378429d3a2cb492bbb3ac5d48318671c"
       ],
       "layout": "IPY_MODEL_9592e30b234c4d1cb75c410bdb48ca17"
      }
     },
     "ac47e6fe4d8041bf81b0cd9e5feb63fa": {
      "model_module": "@jupyter-widgets/controls",
      "model_module_version": "1.4.0",
      "model_name": "DescriptionStyleModel",
      "state": {
       "description_width": ""
      }
     },
     "ac56a8c805794a55af9aefa8b6b95ed7": {
      "model_module": "@jupyter-widgets/base",
      "model_module_version": "1.1.0",
      "model_name": "LayoutModel",
      "state": {
       "align_items": "stretch",
       "border": "",
       "display": "flex",
       "flex_flow": "column",
       "height": "",
       "width": "100%"
      }
     },
     "ac60ee4a19094d0f9c8ab39b03c314d9": {
      "model_module": "@jupyter-widgets/base",
      "model_module_version": "1.1.0",
      "model_name": "LayoutModel",
      "state": {}
     },
     "acc411ee2abf42b783c4fb084b1c0638": {
      "model_module": "@jupyter-widgets/base",
      "model_module_version": "1.1.0",
      "model_name": "LayoutModel",
      "state": {}
     },
     "acd11f92506641ba8d149235f416264f": {
      "model_module": "@jupyter-widgets/controls",
      "model_module_version": "1.4.0",
      "model_name": "HTMLModel",
      "state": {
       "layout": "IPY_MODEL_79398736abc64e56934a433c612ddb5d",
       "placeholder": "0",
       "style": "IPY_MODEL_8c1f7dd93db3454fb1c04955d462361e"
      }
     },
     "ad05c3d6715944aba3cbbce19d47fe9f": {
      "model_module": "@jupyter-widgets/base",
      "model_module_version": "1.1.0",
      "model_name": "LayoutModel",
      "state": {}
     },
     "ad2004fa4da640e4ba5946ab30e42edd": {
      "model_module": "@jupyter-widgets/controls",
      "model_module_version": "1.4.0",
      "model_name": "ButtonModel",
      "state": {
       "button_style": "info",
       "description": "Submit",
       "layout": "IPY_MODEL_34d6b45ede14459196b6be256acd3679",
       "style": "IPY_MODEL_f9e21e8f1ef84ecf9758d372425c963f"
      }
     },
     "ad25b13d59eb499199ec05c29f8537c2": {
      "model_module": "@jupyter-widgets/controls",
      "model_module_version": "1.4.0",
      "model_name": "ButtonModel",
      "state": {
       "button_style": "info",
       "description": "Submit",
       "layout": "IPY_MODEL_21f3d7b1941c4124a6dfbf5b2f8f8e1b",
       "style": "IPY_MODEL_6459f85f6df7440ebe2dedf72c111b3a"
      }
     },
     "ad624cb3ece540778c066d422e6a2a6a": {
      "model_module": "@jupyter-widgets/controls",
      "model_module_version": "1.4.0",
      "model_name": "TextModel",
      "state": {
       "layout": "IPY_MODEL_326b27dda7d14652a42552417728fcaa",
       "style": "IPY_MODEL_80ce08c8bbd44c3aac8963d8b054482e",
       "value": "nodes=1:i5-6500te"
      }
     },
     "ad7d06816ba443048151b7f2502f4c18": {
      "model_module": "@jupyter-widgets/base",
      "model_module_version": "1.1.0",
      "model_name": "LayoutModel",
      "state": {
       "align_items": "stretch",
       "border": "",
       "display": "flex",
       "flex_flow": "column",
       "height": "",
       "width": "100%"
      }
     },
     "ad825253925a4f879fad8fd32c7fbf5b": {
      "model_module": "@jupyter-widgets/controls",
      "model_module_version": "1.4.0",
      "model_name": "LabelModel",
      "state": {
       "layout": "IPY_MODEL_52f1d87c30624985b26cc293a7c3b052",
       "style": "IPY_MODEL_a58f283df8f74dacbf942da72d055cbf",
       "value": "Target node"
      }
     },
     "adc63b60d9084b8797da6cd2c67fd6fd": {
      "model_module": "@jupyter-widgets/base",
      "model_module_version": "1.1.0",
      "model_name": "LayoutModel",
      "state": {}
     },
     "adc8f30cfd2a4b388be501c1d08e258e": {
      "model_module": "@jupyter-widgets/controls",
      "model_module_version": "1.4.0",
      "model_name": "VBoxModel",
      "state": {
       "children": [
        "IPY_MODEL_442611b8abd84ef9a383d3681c755196",
        "IPY_MODEL_7580851454714a7c8106296d603a3104"
       ],
       "layout": "IPY_MODEL_9fb4a64f8da344cfb90fae70d5caa72f"
      }
     },
     "add26066256a4361b77575dadd93256e": {
      "model_module": "@jupyter-widgets/controls",
      "model_module_version": "1.4.0",
      "model_name": "ButtonModel",
      "state": {
       "button_style": "info",
       "description": "Display output",
       "disabled": true,
       "layout": "IPY_MODEL_8d284117d6594f359b46fc71046b944e",
       "style": "IPY_MODEL_a82059badfaa476cbab99f9763f1e65a"
      }
     },
     "ae03ff22a1e941e2ba5278a3fdf5c9c4": {
      "model_module": "@jupyter-widgets/base",
      "model_module_version": "1.1.0",
      "model_name": "LayoutModel",
      "state": {}
     },
     "ae05f338b73d4d7c8854e9f0b9bc6f01": {
      "model_module": "@jupyter-widgets/base",
      "model_module_version": "1.1.0",
      "model_name": "LayoutModel",
      "state": {
       "width": "100%"
      }
     },
     "ae236349ee6444678192aa5f8e28ba75": {
      "model_module": "@jupyter-widgets/base",
      "model_module_version": "1.1.0",
      "model_name": "LayoutModel",
      "state": {}
     },
     "ae3b903e3d39484a8af004fd63a1f70e": {
      "model_module": "@jupyter-widgets/controls",
      "model_module_version": "1.4.0",
      "model_name": "DescriptionStyleModel",
      "state": {
       "description_width": "initial"
      }
     },
     "ae3ce75ada85420fb9dd6a7dcac8de70": {
      "model_module": "@jupyter-widgets/controls",
      "model_module_version": "1.4.0",
      "model_name": "VBoxModel",
      "state": {
       "children": [
        "IPY_MODEL_beba0ff9f9784d27a9a73e26e3d129cb",
        "IPY_MODEL_252340f1fad9426ab7a5026b81f26f41"
       ],
       "layout": "IPY_MODEL_355dfa2e61cd48cf84ababbf621589f6"
      }
     },
     "ae3e789bc81a417dbd60acf019d96ef6": {
      "model_module": "@jupyter-widgets/controls",
      "model_module_version": "1.4.0",
      "model_name": "ProgressStyleModel",
      "state": {
       "description_width": "initial"
      }
     },
     "ae68860abef540878104e10fc3b5a91e": {
      "model_module": "@jupyter-widgets/controls",
      "model_module_version": "1.4.0",
      "model_name": "HTMLModel",
      "state": {
       "layout": "IPY_MODEL_389c613e8cbc4c25895e9ae45e5d084c",
       "style": "IPY_MODEL_880d65d9a6af41b49e527501e29e6ed2"
      }
     },
     "ae8afcb86fa842ccb6f073a2588c2d75": {
      "model_module": "@jupyter-widgets/controls",
      "model_module_version": "1.4.0",
      "model_name": "DescriptionStyleModel",
      "state": {
       "description_width": "initial"
      }
     },
     "aeb2bc5138bc4f6fa51ed80d05da8ed1": {
      "model_module": "@jupyter-widgets/controls",
      "model_module_version": "1.4.0",
      "model_name": "LabelModel",
      "state": {
       "layout": "IPY_MODEL_6f6e03024c58474eb507a51c4add8d62",
       "style": "IPY_MODEL_5b35b0f6879d430286561b3888a8b8bd",
       "value": "Target node"
      }
     },
     "aee2dbfa888044a0ba696ba5fb0549da": {
      "model_module": "@jupyter-widgets/output",
      "model_module_version": "1.0.0",
      "model_name": "OutputModel",
      "state": {
       "layout": "IPY_MODEL_6c93c5723d5445b9a66d87caf3afc61c"
      }
     },
     "af8b81d7576243dcb1c8d6ebd065c101": {
      "model_module": "@jupyter-widgets/base",
      "model_module_version": "1.1.0",
      "model_name": "LayoutModel",
      "state": {}
     },
     "afe1db0a9bd844b5b474b522773a2104": {
      "model_module": "@jupyter-widgets/controls",
      "model_module_version": "1.4.0",
      "model_name": "DescriptionStyleModel",
      "state": {
       "description_width": "initial"
      }
     },
     "aff04e1f09e74f78858a92a7562484ef": {
      "model_module": "@jupyter-widgets/base",
      "model_module_version": "1.1.0",
      "model_name": "LayoutModel",
      "state": {}
     },
     "b03551640db04d808496381c0e0ddd11": {
      "model_module": "@jupyter-widgets/base",
      "model_module_version": "1.1.0",
      "model_name": "LayoutModel",
      "state": {}
     },
     "b041e6a1999746c3a68e73c7ac9d2c1d": {
      "model_module": "@jupyter-widgets/controls",
      "model_module_version": "1.4.0",
      "model_name": "LabelModel",
      "state": {
       "layout": "IPY_MODEL_2afa25b0ec6340bc8c6a14a0dff96c5b",
       "style": "IPY_MODEL_bb358946cdff47508ff46ce70e1f24eb",
       "value": "Target node"
      }
     },
     "b042d9945da74a74b108984e6922b224": {
      "model_module": "@jupyter-widgets/controls",
      "model_module_version": "1.4.0",
      "model_name": "DescriptionStyleModel",
      "state": {
       "description_width": "initial"
      }
     },
     "b08331437d754b2c9853c5171663e445": {
      "model_module": "@jupyter-widgets/controls",
      "model_module_version": "1.4.0",
      "model_name": "FloatProgressModel",
      "state": {
       "bar_style": "info",
       "description": "Progress",
       "layout": "IPY_MODEL_060ca521c37849c7bf13d798d9cfab39",
       "style": "IPY_MODEL_d195875a46fc4c4c87b9f1267a25c0de",
       "value": 100
      }
     },
     "b08593b83f9e42f99fe63f384e1ccda1": {
      "model_module": "@jupyter-widgets/controls",
      "model_module_version": "1.4.0",
      "model_name": "ProgressStyleModel",
      "state": {
       "description_width": "initial"
      }
     },
     "b0b113c3b5b84951924f5d764c11604b": {
      "model_module": "@jupyter-widgets/controls",
      "model_module_version": "1.4.0",
      "model_name": "DescriptionStyleModel",
      "state": {
       "description_width": ""
      }
     },
     "b0d4e12fbfbc4454a6e9cd10428512b9": {
      "model_module": "@jupyter-widgets/controls",
      "model_module_version": "1.4.0",
      "model_name": "VBoxModel",
      "state": {
       "children": [
        "IPY_MODEL_01ebbb73f35c4da883306915de5117bf",
        "IPY_MODEL_f6d56cf88e9f4a69bafdc9aa4da57ce8"
       ],
       "layout": "IPY_MODEL_625deec690f1437494cb333f2d57f59b"
      }
     },
     "b0ed14135c2c4bf685dff680f76bf9eb": {
      "model_module": "@jupyter-widgets/controls",
      "model_module_version": "1.4.0",
      "model_name": "DescriptionStyleModel",
      "state": {
       "description_width": ""
      }
     },
     "b0f3b79d75b04a47906a5f441b6a8f3d": {
      "model_module": "@jupyter-widgets/base",
      "model_module_version": "1.1.0",
      "model_name": "LayoutModel",
      "state": {}
     },
     "b1032f83d1e042cda9cab0f0d38aae5d": {
      "model_module": "@jupyter-widgets/controls",
      "model_module_version": "1.4.0",
      "model_name": "ButtonStyleModel",
      "state": {}
     },
     "b118f4e003204df68521587c851fde1e": {
      "model_module": "@jupyter-widgets/controls",
      "model_module_version": "1.4.0",
      "model_name": "DescriptionStyleModel",
      "state": {
       "description_width": "initial"
      }
     },
     "b12c5c2371ee4f7abd01725faa5c7922": {
      "model_module": "@jupyter-widgets/controls",
      "model_module_version": "1.4.0",
      "model_name": "ButtonStyleModel",
      "state": {}
     },
     "b1342156a91f4ec4884e9e3afd9c24e0": {
      "model_module": "@jupyter-widgets/base",
      "model_module_version": "1.1.0",
      "model_name": "LayoutModel",
      "state": {}
     },
     "b135ecb4ec9d4504b4844c101a39a70b": {
      "model_module": "@jupyter-widgets/controls",
      "model_module_version": "1.4.0",
      "model_name": "VBoxModel",
      "state": {
       "children": [
        "IPY_MODEL_1bad60f671bd4978b5a7e34827d3d435",
        "IPY_MODEL_8802d95a68cb475dbd8422f6c8204fd3"
       ],
       "layout": "IPY_MODEL_64b0293e99b948d4b516eb6e7a94e2d2"
      }
     },
     "b173c62e750740559cd7da6ac6585d93": {
      "model_module": "@jupyter-widgets/controls",
      "model_module_version": "1.4.0",
      "model_name": "DescriptionStyleModel",
      "state": {
       "description_width": ""
      }
     },
     "b181b929108b40d4926bf80938cc75b2": {
      "model_module": "@jupyter-widgets/controls",
      "model_module_version": "1.4.0",
      "model_name": "DescriptionStyleModel",
      "state": {
       "description_width": "initial"
      }
     },
     "b1932f957a824eaabfe87f0458712236": {
      "model_module": "@jupyter-widgets/controls",
      "model_module_version": "1.4.0",
      "model_name": "DescriptionStyleModel",
      "state": {
       "description_width": "initial"
      }
     },
     "b19876cd656747b49f5191ae4465dd01": {
      "model_module": "@jupyter-widgets/base",
      "model_module_version": "1.1.0",
      "model_name": "LayoutModel",
      "state": {}
     },
     "b1df190d92c9414091ec9a30376cb10b": {
      "model_module": "@jupyter-widgets/controls",
      "model_module_version": "1.4.0",
      "model_name": "TextModel",
      "state": {
       "layout": "IPY_MODEL_c63520ddddf54507bf7e3816bb3ec2b6",
       "style": "IPY_MODEL_9cee5451857c42e6b0c20810465db559",
       "value": "nodes=1:i5-6500te"
      }
     },
     "b1e44d0b61654388be58f3290376c767": {
      "model_module": "@jupyter-widgets/base",
      "model_module_version": "1.1.0",
      "model_name": "LayoutModel",
      "state": {}
     },
     "b1f82a3713df4c87b2cc54f191ed8f01": {
      "model_module": "@jupyter-widgets/controls",
      "model_module_version": "1.4.0",
      "model_name": "HTMLModel",
      "state": {
       "layout": "IPY_MODEL_c45ae521e3064c7887637f7757725ea2",
       "placeholder": "0",
       "style": "IPY_MODEL_91d380b4782c4a49b729acd4816081ba",
       "value": "Remaining: 0.0\n seconds"
      }
     },
     "b208185cea214872b7e05fbc8f2ae8ec": {
      "model_module": "@jupyter-widgets/base",
      "model_module_version": "1.1.0",
      "model_name": "LayoutModel",
      "state": {}
     },
     "b218b0a9b92f466ca55edbd4c1107fd0": {
      "model_module": "@jupyter-widgets/base",
      "model_module_version": "1.1.0",
      "model_name": "LayoutModel",
      "state": {}
     },
     "b22a16e43ed04a308237afe02489fa9e": {
      "model_module": "@jupyter-widgets/controls",
      "model_module_version": "1.4.0",
      "model_name": "ButtonModel",
      "state": {
       "button_style": "info",
       "description": "Submit",
       "layout": "IPY_MODEL_e39da1bd40fe47fc884a47ad1e836a11",
       "style": "IPY_MODEL_1bd272d54636402293666b564bbafe86"
      }
     },
     "b246358318644ecdb82fc6ea38e5e625": {
      "model_module": "@jupyter-widgets/base",
      "model_module_version": "1.1.0",
      "model_name": "LayoutModel",
      "state": {}
     },
     "b247cacc40ea4a56b0ccfde141913d7e": {
      "model_module": "@jupyter-widgets/controls",
      "model_module_version": "1.4.0",
      "model_name": "HTMLModel",
      "state": {
       "layout": "IPY_MODEL_8beb07d3d56f4f70ba21fed5d5a1b0ae",
       "style": "IPY_MODEL_68d52a185b4c4b19b7b649c1b61f3a8a"
      }
     },
     "b24ac6c3362147bda3417e58c6561630": {
      "model_module": "@jupyter-widgets/controls",
      "model_module_version": "1.4.0",
      "model_name": "LabelModel",
      "state": {
       "layout": "IPY_MODEL_b742551927904f4ea5346819c44ba691",
       "style": "IPY_MODEL_6e45ec1637e848dbb72264048ef964bd",
       "value": "Target node"
      }
     },
     "b25b089ce2fa400eb71cf2f253746939": {
      "model_module": "@jupyter-widgets/controls",
      "model_module_version": "1.4.0",
      "model_name": "VBoxModel",
      "state": {
       "children": [
        "IPY_MODEL_45db09d839684c3aa63d995ecd3e8810",
        "IPY_MODEL_6a2cb0d451d44524b0207db97bf9399e",
        "IPY_MODEL_20c98e414a3e4d2ebc099ab3c5d35456"
       ],
       "layout": "IPY_MODEL_080fea491488488f88af23156251e6ab"
      }
     },
     "b28851ce1993461ab05e17e31f53bb6b": {
      "model_module": "@jupyter-widgets/controls",
      "model_module_version": "1.4.0",
      "model_name": "TabModel",
      "state": {
       "layout": "IPY_MODEL_35807e3771cf471ea171561be866ab79"
      }
     },
     "b293ead9c9fd4f1d82aba2a69d6ddfe8": {
      "model_module": "@jupyter-widgets/controls",
      "model_module_version": "1.4.0",
      "model_name": "DescriptionStyleModel",
      "state": {
       "description_width": "initial"
      }
     },
     "b297678272754a28a874706c61124ad2": {
      "model_module": "@jupyter-widgets/controls",
      "model_module_version": "1.4.0",
      "model_name": "ButtonStyleModel",
      "state": {}
     },
     "b2a42efb03fc402a9d245b0aadf33859": {
      "model_module": "@jupyter-widgets/base",
      "model_module_version": "1.1.0",
      "model_name": "LayoutModel",
      "state": {}
     },
     "b2a977056e9b4c1da27788404d145991": {
      "model_module": "@jupyter-widgets/base",
      "model_module_version": "1.1.0",
      "model_name": "LayoutModel",
      "state": {}
     },
     "b2e6b44349e243e3ba94f32289d40f30": {
      "model_module": "@jupyter-widgets/base",
      "model_module_version": "1.1.0",
      "model_name": "LayoutModel",
      "state": {}
     },
     "b2fc780a9f6847d383bfd71388d411d9": {
      "model_module": "@jupyter-widgets/controls",
      "model_module_version": "1.4.0",
      "model_name": "DescriptionStyleModel",
      "state": {
       "description_width": ""
      }
     },
     "b305153ad61a46f38bb7dc9493e7665c": {
      "model_module": "@jupyter-widgets/controls",
      "model_module_version": "1.4.0",
      "model_name": "TabModel",
      "state": {
       "_titles": {
        "0": "Done: 18575"
       },
       "children": [
        "IPY_MODEL_fbe6c01a00f54e91a98d2f2fb7c86a53"
       ],
       "layout": "IPY_MODEL_5b42654fa6314cac99dc91f93b325879"
      }
     },
     "b33f383ce74945c69f3c0541c602f853": {
      "model_module": "@jupyter-widgets/controls",
      "model_module_version": "1.4.0",
      "model_name": "ButtonModel",
      "state": {
       "button_style": "info",
       "description": "Display output",
       "disabled": true,
       "layout": "IPY_MODEL_adc63b60d9084b8797da6cd2c67fd6fd",
       "style": "IPY_MODEL_42f934b0d7d64abf92d9b88c9c557cdf"
      }
     },
     "b362df9e40384e1190aaf1d8fe4da238": {
      "model_module": "@jupyter-widgets/controls",
      "model_module_version": "1.4.0",
      "model_name": "DescriptionStyleModel",
      "state": {
       "description_width": ""
      }
     },
     "b3ad679de1d64f4fa82569f7e5776e7f": {
      "model_module": "@jupyter-widgets/controls",
      "model_module_version": "1.4.0",
      "model_name": "FloatProgressModel",
      "state": {
       "bar_style": "info",
       "layout": "IPY_MODEL_9673486dfb9a48d18685e658b063248f",
       "style": "IPY_MODEL_8534263f362042b29ae1fdd666d3b4c8"
      }
     },
     "b3c24e9ab7c24d22b5f9eda140a39832": {
      "model_module": "@jupyter-widgets/controls",
      "model_module_version": "1.4.0",
      "model_name": "ButtonStyleModel",
      "state": {}
     },
     "b43cc8a792884108901cf68028d891fa": {
      "model_module": "@jupyter-widgets/controls",
      "model_module_version": "1.4.0",
      "model_name": "DescriptionStyleModel",
      "state": {
       "description_width": "initial"
      }
     },
     "b481f935ad684cfdb3c5443c5b16d8a3": {
      "model_module": "@jupyter-widgets/controls",
      "model_module_version": "1.4.0",
      "model_name": "ButtonStyleModel",
      "state": {}
     },
     "b48c99c9805245a3b424e9903ab8cd6e": {
      "model_module": "@jupyter-widgets/controls",
      "model_module_version": "1.4.0",
      "model_name": "HTMLModel",
      "state": {
       "layout": "IPY_MODEL_048a616f54c348f48cae22723fd716ed",
       "style": "IPY_MODEL_610eaa60fdea4b8eb1920bb60812ccac",
       "value": "<table><style type=\"text/css\" scoped>td{ padding:5px; border: 1px solid #9e9e9e; line-height:1.2em;}td:first-child{font-weight:bold;}</style><tbody><tr><td>Target node</td><td>nodes=1:i5-6500te</td></tr><tr><td>Submission command</td><td>qsub test_script.sh  -l nodes=1:i5-6500te -F \"  -r results/\"</td></tr></tbody></table>"
      }
     },
     "b4af525d951240dab898f7812922c22f": {
      "model_module": "@jupyter-widgets/controls",
      "model_module_version": "1.4.0",
      "model_name": "HTMLModel",
      "state": {
       "layout": "IPY_MODEL_00f136c2377c4f83843d7a45cd73fa62",
       "placeholder": "0",
       "style": "IPY_MODEL_b042d9945da74a74b108984e6922b224",
       "value": "...waiting to start"
      }
     },
     "b4ceac92013045fc96fdb3294c945568": {
      "model_module": "@jupyter-widgets/controls",
      "model_module_version": "1.4.0",
      "model_name": "TabModel",
      "state": {
       "_titles": {
        "0": "Done: 18569"
       },
       "children": [
        "IPY_MODEL_6165cbb130e447fd80b705b134deaa79"
       ],
       "layout": "IPY_MODEL_334c3c9eca5d4efe9c628d60efbc7e2c"
      }
     },
     "b4dd971b520b4b64b3efbd20f4d8d772": {
      "model_module": "@jupyter-widgets/output",
      "model_module_version": "1.0.0",
      "model_name": "OutputModel",
      "state": {
       "layout": "IPY_MODEL_9ffc532113204ccca672f2c1331d167f"
      }
     },
     "b50524a680ef4c8f829554aeef40c4b4": {
      "model_module": "@jupyter-widgets/controls",
      "model_module_version": "1.4.0",
      "model_name": "DescriptionStyleModel",
      "state": {
       "description_width": ""
      }
     },
     "b5091b2595d949eb85f41a5afbf35e97": {
      "model_module": "@jupyter-widgets/base",
      "model_module_version": "1.1.0",
      "model_name": "LayoutModel",
      "state": {}
     },
     "b5302f72ee4c49b4999f5431cb78a8ff": {
      "model_module": "@jupyter-widgets/controls",
      "model_module_version": "1.4.0",
      "model_name": "DescriptionStyleModel",
      "state": {
       "description_width": ""
      }
     },
     "b569945c75d54f618d0864adb55590c8": {
      "model_module": "@jupyter-widgets/controls",
      "model_module_version": "1.4.0",
      "model_name": "ButtonModel",
      "state": {
       "button_style": "info",
       "description": "Submit",
       "layout": "IPY_MODEL_5453b461740942aab04196f910cf0a13",
       "style": "IPY_MODEL_55b110550b934de780a5e7effa4adf95"
      }
     },
     "b5845e0298694c50a2a480fb2bc3cf24": {
      "model_module": "@jupyter-widgets/base",
      "model_module_version": "1.1.0",
      "model_name": "LayoutModel",
      "state": {}
     },
     "b5beb6e871a541419cdaccfe751ecda5": {
      "model_module": "@jupyter-widgets/controls",
      "model_module_version": "1.4.0",
      "model_name": "ButtonStyleModel",
      "state": {}
     },
     "b5f7d963c5a641558d1daa44559cf82a": {
      "model_module": "@jupyter-widgets/controls",
      "model_module_version": "1.4.0",
      "model_name": "DescriptionStyleModel",
      "state": {
       "description_width": "initial"
      }
     },
     "b6150e99eb0f47a485209fd2bcfc2a2d": {
      "model_module": "@jupyter-widgets/controls",
      "model_module_version": "1.4.0",
      "model_name": "ButtonStyleModel",
      "state": {}
     },
     "b64bc22b8abd4e1580acca647e7b59d0": {
      "model_module": "@jupyter-widgets/controls",
      "model_module_version": "1.4.0",
      "model_name": "DescriptionStyleModel",
      "state": {
       "description_width": ""
      }
     },
     "b67f3da7fdcd4527a96f9032f6f9462d": {
      "model_module": "@jupyter-widgets/controls",
      "model_module_version": "1.4.0",
      "model_name": "DescriptionStyleModel",
      "state": {
       "description_width": ""
      }
     },
     "b6e5edd70ede467184c6f0ba354b8c66": {
      "model_module": "@jupyter-widgets/base",
      "model_module_version": "1.1.0",
      "model_name": "LayoutModel",
      "state": {}
     },
     "b72d76d4ebfa456086e7503373031a25": {
      "model_module": "@jupyter-widgets/controls",
      "model_module_version": "1.4.0",
      "model_name": "TabModel",
      "state": {
       "_titles": {
        "0": "Running: 18669"
       },
       "children": [
        "IPY_MODEL_e9a8fdfc227349d5b47fc936e3e59f6c"
       ],
       "layout": "IPY_MODEL_a68145d974314638933a873c09cdaa39"
      }
     },
     "b742551927904f4ea5346819c44ba691": {
      "model_module": "@jupyter-widgets/base",
      "model_module_version": "1.1.0",
      "model_name": "LayoutModel",
      "state": {}
     },
     "b764ed1cebfc40acb9c6a2b0b0345e40": {
      "model_module": "@jupyter-widgets/base",
      "model_module_version": "1.1.0",
      "model_name": "LayoutModel",
      "state": {}
     },
     "b7df695841584b43a87804a2d08baa7d": {
      "model_module": "@jupyter-widgets/base",
      "model_module_version": "1.1.0",
      "model_name": "LayoutModel",
      "state": {}
     },
     "b7f10aa6e8ef48379ccec06a172b9340": {
      "model_module": "@jupyter-widgets/controls",
      "model_module_version": "1.4.0",
      "model_name": "DescriptionStyleModel",
      "state": {
       "description_width": ""
      }
     },
     "b81c686f35bf49a6b2589434b5985c03": {
      "model_module": "@jupyter-widgets/base",
      "model_module_version": "1.1.0",
      "model_name": "LayoutModel",
      "state": {}
     },
     "b8207d53bea64432b2ad71e912369a22": {
      "model_module": "@jupyter-widgets/base",
      "model_module_version": "1.1.0",
      "model_name": "LayoutModel",
      "state": {}
     },
     "b82dc5f11e5a4eb7ab4d095d1f4586f5": {
      "model_module": "@jupyter-widgets/controls",
      "model_module_version": "1.4.0",
      "model_name": "DescriptionStyleModel",
      "state": {
       "description_width": ""
      }
     },
     "b8c89072b6ed409bbca4c519a5cb0c1e": {
      "model_module": "@jupyter-widgets/base",
      "model_module_version": "1.1.0",
      "model_name": "LayoutModel",
      "state": {}
     },
     "b8dcfa4ef47e4f8c88dda3916eaa8028": {
      "model_module": "@jupyter-widgets/base",
      "model_module_version": "1.1.0",
      "model_name": "LayoutModel",
      "state": {
       "width": "100%"
      }
     },
     "b8e9486fa8854eb89013ddc6bca5a478": {
      "model_module": "@jupyter-widgets/base",
      "model_module_version": "1.1.0",
      "model_name": "LayoutModel",
      "state": {}
     },
     "b90b64a71c994419a39b8bbdf18eb899": {
      "model_module": "@jupyter-widgets/base",
      "model_module_version": "1.1.0",
      "model_name": "LayoutModel",
      "state": {}
     },
     "b92d2691a72245db85f79cbc2e82e166": {
      "model_module": "@jupyter-widgets/controls",
      "model_module_version": "1.4.0",
      "model_name": "ButtonModel",
      "state": {
       "button_style": "info",
       "description": "Submit",
       "layout": "IPY_MODEL_b0f3b79d75b04a47906a5f441b6a8f3d",
       "style": "IPY_MODEL_a7f131ab89104d70a7d6b489ea8b023e"
      }
     },
     "b9a9d08e6c2c457480a55fe6bb0c0e64": {
      "model_module": "@jupyter-widgets/controls",
      "model_module_version": "1.4.0",
      "model_name": "ButtonStyleModel",
      "state": {}
     },
     "b9e19d08c4a44d0a9d2323d340b50f3e": {
      "model_module": "@jupyter-widgets/base",
      "model_module_version": "1.1.0",
      "model_name": "LayoutModel",
      "state": {}
     },
     "ba13e7a9830f477caffbd9c9a2e12275": {
      "model_module": "@jupyter-widgets/controls",
      "model_module_version": "1.4.0",
      "model_name": "FloatProgressModel",
      "state": {
       "bar_style": "info",
       "description": "Progress",
       "layout": "IPY_MODEL_c29fd0c3a9594ca7878f23793e1d1e7c",
       "style": "IPY_MODEL_ae3e789bc81a417dbd60acf019d96ef6",
       "value": 100
      }
     },
     "ba2241db28794fd4985af2a8d85efde8": {
      "model_module": "@jupyter-widgets/controls",
      "model_module_version": "1.4.0",
      "model_name": "DescriptionStyleModel",
      "state": {
       "description_width": "initial"
      }
     },
     "ba26b041c93b401a82370799482794c6": {
      "model_module": "@jupyter-widgets/controls",
      "model_module_version": "1.4.0",
      "model_name": "VBoxModel",
      "state": {
       "children": [
        "IPY_MODEL_057c6886026d4cb3b5b8d2b9e019d48e",
        "IPY_MODEL_eb6369c8fa224448b2f0ed1466a865dd"
       ],
       "layout": "IPY_MODEL_b8c89072b6ed409bbca4c519a5cb0c1e"
      }
     },
     "ba2c0966f74649b8abf0ebb06612072d": {
      "model_module": "@jupyter-widgets/base",
      "model_module_version": "1.1.0",
      "model_name": "LayoutModel",
      "state": {}
     },
     "ba65440d9bcd4c688a2fddc62f2277d7": {
      "model_module": "@jupyter-widgets/base",
      "model_module_version": "1.1.0",
      "model_name": "LayoutModel",
      "state": {}
     },
     "ba6972310a324c7aa5576b75ec6aff94": {
      "model_module": "@jupyter-widgets/base",
      "model_module_version": "1.1.0",
      "model_name": "LayoutModel",
      "state": {}
     },
     "ba72fa2e65e14c20a07a8c94a9072f5f": {
      "model_module": "@jupyter-widgets/controls",
      "model_module_version": "1.4.0",
      "model_name": "DescriptionStyleModel",
      "state": {
       "description_width": ""
      }
     },
     "babefab4be094a77856cec1e208df5af": {
      "model_module": "@jupyter-widgets/controls",
      "model_module_version": "1.4.0",
      "model_name": "TextModel",
      "state": {
       "layout": "IPY_MODEL_49a1394f6d544cb58bf11ee1fa441092",
       "style": "IPY_MODEL_dde1ff13ffa849ecbf7da4d4add772a0",
       "value": "nodes=1:i5-6500te"
      }
     },
     "bb1a45a2cd8143088fa4a9cbebd71486": {
      "model_module": "@jupyter-widgets/base",
      "model_module_version": "1.1.0",
      "model_name": "LayoutModel",
      "state": {}
     },
     "bb358946cdff47508ff46ce70e1f24eb": {
      "model_module": "@jupyter-widgets/controls",
      "model_module_version": "1.4.0",
      "model_name": "DescriptionStyleModel",
      "state": {
       "description_width": ""
      }
     },
     "bb493b1006944404be340c4ffd904502": {
      "model_module": "@jupyter-widgets/controls",
      "model_module_version": "1.4.0",
      "model_name": "ButtonModel",
      "state": {
       "button_style": "info",
       "description": "Submit",
       "layout": "IPY_MODEL_499b13d42c4b4f5db16d8ebb913a8fb3",
       "style": "IPY_MODEL_5a3a16d7e8d5433989239e19dd408239"
      }
     },
     "bb53647fe9584ef7afaf7696674b50dd": {
      "model_module": "@jupyter-widgets/controls",
      "model_module_version": "1.4.0",
      "model_name": "DescriptionStyleModel",
      "state": {
       "description_width": ""
      }
     },
     "bb607489519c4f5cbd15b47fdf6c7986": {
      "model_module": "@jupyter-widgets/controls",
      "model_module_version": "1.4.0",
      "model_name": "ButtonStyleModel",
      "state": {}
     },
     "bb642cdb3be24372b51391be28fec0b3": {
      "model_module": "@jupyter-widgets/base",
      "model_module_version": "1.1.0",
      "model_name": "LayoutModel",
      "state": {}
     },
     "bb698d9f4e8141648cc795bffa83a32e": {
      "model_module": "@jupyter-widgets/controls",
      "model_module_version": "1.4.0",
      "model_name": "DescriptionStyleModel",
      "state": {
       "description_width": "initial"
      }
     },
     "bb785d34b4d046d29fe39a83780015a9": {
      "model_module": "@jupyter-widgets/base",
      "model_module_version": "1.1.0",
      "model_name": "LayoutModel",
      "state": {
       "width": "100%"
      }
     },
     "bb7ce901eb8342c38de460e63876aa3a": {
      "model_module": "@jupyter-widgets/controls",
      "model_module_version": "1.4.0",
      "model_name": "HTMLModel",
      "state": {
       "layout": "IPY_MODEL_cd34c6e43a5d44bfa1132aa4d2cc443f",
       "placeholder": "0",
       "style": "IPY_MODEL_7a5ee1af44f74ecda9cfb13358358a35",
       "value": "Done"
      }
     },
     "bb7f6ca65dea4d9bbeec3f20777e4075": {
      "model_module": "@jupyter-widgets/base",
      "model_module_version": "1.1.0",
      "model_name": "LayoutModel",
      "state": {
       "width": "100%"
      }
     },
     "bb90117b012b405aaeee4c1015c9d0e1": {
      "model_module": "@jupyter-widgets/base",
      "model_module_version": "1.1.0",
      "model_name": "LayoutModel",
      "state": {}
     },
     "bba64e43862a484bb8ef3f48ecd2be68": {
      "model_module": "@jupyter-widgets/controls",
      "model_module_version": "1.4.0",
      "model_name": "HTMLModel",
      "state": {
       "layout": "IPY_MODEL_3f919b2ef41b4fd5bcb803dcd9a62bd5",
       "style": "IPY_MODEL_2cc76918d53849da94c9b219882dbb51",
       "value": "<span style='color:green'>&#10004;</span> Job submitted, job ID: 18569.c003"
      }
     },
     "bbb22bba7b8343f0b48a21905103041c": {
      "model_module": "@jupyter-widgets/controls",
      "model_module_version": "1.4.0",
      "model_name": "DescriptionStyleModel",
      "state": {
       "description_width": ""
      }
     },
     "bbbc608a55b548c4b5ac15f741575810": {
      "model_module": "@jupyter-widgets/controls",
      "model_module_version": "1.4.0",
      "model_name": "ButtonModel",
      "state": {
       "button_style": "info",
       "description": "Plot results",
       "disabled": true,
       "layout": "IPY_MODEL_37357f68904f4c9e94ff4942bec29165",
       "style": "IPY_MODEL_9853e4874ec14eedba373e0f1c6dae2d"
      }
     },
     "bbe5bc883d46477b939d7c301978bf54": {
      "model_module": "@jupyter-widgets/controls",
      "model_module_version": "1.4.0",
      "model_name": "HTMLModel",
      "state": {
       "layout": "IPY_MODEL_7fef788dcf434a7888bdd9bbba832305",
       "placeholder": "0",
       "style": "IPY_MODEL_6d7e9a8b3cbe4827a0674cf100445699",
       "value": "Done"
      }
     },
     "bbf16a185eea48b687dd4768ad2eb563": {
      "model_module": "@jupyter-widgets/controls",
      "model_module_version": "1.4.0",
      "model_name": "ButtonModel",
      "state": {
       "button_style": "info",
       "description": "Submit",
       "layout": "IPY_MODEL_1f710abce64a4cfb9a2bcd4fa77fc524",
       "style": "IPY_MODEL_6311535a32a14a72b0ee0ac4fb9cd645"
      }
     },
     "bc074c99815c4e3287e8f59689cc50b5": {
      "model_module": "@jupyter-widgets/controls",
      "model_module_version": "1.4.0",
      "model_name": "DescriptionStyleModel",
      "state": {
       "description_width": ""
      }
     },
     "bc3303eb1b134b9686dd234058f9304a": {
      "model_module": "@jupyter-widgets/base",
      "model_module_version": "1.1.0",
      "model_name": "LayoutModel",
      "state": {}
     },
     "bc4c6257194a4d8ea5a34f7456b369cf": {
      "model_module": "@jupyter-widgets/base",
      "model_module_version": "1.1.0",
      "model_name": "LayoutModel",
      "state": {}
     },
     "bc56d0f876a949eab270de6879658b2b": {
      "model_module": "@jupyter-widgets/base",
      "model_module_version": "1.1.0",
      "model_name": "LayoutModel",
      "state": {}
     },
     "bc6c53e863954dd8b6a577bdb4828c4e": {
      "model_module": "@jupyter-widgets/controls",
      "model_module_version": "1.4.0",
      "model_name": "HTMLModel",
      "state": {
       "layout": "IPY_MODEL_7ab8d6435c72463d8f9189ef543e61de",
       "style": "IPY_MODEL_9edc71f88bbc45de88bf184ffec9f4da"
      }
     },
     "bc877ea90f954a1480a3274506ad6dd2": {
      "model_module": "@jupyter-widgets/controls",
      "model_module_version": "1.4.0",
      "model_name": "DescriptionStyleModel",
      "state": {
       "description_width": ""
      }
     },
     "bc99db39fc5e4ca79ae8f82ac1b263d9": {
      "model_module": "@jupyter-widgets/controls",
      "model_module_version": "1.4.0",
      "model_name": "DescriptionStyleModel",
      "state": {
       "description_width": ""
      }
     },
     "bcf7d219eb6649fcaaa4d8eb745e779f": {
      "model_module": "@jupyter-widgets/controls",
      "model_module_version": "1.4.0",
      "model_name": "ButtonModel",
      "state": {
       "button_style": "info",
       "description": "Submit",
       "layout": "IPY_MODEL_0a96970b432c4296a18a8deef5c46f43",
       "style": "IPY_MODEL_6538ac53849749089dc5d1cedb2b7ebf"
      }
     },
     "bcfe2c67e20c4c1aa5974e8b6085b64b": {
      "model_module": "@jupyter-widgets/controls",
      "model_module_version": "1.4.0",
      "model_name": "HTMLModel",
      "state": {
       "layout": "IPY_MODEL_c9ef8c0103814ddd91054d978258ae74",
       "placeholder": "0",
       "style": "IPY_MODEL_1eefd634b3cf4e4891542992dce47813",
       "value": "Total estimated: 10.0\n seconds"
      }
     },
     "bd3ccf93cef14e40916b649b245e31d2": {
      "model_module": "@jupyter-widgets/controls",
      "model_module_version": "1.4.0",
      "model_name": "DescriptionStyleModel",
      "state": {
       "description_width": "initial"
      }
     },
     "bd45044a32784ff5be908c8f65ed6994": {
      "model_module": "@jupyter-widgets/controls",
      "model_module_version": "1.4.0",
      "model_name": "DescriptionStyleModel",
      "state": {
       "description_width": ""
      }
     },
     "bd5722c859a84228a9ecc8b715f28409": {
      "model_module": "@jupyter-widgets/base",
      "model_module_version": "1.1.0",
      "model_name": "LayoutModel",
      "state": {}
     },
     "bd753ea926a941a1a06451509d4d2808": {
      "model_module": "@jupyter-widgets/base",
      "model_module_version": "1.1.0",
      "model_name": "LayoutModel",
      "state": {
       "width": "100%"
      }
     },
     "bda6292980f74fada724b341884f9280": {
      "model_module": "@jupyter-widgets/controls",
      "model_module_version": "1.4.0",
      "model_name": "DescriptionStyleModel",
      "state": {
       "description_width": ""
      }
     },
     "bdd92659bac248178f85d2ed55ef04fb": {
      "model_module": "@jupyter-widgets/output",
      "model_module_version": "1.0.0",
      "model_name": "OutputModel",
      "state": {
       "layout": "IPY_MODEL_75f64b7089d44bb58b96f6f0c392e042"
      }
     },
     "bdf31fe20d4347f3941fd9b8d19e485d": {
      "model_module": "@jupyter-widgets/base",
      "model_module_version": "1.1.0",
      "model_name": "LayoutModel",
      "state": {}
     },
     "be14713153ce445cac8a0ded599ea65d": {
      "model_module": "@jupyter-widgets/base",
      "model_module_version": "1.1.0",
      "model_name": "LayoutModel",
      "state": {
       "width": "100%"
      }
     },
     "be1d209dd811495f867aef26caedad54": {
      "model_module": "@jupyter-widgets/base",
      "model_module_version": "1.1.0",
      "model_name": "LayoutModel",
      "state": {
       "align_items": "stretch",
       "border": "ridge",
       "display": "flex",
       "flex_flow": "column",
       "height": "",
       "width": "100%"
      }
     },
     "be2d274fc0384f5ab51d70a68f6b8bab": {
      "model_module": "@jupyter-widgets/output",
      "model_module_version": "1.0.0",
      "model_name": "OutputModel",
      "state": {
       "layout": "IPY_MODEL_f4bb9dd0142a43c69aeaebc009a1c22c"
      }
     },
     "beba0ff9f9784d27a9a73e26e3d129cb": {
      "model_module": "@jupyter-widgets/controls",
      "model_module_version": "1.4.0",
      "model_name": "LabelModel",
      "state": {
       "layout": "IPY_MODEL_56c3c6434f9345aa8202859f4e17af11",
       "style": "IPY_MODEL_f6f9634ec51e4c62832fadd646971e4b",
       "value": "Target node"
      }
     },
     "bed6d4b463ac4af788817c5f7ae95b85": {
      "model_module": "@jupyter-widgets/controls",
      "model_module_version": "1.4.0",
      "model_name": "HTMLModel",
      "state": {
       "layout": "IPY_MODEL_52319b13099b4adf8768218c68f367fc",
       "placeholder": "0",
       "style": "IPY_MODEL_8d9f9a5778c24f4c807063d1651cbece",
       "value": "...waiting to start"
      }
     },
     "bf2161d125b14952b72207afe389bb42": {
      "model_module": "@jupyter-widgets/controls",
      "model_module_version": "1.4.0",
      "model_name": "ButtonStyleModel",
      "state": {}
     },
     "bf32d2ee282d4869929d152b1ce91f97": {
      "model_module": "@jupyter-widgets/controls",
      "model_module_version": "1.4.0",
      "model_name": "HTMLModel",
      "state": {
       "layout": "IPY_MODEL_b6e5edd70ede467184c6f0ba354b8c66",
       "placeholder": "0",
       "style": "IPY_MODEL_6a14f265f4d64c02944356a2f5f20de6"
      }
     },
     "bf3d295d62614ae6ac29d383a9d8243b": {
      "model_module": "@jupyter-widgets/controls",
      "model_module_version": "1.4.0",
      "model_name": "DescriptionStyleModel",
      "state": {
       "description_width": "initial"
      }
     },
     "bf472f12967b4425b317f9145e8d9c60": {
      "model_module": "@jupyter-widgets/controls",
      "model_module_version": "1.4.0",
      "model_name": "TextModel",
      "state": {
       "layout": "IPY_MODEL_998674d4211b44f7bcf6cc54d8244036",
       "style": "IPY_MODEL_b7f10aa6e8ef48379ccec06a172b9340",
       "value": "nodes=1:i5-6500te"
      }
     },
     "bf7e139e502047859640017fea04bd9e": {
      "model_module": "@jupyter-widgets/base",
      "model_module_version": "1.1.0",
      "model_name": "LayoutModel",
      "state": {}
     },
     "bf9128ffed8e4bce8063de84685e2490": {
      "model_module": "@jupyter-widgets/controls",
      "model_module_version": "1.4.0",
      "model_name": "ButtonModel",
      "state": {
       "button_style": "info",
       "description": "Submit",
       "layout": "IPY_MODEL_4fccde06439845159f50b266c2a7e2d9",
       "style": "IPY_MODEL_dcca46a158794d74a2cd444a2b879ed7"
      }
     },
     "c01599767ebb4395a05943db9ec8f9e6": {
      "model_module": "@jupyter-widgets/controls",
      "model_module_version": "1.4.0",
      "model_name": "HTMLModel",
      "state": {
       "layout": "IPY_MODEL_96055f03aaf646f29b6ee54eaf2cd0c4",
       "style": "IPY_MODEL_5262a0c44ffb4a7fb3a964660aac2cc7"
      }
     },
     "c037f056a01c41c0b3a45174078a223c": {
      "model_module": "@jupyter-widgets/base",
      "model_module_version": "1.1.0",
      "model_name": "LayoutModel",
      "state": {}
     },
     "c0677593458145cb855af9ad330543af": {
      "model_module": "@jupyter-widgets/output",
      "model_module_version": "1.0.0",
      "model_name": "OutputModel",
      "state": {
       "layout": "IPY_MODEL_9664931756eb46479619a8ceac23ee6e"
      }
     },
     "c08e07653d3a4c8181b817bd3d11bd43": {
      "model_module": "@jupyter-widgets/controls",
      "model_module_version": "1.4.0",
      "model_name": "VBoxModel",
      "state": {
       "children": [
        "IPY_MODEL_96304a9039274b80b0949641feb3621a"
       ],
       "layout": "IPY_MODEL_ea7751a456df4c66a190b1d76bf8caba"
      }
     },
     "c0975649ffe640db8d2e15da9de80deb": {
      "model_module": "@jupyter-widgets/base",
      "model_module_version": "1.1.0",
      "model_name": "LayoutModel",
      "state": {}
     },
     "c10a42900dc44921ab3e2f4e52b00d40": {
      "model_module": "@jupyter-widgets/controls",
      "model_module_version": "1.4.0",
      "model_name": "HTMLModel",
      "state": {
       "layout": "IPY_MODEL_bf7e139e502047859640017fea04bd9e",
       "placeholder": "0",
       "style": "IPY_MODEL_d1d5859ecb9d4a91aff7560be7ff9794"
      }
     },
     "c116e5fef3234dddb7255b6eddce330c": {
      "model_module": "@jupyter-widgets/controls",
      "model_module_version": "1.4.0",
      "model_name": "VBoxModel",
      "state": {
       "children": [
        "IPY_MODEL_1f846fe3b30a4cdeb36c82f7fc35f04d"
       ],
       "layout": "IPY_MODEL_1995622464f846c588f78f5c0fa3c1f9"
      }
     },
     "c121f51deba54595a697ba4435b4891b": {
      "model_module": "@jupyter-widgets/output",
      "model_module_version": "1.0.0",
      "model_name": "OutputModel",
      "state": {
       "layout": "IPY_MODEL_703b99873ae342d4823f360b238358d5"
      }
     },
     "c14e26a646064175a50a7e0c0be5a697": {
      "model_module": "@jupyter-widgets/controls",
      "model_module_version": "1.4.0",
      "model_name": "DescriptionStyleModel",
      "state": {
       "description_width": ""
      }
     },
     "c1ba145e4cd54d89ba398c9610adcc4f": {
      "model_module": "@jupyter-widgets/controls",
      "model_module_version": "1.4.0",
      "model_name": "DescriptionStyleModel",
      "state": {
       "description_width": ""
      }
     },
     "c1be7e6bb45e4d619a5513e19b87a84c": {
      "model_module": "@jupyter-widgets/base",
      "model_module_version": "1.1.0",
      "model_name": "LayoutModel",
      "state": {}
     },
     "c1f5f630114540f99f57fff899047b13": {
      "model_module": "@jupyter-widgets/controls",
      "model_module_version": "1.4.0",
      "model_name": "ProgressStyleModel",
      "state": {
       "description_width": "initial"
      }
     },
     "c1f6c158c7f4487d8ec9228514906466": {
      "model_module": "@jupyter-widgets/controls",
      "model_module_version": "1.4.0",
      "model_name": "HTMLModel",
      "state": {
       "layout": "IPY_MODEL_bc4c6257194a4d8ea5a34f7456b369cf",
       "placeholder": "",
       "style": "IPY_MODEL_fd9b778e88c740faae900fa552e817ad",
       "value": "Architecture:          x86_64\n<br>CPU op-mode(s):        32-bit, 64-bit\n<br>Byte Order:            Little Endian\n<br>CPU(s):                4\n<br>On-line CPU(s) list:   0-3\n<br>Thread(s) per core:    1\n<br>Core(s) per socket:    4\n<br>Socket(s):             1\n<br>NUMA node(s):          1\n<br>Vendor ID:             GenuineIntel\n<br>CPU family:            6\n<br>Model:                 94\n<br>Model name:            Intel(R) Core(TM) i5-6500TE CPU @ 2.30GHz\n<br>Stepping:              3\n<br>CPU MHz:               1235.385\n<br>CPU max MHz:           3300.0000\n<br>CPU min MHz:           800.0000\n<br>BogoMIPS:              4608.00\n<br>Virtualization:        VT-x\n<br>L1d cache:             32K\n<br>L1i cache:             32K\n<br>L2 cache:              256K\n<br>L3 cache:              6144K\n<br>NUMA node0 CPU(s):     0-3\n<br>Flags:                 fpu vme de pse tsc msr pae mce cx8 apic sep mtrr pge mca cmov pat pse36 clflush dts acpi mmx fxsr sse sse2 ss ht tm pbe syscall nx pdpe1gb rdtscp lm constant_tsc art arch_perfmon pebs bts rep_good nopl xtopology nonstop_tsc cpuid aperfmperf tsc_known_freq pni pclmulqdq dtes64 monitor ds_cpl vmx smx est tm2 ssse3 sdbg fma cx16 xtpr pdcm pcid sse4_1 sse4_2 x2apic movbe popcnt tsc_deadline_timer aes xsave avx f16c rdrand lahf_lm abm 3dnowprefetch cpuid_fault epb invpcid_single pti ssbd ibrs ibpb stibp tpr_shadow vnmi flexpriority ept vpid fsgsbase tsc_adjust bmi1 hle avx2 smep bmi2 erms invpcid rtm mpx rdseed adx smap clflushopt intel_pt xsaveopt xsavec xgetbv1 xsaves dtherm ida arat pln pts hwp hwp_notify hwp_act_window hwp_epp flush_l1d<br>"
      }
     },
     "c2215c4e4d5c444f977be10785ed0ca2": {
      "model_module": "@jupyter-widgets/base",
      "model_module_version": "1.1.0",
      "model_name": "LayoutModel",
      "state": {
       "align_items": "stretch",
       "border": "ridge",
       "display": "flex",
       "flex_flow": "column",
       "height": "",
       "width": "100%"
      }
     },
     "c262600716664e589cf9590cadc92204": {
      "model_module": "@jupyter-widgets/controls",
      "model_module_version": "1.4.0",
      "model_name": "ProgressStyleModel",
      "state": {
       "description_width": "initial"
      }
     },
     "c2701b01a2bd4495a60eece3ec6b9a3d": {
      "model_module": "@jupyter-widgets/controls",
      "model_module_version": "1.4.0",
      "model_name": "HTMLModel",
      "state": {
       "layout": "IPY_MODEL_870ff85afa2c423782b3cf643c7a57bd",
       "placeholder": "",
       "style": "IPY_MODEL_7c6128697178454f9b6e52e56c873d74"
      }
     },
     "c29e36739e9543fa99de809172310c7f": {
      "model_module": "@jupyter-widgets/base",
      "model_module_version": "1.1.0",
      "model_name": "LayoutModel",
      "state": {}
     },
     "c29fd0c3a9594ca7878f23793e1d1e7c": {
      "model_module": "@jupyter-widgets/base",
      "model_module_version": "1.1.0",
      "model_name": "LayoutModel",
      "state": {}
     },
     "c2a77123b4d44079ac210119a5cb0633": {
      "model_module": "@jupyter-widgets/controls",
      "model_module_version": "1.4.0",
      "model_name": "ButtonModel",
      "state": {
       "button_style": "info",
       "description": "Plot results",
       "disabled": true,
       "layout": "IPY_MODEL_dee9254488274e03babb0b96b46060ad",
       "style": "IPY_MODEL_0d8cd90224904e64832becceaefa04db"
      }
     },
     "c2c91988339a4d3ca092e3b8d440b3cd": {
      "model_module": "@jupyter-widgets/controls",
      "model_module_version": "1.4.0",
      "model_name": "HTMLModel",
      "state": {
       "layout": "IPY_MODEL_4781b5fcedc7475589f2e5be5e09c7dd",
       "style": "IPY_MODEL_b362df9e40384e1190aaf1d8fe4da238"
      }
     },
     "c2d2535f846b4a00bbeac9fdf21488cb": {
      "model_module": "@jupyter-widgets/controls",
      "model_module_version": "1.4.0",
      "model_name": "HTMLModel",
      "state": {
       "layout": "IPY_MODEL_922c25220016474faeb1efa0c18ce07d",
       "placeholder": "0",
       "style": "IPY_MODEL_cef3d92cc1fb4969b146917d3f861d4a",
       "value": "Total estimated: 10.0\n seconds"
      }
     },
     "c2ee26d8be62409fb97b0f269caacc93": {
      "model_module": "@jupyter-widgets/controls",
      "model_module_version": "1.4.0",
      "model_name": "ButtonStyleModel",
      "state": {}
     },
     "c2f9017976fd416e88b5830a8011b629": {
      "model_module": "@jupyter-widgets/base",
      "model_module_version": "1.1.0",
      "model_name": "LayoutModel",
      "state": {}
     },
     "c3333f40bbb64f55ac6e0dc664603e97": {
      "model_module": "@jupyter-widgets/controls",
      "model_module_version": "1.4.0",
      "model_name": "DescriptionStyleModel",
      "state": {
       "description_width": ""
      }
     },
     "c33d3948d1b14e4fa684f5f73d889be4": {
      "model_module": "@jupyter-widgets/controls",
      "model_module_version": "1.4.0",
      "model_name": "HBoxModel",
      "state": {
       "children": [
        "IPY_MODEL_228079472e904d589795440f6a222431",
        "IPY_MODEL_f1be777e2c59473d822e38ec34c6bb8f",
        "IPY_MODEL_ef2dfe329135471b9fb200c12c66fcb2",
        "IPY_MODEL_ec8183a70a09473780981d70b849abb9",
        "IPY_MODEL_3da289b755654b1f9be7c93ba6cea5ec",
        "IPY_MODEL_14ec13ea24b34d51a302f99d4125aa6e"
       ],
       "layout": "IPY_MODEL_5cf4a5edf621443cabf06a99a0c14fd2"
      }
     },
     "c3699acd57e84b5384ff88b413decfaa": {
      "model_module": "@jupyter-widgets/controls",
      "model_module_version": "1.4.0",
      "model_name": "ButtonStyleModel",
      "state": {}
     },
     "c3f6f3ad9a964547a76943c51eb30dc0": {
      "model_module": "@jupyter-widgets/controls",
      "model_module_version": "1.4.0",
      "model_name": "VBoxModel",
      "state": {
       "children": [
        "IPY_MODEL_8903e1be9fe541628d76f5ec7b594fb6",
        "IPY_MODEL_0ee4fb456adb4fe59c2429ac11ca65b3",
        "IPY_MODEL_3bffdce7477c4f26b96df5cbf1fa0e26"
       ],
       "layout": "IPY_MODEL_b9e19d08c4a44d0a9d2323d340b50f3e"
      }
     },
     "c45ae521e3064c7887637f7757725ea2": {
      "model_module": "@jupyter-widgets/base",
      "model_module_version": "1.1.0",
      "model_name": "LayoutModel",
      "state": {}
     },
     "c471dac5991a4cb3b6dbd2623b775219": {
      "model_module": "@jupyter-widgets/controls",
      "model_module_version": "1.4.0",
      "model_name": "ButtonModel",
      "state": {
       "button_style": "info",
       "description": "Plot results",
       "disabled": true,
       "layout": "IPY_MODEL_a16f89dd4b154a5891e1206c97f74203",
       "style": "IPY_MODEL_7c9cd4d44d954e9fb90050e1750c4d25"
      }
     },
     "c488129d060d4c0aab670371246ce36d": {
      "model_module": "@jupyter-widgets/controls",
      "model_module_version": "1.4.0",
      "model_name": "FloatProgressModel",
      "state": {
       "bar_style": "info",
       "description": "Progress",
       "layout": "IPY_MODEL_fd2220d1efc24b84bb3e341e8656122f",
       "style": "IPY_MODEL_98c5d1f7e329477bac51f98b443296af",
       "value": 100
      }
     },
     "c4910db5ea30475aa231f2fa38064329": {
      "model_module": "@jupyter-widgets/controls",
      "model_module_version": "1.4.0",
      "model_name": "DescriptionStyleModel",
      "state": {
       "description_width": ""
      }
     },
     "c4dbe340064b4600b687fa74267abea5": {
      "model_module": "@jupyter-widgets/base",
      "model_module_version": "1.1.0",
      "model_name": "LayoutModel",
      "state": {}
     },
     "c4de6afc79cd41e5b35d71d23cc3c951": {
      "model_module": "@jupyter-widgets/controls",
      "model_module_version": "1.4.0",
      "model_name": "LabelModel",
      "state": {
       "layout": "IPY_MODEL_e794ff9c20dd4d6480ad92c5ca859327",
       "style": "IPY_MODEL_978e91d4806848f6be4b843b84fcd1d4",
       "value": "Target node"
      }
     },
     "c4eae29dadaa4e56b9b1c19b765fff4d": {
      "model_module": "@jupyter-widgets/base",
      "model_module_version": "1.1.0",
      "model_name": "LayoutModel",
      "state": {}
     },
     "c55c2ff14ba8401495fe0ebae3df4c13": {
      "model_module": "@jupyter-widgets/controls",
      "model_module_version": "1.4.0",
      "model_name": "DescriptionStyleModel",
      "state": {
       "description_width": ""
      }
     },
     "c5671ef7985c4d628536e4c3867d8ad4": {
      "model_module": "@jupyter-widgets/base",
      "model_module_version": "1.1.0",
      "model_name": "LayoutModel",
      "state": {}
     },
     "c5777c6d2b964bb0becf3dd58e81816e": {
      "model_module": "@jupyter-widgets/controls",
      "model_module_version": "1.4.0",
      "model_name": "HTMLModel",
      "state": {
       "layout": "IPY_MODEL_7ef286c02ab74b6a922bac6189210987",
       "style": "IPY_MODEL_edb5d7b0d90b499f8b10d942009da661"
      }
     },
     "c58160df4aea48ebb2e70fee9657744d": {
      "model_module": "@jupyter-widgets/controls",
      "model_module_version": "1.4.0",
      "model_name": "DescriptionStyleModel",
      "state": {
       "description_width": ""
      }
     },
     "c5ccd9ac78f84ca5acc2e6f5acc09be9": {
      "model_module": "@jupyter-widgets/controls",
      "model_module_version": "1.4.0",
      "model_name": "ButtonStyleModel",
      "state": {}
     },
     "c5d241f7cfdf4d3ca7241681192a3a3b": {
      "model_module": "@jupyter-widgets/base",
      "model_module_version": "1.1.0",
      "model_name": "LayoutModel",
      "state": {}
     },
     "c60791e948b349fb8cf2f2142513f472": {
      "model_module": "@jupyter-widgets/controls",
      "model_module_version": "1.4.0",
      "model_name": "ProgressStyleModel",
      "state": {
       "description_width": "initial"
      }
     },
     "c60800588bb34c2fb6014f5b2b99af2c": {
      "model_module": "@jupyter-widgets/controls",
      "model_module_version": "1.4.0",
      "model_name": "DescriptionStyleModel",
      "state": {
       "description_width": ""
      }
     },
     "c61c30f1f0ae443b9c21030abbc81500": {
      "model_module": "@jupyter-widgets/controls",
      "model_module_version": "1.4.0",
      "model_name": "ButtonStyleModel",
      "state": {}
     },
     "c626ab4866a34d29abd34f1795d62500": {
      "model_module": "@jupyter-widgets/controls",
      "model_module_version": "1.4.0",
      "model_name": "ButtonModel",
      "state": {
       "button_style": "info",
       "description": "Display output",
       "layout": "IPY_MODEL_b19876cd656747b49f5191ae4465dd01",
       "style": "IPY_MODEL_c2ee26d8be62409fb97b0f269caacc93"
      }
     },
     "c63520ddddf54507bf7e3816bb3ec2b6": {
      "model_module": "@jupyter-widgets/base",
      "model_module_version": "1.1.0",
      "model_name": "LayoutModel",
      "state": {
       "width": "100%"
      }
     },
     "c645007522294413a4a2dc71de586ab9": {
      "model_module": "@jupyter-widgets/controls",
      "model_module_version": "1.4.0",
      "model_name": "DescriptionStyleModel",
      "state": {
       "description_width": ""
      }
     },
     "c65b9fea8eda487abf9abfc766253c79": {
      "model_module": "@jupyter-widgets/base",
      "model_module_version": "1.1.0",
      "model_name": "LayoutModel",
      "state": {}
     },
     "c65e36f8edbd4bad92157222306acbe8": {
      "model_module": "@jupyter-widgets/base",
      "model_module_version": "1.1.0",
      "model_name": "LayoutModel",
      "state": {}
     },
     "c687e72ef3c64ebe8354e11b1dbff8f4": {
      "model_module": "@jupyter-widgets/base",
      "model_module_version": "1.1.0",
      "model_name": "LayoutModel",
      "state": {}
     },
     "c68862edf4374349b550a068d7bdb65b": {
      "model_module": "@jupyter-widgets/controls",
      "model_module_version": "1.4.0",
      "model_name": "DescriptionStyleModel",
      "state": {
       "description_width": ""
      }
     },
     "c6be416635e34f7ab5d5c32560099780": {
      "model_module": "@jupyter-widgets/base",
      "model_module_version": "1.1.0",
      "model_name": "LayoutModel",
      "state": {}
     },
     "c6d3d77f18a643d0a2bf149858ca3cc0": {
      "model_module": "@jupyter-widgets/controls",
      "model_module_version": "1.4.0",
      "model_name": "LabelModel",
      "state": {
       "layout": "IPY_MODEL_e07efa378e084f6cbc11a73b84049f54",
       "style": "IPY_MODEL_69c09899302e449494dcb846616ff4dc",
       "value": "Target node"
      }
     },
     "c73ea145fe2d4146bc2fbff14601951d": {
      "model_module": "@jupyter-widgets/base",
      "model_module_version": "1.1.0",
      "model_name": "LayoutModel",
      "state": {}
     },
     "c75efe12b245462ba8b64a4c5905df2e": {
      "model_module": "@jupyter-widgets/controls",
      "model_module_version": "1.4.0",
      "model_name": "HTMLModel",
      "state": {
       "layout": "IPY_MODEL_a9c56c35019744cb9863bdfc6f456684",
       "placeholder": "0",
       "style": "IPY_MODEL_7b40b55f90234c79b63d86c49e7b4337",
       "value": "...waiting to start"
      }
     },
     "c76a57c4635347c29df47f115668ffda": {
      "model_module": "@jupyter-widgets/controls",
      "model_module_version": "1.4.0",
      "model_name": "ButtonModel",
      "state": {
       "button_style": "info",
       "description": "Plot results",
       "disabled": true,
       "layout": "IPY_MODEL_09bc262805e4486cb1d4e63ff3f020b3",
       "style": "IPY_MODEL_f1a2860c9cb24a888ffeef18c1aac03a"
      }
     },
     "c77dd8e6f37b402f93a7e32d8360a6ca": {
      "model_module": "@jupyter-widgets/base",
      "model_module_version": "1.1.0",
      "model_name": "LayoutModel",
      "state": {}
     },
     "c78e301b979a4ff2a162a992524a7509": {
      "model_module": "@jupyter-widgets/controls",
      "model_module_version": "1.4.0",
      "model_name": "ButtonModel",
      "state": {
       "button_style": "info",
       "description": "Submit",
       "layout": "IPY_MODEL_49251b60fba144bb9797e07a0ee6799e",
       "style": "IPY_MODEL_e4b8a1650efb46bdb8a7fdba7a80b9a9"
      }
     },
     "c7de5c0b71394e9b95769240cf455a0f": {
      "model_module": "@jupyter-widgets/controls",
      "model_module_version": "1.4.0",
      "model_name": "HTMLModel",
      "state": {
       "layout": "IPY_MODEL_cbe705d55f0d4ba7a1d5ab2550b63b94",
       "placeholder": "",
       "style": "IPY_MODEL_ae3b903e3d39484a8af004fd63a1f70e",
       "value": "...waiting to start"
      }
     },
     "c81c78bb67eb46dda13e0ed46a5b390a": {
      "model_module": "@jupyter-widgets/base",
      "model_module_version": "1.1.0",
      "model_name": "LayoutModel",
      "state": {}
     },
     "c8372c53b7ca4d6e8d017a0cae4884bb": {
      "model_module": "@jupyter-widgets/base",
      "model_module_version": "1.1.0",
      "model_name": "LayoutModel",
      "state": {}
     },
     "c8412d87f3f44a1f86a852e725f44a17": {
      "model_module": "@jupyter-widgets/controls",
      "model_module_version": "1.4.0",
      "model_name": "ButtonModel",
      "state": {
       "button_style": "info",
       "description": "Display output",
       "layout": "IPY_MODEL_5900264473334a82a5ce337f6a5c3594",
       "style": "IPY_MODEL_857a2b0a9bd941fdbb3e1b9756070048"
      }
     },
     "c87ccf91ebd74740b461ef6cdde3da35": {
      "model_module": "@jupyter-widgets/base",
      "model_module_version": "1.1.0",
      "model_name": "LayoutModel",
      "state": {}
     },
     "c9062fe4ff9d45409812dad4dbf1df7b": {
      "model_module": "@jupyter-widgets/controls",
      "model_module_version": "1.4.0",
      "model_name": "ButtonModel",
      "state": {
       "button_style": "info",
       "description": "Plot results",
       "disabled": true,
       "layout": "IPY_MODEL_636f54e3c443404786de2afad0fcbbe7",
       "style": "IPY_MODEL_4971f012381d4cb09f4a6e9971006a9f"
      }
     },
     "c9227720ffb94d69b30d67a83dcaf0a2": {
      "model_module": "@jupyter-widgets/controls",
      "model_module_version": "1.4.0",
      "model_name": "ButtonModel",
      "state": {
       "button_style": "info",
       "description": "Display output",
       "disabled": true,
       "layout": "IPY_MODEL_82fbca26c7ec4bf990db206a1f8eb2df",
       "style": "IPY_MODEL_ced067fa73e24be182c10c2b747ae50e"
      }
     },
     "c9400241d3ea480fb122e7a7a99b2977": {
      "model_module": "@jupyter-widgets/base",
      "model_module_version": "1.1.0",
      "model_name": "LayoutModel",
      "state": {}
     },
     "c9475f15ac11493ebe3c8aa704b6c1eb": {
      "model_module": "@jupyter-widgets/base",
      "model_module_version": "1.1.0",
      "model_name": "LayoutModel",
      "state": {}
     },
     "c9658c2fe0ce4fa5ad7f616cd9d583f3": {
      "model_module": "@jupyter-widgets/base",
      "model_module_version": "1.1.0",
      "model_name": "LayoutModel",
      "state": {}
     },
     "c96fbac42dfb4db8b86e81aad312e323": {
      "model_module": "@jupyter-widgets/base",
      "model_module_version": "1.1.0",
      "model_name": "LayoutModel",
      "state": {
       "width": "100%"
      }
     },
     "c9d3cd90787a4c8282dae3c1ffe8592a": {
      "model_module": "@jupyter-widgets/controls",
      "model_module_version": "1.4.0",
      "model_name": "HTMLModel",
      "state": {
       "layout": "IPY_MODEL_87838e497b5d458f8777a62d59527abc",
       "placeholder": "0",
       "style": "IPY_MODEL_815d67ba18b542c0bdd3cf30bf804f51",
       "value": "Done"
      }
     },
     "c9ef8c0103814ddd91054d978258ae74": {
      "model_module": "@jupyter-widgets/base",
      "model_module_version": "1.1.0",
      "model_name": "LayoutModel",
      "state": {}
     },
     "c9fb931fa15947cbb55e86b4e6f9864f": {
      "model_module": "@jupyter-widgets/controls",
      "model_module_version": "1.4.0",
      "model_name": "ButtonModel",
      "state": {
       "button_style": "info",
       "description": "Plot results",
       "disabled": true,
       "layout": "IPY_MODEL_3dece44a0b8144a59e4bd29de49fb7d6",
       "style": "IPY_MODEL_bb607489519c4f5cbd15b47fdf6c7986"
      }
     },
     "ca05af4512554a6897c5e5783a03a565": {
      "model_module": "@jupyter-widgets/output",
      "model_module_version": "1.0.0",
      "model_name": "OutputModel",
      "state": {
       "layout": "IPY_MODEL_2346b01267e94483bd95fd4d75b218c0"
      }
     },
     "ca24ec3332334434949680d19e99c196": {
      "model_module": "@jupyter-widgets/controls",
      "model_module_version": "1.4.0",
      "model_name": "DescriptionStyleModel",
      "state": {
       "description_width": "initial"
      }
     },
     "ca36a953a03b4f19bf2111844bd3fdcf": {
      "model_module": "@jupyter-widgets/controls",
      "model_module_version": "1.4.0",
      "model_name": "ButtonModel",
      "state": {
       "button_style": "info",
       "description": "Plot results",
       "layout": "IPY_MODEL_989956c3dc0b48099fa1a583ee57dd67",
       "style": "IPY_MODEL_d70ecb6452ab4396859605cbf802f35c"
      }
     },
     "ca5b310ce776458aa213ece19efa5e51": {
      "model_module": "@jupyter-widgets/base",
      "model_module_version": "1.1.0",
      "model_name": "LayoutModel",
      "state": {
       "align_items": "stretch",
       "border": "ridge",
       "display": "flex",
       "flex_flow": "column",
       "height": "",
       "width": "100%"
      }
     },
     "ca78714f27e743b597ac5a6b32c4d11e": {
      "model_module": "@jupyter-widgets/base",
      "model_module_version": "1.1.0",
      "model_name": "LayoutModel",
      "state": {}
     },
     "ca801f1d2d354e12855b784ddf111931": {
      "model_module": "@jupyter-widgets/controls",
      "model_module_version": "1.4.0",
      "model_name": "TextModel",
      "state": {
       "layout": "IPY_MODEL_6bddad012af34059b01e0f4b4103b6fb",
       "style": "IPY_MODEL_cc33d5c6fb55410482e4a6b5ff1b3ded",
       "value": "nodes=1:i5-6500te"
      }
     },
     "caa02acd0bb24609ac6637260d2bf178": {
      "model_module": "@jupyter-widgets/base",
      "model_module_version": "1.1.0",
      "model_name": "LayoutModel",
      "state": {}
     },
     "caa5d785b7704d02b949fe84aa74289e": {
      "model_module": "@jupyter-widgets/base",
      "model_module_version": "1.1.0",
      "model_name": "LayoutModel",
      "state": {}
     },
     "caa7cd5662ff49bc97ffe011bd319786": {
      "model_module": "@jupyter-widgets/base",
      "model_module_version": "1.1.0",
      "model_name": "LayoutModel",
      "state": {
       "width": "100%"
      }
     },
     "caaf73613a5e481fb9e38fecee2b5fc2": {
      "model_module": "@jupyter-widgets/base",
      "model_module_version": "1.1.0",
      "model_name": "LayoutModel",
      "state": {}
     },
     "cab8245c5c474e438a4064464f97bdbb": {
      "model_module": "@jupyter-widgets/base",
      "model_module_version": "1.1.0",
      "model_name": "LayoutModel",
      "state": {}
     },
     "cae377b3565a4f1192d5117c9912a4af": {
      "model_module": "@jupyter-widgets/base",
      "model_module_version": "1.1.0",
      "model_name": "LayoutModel",
      "state": {}
     },
     "cb269822332347fbaef64a3b547e1953": {
      "model_module": "@jupyter-widgets/controls",
      "model_module_version": "1.4.0",
      "model_name": "DescriptionStyleModel",
      "state": {
       "description_width": ""
      }
     },
     "cb2fca43579f4fadb2a32bbcb77b9843": {
      "model_module": "@jupyter-widgets/base",
      "model_module_version": "1.1.0",
      "model_name": "LayoutModel",
      "state": {}
     },
     "cbd688f7eed4460180c00f00a9d161ed": {
      "model_module": "@jupyter-widgets/controls",
      "model_module_version": "1.4.0",
      "model_name": "DescriptionStyleModel",
      "state": {
       "description_width": "initial"
      }
     },
     "cbdc58596cd848c6a7cb415a01e288a9": {
      "model_module": "@jupyter-widgets/controls",
      "model_module_version": "1.4.0",
      "model_name": "HTMLModel",
      "state": {
       "layout": "IPY_MODEL_6d732bbfd6054a7c8c064f5977a59b52",
       "placeholder": "0",
       "style": "IPY_MODEL_90fbf0c6486f4cf481f9f254ec7be7f5",
       "value": "Total estimated: 10.0\n seconds"
      }
     },
     "cbe705d55f0d4ba7a1d5ab2550b63b94": {
      "model_module": "@jupyter-widgets/base",
      "model_module_version": "1.1.0",
      "model_name": "LayoutModel",
      "state": {}
     },
     "cbf99848957c44eeaba7b68334826602": {
      "model_module": "@jupyter-widgets/base",
      "model_module_version": "1.1.0",
      "model_name": "LayoutModel",
      "state": {}
     },
     "cc31eefcea3442ddbc92ed7df7c41b1e": {
      "model_module": "@jupyter-widgets/base",
      "model_module_version": "1.1.0",
      "model_name": "LayoutModel",
      "state": {}
     },
     "cc33d5c6fb55410482e4a6b5ff1b3ded": {
      "model_module": "@jupyter-widgets/controls",
      "model_module_version": "1.4.0",
      "model_name": "DescriptionStyleModel",
      "state": {
       "description_width": ""
      }
     },
     "cc441f934f464c068f788e8380d0554f": {
      "model_module": "@jupyter-widgets/controls",
      "model_module_version": "1.4.0",
      "model_name": "ButtonModel",
      "state": {
       "button_style": "info",
       "description": "Plot results",
       "disabled": true,
       "layout": "IPY_MODEL_9769473345de4d8ea2262629ec10058f",
       "style": "IPY_MODEL_86239ce2770549209eea1bf857897dd7"
      }
     },
     "cc8b6c5aee3e4951934220a6a6b05c75": {
      "model_module": "@jupyter-widgets/controls",
      "model_module_version": "1.4.0",
      "model_name": "VBoxModel",
      "state": {
       "children": [
        "IPY_MODEL_ac314c8bb0774f6d9d05e83b14f765f7"
       ],
       "layout": "IPY_MODEL_04ac152a0da7429aa394a0cf69bfe4b0"
      }
     },
     "cc96f0cb5504413e8ca6a623e4935b76": {
      "model_module": "@jupyter-widgets/controls",
      "model_module_version": "1.4.0",
      "model_name": "ButtonModel",
      "state": {
       "button_style": "info",
       "description": "Plot results",
       "layout": "IPY_MODEL_90f706d907704dbd915d10e90c6f06f1",
       "style": "IPY_MODEL_2719af76542a41738bed2f421c4bf416"
      }
     },
     "cc99d5ca5d1146fe8b972a1c91c70c79": {
      "model_module": "@jupyter-widgets/controls",
      "model_module_version": "1.4.0",
      "model_name": "LabelModel",
      "state": {
       "layout": "IPY_MODEL_e168e49e74e14f9899d2a56436f27e10",
       "style": "IPY_MODEL_d49edd0c925d4f41b00359a9c1d96362",
       "value": "Target node"
      }
     },
     "ccb0f259bb0e4a99a95eddb605ba0334": {
      "model_module": "@jupyter-widgets/base",
      "model_module_version": "1.1.0",
      "model_name": "LayoutModel",
      "state": {}
     },
     "ccfe21710b7d47d5b028092d360a858d": {
      "model_module": "@jupyter-widgets/controls",
      "model_module_version": "1.4.0",
      "model_name": "HTMLModel",
      "state": {
       "layout": "IPY_MODEL_861cac821ed84f4ca82b1f4aa9275ef2",
       "style": "IPY_MODEL_d3ad70a4dbb84a62b49f8e3cba7b4833",
       "value": "<table><style type=\"text/css\" scoped>td{ padding:5px; border: 1px solid #9e9e9e; line-height:1.2em;}td:first-child{font-weight:bold;}</style><tbody><tr><td>Target node</td><td>nodes=1:i5-6500te</td></tr><tr><td>Submission command</td><td>qsub test_script.sh  -l nodes=1:i5-6500te -F \"  -r results/\"</td></tr></tbody></table>"
      }
     },
     "cd0bf638b4f8434c9005cf0ec0003058": {
      "model_module": "@jupyter-widgets/controls",
      "model_module_version": "1.4.0",
      "model_name": "HTMLModel",
      "state": {
       "layout": "IPY_MODEL_2d0ec43f91904ae596d0239a1da857c7",
       "style": "IPY_MODEL_4542e5597d2b44f38228ae6e6e0a1330"
      }
     },
     "cd10bbd662ca4419b9acf5a22cc0f715": {
      "model_module": "@jupyter-widgets/controls",
      "model_module_version": "1.4.0",
      "model_name": "TabModel",
      "state": {
       "layout": "IPY_MODEL_19d8e3e3ca89424e842cb1d0c5eb9c02"
      }
     },
     "cd2f5b16db414f05924aaae0ea736702": {
      "model_module": "@jupyter-widgets/controls",
      "model_module_version": "1.4.0",
      "model_name": "ButtonStyleModel",
      "state": {}
     },
     "cd34c6e43a5d44bfa1132aa4d2cc443f": {
      "model_module": "@jupyter-widgets/base",
      "model_module_version": "1.1.0",
      "model_name": "LayoutModel",
      "state": {}
     },
     "cd48c9e84c7c4b558491b6b3411e80ed": {
      "model_module": "@jupyter-widgets/controls",
      "model_module_version": "1.4.0",
      "model_name": "VBoxModel",
      "state": {
       "children": [
        "IPY_MODEL_c6d3d77f18a643d0a2bf149858ca3cc0",
        "IPY_MODEL_599e87d220304d42a96e311ff1616237"
       ],
       "layout": "IPY_MODEL_b03551640db04d808496381c0e0ddd11"
      }
     },
     "cd89658e6a784de3b980801f12f1e77d": {
      "model_module": "@jupyter-widgets/base",
      "model_module_version": "1.1.0",
      "model_name": "LayoutModel",
      "state": {}
     },
     "cdfd08dcda04455698a7e954c32277a9": {
      "model_module": "@jupyter-widgets/base",
      "model_module_version": "1.1.0",
      "model_name": "LayoutModel",
      "state": {}
     },
     "ce078098a0da4b83a6a37879e41f0441": {
      "model_module": "@jupyter-widgets/controls",
      "model_module_version": "1.4.0",
      "model_name": "HTMLModel",
      "state": {
       "layout": "IPY_MODEL_c65e36f8edbd4bad92157222306acbe8",
       "placeholder": "",
       "style": "IPY_MODEL_faca46ad645649dab0897ba445ba3868",
       "value": "Model name:            Intel(R) Core(TM) i5-6500TE CPU @ 2.30GHz<br>"
      }
     },
     "ce19256723e040a687ada67e151ef91b": {
      "model_module": "@jupyter-widgets/controls",
      "model_module_version": "1.4.0",
      "model_name": "ButtonModel",
      "state": {
       "button_style": "info",
       "description": "Plot results",
       "disabled": true,
       "layout": "IPY_MODEL_cab8245c5c474e438a4064464f97bdbb",
       "style": "IPY_MODEL_d59c89815c4943f49e756707bc25eb2e"
      }
     },
     "ce1fbac976ee41f69d5d9a0e86558968": {
      "model_module": "@jupyter-widgets/controls",
      "model_module_version": "1.4.0",
      "model_name": "TabModel",
      "state": {
       "_titles": {
        "0": "Queued: 18666"
       },
       "children": [
        "IPY_MODEL_0482e8ff2bbc4a5da177d5cae6237aae"
       ],
       "layout": "IPY_MODEL_7b446e568c7e4801a6f7e9142c292b78"
      }
     },
     "ce4ba0f995b3441f80db16724ca2bde9": {
      "model_module": "@jupyter-widgets/controls",
      "model_module_version": "1.4.0",
      "model_name": "DescriptionStyleModel",
      "state": {
       "description_width": ""
      }
     },
     "ce758660eb9c435e9abbbe0f298c78b0": {
      "model_module": "@jupyter-widgets/base",
      "model_module_version": "1.1.0",
      "model_name": "LayoutModel",
      "state": {}
     },
     "ce8fad0aab4b4bb182d810b9b08ec480": {
      "model_module": "@jupyter-widgets/controls",
      "model_module_version": "1.4.0",
      "model_name": "DescriptionStyleModel",
      "state": {
       "description_width": ""
      }
     },
     "ceccfff865a1424fa5bd73b956e8ae90": {
      "model_module": "@jupyter-widgets/base",
      "model_module_version": "1.1.0",
      "model_name": "LayoutModel",
      "state": {}
     },
     "ced067fa73e24be182c10c2b747ae50e": {
      "model_module": "@jupyter-widgets/controls",
      "model_module_version": "1.4.0",
      "model_name": "ButtonStyleModel",
      "state": {}
     },
     "cef3d92cc1fb4969b146917d3f861d4a": {
      "model_module": "@jupyter-widgets/controls",
      "model_module_version": "1.4.0",
      "model_name": "DescriptionStyleModel",
      "state": {
       "description_width": "initial"
      }
     },
     "cf0d1ec792cf4f8e9a4833ca3283cd1d": {
      "model_module": "@jupyter-widgets/controls",
      "model_module_version": "1.4.0",
      "model_name": "HTMLModel",
      "state": {
       "layout": "IPY_MODEL_d1a06c8dff8544d59440ff1a0f1d064a",
       "style": "IPY_MODEL_a578029aa01d45b298bd97ace15dc9bb",
       "value": "<span style='color:green'>&#10004;</span> Job submitted, job ID: 18666.c003"
      }
     },
     "cf1cc33887a9470cbe47cd48a2a49cab": {
      "model_module": "@jupyter-widgets/controls",
      "model_module_version": "1.4.0",
      "model_name": "DescriptionStyleModel",
      "state": {
       "description_width": "initial"
      }
     },
     "cf1fe6a14d494857b0842c4d263fff05": {
      "model_module": "@jupyter-widgets/controls",
      "model_module_version": "1.4.0",
      "model_name": "DescriptionStyleModel",
      "state": {
       "description_width": ""
      }
     },
     "cf33acf4b8e14a3ebb147ca4c960461f": {
      "model_module": "@jupyter-widgets/controls",
      "model_module_version": "1.4.0",
      "model_name": "DescriptionStyleModel",
      "state": {
       "description_width": "initial"
      }
     },
     "cf443f73e5934b97a9594a829408a105": {
      "model_module": "@jupyter-widgets/base",
      "model_module_version": "1.1.0",
      "model_name": "LayoutModel",
      "state": {}
     },
     "cf6b65a5d7de4a8b8047bae30d49079b": {
      "model_module": "@jupyter-widgets/controls",
      "model_module_version": "1.4.0",
      "model_name": "HTMLModel",
      "state": {
       "layout": "IPY_MODEL_3c04c06573ab4bc9b91803e6824dba8e",
       "style": "IPY_MODEL_c4910db5ea30475aa231f2fa38064329"
      }
     },
     "cfa6cb56faa54835ade8198189a29a42": {
      "model_module": "@jupyter-widgets/base",
      "model_module_version": "1.1.0",
      "model_name": "LayoutModel",
      "state": {
       "width": "100%"
      }
     },
     "d0100c7e0c06456cac4237ed86c44d5a": {
      "model_module": "@jupyter-widgets/base",
      "model_module_version": "1.1.0",
      "model_name": "LayoutModel",
      "state": {
       "width": "100%"
      }
     },
     "d0163b25e3cb475a978bd46cb948e45e": {
      "model_module": "@jupyter-widgets/controls",
      "model_module_version": "1.4.0",
      "model_name": "HTMLModel",
      "state": {
       "layout": "IPY_MODEL_59c8c228fd314f34a811676647dc2f25",
       "style": "IPY_MODEL_6f278679b0c74e76a51057d93538e8d7",
       "value": "<span style='color:green'>&#10004;</span> Job submitted, job ID: 18663.c003"
      }
     },
     "d042db0d75654d6bb40a4a7754752c43": {
      "model_module": "@jupyter-widgets/controls",
      "model_module_version": "1.4.0",
      "model_name": "FloatProgressModel",
      "state": {
       "bar_style": "info",
       "layout": "IPY_MODEL_8a3edda9601c45c08d840d614b25ce98",
       "style": "IPY_MODEL_270b334d88b744edb3044c186970bf05"
      }
     },
     "d073d12fb041445d8c2f52a8152ad80a": {
      "model_module": "@jupyter-widgets/controls",
      "model_module_version": "1.4.0",
      "model_name": "HTMLModel",
      "state": {
       "layout": "IPY_MODEL_ae236349ee6444678192aa5f8e28ba75",
       "style": "IPY_MODEL_484e7458a22c4e71ac5b2cb19767af70",
       "value": "<span style='color:green'>&#10004;</span> Job submitted, job ID: 18664.c003"
      }
     },
     "d08a83e3faa841afa8ed72be70810f1e": {
      "model_module": "@jupyter-widgets/base",
      "model_module_version": "1.1.0",
      "model_name": "LayoutModel",
      "state": {}
     },
     "d0bfa6e4492e4b9cb4a8384f61ab9762": {
      "model_module": "@jupyter-widgets/base",
      "model_module_version": "1.1.0",
      "model_name": "LayoutModel",
      "state": {}
     },
     "d0cac0653880488b862c111d0a6c006d": {
      "model_module": "@jupyter-widgets/controls",
      "model_module_version": "1.4.0",
      "model_name": "DescriptionStyleModel",
      "state": {
       "description_width": ""
      }
     },
     "d1227c7ab78b4c9a8492af4b6109282b": {
      "model_module": "@jupyter-widgets/controls",
      "model_module_version": "1.4.0",
      "model_name": "ProgressStyleModel",
      "state": {
       "description_width": "initial"
      }
     },
     "d13701a60aeb4e6cbc74974808413aaa": {
      "model_module": "@jupyter-widgets/base",
      "model_module_version": "1.1.0",
      "model_name": "LayoutModel",
      "state": {}
     },
     "d195875a46fc4c4c87b9f1267a25c0de": {
      "model_module": "@jupyter-widgets/controls",
      "model_module_version": "1.4.0",
      "model_name": "ProgressStyleModel",
      "state": {
       "description_width": "initial"
      }
     },
     "d1a06c8dff8544d59440ff1a0f1d064a": {
      "model_module": "@jupyter-widgets/base",
      "model_module_version": "1.1.0",
      "model_name": "LayoutModel",
      "state": {}
     },
     "d1c02f0400a34e0a86fbfef2262ed21e": {
      "model_module": "@jupyter-widgets/base",
      "model_module_version": "1.1.0",
      "model_name": "LayoutModel",
      "state": {}
     },
     "d1d5859ecb9d4a91aff7560be7ff9794": {
      "model_module": "@jupyter-widgets/controls",
      "model_module_version": "1.4.0",
      "model_name": "DescriptionStyleModel",
      "state": {
       "description_width": "initial"
      }
     },
     "d1df2d8e2c154acd9262e3ca5f16f2ed": {
      "model_module": "@jupyter-widgets/controls",
      "model_module_version": "1.4.0",
      "model_name": "ButtonStyleModel",
      "state": {}
     },
     "d204982f9d3347afbc8806f7f58de398": {
      "model_module": "@jupyter-widgets/base",
      "model_module_version": "1.1.0",
      "model_name": "LayoutModel",
      "state": {}
     },
     "d2343a136a0c40acb2cf5cd44dbb5df9": {
      "model_module": "@jupyter-widgets/controls",
      "model_module_version": "1.4.0",
      "model_name": "ButtonStyleModel",
      "state": {}
     },
     "d24bbf7e532041eabcb33332d6b62d73": {
      "model_module": "@jupyter-widgets/base",
      "model_module_version": "1.1.0",
      "model_name": "LayoutModel",
      "state": {}
     },
     "d27ef32579b64587ae6007262bc5592c": {
      "model_module": "@jupyter-widgets/controls",
      "model_module_version": "1.4.0",
      "model_name": "HTMLModel",
      "state": {
       "layout": "IPY_MODEL_91ae3f619d32461f9d2d79ff5365e6ff",
       "style": "IPY_MODEL_8bfce3983d65402fba26b8f3bb4dd90c"
      }
     },
     "d29de06d6d2f4398b36b81b8cff624de": {
      "model_module": "@jupyter-widgets/controls",
      "model_module_version": "1.4.0",
      "model_name": "DescriptionStyleModel",
      "state": {
       "description_width": ""
      }
     },
     "d2bb46ffae034fb4a4c705cf3628c5f5": {
      "model_module": "@jupyter-widgets/base",
      "model_module_version": "1.1.0",
      "model_name": "LayoutModel",
      "state": {}
     },
     "d2c860cc197c43d4ae8c6d8ad2529f7c": {
      "model_module": "@jupyter-widgets/base",
      "model_module_version": "1.1.0",
      "model_name": "LayoutModel",
      "state": {}
     },
     "d32073f43a6048deb6a615c1e917b40e": {
      "model_module": "@jupyter-widgets/controls",
      "model_module_version": "1.4.0",
      "model_name": "HTMLModel",
      "state": {
       "layout": "IPY_MODEL_7c106128e446412087004d7afcdb4a0d",
       "style": "IPY_MODEL_f3575dd1518a4e48ac7d73af6e245603",
       "value": "<span style='color:green'>&#10004;</span> Job submitted, job ID: "
      }
     },
     "d3359ab39b6a4c54aacc6aaefb46387d": {
      "model_module": "@jupyter-widgets/controls",
      "model_module_version": "1.4.0",
      "model_name": "TabModel",
      "state": {
       "_titles": {
        "0": "Running: 18562"
       },
       "children": [
        "IPY_MODEL_f493cb386c4f428f9fb8fc1c7fa195fe"
       ],
       "layout": "IPY_MODEL_d2bb46ffae034fb4a4c705cf3628c5f5"
      }
     },
     "d34207852a144eaab5c6cde646a2008a": {
      "model_module": "@jupyter-widgets/controls",
      "model_module_version": "1.4.0",
      "model_name": "TabModel",
      "state": {
       "layout": "IPY_MODEL_444fef2aaae0486f80c9ad6745598c4b"
      }
     },
     "d378dd9e80254da692cffdedfd5da59f": {
      "model_module": "@jupyter-widgets/controls",
      "model_module_version": "1.4.0",
      "model_name": "DescriptionStyleModel",
      "state": {
       "description_width": "initial"
      }
     },
     "d37c59ae1f2a47ea95f48d23a3fc4615": {
      "model_module": "@jupyter-widgets/controls",
      "model_module_version": "1.4.0",
      "model_name": "FloatProgressModel",
      "state": {
       "bar_style": "info",
       "description": "Progress",
       "layout": "IPY_MODEL_b7df695841584b43a87804a2d08baa7d",
       "style": "IPY_MODEL_6e0dd165e8cf4b2794191666c02a3f31"
      }
     },
     "d3ad70a4dbb84a62b49f8e3cba7b4833": {
      "model_module": "@jupyter-widgets/controls",
      "model_module_version": "1.4.0",
      "model_name": "DescriptionStyleModel",
      "state": {
       "description_width": ""
      }
     },
     "d41e1b438d89443e97083945515c679c": {
      "model_module": "@jupyter-widgets/controls",
      "model_module_version": "1.4.0",
      "model_name": "DescriptionStyleModel",
      "state": {
       "description_width": "initial"
      }
     },
     "d45051e2efa24a19b633e9e14271b9bd": {
      "model_module": "@jupyter-widgets/base",
      "model_module_version": "1.1.0",
      "model_name": "LayoutModel",
      "state": {}
     },
     "d49edd0c925d4f41b00359a9c1d96362": {
      "model_module": "@jupyter-widgets/controls",
      "model_module_version": "1.4.0",
      "model_name": "DescriptionStyleModel",
      "state": {
       "description_width": ""
      }
     },
     "d4a68534bf0947318a535ee823b424e4": {
      "model_module": "@jupyter-widgets/controls",
      "model_module_version": "1.4.0",
      "model_name": "DescriptionStyleModel",
      "state": {
       "description_width": ""
      }
     },
     "d51b4cb49c2b482fa9e10fa80d74f4e8": {
      "model_module": "@jupyter-widgets/controls",
      "model_module_version": "1.4.0",
      "model_name": "ButtonStyleModel",
      "state": {}
     },
     "d54f8f24342f45108a28d375093020a3": {
      "model_module": "@jupyter-widgets/base",
      "model_module_version": "1.1.0",
      "model_name": "LayoutModel",
      "state": {
       "width": "100%"
      }
     },
     "d572329f1eb44b95ac4a65f466efb352": {
      "model_module": "@jupyter-widgets/controls",
      "model_module_version": "1.4.0",
      "model_name": "DescriptionStyleModel",
      "state": {
       "description_width": "initial"
      }
     },
     "d5906ab1f3a444a09516f4d900922a68": {
      "model_module": "@jupyter-widgets/controls",
      "model_module_version": "1.4.0",
      "model_name": "DescriptionStyleModel",
      "state": {
       "description_width": ""
      }
     },
     "d59c89815c4943f49e756707bc25eb2e": {
      "model_module": "@jupyter-widgets/controls",
      "model_module_version": "1.4.0",
      "model_name": "ButtonStyleModel",
      "state": {}
     },
     "d5a0311309884046883d293fee6d85a1": {
      "model_module": "@jupyter-widgets/controls",
      "model_module_version": "1.4.0",
      "model_name": "HTMLModel",
      "state": {
       "layout": "IPY_MODEL_f61f8f5da0d24a2fa94a0d6619a50506",
       "style": "IPY_MODEL_dde8f6c393e244d28d4628a38fb8a6b6",
       "value": "<span style='color:green'>&#10004;</span> Job submitted, job ID: 18576.c003"
      }
     },
     "d5ae47ff632f4f53a035e76c31c981bb": {
      "model_module": "@jupyter-widgets/controls",
      "model_module_version": "1.4.0",
      "model_name": "HTMLModel",
      "state": {
       "layout": "IPY_MODEL_b81c686f35bf49a6b2589434b5985c03",
       "style": "IPY_MODEL_1d57eb34c67240bd869963b0f84bfd9c"
      }
     },
     "d5c5cd12ae644279988bee7f81892b5f": {
      "model_module": "@jupyter-widgets/base",
      "model_module_version": "1.1.0",
      "model_name": "LayoutModel",
      "state": {}
     },
     "d5d6a1a9c845467b90d28d721161f917": {
      "model_module": "@jupyter-widgets/base",
      "model_module_version": "1.1.0",
      "model_name": "LayoutModel",
      "state": {}
     },
     "d63792d09692406b9d431ff354ee87b3": {
      "model_module": "@jupyter-widgets/controls",
      "model_module_version": "1.4.0",
      "model_name": "DescriptionStyleModel",
      "state": {
       "description_width": "initial"
      }
     },
     "d6c3641557de4967a1db139ae5bd637f": {
      "model_module": "@jupyter-widgets/controls",
      "model_module_version": "1.4.0",
      "model_name": "DescriptionStyleModel",
      "state": {
       "description_width": ""
      }
     },
     "d6c6421673c640b9a116a6b5a8d8ee61": {
      "model_module": "@jupyter-widgets/base",
      "model_module_version": "1.1.0",
      "model_name": "LayoutModel",
      "state": {
       "align_items": "stretch",
       "border": "ridge",
       "display": "flex",
       "flex_flow": "column",
       "height": "",
       "width": "100%"
      }
     },
     "d6eea44e1f4e4540b111c5ccece0c845": {
      "model_module": "@jupyter-widgets/controls",
      "model_module_version": "1.4.0",
      "model_name": "DescriptionStyleModel",
      "state": {
       "description_width": ""
      }
     },
     "d70ecb6452ab4396859605cbf802f35c": {
      "model_module": "@jupyter-widgets/controls",
      "model_module_version": "1.4.0",
      "model_name": "ButtonStyleModel",
      "state": {}
     },
     "d71d44dacec34012a4662543f32e47b6": {
      "model_module": "@jupyter-widgets/controls",
      "model_module_version": "1.4.0",
      "model_name": "HTMLModel",
      "state": {
       "layout": "IPY_MODEL_cd89658e6a784de3b980801f12f1e77d",
       "placeholder": "0",
       "style": "IPY_MODEL_ba2241db28794fd4985af2a8d85efde8",
       "value": "Total estimated: 10.0\n seconds"
      }
     },
     "d7a4ace5d22641bdb7cdf2264e51884c": {
      "model_module": "@jupyter-widgets/controls",
      "model_module_version": "1.4.0",
      "model_name": "DescriptionStyleModel",
      "state": {
       "description_width": "initial"
      }
     },
     "d7e0944abbc848da8cbc2a7d7403cc5e": {
      "model_module": "@jupyter-widgets/base",
      "model_module_version": "1.1.0",
      "model_name": "LayoutModel",
      "state": {
       "align_items": "stretch",
       "border": "ridge",
       "display": "flex",
       "flex_flow": "column",
       "height": "",
       "width": "100%"
      }
     },
     "d8629459fd114693bcb40b8c85aaa164": {
      "model_module": "@jupyter-widgets/output",
      "model_module_version": "1.0.0",
      "model_name": "OutputModel",
      "state": {
       "layout": "IPY_MODEL_776bf0f152754be4832f2d17b9bf647f"
      }
     },
     "d881aba44cf34cbf86ea54cd2955ae1b": {
      "model_module": "@jupyter-widgets/controls",
      "model_module_version": "1.4.0",
      "model_name": "HBoxModel",
      "state": {
       "children": [
        "IPY_MODEL_179b372a43284d4b90aa143301a225a3",
        "IPY_MODEL_57d94dbeefd242b6a17f281940de3cdb",
        "IPY_MODEL_7d1baf1933ad41c8b2baf7559391dc2c",
        "IPY_MODEL_4bf972452cfc452f988fb88a6f4d4d38"
       ],
       "layout": "IPY_MODEL_40a59d80398346178bd9a3cfaf10af1d"
      }
     },
     "d8936845fbe340e78b68c24f4bc9b6ed": {
      "model_module": "@jupyter-widgets/base",
      "model_module_version": "1.1.0",
      "model_name": "LayoutModel",
      "state": {
       "align_items": "stretch",
       "border": "",
       "display": "flex",
       "flex_flow": "column",
       "height": "",
       "width": "100%"
      }
     },
     "d8957f3806d8478d9837879c6ab8b887": {
      "model_module": "@jupyter-widgets/base",
      "model_module_version": "1.1.0",
      "model_name": "LayoutModel",
      "state": {
       "align_items": "stretch",
       "border": "ridge",
       "display": "flex",
       "flex_flow": "column",
       "height": "",
       "width": "100%"
      }
     },
     "d8c0042024194b979232ac43958aac91": {
      "model_module": "@jupyter-widgets/output",
      "model_module_version": "1.0.0",
      "model_name": "OutputModel",
      "state": {
       "layout": "IPY_MODEL_4c743b8685e345f5a5c63796018d5df5"
      }
     },
     "d94435ee364a40f4a05794d2996b0ecb": {
      "model_module": "@jupyter-widgets/controls",
      "model_module_version": "1.4.0",
      "model_name": "HTMLModel",
      "state": {
       "layout": "IPY_MODEL_bb1a45a2cd8143088fa4a9cbebd71486",
       "placeholder": "0",
       "style": "IPY_MODEL_13fde35595a445b1a5a16efdec49eb04",
       "value": "...waiting to start"
      }
     },
     "d9671c8fbd8548cd80edf7cfb96adc92": {
      "model_module": "@jupyter-widgets/controls",
      "model_module_version": "1.4.0",
      "model_name": "ButtonStyleModel",
      "state": {}
     },
     "d991395690fb4d56936f7e9923a7bff7": {
      "model_module": "@jupyter-widgets/controls",
      "model_module_version": "1.4.0",
      "model_name": "DescriptionStyleModel",
      "state": {
       "description_width": "initial"
      }
     },
     "d9a7a0027ec544cba2532e3d04934223": {
      "model_module": "@jupyter-widgets/controls",
      "model_module_version": "1.4.0",
      "model_name": "HTMLModel",
      "state": {
       "layout": "IPY_MODEL_28c88ef44afa4722be7993dcf6f6a042",
       "style": "IPY_MODEL_9eb6c9df4bfd40f2a9942e9274265709",
       "value": "<table><style type=\"text/css\" scoped>td{ padding:5px; border: 1px solid #9e9e9e; line-height:1.2em;}td:first-child{font-weight:bold;}</style><tbody><tr><td>Target node</td><td>nodes=1:i5-6500te</td></tr><tr><td>Submission command</td><td>qsub test_script.sh  -l nodes=1:i5-6500te -F \"  -r results/\"</td></tr></tbody></table>"
      }
     },
     "d9f9133aef2148eeb8723860ede8b4a2": {
      "model_module": "@jupyter-widgets/controls",
      "model_module_version": "1.4.0",
      "model_name": "ButtonStyleModel",
      "state": {}
     },
     "da8e8173ab024b2cb40246b1f9b36138": {
      "model_module": "@jupyter-widgets/controls",
      "model_module_version": "1.4.0",
      "model_name": "HTMLModel",
      "state": {
       "layout": "IPY_MODEL_08a9bf5cf1ad49439a656dce73540288",
       "style": "IPY_MODEL_8a29a72f9e9f45aa9b4c7a29e9940a0d",
       "value": "<span style='color:green'>&#10004;</span> Job submitted, job ID: 18827.c003"
      }
     },
     "db1272aa4ced49f5af2ef97be3d7299b": {
      "model_module": "@jupyter-widgets/controls",
      "model_module_version": "1.4.0",
      "model_name": "ButtonStyleModel",
      "state": {}
     },
     "db40f8188b854cc19721b3e0fbfd4a08": {
      "model_module": "@jupyter-widgets/controls",
      "model_module_version": "1.4.0",
      "model_name": "TabModel",
      "state": {
       "layout": "IPY_MODEL_b5845e0298694c50a2a480fb2bc3cf24"
      }
     },
     "db427216b55d403ea41ad17a2407b796": {
      "model_module": "@jupyter-widgets/base",
      "model_module_version": "1.1.0",
      "model_name": "LayoutModel",
      "state": {
       "align_items": "stretch",
       "border": "",
       "display": "flex",
       "flex_flow": "column",
       "height": "",
       "width": "100%"
      }
     },
     "db70561d5a354ac3a3e93fa3113432a5": {
      "model_module": "@jupyter-widgets/controls",
      "model_module_version": "1.4.0",
      "model_name": "DescriptionStyleModel",
      "state": {
       "description_width": ""
      }
     },
     "dbb3fac870354a79a73977debc48c0c1": {
      "model_module": "@jupyter-widgets/base",
      "model_module_version": "1.1.0",
      "model_name": "LayoutModel",
      "state": {}
     },
     "dbbc0fab696c4949a798a1820e2f8150": {
      "model_module": "@jupyter-widgets/base",
      "model_module_version": "1.1.0",
      "model_name": "LayoutModel",
      "state": {}
     },
     "dbdbdd834e1e41029daead99ac3f2d34": {
      "model_module": "@jupyter-widgets/controls",
      "model_module_version": "1.4.0",
      "model_name": "HTMLModel",
      "state": {
       "layout": "IPY_MODEL_36af151cbb0645fbbee49345e0b62f64",
       "placeholder": "",
       "style": "IPY_MODEL_111e66ee16e04d76a97776650d9b3d54",
       "value": "...waiting to start"
      }
     },
     "dc6ef0608b5346b3b328c4804aa6b940": {
      "model_module": "@jupyter-widgets/controls",
      "model_module_version": "1.4.0",
      "model_name": "FloatProgressModel",
      "state": {
       "bar_style": "info",
       "description": "Progress",
       "layout": "IPY_MODEL_434dd5ba1ab24804870523e30ce963cb",
       "style": "IPY_MODEL_c60791e948b349fb8cf2f2142513f472",
       "value": 100
      }
     },
     "dc9ec9e9659349a4b12563f1c51a3bd7": {
      "model_module": "@jupyter-widgets/base",
      "model_module_version": "1.1.0",
      "model_name": "LayoutModel",
      "state": {}
     },
     "dcae3c3d1d9c4f1bbb599a21eb8a8780": {
      "model_module": "@jupyter-widgets/controls",
      "model_module_version": "1.4.0",
      "model_name": "HTMLModel",
      "state": {
       "layout": "IPY_MODEL_90f7edcb818e41e4867d52ab66c0cc26",
       "placeholder": "0",
       "style": "IPY_MODEL_b293ead9c9fd4f1d82aba2a69d6ddfe8",
       "value": "Total estimated: 10.0\n seconds"
      }
     },
     "dcc2b92766ee45c0ac7b770dbf7bfa5a": {
      "model_module": "@jupyter-widgets/controls",
      "model_module_version": "1.4.0",
      "model_name": "HTMLModel",
      "state": {
       "layout": "IPY_MODEL_fdb4513b832845149af4c3865e53fe7f",
       "placeholder": "0",
       "style": "IPY_MODEL_3a3ab7d975c64f3db5fff3c01735552c"
      }
     },
     "dcca46a158794d74a2cd444a2b879ed7": {
      "model_module": "@jupyter-widgets/controls",
      "model_module_version": "1.4.0",
      "model_name": "ButtonStyleModel",
      "state": {}
     },
     "dcf8f2a11f2c43dd828c5866887bb5aa": {
      "model_module": "@jupyter-widgets/base",
      "model_module_version": "1.1.0",
      "model_name": "LayoutModel",
      "state": {}
     },
     "dd17a7c0502a427580fce831cfa82c10": {
      "model_module": "@jupyter-widgets/controls",
      "model_module_version": "1.4.0",
      "model_name": "TabModel",
      "state": {
       "layout": "IPY_MODEL_0dc5c1b2aa7545b7819e5735a4ca16f4"
      }
     },
     "dd8b926fba5b4054be6ded208837b0a0": {
      "model_module": "@jupyter-widgets/base",
      "model_module_version": "1.1.0",
      "model_name": "LayoutModel",
      "state": {}
     },
     "dd9d3f6983c24ab7ab66189a956a3fa9": {
      "model_module": "@jupyter-widgets/base",
      "model_module_version": "1.1.0",
      "model_name": "LayoutModel",
      "state": {}
     },
     "dde1ff13ffa849ecbf7da4d4add772a0": {
      "model_module": "@jupyter-widgets/controls",
      "model_module_version": "1.4.0",
      "model_name": "DescriptionStyleModel",
      "state": {
       "description_width": ""
      }
     },
     "dde8f6c393e244d28d4628a38fb8a6b6": {
      "model_module": "@jupyter-widgets/controls",
      "model_module_version": "1.4.0",
      "model_name": "DescriptionStyleModel",
      "state": {
       "description_width": ""
      }
     },
     "de2245ed4c6643c9bf971c99d284db94": {
      "model_module": "@jupyter-widgets/controls",
      "model_module_version": "1.4.0",
      "model_name": "ButtonStyleModel",
      "state": {}
     },
     "de94a407ca2e4b6898bd43086d38df07": {
      "model_module": "@jupyter-widgets/controls",
      "model_module_version": "1.4.0",
      "model_name": "LabelModel",
      "state": {
       "layout": "IPY_MODEL_8f3f241409a346c4b5eb833afd3d0d68",
       "style": "IPY_MODEL_c3333f40bbb64f55ac6e0dc664603e97",
       "value": "Target node"
      }
     },
     "dee9254488274e03babb0b96b46060ad": {
      "model_module": "@jupyter-widgets/base",
      "model_module_version": "1.1.0",
      "model_name": "LayoutModel",
      "state": {}
     },
     "df16a25726fa46bf9ac7aceeefd89543": {
      "model_module": "@jupyter-widgets/base",
      "model_module_version": "1.1.0",
      "model_name": "LayoutModel",
      "state": {
       "align_items": "stretch",
       "border": "ridge",
       "display": "flex",
       "flex_flow": "column",
       "height": "",
       "width": "100%"
      }
     },
     "df5157d52e404b54abfcf0ae6a3de5c2": {
      "model_module": "@jupyter-widgets/base",
      "model_module_version": "1.1.0",
      "model_name": "LayoutModel",
      "state": {
       "align_items": "stretch",
       "border": "",
       "display": "flex",
       "flex_flow": "column",
       "height": "",
       "width": "100%"
      }
     },
     "df7abde07d86432da546caa919573ca7": {
      "model_module": "@jupyter-widgets/controls",
      "model_module_version": "1.4.0",
      "model_name": "HTMLModel",
      "state": {
       "layout": "IPY_MODEL_b208185cea214872b7e05fbc8f2ae8ec",
       "placeholder": "",
       "style": "IPY_MODEL_30133cf4027941ce931d054091edf266",
       "value": "...waiting to start"
      }
     },
     "df8cbb20d8bf4fe8abf39e87e29115d9": {
      "model_module": "@jupyter-widgets/base",
      "model_module_version": "1.1.0",
      "model_name": "LayoutModel",
      "state": {}
     },
     "dfaef1dded4a4a0e9c1c7a681602ac60": {
      "model_module": "@jupyter-widgets/controls",
      "model_module_version": "1.4.0",
      "model_name": "DescriptionStyleModel",
      "state": {
       "description_width": ""
      }
     },
     "dfd678e323d241e0a9dd8319a05d904f": {
      "model_module": "@jupyter-widgets/controls",
      "model_module_version": "1.4.0",
      "model_name": "TextModel",
      "state": {
       "layout": "IPY_MODEL_be14713153ce445cac8a0ded599ea65d",
       "style": "IPY_MODEL_0c85733a6cab459f962a4f72aa99b4a6",
       "value": "nodes=1:i5-6500te"
      }
     },
     "dfd98984d2c54e2b98f155c7e8a97f53": {
      "model_module": "@jupyter-widgets/controls",
      "model_module_version": "1.4.0",
      "model_name": "ButtonModel",
      "state": {
       "button_style": "info",
       "description": "Plot results",
       "layout": "IPY_MODEL_bb90117b012b405aaeee4c1015c9d0e1",
       "style": "IPY_MODEL_a9ff8ae922df4ff59ed4a2b1ef809c4b"
      }
     },
     "dfe5d24975694de5863f1e1edf2e4800": {
      "model_module": "@jupyter-widgets/controls",
      "model_module_version": "1.4.0",
      "model_name": "FloatProgressModel",
      "state": {
       "bar_style": "info",
       "layout": "IPY_MODEL_a0303b024441449da62842c7c0a50d9d",
       "style": "IPY_MODEL_5a7af34ee42642fbb32baa7b913c8630"
      }
     },
     "e03515856141400a8af7d9a01c4ce37f": {
      "model_module": "@jupyter-widgets/controls",
      "model_module_version": "1.4.0",
      "model_name": "DescriptionStyleModel",
      "state": {
       "description_width": ""
      }
     },
     "e04b00c7d3f8451e8c35c4449dc83beb": {
      "model_module": "@jupyter-widgets/controls",
      "model_module_version": "1.4.0",
      "model_name": "TabModel",
      "state": {
       "layout": "IPY_MODEL_3d53d13360974571a7e5a6536dc45e68"
      }
     },
     "e07efa378e084f6cbc11a73b84049f54": {
      "model_module": "@jupyter-widgets/base",
      "model_module_version": "1.1.0",
      "model_name": "LayoutModel",
      "state": {}
     },
     "e09b50a360864461b4a88427b9b5c9fe": {
      "model_module": "@jupyter-widgets/base",
      "model_module_version": "1.1.0",
      "model_name": "LayoutModel",
      "state": {}
     },
     "e0b4511d73904feb8afb3d7436b7f99d": {
      "model_module": "@jupyter-widgets/base",
      "model_module_version": "1.1.0",
      "model_name": "LayoutModel",
      "state": {}
     },
     "e0b8def7cbb6475ea75a4f7c0212f12f": {
      "model_module": "@jupyter-widgets/base",
      "model_module_version": "1.1.0",
      "model_name": "LayoutModel",
      "state": {}
     },
     "e0babce248304017807748413a7d5274": {
      "model_module": "@jupyter-widgets/controls",
      "model_module_version": "1.4.0",
      "model_name": "DescriptionStyleModel",
      "state": {
       "description_width": "initial"
      }
     },
     "e0c1413f3f644f90949b53841ac79981": {
      "model_module": "@jupyter-widgets/base",
      "model_module_version": "1.1.0",
      "model_name": "LayoutModel",
      "state": {}
     },
     "e0cac6560fab45e18c881cc246997884": {
      "model_module": "@jupyter-widgets/base",
      "model_module_version": "1.1.0",
      "model_name": "LayoutModel",
      "state": {}
     },
     "e0cea7201d934b7f919f1d0292c96f72": {
      "model_module": "@jupyter-widgets/controls",
      "model_module_version": "1.4.0",
      "model_name": "ProgressStyleModel",
      "state": {
       "description_width": "initial"
      }
     },
     "e168e49e74e14f9899d2a56436f27e10": {
      "model_module": "@jupyter-widgets/base",
      "model_module_version": "1.1.0",
      "model_name": "LayoutModel",
      "state": {}
     },
     "e1738ff49d2a477da29a778338951bd2": {
      "model_module": "@jupyter-widgets/base",
      "model_module_version": "1.1.0",
      "model_name": "LayoutModel",
      "state": {}
     },
     "e1b3ada8538e4940928f71b3e66161ee": {
      "model_module": "@jupyter-widgets/base",
      "model_module_version": "1.1.0",
      "model_name": "LayoutModel",
      "state": {}
     },
     "e1bf5347e5b54329b51d9b44d3dd70ec": {
      "model_module": "@jupyter-widgets/controls",
      "model_module_version": "1.4.0",
      "model_name": "FloatProgressModel",
      "state": {
       "bar_style": "info",
       "description": "Progress",
       "layout": "IPY_MODEL_8f7ba86a1171488c9a2f5b5c871196d8",
       "style": "IPY_MODEL_e0cea7201d934b7f919f1d0292c96f72",
       "value": 100
      }
     },
     "e1c80849ea0c4b508aa7fcb33d2b81a1": {
      "model_module": "@jupyter-widgets/base",
      "model_module_version": "1.1.0",
      "model_name": "LayoutModel",
      "state": {}
     },
     "e231f9c3cc054284bc1edd237a95a579": {
      "model_module": "@jupyter-widgets/base",
      "model_module_version": "1.1.0",
      "model_name": "LayoutModel",
      "state": {}
     },
     "e2691c95866b44e2b9e929cd20ba734f": {
      "model_module": "@jupyter-widgets/base",
      "model_module_version": "1.1.0",
      "model_name": "LayoutModel",
      "state": {
       "align_items": "stretch",
       "border": "ridge",
       "display": "flex",
       "flex_flow": "column",
       "height": "",
       "width": "100%"
      }
     },
     "e26b8c88d1c1476ca4961e8ba8b29a1f": {
      "model_module": "@jupyter-widgets/base",
      "model_module_version": "1.1.0",
      "model_name": "LayoutModel",
      "state": {}
     },
     "e2b2232c124849d2abb4d68142221603": {
      "model_module": "@jupyter-widgets/controls",
      "model_module_version": "1.4.0",
      "model_name": "HTMLModel",
      "state": {
       "layout": "IPY_MODEL_39f89337da1f43c3b8bd546fb01ba65d",
       "style": "IPY_MODEL_6caed044f28e4d7f87d0dde1adc2655f"
      }
     },
     "e2bbf19349b1448db5d017ca432fe5cc": {
      "model_module": "@jupyter-widgets/controls",
      "model_module_version": "1.4.0",
      "model_name": "DescriptionStyleModel",
      "state": {
       "description_width": ""
      }
     },
     "e36e6ab9f6da4a5ebdb777d66aa4ae02": {
      "model_module": "@jupyter-widgets/controls",
      "model_module_version": "1.4.0",
      "model_name": "HTMLModel",
      "state": {
       "layout": "IPY_MODEL_d5c5cd12ae644279988bee7f81892b5f",
       "style": "IPY_MODEL_6c556b2db8d148f599649827e195818a",
       "value": "<span style='color:green'>&#10004;</span> Job submitted, job ID: 18661.c003"
      }
     },
     "e38a848e98f74710bd5ab2f339eca80e": {
      "model_module": "@jupyter-widgets/base",
      "model_module_version": "1.1.0",
      "model_name": "LayoutModel",
      "state": {
       "align_items": "stretch",
       "border": "ridge",
       "display": "flex",
       "flex_flow": "column",
       "height": "",
       "width": "100%"
      }
     },
     "e39da1bd40fe47fc884a47ad1e836a11": {
      "model_module": "@jupyter-widgets/base",
      "model_module_version": "1.1.0",
      "model_name": "LayoutModel",
      "state": {}
     },
     "e3a9fd4a558146c88081abfd8840ede4": {
      "model_module": "@jupyter-widgets/base",
      "model_module_version": "1.1.0",
      "model_name": "LayoutModel",
      "state": {
       "width": "100%"
      }
     },
     "e3d0fe7e4f354c5eb108d7b77e07760b": {
      "model_module": "@jupyter-widgets/base",
      "model_module_version": "1.1.0",
      "model_name": "LayoutModel",
      "state": {}
     },
     "e410084ec90148a492525ed70c004e9e": {
      "model_module": "@jupyter-widgets/controls",
      "model_module_version": "1.4.0",
      "model_name": "ButtonModel",
      "state": {
       "button_style": "info",
       "description": "Submit",
       "layout": "IPY_MODEL_4982a60b1a7a494d8f77cb5dbc5a314f",
       "style": "IPY_MODEL_1f41928fc8304f008084a6c20c7b16ae"
      }
     },
     "e4a4bd4dac374226a3e5bc22c82bf41a": {
      "model_module": "@jupyter-widgets/controls",
      "model_module_version": "1.4.0",
      "model_name": "DescriptionStyleModel",
      "state": {
       "description_width": ""
      }
     },
     "e4b8a1650efb46bdb8a7fdba7a80b9a9": {
      "model_module": "@jupyter-widgets/controls",
      "model_module_version": "1.4.0",
      "model_name": "ButtonStyleModel",
      "state": {}
     },
     "e4bc4d4e02ae4ea7b86f2ee896a59e57": {
      "model_module": "@jupyter-widgets/controls",
      "model_module_version": "1.4.0",
      "model_name": "VBoxModel",
      "state": {
       "children": [
        "IPY_MODEL_1e34d91f0d6c40acbb2873663ddef158"
       ],
       "layout": "IPY_MODEL_110177a8afbc42669aae361619b5f644"
      }
     },
     "e5043a884c9440b38d0ce6f2400363f2": {
      "model_module": "@jupyter-widgets/base",
      "model_module_version": "1.1.0",
      "model_name": "LayoutModel",
      "state": {}
     },
     "e567ce8a67a94fc4b1c706a8bfcc1de3": {
      "model_module": "@jupyter-widgets/controls",
      "model_module_version": "1.4.0",
      "model_name": "DescriptionStyleModel",
      "state": {
       "description_width": "initial"
      }
     },
     "e5e5b3c76a4e4ae9b1e4a66ab815a41e": {
      "model_module": "@jupyter-widgets/base",
      "model_module_version": "1.1.0",
      "model_name": "LayoutModel",
      "state": {}
     },
     "e6023918bd554eae9e5200ad511c66a6": {
      "model_module": "@jupyter-widgets/controls",
      "model_module_version": "1.4.0",
      "model_name": "HTMLModel",
      "state": {
       "layout": "IPY_MODEL_66742a63fa78499fb62e41f834275150",
       "style": "IPY_MODEL_c68862edf4374349b550a068d7bdb65b"
      }
     },
     "e64f1c2e7af64b60802ae379bab83f47": {
      "model_module": "@jupyter-widgets/controls",
      "model_module_version": "1.4.0",
      "model_name": "HTMLModel",
      "state": {
       "layout": "IPY_MODEL_331609c0cb43462384cf824015c25b4c",
       "placeholder": "",
       "style": "IPY_MODEL_b181b929108b40d4926bf80938cc75b2",
       "value": "...waiting to start"
      }
     },
     "e64f71a70d2e415db13e84a3abfa07a2": {
      "model_module": "@jupyter-widgets/controls",
      "model_module_version": "1.4.0",
      "model_name": "DescriptionStyleModel",
      "state": {
       "description_width": ""
      }
     },
     "e68f0a2a840e4d7983383ba9aeebfab3": {
      "model_module": "@jupyter-widgets/base",
      "model_module_version": "1.1.0",
      "model_name": "LayoutModel",
      "state": {}
     },
     "e694b820d4e948caa803d8db3650dd68": {
      "model_module": "@jupyter-widgets/controls",
      "model_module_version": "1.4.0",
      "model_name": "DescriptionStyleModel",
      "state": {
       "description_width": ""
      }
     },
     "e733a80de41649bda3fb6e57aceb5d25": {
      "model_module": "@jupyter-widgets/controls",
      "model_module_version": "1.4.0",
      "model_name": "DescriptionStyleModel",
      "state": {
       "description_width": "initial"
      }
     },
     "e7463bbe855d466ba9c7f1e444bfda2e": {
      "model_module": "@jupyter-widgets/base",
      "model_module_version": "1.1.0",
      "model_name": "LayoutModel",
      "state": {
       "width": "100%"
      }
     },
     "e794ff9c20dd4d6480ad92c5ca859327": {
      "model_module": "@jupyter-widgets/base",
      "model_module_version": "1.1.0",
      "model_name": "LayoutModel",
      "state": {}
     },
     "e81166d93d8a48b79a3b8db7c4d89963": {
      "model_module": "@jupyter-widgets/controls",
      "model_module_version": "1.4.0",
      "model_name": "DescriptionStyleModel",
      "state": {
       "description_width": "initial"
      }
     },
     "e8300df3d7584fb4a06adbe20ae4be76": {
      "model_module": "@jupyter-widgets/controls",
      "model_module_version": "1.4.0",
      "model_name": "HTMLModel",
      "state": {
       "layout": "IPY_MODEL_1c1acf6ff58540c9865f16815030d6b6",
       "style": "IPY_MODEL_3561d7e0dc844b4b893b0c7e8d348cdd",
       "value": "<table><style type=\"text/css\" scoped>td{ padding:5px; border: 1px solid #9e9e9e; line-height:1.2em;}td:first-child{font-weight:bold;}</style><tbody><tr><td>Target node</td><td>nodes=1:i5-6500te</td></tr><tr><td>Submission command</td><td>qsub test_script.sh  -l nodes=1:i5-6500te -F \"  -r results/\"</td></tr></tbody></table>"
      }
     },
     "e842ab098e654656a91d18d71442762a": {
      "model_module": "@jupyter-widgets/controls",
      "model_module_version": "1.4.0",
      "model_name": "ButtonModel",
      "state": {
       "button_style": "info",
       "description": "Plot results",
       "disabled": true,
       "layout": "IPY_MODEL_e1738ff49d2a477da29a778338951bd2",
       "style": "IPY_MODEL_5b8037e182444c6ebf0f1f927b94b6ea"
      }
     },
     "e8e510ed05ff496a8727c391e1cf0dee": {
      "model_module": "@jupyter-widgets/controls",
      "model_module_version": "1.4.0",
      "model_name": "DescriptionStyleModel",
      "state": {
       "description_width": ""
      }
     },
     "e9237a721eeb4154aea4fabe45f6ff5d": {
      "model_module": "@jupyter-widgets/base",
      "model_module_version": "1.1.0",
      "model_name": "LayoutModel",
      "state": {}
     },
     "e926a4ad2d794e96944f54ecbdc0125b": {
      "model_module": "@jupyter-widgets/controls",
      "model_module_version": "1.4.0",
      "model_name": "DescriptionStyleModel",
      "state": {
       "description_width": ""
      }
     },
     "e93043a32a814332bf37a94f7c826d43": {
      "model_module": "@jupyter-widgets/base",
      "model_module_version": "1.1.0",
      "model_name": "LayoutModel",
      "state": {}
     },
     "e938edbf7ebf46d9a59e1d3d02441d60": {
      "model_module": "@jupyter-widgets/controls",
      "model_module_version": "1.4.0",
      "model_name": "TextModel",
      "state": {
       "layout": "IPY_MODEL_7bcad7ac79624534991dc1228cf5c583",
       "style": "IPY_MODEL_71efdf99fcb94df696f3faf5cbb7c1b8",
       "value": "nodes=1:i5-6500te"
      }
     },
     "e978b1fab3804b859595f06f5cd92084": {
      "model_module": "@jupyter-widgets/output",
      "model_module_version": "1.0.0",
      "model_name": "OutputModel",
      "state": {
       "layout": "IPY_MODEL_f6251655f60e44d48b34a9a8e14e1812"
      }
     },
     "e9a8fdfc227349d5b47fc936e3e59f6c": {
      "model_module": "@jupyter-widgets/controls",
      "model_module_version": "1.4.0",
      "model_name": "HBoxModel",
      "state": {
       "children": [
        "IPY_MODEL_061cf02551334312b5cd4f8499916a1f",
        "IPY_MODEL_c3f6f3ad9a964547a76943c51eb30dc0",
        "IPY_MODEL_c9227720ffb94d69b30d67a83dcaf0a2",
        "IPY_MODEL_2ea657a9d449436eaa6d94aa7372b8d8"
       ],
       "layout": "IPY_MODEL_ad7d06816ba443048151b7f2502f4c18"
      }
     },
     "e9c98964f04140d99e17c659308dbfc9": {
      "model_module": "@jupyter-widgets/controls",
      "model_module_version": "1.4.0",
      "model_name": "ButtonStyleModel",
      "state": {}
     },
     "e9ddeb8125234786a1d76e82df747273": {
      "model_module": "@jupyter-widgets/controls",
      "model_module_version": "1.4.0",
      "model_name": "ButtonModel",
      "state": {
       "button_style": "info",
       "description": "Submit",
       "layout": "IPY_MODEL_9d187c8aeb4742c68740404329808167",
       "style": "IPY_MODEL_7d29d03fe5c24de788de7cc61787881b"
      }
     },
     "e9fa87722c734a26a726d87655ee2ea9": {
      "model_module": "@jupyter-widgets/controls",
      "model_module_version": "1.4.0",
      "model_name": "HTMLModel",
      "state": {
       "layout": "IPY_MODEL_d1c02f0400a34e0a86fbfef2262ed21e",
       "placeholder": "",
       "style": "IPY_MODEL_85a9e74032b94aa0bd06e8a35f06d66b"
      }
     },
     "e9fac299a78442b1b7ad101b76f352cf": {
      "model_module": "@jupyter-widgets/controls",
      "model_module_version": "1.4.0",
      "model_name": "HBoxModel",
      "state": {
       "children": [
        "IPY_MODEL_2981555da4aa4cfbb3c10e55ba699d76",
        "IPY_MODEL_471d83c77f4c4ad998396c7478ffe2e7",
        "IPY_MODEL_eed122329e5b49158ac2fd6477f0c6ad",
        "IPY_MODEL_484e32c5197a44a39083c8f7a903c535",
        "IPY_MODEL_7b89393c688c4af1aaf0b97a75af9b4f",
        "IPY_MODEL_60fbe65308194632acb6490ac628df16"
       ],
       "layout": "IPY_MODEL_eddcc67a9d324c56a15c7f00fd87d0a2"
      }
     },
     "ea7751a456df4c66a190b1d76bf8caba": {
      "model_module": "@jupyter-widgets/base",
      "model_module_version": "1.1.0",
      "model_name": "LayoutModel",
      "state": {}
     },
     "ea7fbf6ea86f40ba9a21418621ec26ff": {
      "model_module": "@jupyter-widgets/controls",
      "model_module_version": "1.4.0",
      "model_name": "TabModel",
      "state": {
       "_titles": {
        "0": "Done: 18570"
       },
       "children": [
        "IPY_MODEL_815b9eebdaf845b2927ccbc5b534ecd0"
       ],
       "layout": "IPY_MODEL_47d6b9ed5a74486784e181bdca03f568"
      }
     },
     "ea85afc4c5aa444d9c52d7e5a87126a5": {
      "model_module": "@jupyter-widgets/base",
      "model_module_version": "1.1.0",
      "model_name": "LayoutModel",
      "state": {}
     },
     "ea8dd5dd87824c83873eb23b2d4314a2": {
      "model_module": "@jupyter-widgets/controls",
      "model_module_version": "1.4.0",
      "model_name": "VBoxModel",
      "state": {
       "children": [
        "IPY_MODEL_0538a6c07f4342169774927d5a52cee5"
       ],
       "layout": "IPY_MODEL_9af1a388a8ac4ffe94b751def7a366fe"
      }
     },
     "eab921ad62fc4cb8be071909b106431e": {
      "model_module": "@jupyter-widgets/controls",
      "model_module_version": "1.4.0",
      "model_name": "DescriptionStyleModel",
      "state": {
       "description_width": ""
      }
     },
     "eac9d7ce308d4e229aaf32cae6614d1b": {
      "model_module": "@jupyter-widgets/base",
      "model_module_version": "1.1.0",
      "model_name": "LayoutModel",
      "state": {}
     },
     "eb56c5d91c2249ccadba0bb071dec7fd": {
      "model_module": "@jupyter-widgets/base",
      "model_module_version": "1.1.0",
      "model_name": "LayoutModel",
      "state": {}
     },
     "eb6369c8fa224448b2f0ed1466a865dd": {
      "model_module": "@jupyter-widgets/controls",
      "model_module_version": "1.4.0",
      "model_name": "TextModel",
      "state": {
       "layout": "IPY_MODEL_bb785d34b4d046d29fe39a83780015a9",
       "style": "IPY_MODEL_ef6ff78b906c49f79ecb3bd9f361ce8b",
       "value": "nodes=1:i5-6500te"
      }
     },
     "eb8589af06744e1cac3b3137d0ce233e": {
      "model_module": "@jupyter-widgets/controls",
      "model_module_version": "1.4.0",
      "model_name": "TextModel",
      "state": {
       "layout": "IPY_MODEL_45774380e1bb48eb915e1807c6edfecb",
       "style": "IPY_MODEL_38dbd3a943aa43f9b817d275dec8b33a",
       "value": "nodes=1:i5-6500te"
      }
     },
     "eb86e501bc9341a09c20f14de0ebf7e9": {
      "model_module": "@jupyter-widgets/controls",
      "model_module_version": "1.4.0",
      "model_name": "DescriptionStyleModel",
      "state": {
       "description_width": ""
      }
     },
     "ec3e762f74f7481c871b043b8cba1c9b": {
      "model_module": "@jupyter-widgets/controls",
      "model_module_version": "1.4.0",
      "model_name": "DescriptionStyleModel",
      "state": {
       "description_width": ""
      }
     },
     "ec582923f5a64132bd752e3699e32d81": {
      "model_module": "@jupyter-widgets/controls",
      "model_module_version": "1.4.0",
      "model_name": "FloatProgressModel",
      "state": {
       "bar_style": "info",
       "description": "Progress",
       "layout": "IPY_MODEL_39888462e9b44d41bd4187ba6f549fc9",
       "style": "IPY_MODEL_a6157807d4d74d54b3edf1dd2c0c028c",
       "value": 100
      }
     },
     "ec8183a70a09473780981d70b849abb9": {
      "model_module": "@jupyter-widgets/controls",
      "model_module_version": "1.4.0",
      "model_name": "HTMLModel",
      "state": {
       "layout": "IPY_MODEL_9b2012191cd4413ea4f35b5715e73f3f",
       "placeholder": "0",
       "style": "IPY_MODEL_6d4e9b5223c14a618545111bf05cc1fc",
       "value": "Done"
      }
     },
     "ec89ffed59014f57a564012ba870e5f1": {
      "model_module": "@jupyter-widgets/controls",
      "model_module_version": "1.4.0",
      "model_name": "HTMLModel",
      "state": {
       "layout": "IPY_MODEL_c6be416635e34f7ab5d5c32560099780",
       "style": "IPY_MODEL_96e0392e90884f94b97f29f67bacf9d1",
       "value": "<table><style type=\"text/css\" scoped>td{ padding:5px; border: 1px solid #9e9e9e; line-height:1.2em;}td:first-child{font-weight:bold;}</style><tbody><tr><td>Target node</td><td>nodes=1:e3-1268l-v5</td></tr><tr><td>Submission command</td><td>qsub test_script.sh  -l nodes=1:e3-1268l-v5 -F \"  -r results/\"</td></tr></tbody></table>"
      }
     },
     "ecc931e25df8453aaecf723128ee54cd": {
      "model_module": "@jupyter-widgets/controls",
      "model_module_version": "1.4.0",
      "model_name": "HTMLModel",
      "state": {
       "layout": "IPY_MODEL_93cc872928d94676b14482417ab25571",
       "style": "IPY_MODEL_3d7bb1da8c20409ab9d3f78d24eddde9"
      }
     },
     "eccbf9e449ee4bd49c051524057ff4db": {
      "model_module": "@jupyter-widgets/controls",
      "model_module_version": "1.4.0",
      "model_name": "ButtonStyleModel",
      "state": {}
     },
     "eccf57d40c8b4e018f90c1bcda7af35f": {
      "model_module": "@jupyter-widgets/base",
      "model_module_version": "1.1.0",
      "model_name": "LayoutModel",
      "state": {}
     },
     "ed718cac14954d1eafe17a38b1854715": {
      "model_module": "@jupyter-widgets/base",
      "model_module_version": "1.1.0",
      "model_name": "LayoutModel",
      "state": {}
     },
     "eda22c08a71146e1bd449f09ad9e2252": {
      "model_module": "@jupyter-widgets/controls",
      "model_module_version": "1.4.0",
      "model_name": "DescriptionStyleModel",
      "state": {
       "description_width": "initial"
      }
     },
     "eda73830e030476c95309b323f1c5719": {
      "model_module": "@jupyter-widgets/controls",
      "model_module_version": "1.4.0",
      "model_name": "ButtonStyleModel",
      "state": {}
     },
     "eda8f19df05341ccb215e14c82ffe557": {
      "model_module": "@jupyter-widgets/base",
      "model_module_version": "1.1.0",
      "model_name": "LayoutModel",
      "state": {}
     },
     "edb5d7b0d90b499f8b10d942009da661": {
      "model_module": "@jupyter-widgets/controls",
      "model_module_version": "1.4.0",
      "model_name": "DescriptionStyleModel",
      "state": {
       "description_width": ""
      }
     },
     "edcea229306243f4aa54ddfa576d5c5f": {
      "model_module": "@jupyter-widgets/base",
      "model_module_version": "1.1.0",
      "model_name": "LayoutModel",
      "state": {
       "align_items": "stretch",
       "border": "ridge",
       "display": "flex",
       "flex_flow": "column",
       "height": "",
       "width": "100%"
      }
     },
     "eddcc67a9d324c56a15c7f00fd87d0a2": {
      "model_module": "@jupyter-widgets/base",
      "model_module_version": "1.1.0",
      "model_name": "LayoutModel",
      "state": {
       "align_items": "stretch",
       "border": "",
       "display": "flex",
       "flex_flow": "column",
       "height": "",
       "width": "100%"
      }
     },
     "ede337bd5049411396a05d36a039dc12": {
      "model_module": "@jupyter-widgets/base",
      "model_module_version": "1.1.0",
      "model_name": "LayoutModel",
      "state": {}
     },
     "edeb391fe6b04067a30ad880744f98e7": {
      "model_module": "@jupyter-widgets/controls",
      "model_module_version": "1.4.0",
      "model_name": "VBoxModel",
      "state": {
       "children": [
        "IPY_MODEL_443eb3ce9b6d422681ba0eca0787c7fe"
       ],
       "layout": "IPY_MODEL_f1fd512859ac4a46994e943f0df80e3d"
      }
     },
     "ee0462bdbbce461c9f2a0e4fbbfe60f9": {
      "model_module": "@jupyter-widgets/base",
      "model_module_version": "1.1.0",
      "model_name": "LayoutModel",
      "state": {}
     },
     "ee0799ef7992439e92a7727c86d01330": {
      "model_module": "@jupyter-widgets/controls",
      "model_module_version": "1.4.0",
      "model_name": "ButtonModel",
      "state": {
       "button_style": "info",
       "description": "Submit",
       "layout": "IPY_MODEL_3bd75c93741c4775827c23dea814b215",
       "style": "IPY_MODEL_eda73830e030476c95309b323f1c5719"
      }
     },
     "ee70aef1cb2943b9b3e558a19898c5fc": {
      "model_module": "@jupyter-widgets/output",
      "model_module_version": "1.0.0",
      "model_name": "OutputModel",
      "state": {
       "layout": "IPY_MODEL_91be4f2628f440e9a6e8156e4bf7ee92"
      }
     },
     "ee7a99bcb7f6483db69b50ab062bf684": {
      "model_module": "@jupyter-widgets/controls",
      "model_module_version": "1.4.0",
      "model_name": "VBoxModel",
      "state": {
       "children": [
        "IPY_MODEL_29fe2e35393845a98e8f4c2b4ba7c001",
        "IPY_MODEL_3f82aa7a763740b3b09d2f29d037b433"
       ],
       "layout": "IPY_MODEL_4f39f267af154607bcc6e0ad7317b2cc"
      }
     },
     "eec1767fb4ad481ab36e182500895a1b": {
      "model_module": "@jupyter-widgets/output",
      "model_module_version": "1.0.0",
      "model_name": "OutputModel",
      "state": {
       "layout": "IPY_MODEL_8962eca1d1fa442fb859ce1e6dd73b65"
      }
     },
     "eed122329e5b49158ac2fd6477f0c6ad": {
      "model_module": "@jupyter-widgets/controls",
      "model_module_version": "1.4.0",
      "model_name": "HTMLModel",
      "state": {
       "layout": "IPY_MODEL_0bce4d97ebaf457e9420b1ccd4380974",
       "placeholder": "0",
       "style": "IPY_MODEL_8290157737ea426d884680d9479b1e94",
       "value": "Total estimated: 10.0\n seconds"
      }
     },
     "ef230c31323143c4a7a93eab7aed1751": {
      "model_module": "@jupyter-widgets/controls",
      "model_module_version": "1.4.0",
      "model_name": "ButtonStyleModel",
      "state": {}
     },
     "ef2dfe329135471b9fb200c12c66fcb2": {
      "model_module": "@jupyter-widgets/controls",
      "model_module_version": "1.4.0",
      "model_name": "HTMLModel",
      "state": {
       "layout": "IPY_MODEL_fd5ec559926c489ba5627c323d56c4ec",
       "placeholder": "0",
       "style": "IPY_MODEL_3ee2076aebc84edd94e112ba3544bec2",
       "value": "Total estimated: 10.0\n seconds"
      }
     },
     "ef4907908f894d32a1490bb1661146d1": {
      "model_module": "@jupyter-widgets/base",
      "model_module_version": "1.1.0",
      "model_name": "LayoutModel",
      "state": {}
     },
     "ef6ff78b906c49f79ecb3bd9f361ce8b": {
      "model_module": "@jupyter-widgets/controls",
      "model_module_version": "1.4.0",
      "model_name": "DescriptionStyleModel",
      "state": {
       "description_width": ""
      }
     },
     "ef995ac517744b38838d3357d48f6a44": {
      "model_module": "@jupyter-widgets/controls",
      "model_module_version": "1.4.0",
      "model_name": "HTMLModel",
      "state": {
       "layout": "IPY_MODEL_e9237a721eeb4154aea4fabe45f6ff5d",
       "placeholder": "",
       "style": "IPY_MODEL_8b10ad4048294b90a61c08f3f68cc3e2",
       "value": "...waiting to start"
      }
     },
     "efa7b2b475f24aa0a50868f4e2e1b382": {
      "model_module": "@jupyter-widgets/controls",
      "model_module_version": "1.4.0",
      "model_name": "DescriptionStyleModel",
      "state": {
       "description_width": "initial"
      }
     },
     "efe55412d4a84c56ac515a32842218d6": {
      "model_module": "@jupyter-widgets/controls",
      "model_module_version": "1.4.0",
      "model_name": "TabModel",
      "state": {
       "_titles": {
        "0": "Running: 18830"
       },
       "children": [
        "IPY_MODEL_d881aba44cf34cbf86ea54cd2955ae1b"
       ],
       "layout": "IPY_MODEL_b8e9486fa8854eb89013ddc6bca5a478"
      }
     },
     "f03075efc0084cc9b4f044533fdf4bdc": {
      "model_module": "@jupyter-widgets/controls",
      "model_module_version": "1.4.0",
      "model_name": "TextModel",
      "state": {
       "layout": "IPY_MODEL_c96fbac42dfb4db8b86e81aad312e323",
       "style": "IPY_MODEL_353c53252f1644a180564fd814926eb7"
      }
     },
     "f0367cba49dc41138041ffdcefa544ff": {
      "model_module": "@jupyter-widgets/base",
      "model_module_version": "1.1.0",
      "model_name": "LayoutModel",
      "state": {}
     },
     "f07154fc6ea141329f7a3cebe6742555": {
      "model_module": "@jupyter-widgets/base",
      "model_module_version": "1.1.0",
      "model_name": "LayoutModel",
      "state": {}
     },
     "f0727289aaa343a3af289d63995b0264": {
      "model_module": "@jupyter-widgets/controls",
      "model_module_version": "1.4.0",
      "model_name": "FloatProgressModel",
      "state": {
       "bar_style": "info",
       "layout": "IPY_MODEL_0112a8caaab5493693b81827eaee3918",
       "style": "IPY_MODEL_072231232a3349f6acb25a6a28958322"
      }
     },
     "f074b41df4f9488b8d831ac3f8625f53": {
      "model_module": "@jupyter-widgets/controls",
      "model_module_version": "1.4.0",
      "model_name": "HTMLModel",
      "state": {
       "layout": "IPY_MODEL_87391c1ef3684d2c8fc62648b64d07b9",
       "placeholder": "",
       "style": "IPY_MODEL_8071fd271ede446aa68ec302069127c2"
      }
     },
     "f0a57705711846a8831e75814df0bfeb": {
      "model_module": "@jupyter-widgets/controls",
      "model_module_version": "1.4.0",
      "model_name": "HBoxModel",
      "state": {
       "children": [
        "IPY_MODEL_27c3cfe6e25840859687cca90af59667",
        "IPY_MODEL_dc6ef0608b5346b3b328c4804aa6b940",
        "IPY_MODEL_50a6ee5d58e440eca7c9d8d66b9257e6",
        "IPY_MODEL_8776ca6ca59444f0ab7d1f1ad3e53e1b",
        "IPY_MODEL_1438214bde684cb49acf03472b8920ec",
        "IPY_MODEL_173446ccdffb4eaf866f5dc8de62b553"
       ],
       "layout": "IPY_MODEL_5d6ae44bb83d4c75827c5c38e5e284b5"
      }
     },
     "f0c670cb16024010a300a2ac6c001eca": {
      "model_module": "@jupyter-widgets/controls",
      "model_module_version": "1.4.0",
      "model_name": "HTMLModel",
      "state": {
       "layout": "IPY_MODEL_2da9dcf27bfe46e8973c1745d1946e9b",
       "placeholder": "",
       "style": "IPY_MODEL_d572329f1eb44b95ac4a65f466efb352"
      }
     },
     "f0d06dfd34214a049f977f81207e0112": {
      "model_module": "@jupyter-widgets/base",
      "model_module_version": "1.1.0",
      "model_name": "LayoutModel",
      "state": {}
     },
     "f0d1b310af594e13a52e430e802d7488": {
      "model_module": "@jupyter-widgets/base",
      "model_module_version": "1.1.0",
      "model_name": "LayoutModel",
      "state": {}
     },
     "f0f0011e162c4bac85385b07e57b3cfe": {
      "model_module": "@jupyter-widgets/controls",
      "model_module_version": "1.4.0",
      "model_name": "ButtonModel",
      "state": {
       "button_style": "info",
       "description": "Display output",
       "layout": "IPY_MODEL_51809140deb6476d82baec32b8286e17",
       "style": "IPY_MODEL_5ac3b8ca4b074d4d9c204cca67dde649"
      }
     },
     "f111cc790504462e8973723d9ab9b3a5": {
      "model_module": "@jupyter-widgets/controls",
      "model_module_version": "1.4.0",
      "model_name": "HBoxModel",
      "state": {
       "children": [
        "IPY_MODEL_6846d30f8c6446e2b5dd1838ead5dbe7",
        "IPY_MODEL_27aba8e7f86e4150bdfdcdce4814effc",
        "IPY_MODEL_fce92176827b44bd89a20b9425af48e3",
        "IPY_MODEL_ce078098a0da4b83a6a37879e41f0441"
       ],
       "layout": "IPY_MODEL_db427216b55d403ea41ad17a2407b796"
      }
     },
     "f117886dc3bf4facbf8e13394874cf6e": {
      "model_module": "@jupyter-widgets/base",
      "model_module_version": "1.1.0",
      "model_name": "LayoutModel",
      "state": {}
     },
     "f140efdb970546568c4508dbff4d41cb": {
      "model_module": "@jupyter-widgets/controls",
      "model_module_version": "1.4.0",
      "model_name": "DescriptionStyleModel",
      "state": {
       "description_width": ""
      }
     },
     "f16b0e1bce7d4ca69ad39f93193856d0": {
      "model_module": "@jupyter-widgets/base",
      "model_module_version": "1.1.0",
      "model_name": "LayoutModel",
      "state": {
       "align_items": "stretch",
       "border": "ridge",
       "display": "flex",
       "flex_flow": "column",
       "height": "",
       "width": "100%"
      }
     },
     "f1a2860c9cb24a888ffeef18c1aac03a": {
      "model_module": "@jupyter-widgets/controls",
      "model_module_version": "1.4.0",
      "model_name": "ButtonStyleModel",
      "state": {}
     },
     "f1be777e2c59473d822e38ec34c6bb8f": {
      "model_module": "@jupyter-widgets/controls",
      "model_module_version": "1.4.0",
      "model_name": "FloatProgressModel",
      "state": {
       "bar_style": "info",
       "description": "Progress",
       "layout": "IPY_MODEL_fe2dbf7e6b3c441d831dcd63b9fb6b25",
       "style": "IPY_MODEL_c262600716664e589cf9590cadc92204",
       "value": 100
      }
     },
     "f1d5d5f3991c4d03b617fdb41bfed83e": {
      "model_module": "@jupyter-widgets/controls",
      "model_module_version": "1.4.0",
      "model_name": "HTMLModel",
      "state": {
       "layout": "IPY_MODEL_3ac65609a7dc4cba9eb72aa655adf4f8",
       "style": "IPY_MODEL_01c0b9c2a00e4e7bab045e2555587b47"
      }
     },
     "f1fd512859ac4a46994e943f0df80e3d": {
      "model_module": "@jupyter-widgets/base",
      "model_module_version": "1.1.0",
      "model_name": "LayoutModel",
      "state": {}
     },
     "f20a4cc7020f4be5b8645fe72855b489": {
      "model_module": "@jupyter-widgets/controls",
      "model_module_version": "1.4.0",
      "model_name": "DescriptionStyleModel",
      "state": {
       "description_width": ""
      }
     },
     "f20ed5a6b9ef47509fb6cc0ddd649959": {
      "model_module": "@jupyter-widgets/base",
      "model_module_version": "1.1.0",
      "model_name": "LayoutModel",
      "state": {}
     },
     "f2245bce9b514262b6678073328eb175": {
      "model_module": "@jupyter-widgets/base",
      "model_module_version": "1.1.0",
      "model_name": "LayoutModel",
      "state": {}
     },
     "f2384bcbddeb41f6ba22115d8d3cccae": {
      "model_module": "@jupyter-widgets/base",
      "model_module_version": "1.1.0",
      "model_name": "LayoutModel",
      "state": {}
     },
     "f29b6385eb954e3dae4c09f11e6b8640": {
      "model_module": "@jupyter-widgets/controls",
      "model_module_version": "1.4.0",
      "model_name": "HTMLModel",
      "state": {
       "layout": "IPY_MODEL_e0c1413f3f644f90949b53841ac79981",
       "style": "IPY_MODEL_51cae3b58de24935b0ed6a7a6d02348c",
       "value": "<table><style type=\"text/css\" scoped>td{ padding:5px; border: 1px solid #9e9e9e; line-height:1.2em;}td:first-child{font-weight:bold;}</style><tbody><tr><td>Target node</td><td>nodes=1:i5-6500te</td></tr><tr><td>Submission command</td><td>qsub test_script.sh  -l nodes=1:i5-6500te -F \"  -r results/\"</td></tr></tbody></table>"
      }
     },
     "f2b48d7db10a4e7b9d61e7cd1bfe6c98": {
      "model_module": "@jupyter-widgets/base",
      "model_module_version": "1.1.0",
      "model_name": "LayoutModel",
      "state": {}
     },
     "f2d60669eb5d423f807cd7b05582bac2": {
      "model_module": "@jupyter-widgets/base",
      "model_module_version": "1.1.0",
      "model_name": "LayoutModel",
      "state": {
       "width": "fixed"
      }
     },
     "f2e5cd19fd3a440fb755bc9c4ca32593": {
      "model_module": "@jupyter-widgets/controls",
      "model_module_version": "1.4.0",
      "model_name": "ButtonStyleModel",
      "state": {}
     },
     "f3290c2305f743a6a53067ff79555db3": {
      "model_module": "@jupyter-widgets/controls",
      "model_module_version": "1.4.0",
      "model_name": "HTMLModel",
      "state": {
       "layout": "IPY_MODEL_079a528a4c00424fb66296c9f42fb2e5",
       "placeholder": "0",
       "style": "IPY_MODEL_b1932f957a824eaabfe87f0458712236"
      }
     },
     "f3575dd1518a4e48ac7d73af6e245603": {
      "model_module": "@jupyter-widgets/controls",
      "model_module_version": "1.4.0",
      "model_name": "DescriptionStyleModel",
      "state": {
       "description_width": ""
      }
     },
     "f36c029407d6494c82fb898bef28516f": {
      "model_module": "@jupyter-widgets/base",
      "model_module_version": "1.1.0",
      "model_name": "LayoutModel",
      "state": {}
     },
     "f373d1badcfa4fdca1fd77caae1f1c4d": {
      "model_module": "@jupyter-widgets/controls",
      "model_module_version": "1.4.0",
      "model_name": "HTMLModel",
      "state": {
       "layout": "IPY_MODEL_ed718cac14954d1eafe17a38b1854715",
       "placeholder": "0",
       "style": "IPY_MODEL_e81166d93d8a48b79a3b8db7c4d89963",
       "value": "...waiting to start"
      }
     },
     "f3b43901c5864afd9cbc382a206acb10": {
      "model_module": "@jupyter-widgets/controls",
      "model_module_version": "1.4.0",
      "model_name": "DescriptionStyleModel",
      "state": {
       "description_width": ""
      }
     },
     "f3cec496303f45bab264080c708dac2b": {
      "model_module": "@jupyter-widgets/base",
      "model_module_version": "1.1.0",
      "model_name": "LayoutModel",
      "state": {
       "width": "100%"
      }
     },
     "f3d20bba82c94d728646d25e0299c8be": {
      "model_module": "@jupyter-widgets/controls",
      "model_module_version": "1.4.0",
      "model_name": "TextModel",
      "state": {
       "layout": "IPY_MODEL_28a38d097bc14391a2b8157e1d117782",
       "style": "IPY_MODEL_6e3977247bcc4498915192a1233fcc7a",
       "value": "nodes=1:i5-6500te"
      }
     },
     "f3d3ef6843a7429b90c6755bb766244c": {
      "model_module": "@jupyter-widgets/controls",
      "model_module_version": "1.4.0",
      "model_name": "VBoxModel",
      "state": {
       "children": [
        "IPY_MODEL_353936bbad3d478e824032f04cacb2b5",
        "IPY_MODEL_5d8077b43b784060a1b3e1dd08929cf6",
        "IPY_MODEL_4d40cea288b543c897e9c6fdd5793b6f"
       ],
       "layout": "IPY_MODEL_8dc504f2face46329eae2d3c1ff31391"
      }
     },
     "f3f5a400dc2b402293385a4fc61813a5": {
      "model_module": "@jupyter-widgets/controls",
      "model_module_version": "1.4.0",
      "model_name": "FloatProgressModel",
      "state": {
       "bar_style": "info",
       "description": "Progress",
       "layout": "IPY_MODEL_bc56d0f876a949eab270de6879658b2b",
       "style": "IPY_MODEL_3abd170958874f959e849ba620ba7703"
      }
     },
     "f4504d7a458649018881505e4d00a10b": {
      "model_module": "@jupyter-widgets/controls",
      "model_module_version": "1.4.0",
      "model_name": "FloatProgressModel",
      "state": {
       "bar_style": "info",
       "layout": "IPY_MODEL_b1342156a91f4ec4884e9e3afd9c24e0",
       "style": "IPY_MODEL_7c0b22cf91eb4bac9d7757b820c323b9"
      }
     },
     "f46ff0b9608245a195e869e68bc7d5eb": {
      "model_module": "@jupyter-widgets/controls",
      "model_module_version": "1.4.0",
      "model_name": "LabelModel",
      "state": {
       "layout": "IPY_MODEL_9f5320c5e39e4b1284b94f795a0c5f15",
       "style": "IPY_MODEL_0a433ae2944a4734976026964f7fecd6",
       "value": "Target node"
      }
     },
     "f493cb386c4f428f9fb8fc1c7fa195fe": {
      "model_module": "@jupyter-widgets/controls",
      "model_module_version": "1.4.0",
      "model_name": "HBoxModel",
      "state": {
       "children": [
        "IPY_MODEL_2bef86858a3840f295f5d0929c7d6693",
        "IPY_MODEL_fd7ba0250a834ff5bb270c42719b0403",
        "IPY_MODEL_600707b0b4364dd5a1a9084eda626ef7",
        "IPY_MODEL_b1f82a3713df4c87b2cc54f191ed8f01",
        "IPY_MODEL_3dfd3451a9b447b28de2b8449cd94ceb",
        "IPY_MODEL_573e432c8d084794ac5b72760f25ccfa"
       ],
       "layout": "IPY_MODEL_a2c09b73e67446118318f27a3cce4870"
      }
     },
     "f4bb9dd0142a43c69aeaebc009a1c22c": {
      "model_module": "@jupyter-widgets/base",
      "model_module_version": "1.1.0",
      "model_name": "LayoutModel",
      "state": {}
     },
     "f534aa160abe4579959293376d2fe6f8": {
      "model_module": "@jupyter-widgets/controls",
      "model_module_version": "1.4.0",
      "model_name": "DescriptionStyleModel",
      "state": {
       "description_width": ""
      }
     },
     "f5374cf0ab2c4139b540b7380f684681": {
      "model_module": "@jupyter-widgets/controls",
      "model_module_version": "1.4.0",
      "model_name": "HTMLModel",
      "state": {
       "layout": "IPY_MODEL_922e97b79cf8433a85ce199ac2e84ae2",
       "style": "IPY_MODEL_28a9646967164a9bab8dc348c1c5cacf",
       "value": "<span style='color:green'>&#10004;</span> Job submitted, job ID: 18829.c003"
      }
     },
     "f53b0518a94545f0b3b748e92ca9e85a": {
      "model_module": "@jupyter-widgets/base",
      "model_module_version": "1.1.0",
      "model_name": "LayoutModel",
      "state": {}
     },
     "f541f256f87d428b93852a53fc920e2b": {
      "model_module": "@jupyter-widgets/controls",
      "model_module_version": "1.4.0",
      "model_name": "VBoxModel",
      "state": {
       "children": [
        "IPY_MODEL_7e88482a0099496a8603416904ea384c"
       ],
       "layout": "IPY_MODEL_7113cce26dd64bd0b71ece130f23457e"
      }
     },
     "f55b8256735749509241d460f324fba1": {
      "model_module": "@jupyter-widgets/controls",
      "model_module_version": "1.4.0",
      "model_name": "DescriptionStyleModel",
      "state": {
       "description_width": ""
      }
     },
     "f57ccb3438844f9d885f28d433259706": {
      "model_module": "@jupyter-widgets/controls",
      "model_module_version": "1.4.0",
      "model_name": "DescriptionStyleModel",
      "state": {
       "description_width": "initial"
      }
     },
     "f5851dcea1464053b508496b77b5dab2": {
      "model_module": "@jupyter-widgets/controls",
      "model_module_version": "1.4.0",
      "model_name": "HTMLModel",
      "state": {
       "layout": "IPY_MODEL_bdf31fe20d4347f3941fd9b8d19e485d",
       "style": "IPY_MODEL_e4a4bd4dac374226a3e5bc22c82bf41a",
       "value": "<html><body></body></html>"
      }
     },
     "f59feae0da894c0392cb8947bbca590d": {
      "model_module": "@jupyter-widgets/controls",
      "model_module_version": "1.4.0",
      "model_name": "VBoxModel",
      "state": {
       "children": [
        "IPY_MODEL_ae3ce75ada85420fb9dd6a7dcac8de70"
       ],
       "layout": "IPY_MODEL_356ebd3d548f47a4b5d2616b6d360ea7"
      }
     },
     "f5a6760b204e42789b68483e828a479d": {
      "model_module": "@jupyter-widgets/controls",
      "model_module_version": "1.4.0",
      "model_name": "ButtonStyleModel",
      "state": {}
     },
     "f5ac155178b34d268787806bbea740ad": {
      "model_module": "@jupyter-widgets/base",
      "model_module_version": "1.1.0",
      "model_name": "LayoutModel",
      "state": {
       "width": "100%"
      }
     },
     "f5cbbc420d85471c815c119db5e7a3fc": {
      "model_module": "@jupyter-widgets/base",
      "model_module_version": "1.1.0",
      "model_name": "LayoutModel",
      "state": {}
     },
     "f5d31856b7da45be9d64b5571f7a759b": {
      "model_module": "@jupyter-widgets/controls",
      "model_module_version": "1.4.0",
      "model_name": "LabelModel",
      "state": {
       "layout": "IPY_MODEL_6f21f74b47c944b19de826253aa14cf7",
       "style": "IPY_MODEL_f20a4cc7020f4be5b8645fe72855b489",
       "value": "Target node"
      }
     },
     "f5e174eb4c3e4deabc2a3452b6db29c1": {
      "model_module": "@jupyter-widgets/base",
      "model_module_version": "1.1.0",
      "model_name": "LayoutModel",
      "state": {}
     },
     "f5eb601cfaad4526905f1e98153e288b": {
      "model_module": "@jupyter-widgets/controls",
      "model_module_version": "1.4.0",
      "model_name": "HTMLModel",
      "state": {
       "layout": "IPY_MODEL_f117886dc3bf4facbf8e13394874cf6e",
       "style": "IPY_MODEL_4984fdeee6f646fc8265c57bfa3add13"
      }
     },
     "f61f8f5da0d24a2fa94a0d6619a50506": {
      "model_module": "@jupyter-widgets/base",
      "model_module_version": "1.1.0",
      "model_name": "LayoutModel",
      "state": {}
     },
     "f6222c6ff748458fbe8fab198e498383": {
      "model_module": "@jupyter-widgets/base",
      "model_module_version": "1.1.0",
      "model_name": "LayoutModel",
      "state": {}
     },
     "f6251655f60e44d48b34a9a8e14e1812": {
      "model_module": "@jupyter-widgets/base",
      "model_module_version": "1.1.0",
      "model_name": "LayoutModel",
      "state": {}
     },
     "f6c462d3ce1e46cfa22a649a34ba774c": {
      "model_module": "@jupyter-widgets/controls",
      "model_module_version": "1.4.0",
      "model_name": "DescriptionStyleModel",
      "state": {
       "description_width": ""
      }
     },
     "f6d56cf88e9f4a69bafdc9aa4da57ce8": {
      "model_module": "@jupyter-widgets/controls",
      "model_module_version": "1.4.0",
      "model_name": "TextModel",
      "state": {
       "layout": "IPY_MODEL_9a19de166b4d48cea4a02958fe3f597a",
       "style": "IPY_MODEL_b64bc22b8abd4e1580acca647e7b59d0",
       "value": "nodes=1:i5-6500te"
      }
     },
     "f6f9634ec51e4c62832fadd646971e4b": {
      "model_module": "@jupyter-widgets/controls",
      "model_module_version": "1.4.0",
      "model_name": "DescriptionStyleModel",
      "state": {
       "description_width": ""
      }
     },
     "f74ebebb52bb4f6594a3de41c4002049": {
      "model_module": "@jupyter-widgets/base",
      "model_module_version": "1.1.0",
      "model_name": "LayoutModel",
      "state": {}
     },
     "f781cdc301c14ff7bdaaad83b21bac79": {
      "model_module": "@jupyter-widgets/base",
      "model_module_version": "1.1.0",
      "model_name": "LayoutModel",
      "state": {}
     },
     "f79d4c557b504034aaff931c09a14f4d": {
      "model_module": "@jupyter-widgets/output",
      "model_module_version": "1.0.0",
      "model_name": "OutputModel",
      "state": {
       "layout": "IPY_MODEL_caa02acd0bb24609ac6637260d2bf178"
      }
     },
     "f7b2f1eddcaa4a0b8b2e68f5b21aee9c": {
      "model_module": "@jupyter-widgets/base",
      "model_module_version": "1.1.0",
      "model_name": "LayoutModel",
      "state": {
       "align_items": "stretch",
       "border": "",
       "display": "flex",
       "flex_flow": "column",
       "height": "",
       "width": "100%"
      }
     },
     "f7cb0c6d1a3942dcb0f459ccfd023dc5": {
      "model_module": "@jupyter-widgets/base",
      "model_module_version": "1.1.0",
      "model_name": "LayoutModel",
      "state": {}
     },
     "f838c0f678e040fc8fd3cee55d5a71b0": {
      "model_module": "@jupyter-widgets/base",
      "model_module_version": "1.1.0",
      "model_name": "LayoutModel",
      "state": {}
     },
     "f8be6444fda94cd78b3b266b2b8b3540": {
      "model_module": "@jupyter-widgets/controls",
      "model_module_version": "1.4.0",
      "model_name": "DescriptionStyleModel",
      "state": {
       "description_width": "initial"
      }
     },
     "f8e77da25dc34861acecc72d38073602": {
      "model_module": "@jupyter-widgets/base",
      "model_module_version": "1.1.0",
      "model_name": "LayoutModel",
      "state": {}
     },
     "f8f13f670c16492eb51c9a1404228060": {
      "model_module": "@jupyter-widgets/base",
      "model_module_version": "1.1.0",
      "model_name": "LayoutModel",
      "state": {}
     },
     "f93d7079c2904c3681cb51103036f156": {
      "model_module": "@jupyter-widgets/controls",
      "model_module_version": "1.4.0",
      "model_name": "ButtonStyleModel",
      "state": {}
     },
     "f96ab13520784cc8b817aec892b90abe": {
      "model_module": "@jupyter-widgets/controls",
      "model_module_version": "1.4.0",
      "model_name": "HTMLModel",
      "state": {
       "layout": "IPY_MODEL_124a05ba16394d469ed18385cfeb9199",
       "style": "IPY_MODEL_d6eea44e1f4e4540b111c5ccece0c845"
      }
     },
     "f9e21e8f1ef84ecf9758d372425c963f": {
      "model_module": "@jupyter-widgets/controls",
      "model_module_version": "1.4.0",
      "model_name": "ButtonStyleModel",
      "state": {}
     },
     "f9e469265c3d478280f2bc552c5b2c1a": {
      "model_module": "@jupyter-widgets/controls",
      "model_module_version": "1.4.0",
      "model_name": "DescriptionStyleModel",
      "state": {
       "description_width": ""
      }
     },
     "fa30e6692be44a1181419b2611a3eba8": {
      "model_module": "@jupyter-widgets/controls",
      "model_module_version": "1.4.0",
      "model_name": "TabModel",
      "state": {
       "layout": "IPY_MODEL_0c7ce3cc2f4946568410a38aebf7814e"
      }
     },
     "fa3d77257a41486192e1bec6051c75c4": {
      "model_module": "@jupyter-widgets/controls",
      "model_module_version": "1.4.0",
      "model_name": "DescriptionStyleModel",
      "state": {
       "description_width": "initial"
      }
     },
     "fa41881ca8a24edc9cea6032bf792e0c": {
      "model_module": "@jupyter-widgets/controls",
      "model_module_version": "1.4.0",
      "model_name": "ButtonModel",
      "state": {
       "button_style": "info",
       "description": "Plot results",
       "layout": "IPY_MODEL_8a4a86bc24fe4f5cafc78c207a22bdc1",
       "style": "IPY_MODEL_0b882004f8c7489998fcf5a4334225fc"
      }
     },
     "fa45cc4bdb9342d89693db9085e1ca57": {
      "model_module": "@jupyter-widgets/base",
      "model_module_version": "1.1.0",
      "model_name": "LayoutModel",
      "state": {}
     },
     "fa56db8292b04c048cf14e9a6d44828b": {
      "model_module": "@jupyter-widgets/base",
      "model_module_version": "1.1.0",
      "model_name": "LayoutModel",
      "state": {}
     },
     "fa90ecdb0e804c1ca74bd81a6bde2099": {
      "model_module": "@jupyter-widgets/base",
      "model_module_version": "1.1.0",
      "model_name": "LayoutModel",
      "state": {
       "width": "100%"
      }
     },
     "faca46ad645649dab0897ba445ba3868": {
      "model_module": "@jupyter-widgets/controls",
      "model_module_version": "1.4.0",
      "model_name": "DescriptionStyleModel",
      "state": {
       "description_width": "initial"
      }
     },
     "faf55e7ea96d48eb9e71ad31bc3ab0b3": {
      "model_module": "@jupyter-widgets/base",
      "model_module_version": "1.1.0",
      "model_name": "LayoutModel",
      "state": {
       "width": "100%"
      }
     },
     "fb1dbac6e4534ddbaa175c8786e54729": {
      "model_module": "@jupyter-widgets/base",
      "model_module_version": "1.1.0",
      "model_name": "LayoutModel",
      "state": {}
     },
     "fb27c5411568444f90459aa9767198d3": {
      "model_module": "@jupyter-widgets/controls",
      "model_module_version": "1.4.0",
      "model_name": "FloatProgressModel",
      "state": {
       "bar_style": "info",
       "description": "Progress",
       "layout": "IPY_MODEL_6ca8e9dcdfa3497d95ab4834e836eb24",
       "style": "IPY_MODEL_13fcb94bbe03463fa937839bc31e0529",
       "value": 90
      }
     },
     "fb4a93fbf91e4e9a8c5d9fb538952cd2": {
      "model_module": "@jupyter-widgets/base",
      "model_module_version": "1.1.0",
      "model_name": "LayoutModel",
      "state": {}
     },
     "fb548e59842b4d0397a35faeda9be5c3": {
      "model_module": "@jupyter-widgets/controls",
      "model_module_version": "1.4.0",
      "model_name": "HTMLModel",
      "state": {
       "layout": "IPY_MODEL_299b7adc934b497992ca389f5b2dd0d9",
       "placeholder": "0",
       "style": "IPY_MODEL_06487f0fdb2045eaa71fd310e451c5bb"
      }
     },
     "fb645e02323246d19d2de14154da5fb4": {
      "model_module": "@jupyter-widgets/controls",
      "model_module_version": "1.4.0",
      "model_name": "ProgressStyleModel",
      "state": {
       "description_width": "initial"
      }
     },
     "fbe6c01a00f54e91a98d2f2fb7c86a53": {
      "model_module": "@jupyter-widgets/controls",
      "model_module_version": "1.4.0",
      "model_name": "HBoxModel",
      "state": {
       "children": [
        "IPY_MODEL_572697f64f8a472ba48321fe0212c362",
        "IPY_MODEL_c488129d060d4c0aab670371246ce36d",
        "IPY_MODEL_12597f4ebf474928a73bd600d938aacb",
        "IPY_MODEL_8951d77cf05d42fbb611c29d741482ff",
        "IPY_MODEL_1c54f1675bcd447db4d44874c5920676",
        "IPY_MODEL_80e4d520a21e4131b8f74f24a44a306a"
       ],
       "layout": "IPY_MODEL_df5157d52e404b54abfcf0ae6a3de5c2"
      }
     },
     "fbea1323dec64dfabee5f1053cad6dac": {
      "model_module": "@jupyter-widgets/base",
      "model_module_version": "1.1.0",
      "model_name": "LayoutModel",
      "state": {}
     },
     "fbfdbb4e687a41e9b406d96f062fa4a2": {
      "model_module": "@jupyter-widgets/controls",
      "model_module_version": "1.4.0",
      "model_name": "TabModel",
      "state": {
       "_titles": {
        "0": "Done: 18827"
       },
       "children": [
        "IPY_MODEL_05dcd24815014ff19848b8a90cb5ec7c"
       ],
       "layout": "IPY_MODEL_f781cdc301c14ff7bdaaad83b21bac79"
      }
     },
     "fc98f0202b7745d4aaaa70ec7bb8c2cb": {
      "model_module": "@jupyter-widgets/controls",
      "model_module_version": "1.4.0",
      "model_name": "ButtonStyleModel",
      "state": {}
     },
     "fca141da495e46e9a68379e06fb08621": {
      "model_module": "@jupyter-widgets/controls",
      "model_module_version": "1.4.0",
      "model_name": "DescriptionStyleModel",
      "state": {
       "description_width": ""
      }
     },
     "fcaa097e42094263a0701a18a262861d": {
      "model_module": "@jupyter-widgets/controls",
      "model_module_version": "1.4.0",
      "model_name": "ButtonStyleModel",
      "state": {}
     },
     "fcdf1dc92a824682bf1f6f0ee56ea6e3": {
      "model_module": "@jupyter-widgets/controls",
      "model_module_version": "1.4.0",
      "model_name": "DescriptionStyleModel",
      "state": {
       "description_width": ""
      }
     },
     "fce92176827b44bd89a20b9425af48e3": {
      "model_module": "@jupyter-widgets/controls",
      "model_module_version": "1.4.0",
      "model_name": "ButtonModel",
      "state": {
       "button_style": "info",
       "description": "Display output",
       "layout": "IPY_MODEL_49f90d5bbe814af4a95389e02be85ad0",
       "style": "IPY_MODEL_8f6cb61071ed4e1f94fab082e040f6f1"
      }
     },
     "fd2220d1efc24b84bb3e341e8656122f": {
      "model_module": "@jupyter-widgets/base",
      "model_module_version": "1.1.0",
      "model_name": "LayoutModel",
      "state": {}
     },
     "fd26eaf81e6f48e99a16901423c7c660": {
      "model_module": "@jupyter-widgets/base",
      "model_module_version": "1.1.0",
      "model_name": "LayoutModel",
      "state": {}
     },
     "fd3922fca3364c689bfabf00c9cfb86e": {
      "model_module": "@jupyter-widgets/controls",
      "model_module_version": "1.4.0",
      "model_name": "HTMLModel",
      "state": {
       "layout": "IPY_MODEL_1d684e191c984784a815a81c3b6846a5",
       "style": "IPY_MODEL_fd63a773002044b59a6c073007bfd8e1"
      }
     },
     "fd531e7f85bc499cbc36f1a852dfca8e": {
      "model_module": "@jupyter-widgets/base",
      "model_module_version": "1.1.0",
      "model_name": "LayoutModel",
      "state": {}
     },
     "fd5ec559926c489ba5627c323d56c4ec": {
      "model_module": "@jupyter-widgets/base",
      "model_module_version": "1.1.0",
      "model_name": "LayoutModel",
      "state": {}
     },
     "fd63a773002044b59a6c073007bfd8e1": {
      "model_module": "@jupyter-widgets/controls",
      "model_module_version": "1.4.0",
      "model_name": "DescriptionStyleModel",
      "state": {
       "description_width": ""
      }
     },
     "fd74db199689498786730f017eb5212f": {
      "model_module": "@jupyter-widgets/base",
      "model_module_version": "1.1.0",
      "model_name": "LayoutModel",
      "state": {}
     },
     "fd75481bc4cb475b9b2fa932030a0d32": {
      "model_module": "@jupyter-widgets/base",
      "model_module_version": "1.1.0",
      "model_name": "LayoutModel",
      "state": {
       "align_items": "stretch",
       "border": "",
       "display": "flex",
       "flex_flow": "column",
       "height": "",
       "width": "100%"
      }
     },
     "fd7ba0250a834ff5bb270c42719b0403": {
      "model_module": "@jupyter-widgets/controls",
      "model_module_version": "1.4.0",
      "model_name": "FloatProgressModel",
      "state": {
       "bar_style": "info",
       "description": "Progress",
       "layout": "IPY_MODEL_6b84158a93984765a5b901a5e6fb54d8",
       "style": "IPY_MODEL_b08593b83f9e42f99fe63f384e1ccda1",
       "value": 96
      }
     },
     "fd9b778e88c740faae900fa552e817ad": {
      "model_module": "@jupyter-widgets/controls",
      "model_module_version": "1.4.0",
      "model_name": "DescriptionStyleModel",
      "state": {
       "description_width": "initial"
      }
     },
     "fdb4513b832845149af4c3865e53fe7f": {
      "model_module": "@jupyter-widgets/base",
      "model_module_version": "1.1.0",
      "model_name": "LayoutModel",
      "state": {}
     },
     "fdbda1dbd90b4729ad59140d78f36021": {
      "model_module": "@jupyter-widgets/controls",
      "model_module_version": "1.4.0",
      "model_name": "TextModel",
      "state": {
       "layout": "IPY_MODEL_bd753ea926a941a1a06451509d4d2808",
       "style": "IPY_MODEL_ff5eefb2bb4a4a91bbbe8452bff6f08a",
       "value": "nodes=1:i5-6500te"
      }
     },
     "fdfec301874741eb98f51f5f7dfa3b5f": {
      "model_module": "@jupyter-widgets/base",
      "model_module_version": "1.1.0",
      "model_name": "LayoutModel",
      "state": {}
     },
     "fe11583f1e4a472d90e8607956959870": {
      "model_module": "@jupyter-widgets/base",
      "model_module_version": "1.1.0",
      "model_name": "LayoutModel",
      "state": {}
     },
     "fe17e374eadc406cb19f0bc83d5a1d05": {
      "model_module": "@jupyter-widgets/controls",
      "model_module_version": "1.4.0",
      "model_name": "DescriptionStyleModel",
      "state": {
       "description_width": "initial"
      }
     },
     "fe2dbf7e6b3c441d831dcd63b9fb6b25": {
      "model_module": "@jupyter-widgets/base",
      "model_module_version": "1.1.0",
      "model_name": "LayoutModel",
      "state": {}
     },
     "fe4e2eb9bf194efbb6cfdfb11ff10e6f": {
      "model_module": "@jupyter-widgets/controls",
      "model_module_version": "1.4.0",
      "model_name": "HTMLModel",
      "state": {
       "layout": "IPY_MODEL_17357db4fa0846439f02d8c8789d2f5d",
       "style": "IPY_MODEL_08f7d324a8e6486d934c4668feab77c2",
       "value": "<span style='color:green'>&#10004;</span> Job submitted, job ID: 18567.c003"
      }
     },
     "fe5bc6812e8c47e09df409b2efff813e": {
      "model_module": "@jupyter-widgets/base",
      "model_module_version": "1.1.0",
      "model_name": "LayoutModel",
      "state": {}
     },
     "fe839e06710b451fbfb18902deb5c4ff": {
      "model_module": "@jupyter-widgets/controls",
      "model_module_version": "1.4.0",
      "model_name": "DescriptionStyleModel",
      "state": {
       "description_width": ""
      }
     },
     "fea39877347f497d8c920909671673a3": {
      "model_module": "@jupyter-widgets/base",
      "model_module_version": "1.1.0",
      "model_name": "LayoutModel",
      "state": {
       "align_items": "stretch",
       "border": "ridge",
       "display": "flex",
       "flex_flow": "column",
       "height": "",
       "width": "100%"
      }
     },
     "fed63fe268804f43a69032a23add424e": {
      "model_module": "@jupyter-widgets/output",
      "model_module_version": "1.0.0",
      "model_name": "OutputModel",
      "state": {
       "layout": "IPY_MODEL_17e9cdd2d8ba4da2b150e1f52ac567d4"
      }
     },
     "fed82f3ed7284d809e149697d1927e6a": {
      "model_module": "@jupyter-widgets/base",
      "model_module_version": "1.1.0",
      "model_name": "LayoutModel",
      "state": {}
     },
     "fee61f75081c422aabd4c7a243ab231c": {
      "model_module": "@jupyter-widgets/controls",
      "model_module_version": "1.4.0",
      "model_name": "HTMLModel",
      "state": {
       "layout": "IPY_MODEL_e231f9c3cc054284bc1edd237a95a579",
       "placeholder": "0",
       "style": "IPY_MODEL_9f385739a604403188d534f8a0c169fd",
       "value": "Total estimated: 10.0\n seconds"
      }
     },
     "ff0786ecad5344a7a4555cae566ec915": {
      "model_module": "@jupyter-widgets/controls",
      "model_module_version": "1.4.0",
      "model_name": "ProgressStyleModel",
      "state": {
       "description_width": "initial"
      }
     },
     "ff0940eded00487389da89b41df909d7": {
      "model_module": "@jupyter-widgets/controls",
      "model_module_version": "1.4.0",
      "model_name": "ButtonStyleModel",
      "state": {}
     },
     "ff10424f102d4a2d9fad0eda1237c03c": {
      "model_module": "@jupyter-widgets/controls",
      "model_module_version": "1.4.0",
      "model_name": "DescriptionStyleModel",
      "state": {
       "description_width": "initial"
      }
     },
     "ff1c6da1ce3a4e7da2579c5ce2933c21": {
      "model_module": "@jupyter-widgets/controls",
      "model_module_version": "1.4.0",
      "model_name": "HTMLModel",
      "state": {
       "layout": "IPY_MODEL_4c92acf64b93442da3fd82e24575b023",
       "style": "IPY_MODEL_1744be746d3745c68c788472abac3e41",
       "value": "<table><style type=\"text/css\" scoped>td{ padding:5px; border: 1px solid #9e9e9e; line-height:1.2em;}td:first-child{font-weight:bold;}</style><tbody><tr><td>Target node</td><td>nodes=1:i5-6500te</td></tr><tr><td>Submission command</td><td>qsub test_script.sh  -l nodes=1:i5-6500te -F \"  -r results/\"</td></tr></tbody></table>"
      }
     },
     "ff4a88a720e84f03af0b4c0d759eae21": {
      "model_module": "@jupyter-widgets/base",
      "model_module_version": "1.1.0",
      "model_name": "LayoutModel",
      "state": {}
     },
     "ff4ef8970f124750af7e8289b0378eff": {
      "model_module": "@jupyter-widgets/controls",
      "model_module_version": "1.4.0",
      "model_name": "DescriptionStyleModel",
      "state": {
       "description_width": ""
      }
     },
     "ff537ca2b80e4a3a8d0f3602e7295e07": {
      "model_module": "@jupyter-widgets/controls",
      "model_module_version": "1.4.0",
      "model_name": "HTMLModel",
      "state": {
       "layout": "IPY_MODEL_cc31eefcea3442ddbc92ed7df7c41b1e",
       "style": "IPY_MODEL_2ef37a02c08943aab460af75b8594bdf"
      }
     },
     "ff5eefb2bb4a4a91bbbe8452bff6f08a": {
      "model_module": "@jupyter-widgets/controls",
      "model_module_version": "1.4.0",
      "model_name": "DescriptionStyleModel",
      "state": {
       "description_width": ""
      }
     },
     "ff7382b717bc480cbf17107c44c1bda7": {
      "model_module": "@jupyter-widgets/base",
      "model_module_version": "1.1.0",
      "model_name": "LayoutModel",
      "state": {}
     },
     "ff76dfa5a8be4c1d9ce1f7d88e78f0ed": {
      "model_module": "@jupyter-widgets/base",
      "model_module_version": "1.1.0",
      "model_name": "LayoutModel",
      "state": {}
     },
     "ff9e454799df4b659da84d58acb7e24e": {
      "model_module": "@jupyter-widgets/base",
      "model_module_version": "1.1.0",
      "model_name": "LayoutModel",
      "state": {}
     },
     "ff9ebf97d88048efa38a0543800e6663": {
      "model_module": "@jupyter-widgets/controls",
      "model_module_version": "1.4.0",
      "model_name": "ButtonStyleModel",
      "state": {}
     },
     "ffc17e07d5b249e4915574d6a6f98cd8": {
      "model_module": "@jupyter-widgets/controls",
      "model_module_version": "1.4.0",
      "model_name": "ButtonModel",
      "state": {
       "button_style": "info",
       "description": "Submit",
       "layout": "IPY_MODEL_df8cbb20d8bf4fe8abf39e87e29115d9",
       "style": "IPY_MODEL_d1df2d8e2c154acd9262e3ca5f16f2ed"
      }
     },
     "ffc523b433d141e8ab6d5bb9c6e07c27": {
      "model_module": "@jupyter-widgets/base",
      "model_module_version": "1.1.0",
      "model_name": "LayoutModel",
      "state": {}
     },
     "ffe0c11d5cff49e4ac7e0417032752c4": {
      "model_module": "@jupyter-widgets/base",
      "model_module_version": "1.1.0",
      "model_name": "LayoutModel",
      "state": {}
     },
     "ffe1c7fc7f26438485b2b7a34e2ac7b5": {
      "model_module": "@jupyter-widgets/controls",
      "model_module_version": "1.4.0",
      "model_name": "ButtonStyleModel",
      "state": {}
     }
    },
    "version_major": 2,
    "version_minor": 0
   }
  }
 },
 "nbformat": 4,
 "nbformat_minor": 2
}
